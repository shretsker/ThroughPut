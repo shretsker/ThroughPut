{
 "cells": [
  {
   "cell_type": "code",
   "execution_count": 1,
   "metadata": {},
   "outputs": [
    {
     "name": "stderr",
     "output_type": "stream",
     "text": [
      "INFO:httpx:HTTP Request: GET http://localhost:8080/v1/schema \"HTTP/1.1 200 OK\"\n",
      "INFO:httpx:HTTP Request: GET http://localhost:8080/v1/schema \"HTTP/1.1 200 OK\"\n",
      "INFO:httpx:HTTP Request: GET http://localhost:8080/v1/schema \"HTTP/1.1 200 OK\"\n",
      "INFO:httpx:HTTP Request: GET http://localhost:8080/v1/schema \"HTTP/1.1 200 OK\"\n",
      "INFO:httpx:HTTP Request: POST http://localhost:8080/v1/graphql \"HTTP/1.1 200 OK\"\n",
      "INFO:httpx:HTTP Request: POST http://localhost:8080/v1/graphql \"HTTP/1.1 200 OK\"\n",
      "INFO:root: Weaviate schema is valid: True\n",
      "INFO:root: Weaviate schema info: Weaviate Schema Information\n",
      "\n",
      "Class: Product (Entries: 768)\n",
      "Properties:\n",
      "  - Name: name, Type: text, Description: The name of the product.\n",
      "  - Name: ids, Type: text, Description: ids of the products\n",
      "  - Name: manufacturer, Type: text, Description: The manufacturer of the product.\n",
      "  - Name: form_factor, Type: text, Description: The form of the product.\n",
      "  - Name: processor, Type: text, Description: The processor of the product.\n",
      "  - Name: core_count, Type: text, Description: The core of the product.\n",
      "  - Name: processor_tdp, Type: text, Description: The processor of the product.\n",
      "  - Name: memory, Type: text, Description: The memory of the product.\n",
      "  - Name: io, Type: text, Description: The io of the product.\n",
      "  - Name: operating_system, Type: text, Description: The operating_system of the product.\n",
      "  - Name: environmentals, Type: text, Description: The environmentals of the product.\n",
      "  - Name: certifications, Type: text, Description: The certifications of the product.\n",
      "  - Name: short_summary, Type: text, Description: The short_summary of the product.\n",
      "  - Name: full_summary, Type: text, Description: The full product summary.\n",
      "  - Name: full_product_description, Type: text, Description: The description of the product.\n",
      "  Vectorizer: text2vec-openai\n",
      "\n",
      "Class: Route (Entries: 401)\n",
      "Properties:\n",
      "  - Name: prompt, Type: text, Description: example prompts for a given route\n",
      "  - Name: route, Type: text, Description: The route to follow\n",
      "  Vectorizer: text2vec-openai\n",
      "\n",
      "\n"
     ]
    },
    {
     "name": "stdout",
     "output_type": "stream",
     "text": [
      "===:> Initializing Weaviate\n"
     ]
    }
   ],
   "source": [
    "import os\n",
    "import sys\n",
    "import asyncio\n",
    "from typing import Dict, List, Any\n",
    "import pandas as pd\n",
    "import matplotlib.pyplot as plt\n",
    "from IPython.display import display, HTML\n",
    "from difflib import SequenceMatcher\n",
    "\n",
    "# Add the project root to the Python path\n",
    "project_root = os.path.abspath(os.path.join(os.getcwd(), \"..\"))\n",
    "sys.path.append(project_root)\n",
    "\n",
    "# Import project-specific modules\n",
    "from models.product import Product\n",
    "from services.weaviate_service import WeaviateService\n",
    "from services.openai_service import OpenAIService\n",
    "from services.query_processor import QueryProcessor\n",
    "from config import Config\n",
    "\n",
    "# Load configuration and initialize services\n",
    "config = Config()\n",
    "weaviate_service = None\n",
    "openai_service = None\n",
    "query_processor = None\n",
    "\n",
    "\n",
    "async def initialize_services():\n",
    "    global weaviate_service, openai_service, query_processor\n",
    "    weaviate_service = WeaviateService()\n",
    "    await weaviate_service.initialize_weaviate(config.OPENAI_API_KEY, config.WEAVIATE_URL, config.RESET_WEAVIATE)\n",
    "    openai_service = OpenAIService(config.OPENAI_API_KEY, config)\n",
    "    query_processor = QueryProcessor(openai_service=openai_service)\n",
    "\n",
    "\n",
    "# Run initialization\n",
    "await initialize_services()"
   ]
  },
  {
   "cell_type": "code",
   "execution_count": 2,
   "metadata": {},
   "outputs": [],
   "source": [
    "# Define test cases with similar queries\n",
    "test_cases = [\n",
    "    {\n",
    "        \"name\": \"List Single Board Computers with a processor frequency of 1.5 GHz or higher and manufactured by Broadcom\",\n",
    "        \"queries\": [\n",
    "            \"List Single Board Computers with a processor frequency of 1.5 GHz or higher and manufactured by Broadcom\",\n",
    "            \"Enumerate Broadcom-made SBCs featuring processors running at 1.5 GHz or above\",\n",
    "            \"Show Single Board Computers from Broadcom with CPU speeds of at least 1.5 GHz\",\n",
    "            \"Provide a list of Broadcom SBCs with processors clocked at 1.5 GHz or faster\",\n",
    "            \"Display Single Board Computers manufactured by Broadcom with CPU frequencies of 1.5 GHz and higher\",\n",
    "        ],\n",
    "    },\n",
    "    {\n",
    "        \"name\": \"What are the available Computers on Module (COM) with DDR4 memory support and comes with an Intel processor?\",\n",
    "        \"queries\": [\n",
    "            \"What are the available Computers on Module (COM) with DDR4 memory support and comes with an Intel processor?\",\n",
    "            \"List COMs featuring Intel CPUs and DDR4 memory compatibility\",\n",
    "            \"Show Computers on Module that have Intel processors and support DDR4 RAM\",\n",
    "            \"Enumerate Intel-based COMs with DDR4 memory support\",\n",
    "            \"Display available Computers on Module equipped with Intel CPUs and DDR4 memory capabilities\",\n",
    "        ],\n",
    "    },\n",
    "    {\n",
    "        \"name\": \"Show Devkits that include FPGA and are manufactured by Microsemi Corporation.\",\n",
    "        \"queries\": [\n",
    "            \"Show Devkits that include FPGA and are manufactured by Microsemi Corporation.\",\n",
    "            \"List Microsemi Corporation's development kits featuring FPGAs\",\n",
    "            \"Display FPGA-equipped devkits produced by Microsemi Corporation\",\n",
    "            \"Enumerate Microsemi-made development kits that incorporate FPGAs\",\n",
    "            \"Provide a list of Microsemi Corporation devkits with integrated FPGAs\",\n",
    "        ],\n",
    "    },\n",
    "    {\n",
    "        \"name\": \"Find all SBCs that support PCIe Gen3 interface and have more than 8 cores\",\n",
    "        \"queries\": [\n",
    "            \"Find all SBCs that support PCIe Gen3 interface and have more than 8 cores.\",\n",
    "            \"List Single Board Computers with PCIe Gen3 support and over 8 processor cores\",\n",
    "            \"Show SBCs featuring PCIe Gen3 compatibility and exceeding 8 cores\",\n",
    "            \"Enumerate Single Board Computers with PCIe Gen3 interface and 9+ cores\",\n",
    "            \"Display all SBCs that offer PCIe Gen3 support and have more than 8 CPU cores\",\n",
    "        ],\n",
    "    },\n",
    "    {\n",
    "        \"name\": \"Provide a list of products with ARM Cortex processors that are available in a COM Express Basic form factor.\",\n",
    "        \"queries\": [\n",
    "            \"Provide a list of products with ARM Cortex processors that are available in a COM Express Basic form factor.\",\n",
    "            \"Show COM Express Basic modules featuring ARM Cortex processors\",\n",
    "            \"Enumerate products using ARM Cortex CPUs in COM Express Basic form factor\",\n",
    "            \"List COM Express Basic offerings equipped with ARM Cortex processors\",\n",
    "            \"Display ARM Cortex-based products available in COM Express Basic format\",\n",
    "        ],\n",
    "    },\n",
    "    {\n",
    "        \"name\": \"Identify all hardware components manufactured by Broadcom Corporation that include ARM processors.\",\n",
    "        \"queries\": [\n",
    "            \"Identify all hardware components manufactured by Broadcom Corporation that include ARM processors.\",\n",
    "            \"List Broadcom Corporation products featuring ARM processors\",\n",
    "            \"Show hardware components from Broadcom that use ARM-based CPUs\",\n",
    "            \"Enumerate Broadcom-made devices incorporating ARM processors\",\n",
    "            \"Display all ARM processor-equipped hardware produced by Broadcom Corporation\",\n",
    "        ],\n",
    "    },\n",
    "    {\n",
    "        \"name\": \"Which Advantech Computer on Modules support USB 3.0 interface?\",\n",
    "        \"queries\": [\n",
    "            \"Which Advantech Computer on Modules support USB 3.0 interface?\",\n",
    "            \"List Advantech COMs that offer USB 3.0 compatibility\",\n",
    "            \"Show Computer on Modules from Advantech with USB 3.0 support\",\n",
    "            \"Enumerate Advantech-made COMs featuring USB 3.0 interfaces\",\n",
    "            \"Display Advantech Computer on Modules equipped with USB 3.0 ports\",\n",
    "        ],\n",
    "    },\n",
    "    {\n",
    "        \"name\": \"List all Single Board Computers with a memory capacity of 128GB or more with more than 2 USB ports.\",\n",
    "        \"queries\": [\n",
    "            \"List all Single Board Computers with a memory capacity of 128GB or more with more than 2 USB ports.\",\n",
    "            \"Show SBCs featuring 128GB+ memory and 3 or more USB ports\",\n",
    "            \"Enumerate Single Board Computers with at least 128GB memory and over 2 USB interfaces\",\n",
    "            \"Display SBCs that have 128GB or higher memory capacity and more than two USB ports\",\n",
    "            \"Provide a list of Single Board Computers with 128GB+ RAM and 3+ USB connections\",\n",
    "        ],\n",
    "    },\n",
    "    {\n",
    "        \"name\": \"What are the available NXP powered Computer on Module products that include SATA 3.0 interface?\",\n",
    "        \"queries\": [\n",
    "            \"What are the available NXP powered Computer on Module products that include SATA 3.0 interface?\",\n",
    "            \"List COMs with NXP processors featuring SATA 3.0 support\",\n",
    "            \"Show NXP-based Computer on Modules that offer SATA 3.0 connectivity\",\n",
    "            \"Enumerate NXP-powered COMs equipped with SATA 3.0 interfaces\",\n",
    "            \"Display Computer on Module products using NXP chips and including SATA 3.0 ports\",\n",
    "        ],\n",
    "    },\n",
    "    {\n",
    "        \"name\": \"Find Single Board Computers with a form factor smaller than 100mm x 100mm and RAM more 256 MB\",\n",
    "        \"queries\": [\n",
    "            \"Find Single Board Computers with a form factor smaller than 100mm x 100mm and RAM more 256 MB\",\n",
    "            \"List SBCs smaller than 100x100mm with over 256MB of RAM\",\n",
    "            \"Show compact Single Board Computers (sub-100x100mm) featuring more than 256MB memory\",\n",
    "            \"Enumerate SBCs with form factors under 100mm x 100mm and RAM exceeding 256MB\",\n",
    "            \"Display Single Board Computers smaller than 100x100mm that have more than 256MB of RAM\",\n",
    "        ],\n",
    "    },\n",
    "    {\n",
    "        \"name\": \"List all devices that support voltage ranges from 1.2V to 3.3V.\",\n",
    "        \"queries\": [\n",
    "            \"List all devices that support voltage ranges from 1.2V to 3.3V.\",\n",
    "            \"Show hardware components compatible with 1.2V to 3.3V voltage range\",\n",
    "            \"Enumerate devices operating within 1.2V to 3.3V voltage specifications\",\n",
    "            \"Display all products supporting voltage levels between 1.2V and 3.3V\",\n",
    "            \"Provide a list of components functioning in the 1.2V to 3.3V voltage range\",\n",
    "        ],\n",
    "    },\n",
    "    {\n",
    "        \"name\": \"Show products that include an Intel Xeon Processor D and support Embedded Software API.\",\n",
    "        \"queries\": [\n",
    "            \"Show products that include an Intel Xeon Processor D and support Embedded Software API.\",\n",
    "            \"List devices featuring Intel Xeon D CPUs with Embedded Software API compatibility\",\n",
    "            \"Enumerate products using Intel Xeon Processor D and offering Embedded Software API support\",\n",
    "            \"Display hardware with Intel Xeon D chips that are compatible with Embedded Software API\",\n",
    "            \"Provide a list of Intel Xeon D-based products supporting Embedded Software API\",\n",
    "        ],\n",
    "    },\n",
    "    {\n",
    "        \"name\": \"Which products offer a high-performance FPGA feature and are suitable for embedded development?\",\n",
    "        \"queries\": [\n",
    "            \"Which products offer a high-performance FPGA feature and are suitable for embedded development?\",\n",
    "            \"List high-performance FPGA products designed for embedded systems\",\n",
    "            \"Show devices with powerful FPGAs tailored for embedded development\",\n",
    "            \"Enumerate high-end FPGA offerings suitable for embedded applications\",\n",
    "            \"Display products combining high-performance FPGAs with embedded development capabilities\",\n",
    "        ],\n",
    "    },\n",
    "    {\n",
    "        \"name\": \"Provide a list of Single Board Computers that can operate at a frequency up to 2.7 GHz with MiniITX form factor.\",\n",
    "        \"queries\": [\n",
    "            \"Provide a list of Single Board Computers that can operate at a frequency up to 2.7 GHz with MiniITX form factor.\",\n",
    "            \"Show MiniITX SBCs capable of running at frequencies up to 2.7 GHz\",\n",
    "            \"Enumerate Single Board Computers in MiniITX form factor with max 2.7 GHz clock speed\",\n",
    "            \"List MiniITX-format SBCs that can reach 2.7 GHz operating frequency\",\n",
    "            \"Display Single Board Computers with MiniITX form factor and up to 2.7 GHz processor speed\",\n",
    "        ],\n",
    "    },\n",
    "    {\n",
    "        \"name\": \"What components are available with embedded nonvolatile flash memory (eNVM)?\",\n",
    "        \"queries\": [\n",
    "            \"What components are available with embedded nonvolatile flash memory (eNVM)?\",\n",
    "            \"List hardware featuring built-in nonvolatile flash memory (eNVM)\",\n",
    "            \"Show products that include embedded nonvolatile flash memory\",\n",
    "            \"Enumerate devices equipped with integrated eNVM\",\n",
    "            \"Display components offering embedded nonvolatile flash memory capabilities\",\n",
    "        ],\n",
    "    },\n",
    "    {\n",
    "        \"name\": 'Identify all products with a \"Customizable System-on-Chip (cSoC)\" type with ARM Cortex processor.',\n",
    "        \"queries\": [\n",
    "            'Identify all products with a \"Customizable System-on-Chip (cSoC)\" type with ARM Cortex processor.',\n",
    "            \"List ARM Cortex-based Customizable System-on-Chip (cSoC) offerings\",\n",
    "            \"Show cSoC products featuring ARM Cortex processors\",\n",
    "            \"Enumerate Customizable System-on-Chip devices with ARM Cortex CPUs\",\n",
    "            \"Display all ARM Cortex-powered cSoC solutions\",\n",
    "        ],\n",
    "    },\n",
    "    {\n",
    "        \"name\": \"Top 5 Single Board Computers products that support dual Gigabit Ethernet and SATA.\",\n",
    "        \"queries\": [\n",
    "            \"Top 5 Single Board Computers products that support dual Gigabit Ethernet and SATA.\",\n",
    "            \"List best 5 SBCs featuring both dual Gigabit Ethernet and SATA interfaces\",\n",
    "            \"Show top 5 Single Board Computers with dual GbE and SATA support\",\n",
    "            \"Enumerate 5 leading SBCs offering dual Gigabit Ethernet and SATA connectivity\",\n",
    "            \"Display 5 premium Single Board Computers equipped with dual GbE and SATA\",\n",
    "        ],\n",
    "    },\n",
    "    {\n",
    "        \"name\": \"Which products offer up to 16 cores and 2.3 GHz frequency in their processors?\",\n",
    "        \"queries\": [\n",
    "            \"Which products offer up to 16 cores and 2.3 GHz frequency in their processors?\",\n",
    "            \"List devices featuring processors with up to 16 cores and 2.3 GHz clock speed\",\n",
    "            \"Show products with CPUs offering maximum 16 cores and 2.3 GHz frequency\",\n",
    "            \"Enumerate hardware using processors that have up to 16 cores and 2.3 GHz speed\",\n",
    "            \"Display items with processors supporting up to 16 cores and 2.3 GHz clock rate\",\n",
    "        ],\n",
    "    },\n",
    "    {\n",
    "        \"name\": \"Find Kontron products that include both ECC and non-ECC memory options.\",\n",
    "        \"queries\": [\n",
    "            \"Find Kontron products that include both ECC and non-ECC memory options.\",\n",
    "            \"List Kontron devices supporting both ECC and non-ECC RAM\",\n",
    "            \"Show Kontron hardware with ECC and non-ECC memory compatibility\",\n",
    "            \"Enumerate Kontron offerings featuring both ECC and non-ECC memory support\",\n",
    "            \"Display Kontron products that provide ECC and non-ECC memory choices\",\n",
    "        ],\n",
    "    },\n",
    "    {\n",
    "        \"name\": \"List all hardware platforms with on-chip frame memory and supports a TFT-LCD controller.\",\n",
    "        \"queries\": [\n",
    "            \"List all hardware platforms with on-chip frame memory and supports a TFT-LCD controller.\",\n",
    "            \"Show devices featuring on-chip frame memory and TFT-LCD controller support\",\n",
    "            \"Enumerate platforms that include on-chip frame memory and TFT-LCD controller capabilities\",\n",
    "            \"Display hardware solutions with integrated frame memory and TFT-LCD controller functionality\",\n",
    "            \"Provide a list of products combining on-chip frame memory with TFT-LCD controller support\",\n",
    "        ],\n",
    "    },\n",
    "    {\n",
    "        \"name\": \"Provide a list of Single Board Computers manufactured by Advantech that include USB 3.0 support.\",\n",
    "        \"queries\": [\n",
    "            \"Provide a list of Single Board Computers manufactured by Advantech that include USB 3.0 support.\",\n",
    "            \"Show Advantech-made SBCs featuring USB 3.0 interfaces\",\n",
    "            \"Enumerate Single Board Computers from Advantech with USB 3.0 compatibility\",\n",
    "            \"List Advantech SBC products that offer USB 3.0 support\",\n",
    "            \"Display Advantech-manufactured Single Board Computers equipped with USB 3.0 ports\",\n",
    "        ],\n",
    "    },\n",
    "    {\n",
    "        \"name\": \"Which devices support Intel Hyper-Threading Technology with mATX form factor?\",\n",
    "        \"queries\": [\n",
    "            \"Which devices support Intel Hyper-Threading Technology with mATX form factor?\",\n",
    "            \"List mATX form factor products featuring Intel Hyper-Threading Technology\",\n",
    "            \"Show hardware in mATX format that includes Intel Hyper-Threading support\",\n",
    "            \"Enumerate mATX devices compatible with Intel Hyper-Threading Technology\",\n",
    "            \"Display mATX form factor items offering Intel Hyper-Threading capabilities\",\n",
    "        ],\n",
    "    },\n",
    "    {\n",
    "        \"name\": \"Identify products that include programmable analog components and eNVM.\",\n",
    "        \"queries\": [\n",
    "            \"Identify products that include programmable analog components and eNVM.\",\n",
    "            \"List devices featuring both programmable analog elements and embedded nonvolatile memory\",\n",
    "            \"Show hardware solutions combining programmable analog capabilities with eNVM\",\n",
    "            \"Enumerate products that offer programmable analog components alongside eNVM\",\n",
    "            \"Display items integrating programmable analog features and embedded nonvolatile memory\",\n",
    "        ],\n",
    "    },\n",
    "    {\n",
    "        \"name\": \"What are the available hardware platforms with built-in Intel Turbo Boost Technology and Hyper-Threading Technology?\",\n",
    "        \"queries\": [\n",
    "            \"What are the available hardware platforms with built-in Intel Turbo Boost Technology and Hyper-Threading Technology?\",\n",
    "            \"List devices featuring both Intel Turbo Boost and Hyper-Threading Technologies\",\n",
    "            \"Show hardware solutions that incorporate Intel Turbo Boost and Hyper-Threading capabilities\",\n",
    "            \"Enumerate platforms equipped with Intel Turbo Boost and Hyper-Threading Technologies\",\n",
    "            \"Display products offering built-in support for Intel Turbo Boost and Hyper-Threading\",\n",
    "        ],\n",
    "    },\n",
    "    {\n",
    "        \"name\": \"Show all SBCs supporting Verilog and C with detailed specifications for FPGA integration.\",\n",
    "        \"queries\": [\n",
    "            \"Show all SBCs supporting Verilog and C with detailed specifications for FPGA integration.\",\n",
    "            \"List Single Board Computers compatible with Verilog and C for FPGA development\",\n",
    "            \"Enumerate SBCs that support both Verilog and C languages for FPGA integration\",\n",
    "            \"Display Single Board Computers offering Verilog and C compatibility for FPGA projects\",\n",
    "            \"Provide detailed specs of SBCs supporting Verilog and C in FPGA integration contexts\",\n",
    "        ],\n",
    "    },\n",
    "]"
   ]
  },
  {
   "cell_type": "code",
   "execution_count": null,
   "metadata": {},
   "outputs": [],
   "source": [
    "[\n",
    "    {\n",
    "        \"prompt\": \"List Single Board Computers with a processor frequency of 1.5 GHz or higher and manufactured by Broadcom\",\n",
    "        \"variations\": [\n",
    "            \"List Single Board Computers with a processor frequency of 1.5 GHz or higher and manufactured by Broadcom\",\n",
    "            \"Enumerate Broadcom-made SBCs featuring processors running at 1.5 GHz or above\",\n",
    "            \"Show Single Board Computers from Broadcom with CPU speeds of at least 1.5 GHz\",\n",
    "            \"Provide a list of Broadcom SBCs with processors clocked at 1.5 GHz or faster\",\n",
    "            \"Display Single Board Computers manufactured by Broadcom with CPU frequencies of 1.5 GHz and higher\",\n",
    "        ],\n",
    "    },\n",
    "    {\n",
    "        \"name\": \"What are the available Computers on Module (COM) with DDR4 memory support and comes with an Intel processor?\",\n",
    "        \"queries\": [\n",
    "            \"What are the available Computers on Module (COM) with DDR4 memory support and comes with an Intel processor?\",\n",
    "            \"List COMs featuring Intel CPUs and DDR4 memory compatibility\",\n",
    "            \"Show Computers on Module that have Intel processors and support DDR4 RAM\",\n",
    "            \"Enumerate Intel-based COMs with DDR4 memory support\",\n",
    "            \"Display available Computers on Module equipped with Intel CPUs and DDR4 memory capabilities\",\n",
    "        ],\n",
    "    },\n",
    "    {\n",
    "        \"name\": \"Show Devkits that include FPGA and are manufactured by Microsemi Corporation.\",\n",
    "        \"queries\": [\n",
    "            \"Show Devkits that include FPGA and are manufactured by Microsemi Corporation.\",\n",
    "            \"List Microsemi Corporation's development kits featuring FPGAs\",\n",
    "            \"Display FPGA-equipped devkits produced by Microsemi Corporation\",\n",
    "            \"Enumerate Microsemi-made development kits that incorporate FPGAs\",\n",
    "            \"Provide a list of Microsemi Corporation devkits with integrated FPGAs\",\n",
    "        ],\n",
    "    },\n",
    "    {\n",
    "        \"name\": \"Find all SBCs that support PCIe Gen3 interface and have more than 8 cores\",\n",
    "        \"queries\": [\n",
    "            \"Find all SBCs that support PCIe Gen3 interface and have more than 8 cores.\",\n",
    "            \"List Single Board Computers with PCIe Gen3 support and over 8 processor cores\",\n",
    "            \"Show SBCs featuring PCIe Gen3 compatibility and exceeding 8 cores\",\n",
    "            \"Enumerate Single Board Computers with PCIe Gen3 interface and 9+ cores\",\n",
    "            \"Display all SBCs that offer PCIe Gen3 support and have more than 8 CPU cores\",\n",
    "        ],\n",
    "    },\n",
    "    {\n",
    "        \"name\": \"Provide a list of products with ARM Cortex processors that are available in a COM Express Basic form factor.\",\n",
    "        \"queries\": [\n",
    "            \"Provide a list of products with ARM Cortex processors that are available in a COM Express Basic form factor.\",\n",
    "            \"Show COM Express Basic modules featuring ARM Cortex processors\",\n",
    "            \"Enumerate products using ARM Cortex CPUs in COM Express Basic form factor\",\n",
    "            \"List COM Express Basic offerings equipped with ARM Cortex processors\",\n",
    "            \"Display ARM Cortex-based products available in COM Express Basic format\",\n",
    "        ],\n",
    "    },\n",
    "    {\n",
    "        \"name\": \"Identify all hardware components manufactured by Broadcom Corporation that include ARM processors.\",\n",
    "        \"queries\": [\n",
    "            \"Identify all hardware components manufactured by Broadcom Corporation that include ARM processors.\",\n",
    "            \"List Broadcom Corporation products featuring ARM processors\",\n",
    "            \"Show hardware components from Broadcom that use ARM-based CPUs\",\n",
    "            \"Enumerate Broadcom-made devices incorporating ARM processors\",\n",
    "            \"Display all ARM processor-equipped hardware produced by Broadcom Corporation\",\n",
    "        ],\n",
    "    },\n",
    "    {\n",
    "        \"name\": \"Which Advantech Computer on Modules support USB 3.0 interface?\",\n",
    "        \"queries\": [\n",
    "            \"Which Advantech Computer on Modules support USB 3.0 interface?\",\n",
    "            \"List Advantech COMs that offer USB 3.0 compatibility\",\n",
    "            \"Show Computer on Modules from Advantech with USB 3.0 support\",\n",
    "            \"Enumerate Advantech-made COMs featuring USB 3.0 interfaces\",\n",
    "            \"Display Advantech Computer on Modules equipped with USB 3.0 ports\",\n",
    "        ],\n",
    "    },\n",
    "    {\n",
    "        \"name\": \"List all Single Board Computers with a memory capacity of 128GB or more with more than 2 USB ports.\",\n",
    "        \"queries\": [\n",
    "            \"List all Single Board Computers with a memory capacity of 128GB or more with more than 2 USB ports.\",\n",
    "            \"Show SBCs featuring 128GB+ memory and 3 or more USB ports\",\n",
    "            \"Enumerate Single Board Computers with at least 128GB memory and over 2 USB interfaces\",\n",
    "            \"Display SBCs that have 128GB or higher memory capacity and more than two USB ports\",\n",
    "            \"Provide a list of Single Board Computers with 128GB+ RAM and 3+ USB connections\",\n",
    "        ],\n",
    "    },\n",
    "    {\n",
    "        \"name\": \"What are the available NXP powered Computer on Module products that include SATA 3.0 interface?\",\n",
    "        \"queries\": [\n",
    "            \"What are the available NXP powered Computer on Module products that include SATA 3.0 interface?\",\n",
    "            \"List COMs with NXP processors featuring SATA 3.0 support\",\n",
    "            \"Show NXP-based Computer on Modules that offer SATA 3.0 connectivity\",\n",
    "            \"Enumerate NXP-powered COMs equipped with SATA 3.0 interfaces\",\n",
    "            \"Display Computer on Module products using NXP chips and including SATA 3.0 ports\",\n",
    "        ],\n",
    "    },\n",
    "    {\n",
    "        \"name\": \"Find Single Board Computers with a form factor smaller than 100mm x 100mm and RAM more 256 MB\",\n",
    "        \"queries\": [\n",
    "            \"Find Single Board Computers with a form factor smaller than 100mm x 100mm and RAM more 256 MB\",\n",
    "            \"List SBCs smaller than 100x100mm with over 256MB of RAM\",\n",
    "            \"Show compact Single Board Computers (sub-100x100mm) featuring more than 256MB memory\",\n",
    "            \"Enumerate SBCs with form factors under 100mm x 100mm and RAM exceeding 256MB\",\n",
    "            \"Display Single Board Computers smaller than 100x100mm that have more than 256MB of RAM\",\n",
    "        ],\n",
    "    },\n",
    "    {\n",
    "        \"name\": \"List all devices that support voltage ranges from 1.2V to 3.3V.\",\n",
    "        \"queries\": [\n",
    "            \"List all devices that support voltage ranges from 1.2V to 3.3V.\",\n",
    "            \"Show hardware components compatible with 1.2V to 3.3V voltage range\",\n",
    "            \"Enumerate devices operating within 1.2V to 3.3V voltage specifications\",\n",
    "            \"Display all products supporting voltage levels between 1.2V and 3.3V\",\n",
    "            \"Provide a list of components functioning in the 1.2V to 3.3V voltage range\",\n",
    "        ],\n",
    "    },\n",
    "    {\n",
    "        \"name\": \"Show products that include an Intel Xeon Processor D and support Embedded Software API.\",\n",
    "        \"queries\": [\n",
    "            \"Show products that include an Intel Xeon Processor D and support Embedded Software API.\",\n",
    "            \"List devices featuring Intel Xeon D CPUs with Embedded Software API compatibility\",\n",
    "            \"Enumerate products using Intel Xeon Processor D and offering Embedded Software API support\",\n",
    "            \"Display hardware with Intel Xeon D chips that are compatible with Embedded Software API\",\n",
    "            \"Provide a list of Intel Xeon D-based products supporting Embedded Software API\",\n",
    "        ],\n",
    "    },\n",
    "    {\n",
    "        \"name\": \"Which products offer a high-performance FPGA feature and are suitable for embedded development?\",\n",
    "        \"queries\": [\n",
    "            \"Which products offer a high-performance FPGA feature and are suitable for embedded development?\",\n",
    "            \"List high-performance FPGA products designed for embedded systems\",\n",
    "            \"Show devices with powerful FPGAs tailored for embedded development\",\n",
    "            \"Enumerate high-end FPGA offerings suitable for embedded applications\",\n",
    "            \"Display products combining high-performance FPGAs with embedded development capabilities\",\n",
    "        ],\n",
    "    },\n",
    "    {\n",
    "        \"name\": \"Provide a list of Single Board Computers that can operate at a frequency up to 2.7 GHz with MiniITX form factor.\",\n",
    "        \"queries\": [\n",
    "            \"Provide a list of Single Board Computers that can operate at a frequency up to 2.7 GHz with MiniITX form factor.\",\n",
    "            \"Show MiniITX SBCs capable of running at frequencies up to 2.7 GHz\",\n",
    "            \"Enumerate Single Board Computers in MiniITX form factor with max 2.7 GHz clock speed\",\n",
    "            \"List MiniITX-format SBCs that can reach 2.7 GHz operating frequency\",\n",
    "            \"Display Single Board Computers with MiniITX form factor and up to 2.7 GHz processor speed\",\n",
    "        ],\n",
    "    },\n",
    "    {\n",
    "        \"name\": \"What components are available with embedded nonvolatile flash memory (eNVM)?\",\n",
    "        \"queries\": [\n",
    "            \"What components are available with embedded nonvolatile flash memory (eNVM)?\",\n",
    "            \"List hardware featuring built-in nonvolatile flash memory (eNVM)\",\n",
    "            \"Show products that include embedded nonvolatile flash memory\",\n",
    "            \"Enumerate devices equipped with integrated eNVM\",\n",
    "            \"Display components offering embedded nonvolatile flash memory capabilities\",\n",
    "        ],\n",
    "    },\n",
    "    {\n",
    "        \"name\": 'Identify all products with a \"Customizable System-on-Chip (cSoC)\" type with ARM Cortex processor.',\n",
    "        \"queries\": [\n",
    "            'Identify all products with a \"Customizable System-on-Chip (cSoC)\" type with ARM Cortex processor.',\n",
    "            \"List ARM Cortex-based Customizable System-on-Chip (cSoC) offerings\",\n",
    "            \"Show cSoC products featuring ARM Cortex processors\",\n",
    "            \"Enumerate Customizable System-on-Chip devices with ARM Cortex CPUs\",\n",
    "            \"Display all ARM Cortex-powered cSoC solutions\",\n",
    "        ],\n",
    "    },\n",
    "    {\n",
    "        \"name\": \"Top 5 Single Board Computers products that support dual Gigabit Ethernet and SATA.\",\n",
    "        \"queries\": [\n",
    "            \"Top 5 Single Board Computers products that support dual Gigabit Ethernet and SATA.\",\n",
    "            \"List best 5 SBCs featuring both dual Gigabit Ethernet and SATA interfaces\",\n",
    "            \"Show top 5 Single Board Computers with dual GbE and SATA support\",\n",
    "            \"Enumerate 5 leading SBCs offering dual Gigabit Ethernet and SATA connectivity\",\n",
    "            \"Display 5 premium Single Board Computers equipped with dual GbE and SATA\",\n",
    "        ],\n",
    "    },\n",
    "    {\n",
    "        \"name\": \"Which products offer up to 16 cores and 2.3 GHz frequency in their processors?\",\n",
    "        \"queries\": [\n",
    "            \"Which products offer up to 16 cores and 2.3 GHz frequency in their processors?\",\n",
    "            \"List devices featuring processors with up to 16 cores and 2.3 GHz clock speed\",\n",
    "            \"Show products with CPUs offering maximum 16 cores and 2.3 GHz frequency\",\n",
    "            \"Enumerate hardware using processors that have up to 16 cores and 2.3 GHz speed\",\n",
    "            \"Display items with processors supporting up to 16 cores and 2.3 GHz clock rate\",\n",
    "        ],\n",
    "    },\n",
    "    {\n",
    "        \"name\": \"Find Kontron products that include both ECC and non-ECC memory options.\",\n",
    "        \"queries\": [\n",
    "            \"Find Kontron products that include both ECC and non-ECC memory options.\",\n",
    "            \"List Kontron devices supporting both ECC and non-ECC RAM\",\n",
    "            \"Show Kontron hardware with ECC and non-ECC memory compatibility\",\n",
    "            \"Enumerate Kontron offerings featuring both ECC and non-ECC memory support\",\n",
    "            \"Display Kontron products that provide ECC and non-ECC memory choices\",\n",
    "        ],\n",
    "    },\n",
    "    {\n",
    "        \"name\": \"List all hardware platforms with on-chip frame memory and supports a TFT-LCD controller.\",\n",
    "        \"queries\": [\n",
    "            \"List all hardware platforms with on-chip frame memory and supports a TFT-LCD controller.\",\n",
    "            \"Show devices featuring on-chip frame memory and TFT-LCD controller support\",\n",
    "            \"Enumerate platforms that include on-chip frame memory and TFT-LCD controller capabilities\",\n",
    "            \"Display hardware solutions with integrated frame memory and TFT-LCD controller functionality\",\n",
    "            \"Provide a list of products combining on-chip frame memory with TFT-LCD controller support\",\n",
    "        ],\n",
    "    },\n",
    "    {\n",
    "        \"name\": \"Provide a list of Single Board Computers manufactured by Advantech that include USB 3.0 support.\",\n",
    "        \"queries\": [\n",
    "            \"Provide a list of Single Board Computers manufactured by Advantech that include USB 3.0 support.\",\n",
    "            \"Show Advantech-made SBCs featuring USB 3.0 interfaces\",\n",
    "            \"Enumerate Single Board Computers from Advantech with USB 3.0 compatibility\",\n",
    "            \"List Advantech SBC products that offer USB 3.0 support\",\n",
    "            \"Display Advantech-manufactured Single Board Computers equipped with USB 3.0 ports\",\n",
    "        ],\n",
    "    },\n",
    "    {\n",
    "        \"name\": \"Which devices support Intel Hyper-Threading Technology with mATX form factor?\",\n",
    "        \"queries\": [\n",
    "            \"Which devices support Intel Hyper-Threading Technology with mATX form factor?\",\n",
    "            \"List mATX form factor products featuring Intel Hyper-Threading Technology\",\n",
    "            \"Show hardware in mATX format that includes Intel Hyper-Threading support\",\n",
    "            \"Enumerate mATX devices compatible with Intel Hyper-Threading Technology\",\n",
    "            \"Display mATX form factor items offering Intel Hyper-Threading capabilities\",\n",
    "        ],\n",
    "    },\n",
    "    {\n",
    "        \"name\": \"Identify products that include programmable analog components and eNVM.\",\n",
    "        \"queries\": [\n",
    "            \"Identify products that include programmable analog components and eNVM.\",\n",
    "            \"List devices featuring both programmable analog elements and embedded nonvolatile memory\",\n",
    "            \"Show hardware solutions combining programmable analog capabilities with eNVM\",\n",
    "            \"Enumerate products that offer programmable analog components alongside eNVM\",\n",
    "            \"Display items integrating programmable analog features and embedded nonvolatile memory\",\n",
    "        ],\n",
    "    },\n",
    "    {\n",
    "        \"name\": \"What are the available hardware platforms with built-in Intel Turbo Boost Technology and Hyper-Threading Technology?\",\n",
    "        \"queries\": [\n",
    "            \"What are the available hardware platforms with built-in Intel Turbo Boost Technology and Hyper-Threading Technology?\",\n",
    "            \"List devices featuring both Intel Turbo Boost and Hyper-Threading Technologies\",\n",
    "            \"Show hardware solutions that incorporate Intel Turbo Boost and Hyper-Threading capabilities\",\n",
    "            \"Enumerate platforms equipped with Intel Turbo Boost and Hyper-Threading Technologies\",\n",
    "            \"Display products offering built-in support for Intel Turbo Boost and Hyper-Threading\",\n",
    "        ],\n",
    "    },\n",
    "    {\n",
    "        \"name\": \"Show all SBCs supporting Verilog and C with detailed specifications for FPGA integration.\",\n",
    "        \"queries\": [\n",
    "            \"Show all SBCs supporting Verilog and C with detailed specifications for FPGA integration.\",\n",
    "            \"List Single Board Computers compatible with Verilog and C for FPGA development\",\n",
    "            \"Enumerate SBCs that support both Verilog and C languages for FPGA integration\",\n",
    "            \"Display Single Board Computers offering Verilog and C compatibility for FPGA projects\",\n",
    "            \"Provide detailed specs of SBCs supporting Verilog and C in FPGA integration contexts\",\n",
    "        ],\n",
    "    },\n",
    "]"
   ]
  },
  {
   "cell_type": "code",
   "execution_count": null,
   "metadata": {},
   "outputs": [],
   "source": [
    "test_cases = [\n",
    "    {\n",
    "        Manufacturer: Advantech\n",
    "\n",
    "Form Factor: ETX\n",
    "\n",
    "\n",
    "        \"prompt\": \"Give me available devices manufactured by Advantech, and of form factor ETX\",\n",
    "        \"variations\": [\n",
    "\n",
    "        ],\n",
    "    },\n",
    "    {\n",
    "        \"prompt\": \"What are the available Computers on Module (COM) with DDR4 memory support and comes with an Intel processor?\",\n",
    "        \"variations\": [\n",
    "            \"What are the available Computers on Module (COM) with DDR4 memory support and comes with an Intel processor?\",\n",
    "            \"List COMs featuring Intel CPUs and DDR4 memory compatibility\",\n",
    "            \"Show Computers on Module that have Intel processors and support DDR4 RAM\",\n",
    "            \"Enumerate Intel-based COMs with DDR4 memory support\",\n",
    "            \"Display available Computers on Module equipped with Intel CPUs and DDR4 memory capabilities\",\n",
    "        ],\n",
    "    },\n",
    "]"
   ]
  },
  {
   "cell_type": "code",
   "execution_count": null,
   "metadata": {},
   "outputs": [],
   "source": [
    "test_case =\n",
    "[{\n",
    "    \"prompt\": \"What are the available Computers on Module (COM) with DDR4 memory support and comes with an Intel processor?\",\n",
    "    \"products\": [\n",
    "        {\n",
    "            \"name\": \"SOM Intel 11th Gen Core Processors\",\n",
    "            \"ids\": \"SOM-5883D4R-U4A1\",\n",
    "            \"manufacturer\": \"Advantech\",\n",
    "            \"form_factor\": \"COM Express Basic Module\",\n",
    "            \"processor\": \"Intel Xeon/Core\",\n",
    "            \"core_count\": \"Hexa/Quad\",\n",
    "            \"processor_tdp\": \"Up to 45W\",\n",
    "            \"memory\": \"Dual channel DDR4, Max 128GB, ECC optional\",\n",
    "            \"io\": \"USB 3.1 Gen2, PCIe x16 Gen3, SATA Gen3, Three Independent Displays, Ethernet, Audio, Serial, GPIO, SPI, CAN Bus\",\n",
    "            \"operating_system\": \"Windows 10 IoT Enterprise LTSB, Windows 10 IoT Enterprise LTSB 64-bit\",\n",
    "            \"environmentals\": \"Operating Temperature: 0°C to 60°C, Extended Temperature: -40°C to 85°C, Storage Temperature: -40°C to 85°C, Humidity: 95% relative humidity non-condensing\",\n",
    "            \"certifications\": \"Military-grade\",\n",
    "        },\n",
    "        {\n",
    "            \"name\": \"Intel Core i7-10700K\",\n",
    "            \"ids\": \"10700K\",\n",
    "            \"manufacturer\": \"Intel\",\n",
    "            \"form_factor\": \"COM Express Basic\",\n",
    "            \"processor\": \"Intel Core i7-10700K\",\n",
    "            \"core_count\": \"Hexa\",\n",
    "            \"processor_tdp\": \"Up to 45W\",\n",
    "            \"memory\": \"Dual channel DDR4, Max 128GB, ECC optional\",\n",
    "            \"io\": \"USB 3.1 Gen2, PCIe x16 Gen3, SATA Gen3, Three Independent Displays, Ethernet, Audio, Serial, GPIO, SPI, CAN Bus\",\n",
    "            \"operating_system\": \"Windows 10 IoT Enterprise LTSB, Windows 10 IoT Enterprise LTSB 64-bit\",\n",
    "            \"environmentals\": \"Operating Temperature: 0°C to 60°C, Extended Temperature: -40°C to 85°C, Storage Temperature: -40°C to 85°C, Humidity: 95% relative humidity non-condensing\",\n",
    "            \"certifications\": \"Military-grade\",\n",
    "        },\n",
    "    ],\n",
    "},]"
   ]
  },
  {
   "cell_type": "code",
   "execution_count": 3,
   "metadata": {},
   "outputs": [
    {
     "name": "stderr",
     "output_type": "stream",
     "text": [
      "INFO:httpx:HTTP Request: POST https://api.openai.com/v1/chat/completions \"HTTP/1.1 200 OK\"\n",
      "INFO:httpx:HTTP Request: POST http://localhost:8080/v1/graphql \"HTTP/1.1 200 OK\"\n",
      "INFO:httpx:HTTP Request: POST http://localhost:8080/v1/graphql \"HTTP/1.1 200 OK\"\n",
      "INFO:httpx:HTTP Request: POST http://localhost:8080/v1/graphql \"HTTP/1.1 200 OK\"\n",
      "INFO:httpx:HTTP Request: POST http://localhost:8080/v1/graphql \"HTTP/1.1 200 OK\"\n",
      "INFO:httpx:HTTP Request: POST http://localhost:8080/v1/graphql \"HTTP/1.1 200 OK\"\n",
      "INFO:httpx:HTTP Request: POST https://api.openai.com/v1/chat/completions \"HTTP/1.1 200 OK\"\n"
     ]
    },
    {
     "name": "stdout",
     "output_type": "stream",
     "text": [
      "rerank_products response from OpenAI: [{'name': 'Raspberry Pi', 'relevance_score': 1.0}, {'name': 'Raspberry Pi Model B', 'relevance_score': 0.95}, {'name': 'Raspberry Pi Compute Module', 'relevance_score': 0.9}, {'name': 'Raspberry Pi Model A', 'relevance_score': 0.7}]\n"
     ]
    },
    {
     "name": "stderr",
     "output_type": "stream",
     "text": [
      "INFO:httpx:HTTP Request: POST https://api.openai.com/v1/chat/completions \"HTTP/1.1 200 OK\"\n",
      "INFO:httpx:HTTP Request: POST http://localhost:8080/v1/graphql \"HTTP/1.1 200 OK\"\n",
      "INFO:httpx:HTTP Request: POST http://localhost:8080/v1/graphql \"HTTP/1.1 200 OK\"\n",
      "INFO:httpx:HTTP Request: POST http://localhost:8080/v1/graphql \"HTTP/1.1 200 OK\"\n",
      "INFO:httpx:HTTP Request: POST http://localhost:8080/v1/graphql \"HTTP/1.1 200 OK\"\n",
      "INFO:httpx:HTTP Request: POST http://localhost:8080/v1/graphql \"HTTP/1.1 200 OK\"\n",
      "INFO:httpx:HTTP Request: POST https://api.openai.com/v1/chat/completions \"HTTP/1.1 200 OK\"\n"
     ]
    },
    {
     "name": "stdout",
     "output_type": "stream",
     "text": [
      "rerank_products response from OpenAI: [{'name': 'Raspberry Pi', 'relevance_score': 1.0}, {'name': 'Raspberry Pi Model B', 'relevance_score': 0.95}, {'name': 'Raspberry Pi Compute Module', 'relevance_score': 0.95}, {'name': 'Raspberry Pi Model A', 'relevance_score': 0.6}, {'name': 'RZ G1C Single Board Computer', 'relevance_score': 0.1}, {'name': 'RISC Single Board Computer', 'relevance_score': 0.1}, {'name': 'SBC Board Q BiPA', 'relevance_score': 0.1}, {'name': 'Antares', 'relevance_score': 0.1}, {'name': 'PicoITX SBC', 'relevance_score': 0.1}, {'name': 'RSB Single Board Computer', 'relevance_score': 0.1}]\n"
     ]
    },
    {
     "name": "stderr",
     "output_type": "stream",
     "text": [
      "INFO:httpx:HTTP Request: POST https://api.openai.com/v1/chat/completions \"HTTP/1.1 200 OK\"\n",
      "INFO:httpx:HTTP Request: POST http://localhost:8080/v1/graphql \"HTTP/1.1 200 OK\"\n",
      "INFO:httpx:HTTP Request: POST http://localhost:8080/v1/graphql \"HTTP/1.1 200 OK\"\n",
      "INFO:httpx:HTTP Request: POST http://localhost:8080/v1/graphql \"HTTP/1.1 200 OK\"\n",
      "INFO:httpx:HTTP Request: POST http://localhost:8080/v1/graphql \"HTTP/1.1 200 OK\"\n",
      "INFO:httpx:HTTP Request: POST http://localhost:8080/v1/graphql \"HTTP/1.1 200 OK\"\n",
      "INFO:httpx:HTTP Request: POST https://api.openai.com/v1/chat/completions \"HTTP/1.1 200 OK\"\n"
     ]
    },
    {
     "name": "stdout",
     "output_type": "stream",
     "text": [
      "rerank_products response from OpenAI: [{'name': 'Raspberry Pi Model B', 'relevance_score': 1.0}]\n"
     ]
    },
    {
     "name": "stderr",
     "output_type": "stream",
     "text": [
      "INFO:httpx:HTTP Request: POST https://api.openai.com/v1/chat/completions \"HTTP/1.1 200 OK\"\n",
      "INFO:httpx:HTTP Request: POST http://localhost:8080/v1/graphql \"HTTP/1.1 200 OK\"\n",
      "INFO:httpx:HTTP Request: POST http://localhost:8080/v1/graphql \"HTTP/1.1 200 OK\"\n",
      "INFO:httpx:HTTP Request: POST http://localhost:8080/v1/graphql \"HTTP/1.1 200 OK\"\n",
      "INFO:httpx:HTTP Request: POST http://localhost:8080/v1/graphql \"HTTP/1.1 200 OK\"\n",
      "INFO:httpx:HTTP Request: POST http://localhost:8080/v1/graphql \"HTTP/1.1 200 OK\"\n",
      "INFO:httpx:HTTP Request: POST https://api.openai.com/v1/chat/completions \"HTTP/1.1 200 OK\"\n"
     ]
    },
    {
     "name": "stdout",
     "output_type": "stream",
     "text": [
      "rerank_products response from OpenAI: [{'name': 'Raspberry Pi', 'relevance_score': 1.0}, {'name': 'Raspberry Pi Model B', 'relevance_score': 0.95}, {'name': 'Raspberry Pi Model A', 'relevance_score': 0.85}, {'name': 'BCM ARM Peripherals', 'relevance_score': 0.6}]\n"
     ]
    },
    {
     "name": "stderr",
     "output_type": "stream",
     "text": [
      "INFO:httpx:HTTP Request: POST https://api.openai.com/v1/chat/completions \"HTTP/1.1 200 OK\"\n",
      "INFO:httpx:HTTP Request: POST http://localhost:8080/v1/graphql \"HTTP/1.1 200 OK\"\n",
      "INFO:httpx:HTTP Request: POST http://localhost:8080/v1/graphql \"HTTP/1.1 200 OK\"\n",
      "INFO:httpx:HTTP Request: POST http://localhost:8080/v1/graphql \"HTTP/1.1 200 OK\"\n",
      "INFO:httpx:HTTP Request: POST http://localhost:8080/v1/graphql \"HTTP/1.1 200 OK\"\n",
      "INFO:httpx:HTTP Request: POST http://localhost:8080/v1/graphql \"HTTP/1.1 200 OK\"\n",
      "INFO:httpx:HTTP Request: POST https://api.openai.com/v1/chat/completions \"HTTP/1.1 200 OK\"\n"
     ]
    },
    {
     "name": "stdout",
     "output_type": "stream",
     "text": [
      "rerank_products response from OpenAI: [{'name': 'Raspberry Pi', 'relevance_score': 1.0}, {'name': 'Raspberry Pi Model B', 'relevance_score': 0.95}, {'name': 'Raspberry Pi Model A', 'relevance_score': 0.85}]\n"
     ]
    },
    {
     "name": "stderr",
     "output_type": "stream",
     "text": [
      "INFO:httpx:HTTP Request: POST https://api.openai.com/v1/chat/completions \"HTTP/1.1 200 OK\"\n",
      "INFO:httpx:HTTP Request: POST http://localhost:8080/v1/graphql \"HTTP/1.1 200 OK\"\n",
      "INFO:httpx:HTTP Request: POST http://localhost:8080/v1/graphql \"HTTP/1.1 200 OK\"\n",
      "INFO:httpx:HTTP Request: POST http://localhost:8080/v1/graphql \"HTTP/1.1 200 OK\"\n",
      "INFO:httpx:HTTP Request: POST http://localhost:8080/v1/graphql \"HTTP/1.1 200 OK\"\n",
      "INFO:httpx:HTTP Request: POST http://localhost:8080/v1/graphql \"HTTP/1.1 200 OK\"\n",
      "INFO:httpx:HTTP Request: POST https://api.openai.com/v1/chat/completions \"HTTP/1.1 200 OK\"\n"
     ]
    },
    {
     "name": "stdout",
     "output_type": "stream",
     "text": [
      "rerank_products response from OpenAI: [{'name': 'SOM Intel 11th Gen Core Processors', 'relevance_score': 0.95}, {'name': 'COM Express Basic Type CPU Module', 'relevance_score': 0.92}, {'name': 'SOM 7th Gen Intel Xeon Core Celeron Processors COM Express Basic Module', 'relevance_score': 0.9}, {'name': 'ET COM Express', 'relevance_score': 0.88}, {'name': 'SOM Intel Xeon D Processor', 'relevance_score': 0.87}, {'name': 'CPU COM Express Basic Type', 'relevance_score': 0.85}, {'name': 'ICES COM Express Basic Module', 'relevance_score': 0.84}, {'name': 'SOMCR Intel 12th Gen Core Processor', 'relevance_score': 0.83}, {'name': 'Conga BXD', 'relevance_score': 0.82}, {'name': 'ExpressADP', 'relevance_score': 0.8}]\n"
     ]
    },
    {
     "name": "stderr",
     "output_type": "stream",
     "text": [
      "INFO:httpx:HTTP Request: POST https://api.openai.com/v1/chat/completions \"HTTP/1.1 200 OK\"\n",
      "INFO:httpx:HTTP Request: POST http://localhost:8080/v1/graphql \"HTTP/1.1 200 OK\"\n",
      "INFO:httpx:HTTP Request: POST http://localhost:8080/v1/graphql \"HTTP/1.1 200 OK\"\n",
      "INFO:httpx:HTTP Request: POST http://localhost:8080/v1/graphql \"HTTP/1.1 200 OK\"\n",
      "INFO:httpx:HTTP Request: POST http://localhost:8080/v1/graphql \"HTTP/1.1 200 OK\"\n",
      "INFO:httpx:HTTP Request: POST http://localhost:8080/v1/graphql \"HTTP/1.1 200 OK\"\n",
      "INFO:httpx:HTTP Request: POST https://api.openai.com/v1/chat/completions \"HTTP/1.1 200 OK\"\n"
     ]
    },
    {
     "name": "stdout",
     "output_type": "stream",
     "text": [
      "rerank_products response from OpenAI: [{'name': 'SOM 7th Gen Intel Xeon Core Celeron Processors COM Express Basic Module', 'relevance_score': 0.95}, {'name': 'SOM Intel Xeon D Processor', 'relevance_score': 0.93}, {'name': 'SOM Intel 11th Gen Core Processors', 'relevance_score': 0.92}, {'name': 'COM Express Basic Type CPU Module', 'relevance_score': 0.91}, {'name': 'Computer On Module', 'relevance_score': 0.9}, {'name': 'SOMCR Intel 12th Gen Core Processor', 'relevance_score': 0.89}, {'name': 'ExpressADP', 'relevance_score': 0.88}, {'name': 'Conga BXD', 'relevance_score': 0.87}, {'name': 'SOM', 'relevance_score': 0.85}, {'name': 'Com Express Basic Type Cpu Module', 'relevance_score': 0.8}]\n"
     ]
    },
    {
     "name": "stderr",
     "output_type": "stream",
     "text": [
      "INFO:httpx:HTTP Request: POST https://api.openai.com/v1/chat/completions \"HTTP/1.1 200 OK\"\n",
      "INFO:httpx:HTTP Request: POST http://localhost:8080/v1/graphql \"HTTP/1.1 200 OK\"\n",
      "INFO:httpx:HTTP Request: POST http://localhost:8080/v1/graphql \"HTTP/1.1 200 OK\"\n",
      "INFO:httpx:HTTP Request: POST http://localhost:8080/v1/graphql \"HTTP/1.1 200 OK\"\n",
      "INFO:httpx:HTTP Request: POST http://localhost:8080/v1/graphql \"HTTP/1.1 200 OK\"\n",
      "INFO:httpx:HTTP Request: POST http://localhost:8080/v1/graphql \"HTTP/1.1 200 OK\"\n",
      "INFO:httpx:HTTP Request: POST https://api.openai.com/v1/chat/completions \"HTTP/1.1 200 OK\"\n"
     ]
    },
    {
     "name": "stdout",
     "output_type": "stream",
     "text": [
      "rerank_products response from OpenAI: [{'name': 'SOMCR Intel 12th Gen Core Processor', 'relevance_score': 0.95}, {'name': 'SOM Intel 11th Gen Core Processors', 'relevance_score': 0.92}, {'name': 'ExpressADP', 'relevance_score': 0.9}, {'name': 'SOM 7th Gen Intel Xeon Core Celeron Processors COM Express Basic Module', 'relevance_score': 0.88}, {'name': 'COM Express Basic Type CPU Module', 'relevance_score': 0.85}, {'name': 'ExpressBD', 'relevance_score': 0.83}, {'name': 'SOM Intel Xeon D Processor', 'relevance_score': 0.8}, {'name': 'Computer On Module', 'relevance_score': 0.78}, {'name': 'SOMD Computer On Module', 'relevance_score': 0.75}, {'name': 'Com Express Basic Type Cpu Module', 'relevance_score': 0.7}]\n"
     ]
    },
    {
     "name": "stderr",
     "output_type": "stream",
     "text": [
      "INFO:httpx:HTTP Request: POST https://api.openai.com/v1/chat/completions \"HTTP/1.1 200 OK\"\n",
      "INFO:httpx:HTTP Request: POST http://localhost:8080/v1/graphql \"HTTP/1.1 200 OK\"\n",
      "INFO:httpx:HTTP Request: POST http://localhost:8080/v1/graphql \"HTTP/1.1 200 OK\"\n",
      "INFO:httpx:HTTP Request: POST http://localhost:8080/v1/graphql \"HTTP/1.1 200 OK\"\n",
      "INFO:httpx:HTTP Request: POST http://localhost:8080/v1/graphql \"HTTP/1.1 200 OK\"\n",
      "INFO:httpx:HTTP Request: POST http://localhost:8080/v1/graphql \"HTTP/1.1 200 OK\"\n",
      "INFO:httpx:HTTP Request: POST https://api.openai.com/v1/chat/completions \"HTTP/1.1 200 OK\"\n"
     ]
    },
    {
     "name": "stdout",
     "output_type": "stream",
     "text": [
      "rerank_products response from OpenAI: [{'name': 'SOM Intel 11th Gen Core Processors', 'relevance_score': 0.95}, {'name': 'SOM 7th Gen Intel Xeon Core Celeron Processors COM Express Basic Module', 'relevance_score': 0.92}, {'name': 'COM Express Basic Type CPU Module', 'relevance_score': 0.9}, {'name': 'SOM Intel Xeon D Processor', 'relevance_score': 0.88}, {'name': 'ET COM Express', 'relevance_score': 0.87}, {'name': 'ICES COM Express Basic Module', 'relevance_score': 0.85}, {'name': 'CEM COM Express Type Basic Module', 'relevance_score': 0.83}, {'name': 'SOMCR Intel 12th Gen Core Processor', 'relevance_score': 0.82}, {'name': 'Conga BXD', 'relevance_score': 0.8}, {'name': 'ExpressADP', 'relevance_score': 0.78}]\n"
     ]
    },
    {
     "name": "stderr",
     "output_type": "stream",
     "text": [
      "INFO:httpx:HTTP Request: POST https://api.openai.com/v1/chat/completions \"HTTP/1.1 200 OK\"\n",
      "INFO:httpx:HTTP Request: POST http://localhost:8080/v1/graphql \"HTTP/1.1 200 OK\"\n",
      "INFO:httpx:HTTP Request: POST http://localhost:8080/v1/graphql \"HTTP/1.1 200 OK\"\n",
      "INFO:httpx:HTTP Request: POST http://localhost:8080/v1/graphql \"HTTP/1.1 200 OK\"\n",
      "INFO:httpx:HTTP Request: POST http://localhost:8080/v1/graphql \"HTTP/1.1 200 OK\"\n",
      "INFO:httpx:HTTP Request: POST http://localhost:8080/v1/graphql \"HTTP/1.1 200 OK\"\n",
      "INFO:httpx:HTTP Request: POST https://api.openai.com/v1/chat/completions \"HTTP/1.1 200 OK\"\n"
     ]
    },
    {
     "name": "stdout",
     "output_type": "stream",
     "text": [
      "rerank_products response from OpenAI: [{'name': 'SOM Intel 11th Gen Core Processors', 'relevance_score': 0.95}, {'name': 'COM Express Basic Type CPU Module', 'relevance_score': 0.92}, {'name': 'SOM 7th Gen Intel Xeon Core Celeron Processors COM Express Basic Module', 'relevance_score': 0.9}, {'name': 'SOM Intel Xeon D Processor', 'relevance_score': 0.88}, {'name': 'ExpressBD', 'relevance_score': 0.87}, {'name': 'Blackbird Embedded Processing Unit', 'relevance_score': 0.85}, {'name': 'SOMCR Intel 12th Gen Core Processor', 'relevance_score': 0.83}, {'name': 'Conga BXD', 'relevance_score': 0.82}, {'name': 'ExpressADP', 'relevance_score': 0.8}, {'name': 'Computer On Module', 'relevance_score': 0.78}]\n"
     ]
    },
    {
     "name": "stderr",
     "output_type": "stream",
     "text": [
      "INFO:httpx:HTTP Request: POST https://api.openai.com/v1/chat/completions \"HTTP/1.1 200 OK\"\n",
      "INFO:httpx:HTTP Request: POST http://localhost:8080/v1/graphql \"HTTP/1.1 200 OK\"\n",
      "INFO:httpx:HTTP Request: POST http://localhost:8080/v1/graphql \"HTTP/1.1 200 OK\"\n",
      "INFO:httpx:HTTP Request: POST http://localhost:8080/v1/graphql \"HTTP/1.1 200 OK\"\n",
      "INFO:httpx:HTTP Request: POST http://localhost:8080/v1/graphql \"HTTP/1.1 200 OK\"\n",
      "INFO:httpx:HTTP Request: POST http://localhost:8080/v1/graphql \"HTTP/1.1 200 OK\"\n",
      "INFO:httpx:HTTP Request: POST https://api.openai.com/v1/chat/completions \"HTTP/1.1 200 OK\"\n"
     ]
    },
    {
     "name": "stdout",
     "output_type": "stream",
     "text": [
      "rerank_products response from OpenAI: [{'name': 'RTG Development Kit', 'relevance_score': 1.0}, {'name': 'Smartfusion Customizable Systemonchip Microcontroller Subsystem', 'relevance_score': 0.9}, {'name': 'Fusion Advanced Development Kit', 'relevance_score': 0.7}, {'name': 'CortexMEnabled IGLOO Development Kit', 'relevance_score': 0.6}]\n"
     ]
    },
    {
     "name": "stderr",
     "output_type": "stream",
     "text": [
      "INFO:httpx:HTTP Request: POST https://api.openai.com/v1/chat/completions \"HTTP/1.1 200 OK\"\n",
      "INFO:httpx:HTTP Request: POST http://localhost:8080/v1/graphql \"HTTP/1.1 200 OK\"\n",
      "INFO:httpx:HTTP Request: POST http://localhost:8080/v1/graphql \"HTTP/1.1 200 OK\"\n",
      "INFO:httpx:HTTP Request: POST http://localhost:8080/v1/graphql \"HTTP/1.1 200 OK\"\n",
      "INFO:httpx:HTTP Request: POST http://localhost:8080/v1/graphql \"HTTP/1.1 200 OK\"\n",
      "INFO:httpx:HTTP Request: POST http://localhost:8080/v1/graphql \"HTTP/1.1 200 OK\"\n",
      "INFO:httpx:HTTP Request: POST https://api.openai.com/v1/chat/completions \"HTTP/1.1 200 OK\"\n"
     ]
    },
    {
     "name": "stdout",
     "output_type": "stream",
     "text": [
      "rerank_products response from OpenAI: [{'name': 'RTG Development Kit', 'relevance_score': 1.0}, {'name': 'Smartfusion Customizable Systemonchip Microcontroller Subsystem', 'relevance_score': 0.9}, {'name': 'Fusion Advanced Development Kit', 'relevance_score': 0.8}, {'name': 'CortexMEnabled IGLOO Development Kit', 'relevance_score': 0.7}, {'name': 'ARM CortexMEnabled ProASICL Development Kit', 'relevance_score': 0.6}, {'name': 'FSP Development Kit', 'relevance_score': 0.2}, {'name': 'MICA Tablet PC', 'relevance_score': 0.1}, {'name': 'RMNMMI Series SMARC CPU Module', 'relevance_score': 0.1}, {'name': 'CompactPCI Intel 7th Gen Quad Core Processor Blade', 'relevance_score': 0.1}, {'name': 'MYCYMX CPU Module', 'relevance_score': 0.1}]\n"
     ]
    },
    {
     "name": "stderr",
     "output_type": "stream",
     "text": [
      "INFO:httpx:HTTP Request: POST https://api.openai.com/v1/chat/completions \"HTTP/1.1 200 OK\"\n",
      "INFO:httpx:HTTP Request: POST http://localhost:8080/v1/graphql \"HTTP/1.1 200 OK\"\n",
      "INFO:httpx:HTTP Request: POST http://localhost:8080/v1/graphql \"HTTP/1.1 200 OK\"\n",
      "INFO:httpx:HTTP Request: POST http://localhost:8080/v1/graphql \"HTTP/1.1 200 OK\"\n",
      "INFO:httpx:HTTP Request: POST http://localhost:8080/v1/graphql \"HTTP/1.1 200 OK\"\n",
      "INFO:httpx:HTTP Request: POST http://localhost:8080/v1/graphql \"HTTP/1.1 200 OK\"\n",
      "INFO:httpx:HTTP Request: POST https://api.openai.com/v1/chat/completions \"HTTP/1.1 200 OK\"\n"
     ]
    },
    {
     "name": "stdout",
     "output_type": "stream",
     "text": [
      "rerank_products response from OpenAI: [{'name': 'RTG Development Kit', 'manufacturer': 'Microsemi Corporation', 'relevance_score': 1.0}, {'name': 'Smartfusion Customizable Systemonchip Microcontroller Subsystem', 'manufacturer': 'Microsemi Corporation', 'relevance_score': 0.95}, {'name': 'Fusion Advanced Development Kit', 'manufacturer': 'Microsemi', 'relevance_score': 0.9}, {'name': 'CortexMEnabled IGLOO Development Kit', 'manufacturer': 'Microsemi', 'relevance_score': 0.85}, {'name': 'ARM CortexMEnabled ProASICL Development Kit', 'manufacturer': 'Actel Corporation', 'relevance_score': 0.3}, {'name': 'FSP Development Kit', 'manufacturer': 'CEVA Inc', 'relevance_score': 0.2}, {'name': 'ESPDevKitM', 'manufacturer': 'Espressif', 'relevance_score': 0.1}, {'name': 'Evaluation Kit', 'manufacturer': 'Analog Devices', 'relevance_score': 0.1}, {'name': 'MICA Tablet PC', 'manufacturer': 'Advantech', 'relevance_score': 0.1}, {'name': 'RMNMMI Series SMARC CPU Module', 'manufacturer': 'IBASE', 'relevance_score': 0.1}]\n"
     ]
    },
    {
     "name": "stderr",
     "output_type": "stream",
     "text": [
      "INFO:httpx:HTTP Request: POST https://api.openai.com/v1/chat/completions \"HTTP/1.1 200 OK\"\n",
      "INFO:httpx:HTTP Request: POST http://localhost:8080/v1/graphql \"HTTP/1.1 200 OK\"\n",
      "INFO:httpx:HTTP Request: POST http://localhost:8080/v1/graphql \"HTTP/1.1 200 OK\"\n",
      "INFO:httpx:HTTP Request: POST http://localhost:8080/v1/graphql \"HTTP/1.1 200 OK\"\n",
      "INFO:httpx:HTTP Request: POST http://localhost:8080/v1/graphql \"HTTP/1.1 200 OK\"\n",
      "INFO:httpx:HTTP Request: POST http://localhost:8080/v1/graphql \"HTTP/1.1 200 OK\"\n",
      "INFO:httpx:HTTP Request: POST https://api.openai.com/v1/chat/completions \"HTTP/1.1 200 OK\"\n"
     ]
    },
    {
     "name": "stdout",
     "output_type": "stream",
     "text": [
      "rerank_products response from OpenAI: [{'name': 'RTG Development Kit', 'relevance_score': 1.0}, {'name': 'CortexMEnabled IGLOO Development Kit', 'relevance_score': 0.9}, {'name': 'Fusion Advanced Development Kit', 'relevance_score': 0.85}, {'name': 'Smartfusion Customizable Systemonchip Microcontroller Subsystem', 'relevance_score': 0.8}, {'name': 'ARM CortexMEnabled ProASICL Development Kit', 'relevance_score': 0.75}]\n"
     ]
    },
    {
     "name": "stderr",
     "output_type": "stream",
     "text": [
      "INFO:httpx:HTTP Request: POST https://api.openai.com/v1/chat/completions \"HTTP/1.1 200 OK\"\n",
      "INFO:httpx:HTTP Request: POST http://localhost:8080/v1/graphql \"HTTP/1.1 200 OK\"\n",
      "INFO:httpx:HTTP Request: POST http://localhost:8080/v1/graphql \"HTTP/1.1 200 OK\"\n",
      "INFO:httpx:HTTP Request: POST http://localhost:8080/v1/graphql \"HTTP/1.1 200 OK\"\n",
      "INFO:httpx:HTTP Request: POST http://localhost:8080/v1/graphql \"HTTP/1.1 200 OK\"\n",
      "INFO:httpx:HTTP Request: POST http://localhost:8080/v1/graphql \"HTTP/1.1 200 OK\"\n",
      "INFO:httpx:HTTP Request: POST https://api.openai.com/v1/chat/completions \"HTTP/1.1 200 OK\"\n"
     ]
    },
    {
     "name": "stdout",
     "output_type": "stream",
     "text": [
      "rerank_products response from OpenAI: [{'name': 'RTG Development Kit', 'relevance_score': 1.0}, {'name': 'Smartfusion Customizable Systemonchip Microcontroller Subsystem', 'relevance_score': 0.9}, {'name': 'Fusion Advanced Development Kit', 'relevance_score': 0.7}, {'name': 'CortexMEnabled IGLOO Development Kit', 'relevance_score': 0.6}]\n"
     ]
    },
    {
     "name": "stderr",
     "output_type": "stream",
     "text": [
      "INFO:httpx:HTTP Request: POST https://api.openai.com/v1/chat/completions \"HTTP/1.1 200 OK\"\n",
      "INFO:httpx:HTTP Request: POST http://localhost:8080/v1/graphql \"HTTP/1.1 200 OK\"\n",
      "INFO:httpx:HTTP Request: POST http://localhost:8080/v1/graphql \"HTTP/1.1 200 OK\"\n",
      "INFO:httpx:HTTP Request: POST http://localhost:8080/v1/graphql \"HTTP/1.1 200 OK\"\n",
      "INFO:httpx:HTTP Request: POST http://localhost:8080/v1/graphql \"HTTP/1.1 200 OK\"\n",
      "INFO:httpx:HTTP Request: POST http://localhost:8080/v1/graphql \"HTTP/1.1 200 OK\"\n",
      "INFO:httpx:HTTP Request: POST https://api.openai.com/v1/chat/completions \"HTTP/1.1 200 OK\"\n"
     ]
    },
    {
     "name": "stdout",
     "output_type": "stream",
     "text": [
      "rerank_products response from OpenAI: [{'name': 'SOM 13th Gen Intel Core Processor', 'relevance_score': 0.95}, {'name': 'PCEBVBE', 'relevance_score': 0.9}, {'name': 'SIMBA ATX Motherboard', 'relevance_score': 0.88}, {'name': 'SOMCR Intel 12th Gen Core Processor', 'relevance_score': 0.85}, {'name': 'COMecAP COM Express Compact', 'relevance_score': 0.83}, {'name': 'SOM Intel Xeon D Processor', 'relevance_score': 0.8}, {'name': 'PCIEQ Fullsize PICMG CPU Card', 'relevance_score': 0.75}, {'name': 'MIO Extension SBC', 'relevance_score': 0.7}, {'name': 'Conga HPC CALP', 'relevance_score': 0.65}, {'name': 'COMecWL ES COM Express Compact', 'relevance_score': 0.6}]\n"
     ]
    },
    {
     "name": "stderr",
     "output_type": "stream",
     "text": [
      "INFO:httpx:HTTP Request: POST https://api.openai.com/v1/chat/completions \"HTTP/1.1 200 OK\"\n",
      "INFO:httpx:HTTP Request: POST http://localhost:8080/v1/graphql \"HTTP/1.1 200 OK\"\n",
      "INFO:httpx:HTTP Request: POST http://localhost:8080/v1/graphql \"HTTP/1.1 200 OK\"\n",
      "INFO:httpx:HTTP Request: POST http://localhost:8080/v1/graphql \"HTTP/1.1 200 OK\"\n",
      "INFO:httpx:HTTP Request: POST http://localhost:8080/v1/graphql \"HTTP/1.1 200 OK\"\n",
      "INFO:httpx:HTTP Request: POST http://localhost:8080/v1/graphql \"HTTP/1.1 200 OK\"\n",
      "INFO:httpx:HTTP Request: POST https://api.openai.com/v1/chat/completions \"HTTP/1.1 200 OK\"\n"
     ]
    },
    {
     "name": "stdout",
     "output_type": "stream",
     "text": [
      "rerank_products response from OpenAI: [{'name': 'ATX Server Board', 'relevance_score': 1.0}, {'name': 'SOM Intel Xeon D Processor', 'relevance_score': 0.95}, {'name': 'SOMCR Intel 12th Gen Core Processor', 'relevance_score': 0.9}, {'name': 'SOM 13th Gen Intel Core Processor', 'relevance_score': 0.85}, {'name': 'COMebRP E', 'relevance_score': 0.8}, {'name': 'MIO Extension SBC', 'relevance_score': 0.75}, {'name': 'PCEBVBE', 'relevance_score': 0.7}, {'name': 'SIMBA ATX Motherboard', 'relevance_score': 0.65}, {'name': 'PCIEQ Fullsize PICMG CPU Card', 'relevance_score': 0.6}, {'name': 'Com Express Basic Type Cpu Module', 'relevance_score': 0.55}]\n"
     ]
    },
    {
     "name": "stderr",
     "output_type": "stream",
     "text": [
      "INFO:httpx:HTTP Request: POST https://api.openai.com/v1/chat/completions \"HTTP/1.1 200 OK\"\n",
      "INFO:httpx:HTTP Request: POST http://localhost:8080/v1/graphql \"HTTP/1.1 200 OK\"\n",
      "INFO:httpx:HTTP Request: POST http://localhost:8080/v1/graphql \"HTTP/1.1 200 OK\"\n",
      "INFO:httpx:HTTP Request: POST http://localhost:8080/v1/graphql \"HTTP/1.1 200 OK\"\n",
      "INFO:httpx:HTTP Request: POST http://localhost:8080/v1/graphql \"HTTP/1.1 200 OK\"\n",
      "INFO:httpx:HTTP Request: POST http://localhost:8080/v1/graphql \"HTTP/1.1 200 OK\"\n",
      "INFO:httpx:HTTP Request: POST https://api.openai.com/v1/chat/completions \"HTTP/1.1 200 OK\"\n"
     ]
    },
    {
     "name": "stdout",
     "output_type": "stream",
     "text": [
      "rerank_products response from OpenAI: [{'name': 'ATX Server Board', 'relevance_score': 1.0}, {'name': 'PCEBVBE', 'relevance_score': 0.95}, {'name': 'SOM 13th Gen Intel Core Processor', 'relevance_score': 0.9}, {'name': 'SOMCR Intel 12th Gen Core Processor', 'relevance_score': 0.85}, {'name': 'MIO Extension SBC', 'relevance_score': 0.8}, {'name': 'COMebRP E', 'relevance_score': 0.75}, {'name': 'PCIEQ Fullsize PICMG CPU Card', 'relevance_score': 0.7}, {'name': 'SOM Intel 11th Gen Core Processors', 'relevance_score': 0.65}, {'name': 'Com Express Basic Type Cpu Module', 'relevance_score': 0.6}, {'name': 'PicoITX SBC', 'relevance_score': 0.55}]\n"
     ]
    },
    {
     "name": "stderr",
     "output_type": "stream",
     "text": [
      "INFO:httpx:HTTP Request: POST https://api.openai.com/v1/chat/completions \"HTTP/1.1 200 OK\"\n",
      "INFO:httpx:HTTP Request: POST http://localhost:8080/v1/graphql \"HTTP/1.1 200 OK\"\n",
      "INFO:httpx:HTTP Request: POST http://localhost:8080/v1/graphql \"HTTP/1.1 200 OK\"\n",
      "INFO:httpx:HTTP Request: POST http://localhost:8080/v1/graphql \"HTTP/1.1 200 OK\"\n",
      "INFO:httpx:HTTP Request: POST http://localhost:8080/v1/graphql \"HTTP/1.1 200 OK\"\n",
      "INFO:httpx:HTTP Request: POST http://localhost:8080/v1/graphql \"HTTP/1.1 200 OK\"\n",
      "INFO:httpx:HTTP Request: POST https://api.openai.com/v1/chat/completions \"HTTP/1.1 200 OK\"\n"
     ]
    },
    {
     "name": "stdout",
     "output_type": "stream",
     "text": [
      "rerank_products response from OpenAI: [{'name': 'PCEBVBE', 'relevance_score': 0.95}, {'name': 'SOM 13th Gen Intel Core Processor', 'relevance_score': 0.9}, {'name': 'ATX Server Board', 'relevance_score': 0.85}, {'name': 'SOMCR Intel 12th Gen Core Processor', 'relevance_score': 0.8}, {'name': 'SOM Intel Xeon D Processor', 'relevance_score': 0.75}, {'name': 'PCIEQ Fullsize PICMG CPU Card', 'relevance_score': 0.7}, {'name': 'SIMBA ATX Motherboard', 'relevance_score': 0.65}, {'name': 'Conga HPC CALP', 'relevance_score': 0.6}, {'name': 'PPCMBAE MiniITX Motherboard', 'relevance_score': 0.55}, {'name': 'Com Express Basic Type Cpu Module', 'relevance_score': 0.5}]\n"
     ]
    },
    {
     "name": "stderr",
     "output_type": "stream",
     "text": [
      "INFO:httpx:HTTP Request: POST https://api.openai.com/v1/chat/completions \"HTTP/1.1 200 OK\"\n",
      "INFO:httpx:HTTP Request: POST http://localhost:8080/v1/graphql \"HTTP/1.1 200 OK\"\n",
      "INFO:httpx:HTTP Request: POST http://localhost:8080/v1/graphql \"HTTP/1.1 200 OK\"\n",
      "INFO:httpx:HTTP Request: POST http://localhost:8080/v1/graphql \"HTTP/1.1 200 OK\"\n",
      "INFO:httpx:HTTP Request: POST http://localhost:8080/v1/graphql \"HTTP/1.1 200 OK\"\n",
      "INFO:httpx:HTTP Request: POST http://localhost:8080/v1/graphql \"HTTP/1.1 200 OK\"\n",
      "INFO:httpx:HTTP Request: POST https://api.openai.com/v1/chat/completions \"HTTP/1.1 200 OK\"\n"
     ]
    },
    {
     "name": "stdout",
     "output_type": "stream",
     "text": [
      "rerank_products response from OpenAI: [{'name': 'PCEBVBE', 'relevance_score': 0.95}, {'name': 'ATX Server Board', 'relevance_score': 0.9}, {'name': 'SIMBA ATX Motherboard', 'relevance_score': 0.85}, {'name': 'SOM 13th Gen Intel Core Processor', 'relevance_score': 0.8}, {'name': 'SOMCR Intel 12th Gen Core Processor', 'relevance_score': 0.75}, {'name': 'MIO Extension SBC', 'relevance_score': 0.7}, {'name': 'COMebRP E', 'relevance_score': 0.65}, {'name': 'PCIEQ Fullsize PICMG CPU Card', 'relevance_score': 0.6}, {'name': 'SOM Intel 11th Gen Core Processors', 'relevance_score': 0.55}, {'name': 'Com Express Basic Type Cpu Module', 'relevance_score': 0.5}]\n"
     ]
    },
    {
     "name": "stderr",
     "output_type": "stream",
     "text": [
      "INFO:httpx:HTTP Request: POST https://api.openai.com/v1/chat/completions \"HTTP/1.1 200 OK\"\n",
      "INFO:httpx:HTTP Request: POST http://localhost:8080/v1/graphql \"HTTP/1.1 200 OK\"\n",
      "INFO:httpx:HTTP Request: POST http://localhost:8080/v1/graphql \"HTTP/1.1 200 OK\"\n",
      "INFO:httpx:HTTP Request: POST http://localhost:8080/v1/graphql \"HTTP/1.1 200 OK\"\n",
      "INFO:httpx:HTTP Request: POST http://localhost:8080/v1/graphql \"HTTP/1.1 200 OK\"\n",
      "INFO:httpx:HTTP Request: POST http://localhost:8080/v1/graphql \"HTTP/1.1 200 OK\"\n",
      "INFO:httpx:HTTP Request: POST https://api.openai.com/v1/chat/completions \"HTTP/1.1 200 OK\"\n"
     ]
    },
    {
     "name": "stdout",
     "output_type": "stream",
     "text": [
      "rerank_products response from OpenAI: [{'name': 'Toybrick RKPro AI Development Kit', 'relevance_score': 0.9}, {'name': 'Digi ConnectCore', 'relevance_score': 0.8}, {'name': 'ARM CortexMEnabled ProASICL Development Kit', 'relevance_score': 0.7}, {'name': 'IMX M Mini EVKB', 'relevance_score': 0.6}, {'name': 'MYCYMX CPU Module', 'relevance_score': 0.5}, {'name': 'MYCJD CPU Module', 'relevance_score': 0.4}, {'name': 'CPU COM Express Basic Type', 'relevance_score': 0.3}, {'name': 'SOM 7th Gen Intel Xeon Core Celeron Processors COM Express Basic Module', 'relevance_score': 0.2}, {'name': 'CEM COM Express Type Basic Module', 'relevance_score': 0.1}, {'name': 'COM Express Basic Type CPU Module', 'relevance_score': 0.1}]\n"
     ]
    },
    {
     "name": "stderr",
     "output_type": "stream",
     "text": [
      "INFO:httpx:HTTP Request: POST https://api.openai.com/v1/chat/completions \"HTTP/1.1 200 OK\"\n",
      "INFO:httpx:HTTP Request: POST http://localhost:8080/v1/graphql \"HTTP/1.1 200 OK\"\n",
      "INFO:httpx:HTTP Request: POST http://localhost:8080/v1/graphql \"HTTP/1.1 200 OK\"\n",
      "INFO:httpx:HTTP Request: POST http://localhost:8080/v1/graphql \"HTTP/1.1 200 OK\"\n",
      "INFO:httpx:HTTP Request: POST http://localhost:8080/v1/graphql \"HTTP/1.1 200 OK\"\n",
      "INFO:httpx:HTTP Request: POST http://localhost:8080/v1/graphql \"HTTP/1.1 200 OK\"\n",
      "INFO:httpx:HTTP Request: POST https://api.openai.com/v1/chat/completions \"HTTP/1.1 200 OK\"\n"
     ]
    },
    {
     "name": "stdout",
     "output_type": "stream",
     "text": [
      "rerank_products response from OpenAI: [{'name': 'ROM NXP ARM CortexA iMX SMARC v Module', 'relevance_score': 0.9}, {'name': 'SOM 7th Gen Intel Xeon Core Celeron Processors COM Express Basic Module', 'relevance_score': 0.2}, {'name': 'CPU COM Express Basic Type', 'relevance_score': 0.2}, {'name': 'SOM COMExpress Basic Module', 'relevance_score': 0.2}, {'name': 'CEM COM Express Type Basic Module', 'relevance_score': 0.2}, {'name': 'COM Express Basic Type CPU Module', 'relevance_score': 0.2}, {'name': 'CongaBAC', 'relevance_score': 0.2}, {'name': 'COMeACT COM Express Compact', 'relevance_score': 0.1}, {'name': 'MYCYMX CPU Module', 'relevance_score': 0.1}, {'name': 'CPU COM Express Compact', 'relevance_score': 0.1}]\n"
     ]
    },
    {
     "name": "stderr",
     "output_type": "stream",
     "text": [
      "INFO:httpx:HTTP Request: POST https://api.openai.com/v1/chat/completions \"HTTP/1.1 200 OK\"\n",
      "INFO:httpx:HTTP Request: POST http://localhost:8080/v1/graphql \"HTTP/1.1 200 OK\"\n",
      "INFO:httpx:HTTP Request: POST http://localhost:8080/v1/graphql \"HTTP/1.1 200 OK\"\n",
      "INFO:httpx:HTTP Request: POST http://localhost:8080/v1/graphql \"HTTP/1.1 200 OK\"\n",
      "INFO:httpx:HTTP Request: POST http://localhost:8080/v1/graphql \"HTTP/1.1 200 OK\"\n",
      "INFO:httpx:HTTP Request: POST http://localhost:8080/v1/graphql \"HTTP/1.1 200 OK\"\n",
      "INFO:httpx:HTTP Request: POST https://api.openai.com/v1/chat/completions \"HTTP/1.1 200 OK\"\n"
     ]
    },
    {
     "name": "stdout",
     "output_type": "stream",
     "text": [
      "rerank_products response from OpenAI: [{'name': 'MCCAMXJ CPU Module', 'relevance_score': 0.9}, {'name': 'ROM NXP ARM CortexA iMX SMARC v Module', 'relevance_score': 0.8}, {'name': 'CPU COM Express Basic Type', 'relevance_score': 0.3}, {'name': 'SOM 7th Gen Intel Xeon Core Celeron Processors COM Express Basic Module', 'relevance_score': 0.3}, {'name': 'CEM COM Express Type Basic Module', 'relevance_score': 0.3}, {'name': 'COM Express Basic Type CPU Module', 'relevance_score': 0.3}, {'name': 'CongaBAC', 'relevance_score': 0.3}, {'name': 'MYCJD CPU Module', 'relevance_score': 0.2}, {'name': 'MYCYMX CPU Module', 'relevance_score': 0.2}, {'name': 'CPU COM Express Compact', 'relevance_score': 0.2}]\n"
     ]
    },
    {
     "name": "stderr",
     "output_type": "stream",
     "text": [
      "INFO:httpx:HTTP Request: POST https://api.openai.com/v1/chat/completions \"HTTP/1.1 200 OK\"\n",
      "INFO:httpx:HTTP Request: POST http://localhost:8080/v1/graphql \"HTTP/1.1 200 OK\"\n",
      "INFO:httpx:HTTP Request: POST http://localhost:8080/v1/graphql \"HTTP/1.1 200 OK\"\n",
      "INFO:httpx:HTTP Request: POST http://localhost:8080/v1/graphql \"HTTP/1.1 200 OK\"\n",
      "INFO:httpx:HTTP Request: POST http://localhost:8080/v1/graphql \"HTTP/1.1 200 OK\"\n",
      "INFO:httpx:HTTP Request: POST http://localhost:8080/v1/graphql \"HTTP/1.1 200 OK\"\n",
      "INFO:httpx:HTTP Request: POST https://api.openai.com/v1/chat/completions \"HTTP/1.1 200 OK\"\n"
     ]
    },
    {
     "name": "stdout",
     "output_type": "stream",
     "text": [
      "rerank_products response from OpenAI: []\n"
     ]
    },
    {
     "name": "stderr",
     "output_type": "stream",
     "text": [
      "INFO:httpx:HTTP Request: POST https://api.openai.com/v1/chat/completions \"HTTP/1.1 200 OK\"\n",
      "INFO:httpx:HTTP Request: POST http://localhost:8080/v1/graphql \"HTTP/1.1 200 OK\"\n",
      "INFO:httpx:HTTP Request: POST http://localhost:8080/v1/graphql \"HTTP/1.1 200 OK\"\n",
      "INFO:httpx:HTTP Request: POST http://localhost:8080/v1/graphql \"HTTP/1.1 200 OK\"\n",
      "INFO:httpx:HTTP Request: POST http://localhost:8080/v1/graphql \"HTTP/1.1 200 OK\"\n",
      "INFO:httpx:HTTP Request: POST http://localhost:8080/v1/graphql \"HTTP/1.1 200 OK\"\n",
      "INFO:httpx:HTTP Request: POST https://api.openai.com/v1/chat/completions \"HTTP/1.1 200 OK\"\n"
     ]
    },
    {
     "name": "stdout",
     "output_type": "stream",
     "text": [
      "rerank_products response from OpenAI: [{'name': 'ROM NXP ARM CortexA iMX SMARC v Module', 'relevance_score': 0.9}, {'name': 'SOM AMD Ryzen Embedded V COM Express Basic Module', 'relevance_score': 0.7}, {'name': 'CEM COM Express Type Basic Module', 'relevance_score': 0.7}, {'name': 'COM Express Basic Type CPU Module', 'relevance_score': 0.7}, {'name': 'CongaBAC', 'relevance_score': 0.7}, {'name': 'CPU COM Express Basic Type', 'relevance_score': 0.6}, {'name': 'SOM 7th Gen Intel Xeon Core Celeron Processors COM Express Basic Module', 'relevance_score': 0.6}, {'name': 'Com Express Type Gpu Embedded System', 'relevance_score': 0.5}, {'name': 'SOMCR Intel 12th Gen Core Processor', 'relevance_score': 0.5}, {'name': 'MYCJD CPU Module', 'relevance_score': 0.4}]\n"
     ]
    },
    {
     "name": "stderr",
     "output_type": "stream",
     "text": [
      "INFO:httpx:HTTP Request: POST https://api.openai.com/v1/chat/completions \"HTTP/1.1 200 OK\"\n",
      "INFO:httpx:HTTP Request: POST http://localhost:8080/v1/graphql \"HTTP/1.1 200 OK\"\n",
      "INFO:httpx:HTTP Request: POST http://localhost:8080/v1/graphql \"HTTP/1.1 200 OK\"\n",
      "INFO:httpx:HTTP Request: POST http://localhost:8080/v1/graphql \"HTTP/1.1 200 OK\"\n",
      "INFO:httpx:HTTP Request: POST http://localhost:8080/v1/graphql \"HTTP/1.1 200 OK\"\n",
      "INFO:httpx:HTTP Request: POST http://localhost:8080/v1/graphql \"HTTP/1.1 200 OK\"\n",
      "INFO:httpx:HTTP Request: POST https://api.openai.com/v1/chat/completions \"HTTP/1.1 200 OK\"\n"
     ]
    },
    {
     "name": "stdout",
     "output_type": "stream",
     "text": [
      "rerank_products response from OpenAI: [{'name': 'BCM ARM Peripherals', 'relevance_score': 1.0}, {'name': 'Raspberry Pi Model B', 'relevance_score': 0.95}, {'name': 'Raspberry Pi Compute Module', 'relevance_score': 0.95}]\n"
     ]
    },
    {
     "name": "stderr",
     "output_type": "stream",
     "text": [
      "INFO:httpx:HTTP Request: POST https://api.openai.com/v1/chat/completions \"HTTP/1.1 200 OK\"\n",
      "INFO:httpx:HTTP Request: POST http://localhost:8080/v1/graphql \"HTTP/1.1 200 OK\"\n",
      "INFO:httpx:HTTP Request: POST http://localhost:8080/v1/graphql \"HTTP/1.1 200 OK\"\n",
      "INFO:httpx:HTTP Request: POST http://localhost:8080/v1/graphql \"HTTP/1.1 200 OK\"\n",
      "INFO:httpx:HTTP Request: POST http://localhost:8080/v1/graphql \"HTTP/1.1 200 OK\"\n",
      "INFO:httpx:HTTP Request: POST http://localhost:8080/v1/graphql \"HTTP/1.1 200 OK\"\n",
      "INFO:httpx:HTTP Request: POST https://api.openai.com/v1/chat/completions \"HTTP/1.1 200 OK\"\n"
     ]
    },
    {
     "name": "stdout",
     "output_type": "stream",
     "text": [
      "rerank_products response from OpenAI: [{'name': 'BCM ARM Peripherals', 'relevance_score': 1.0}, {'name': 'Raspberry Pi Model B', 'relevance_score': 0.9}, {'name': 'Raspberry Pi Compute Module', 'relevance_score': 0.9}]\n"
     ]
    },
    {
     "name": "stderr",
     "output_type": "stream",
     "text": [
      "INFO:httpx:HTTP Request: POST https://api.openai.com/v1/chat/completions \"HTTP/1.1 200 OK\"\n",
      "INFO:httpx:HTTP Request: POST http://localhost:8080/v1/graphql \"HTTP/1.1 200 OK\"\n",
      "INFO:httpx:HTTP Request: POST http://localhost:8080/v1/graphql \"HTTP/1.1 200 OK\"\n",
      "INFO:httpx:HTTP Request: POST http://localhost:8080/v1/graphql \"HTTP/1.1 200 OK\"\n",
      "INFO:httpx:HTTP Request: POST http://localhost:8080/v1/graphql \"HTTP/1.1 200 OK\"\n",
      "INFO:httpx:HTTP Request: POST http://localhost:8080/v1/graphql \"HTTP/1.1 200 OK\"\n",
      "INFO:httpx:HTTP Request: POST https://api.openai.com/v1/chat/completions \"HTTP/1.1 200 OK\"\n"
     ]
    },
    {
     "name": "stdout",
     "output_type": "stream",
     "text": [
      "rerank_products response from OpenAI: [{'name': 'BCM ARM Peripherals', 'relevance_score': 1.0}, {'name': 'Raspberry Pi Compute Module', 'relevance_score': 0.95}, {'name': 'Raspberry Pi Model B', 'relevance_score': 0.9}]\n"
     ]
    },
    {
     "name": "stderr",
     "output_type": "stream",
     "text": [
      "INFO:httpx:HTTP Request: POST https://api.openai.com/v1/chat/completions \"HTTP/1.1 200 OK\"\n",
      "INFO:httpx:HTTP Request: POST http://localhost:8080/v1/graphql \"HTTP/1.1 200 OK\"\n",
      "INFO:httpx:HTTP Request: POST http://localhost:8080/v1/graphql \"HTTP/1.1 200 OK\"\n",
      "INFO:httpx:HTTP Request: POST http://localhost:8080/v1/graphql \"HTTP/1.1 200 OK\"\n",
      "INFO:httpx:HTTP Request: POST http://localhost:8080/v1/graphql \"HTTP/1.1 200 OK\"\n",
      "INFO:httpx:HTTP Request: POST http://localhost:8080/v1/graphql \"HTTP/1.1 200 OK\"\n",
      "INFO:httpx:HTTP Request: POST https://api.openai.com/v1/chat/completions \"HTTP/1.1 200 OK\"\n"
     ]
    },
    {
     "name": "stdout",
     "output_type": "stream",
     "text": [
      "rerank_products response from OpenAI: [{'name': 'BCM ARM Peripherals', 'relevance_score': 1.0}, {'name': 'Raspberry Pi Model B', 'relevance_score': 0.95}, {'name': 'Raspberry Pi Model A', 'relevance_score': 0.9}, {'name': 'Raspberry Pi Compute Module', 'relevance_score': 0.9}]\n"
     ]
    },
    {
     "name": "stderr",
     "output_type": "stream",
     "text": [
      "INFO:httpx:HTTP Request: POST https://api.openai.com/v1/chat/completions \"HTTP/1.1 200 OK\"\n",
      "INFO:httpx:HTTP Request: POST http://localhost:8080/v1/graphql \"HTTP/1.1 200 OK\"\n",
      "INFO:httpx:HTTP Request: POST http://localhost:8080/v1/graphql \"HTTP/1.1 200 OK\"\n",
      "INFO:httpx:HTTP Request: POST http://localhost:8080/v1/graphql \"HTTP/1.1 200 OK\"\n",
      "INFO:httpx:HTTP Request: POST http://localhost:8080/v1/graphql \"HTTP/1.1 200 OK\"\n",
      "INFO:httpx:HTTP Request: POST http://localhost:8080/v1/graphql \"HTTP/1.1 200 OK\"\n",
      "INFO:httpx:HTTP Request: POST https://api.openai.com/v1/chat/completions \"HTTP/1.1 200 OK\"\n"
     ]
    },
    {
     "name": "stdout",
     "output_type": "stream",
     "text": [
      "rerank_products response from OpenAI: [{'name': 'BCM ARM Peripherals', 'relevance_score': 1.0}, {'name': 'Raspberry Pi Model A', 'relevance_score': 0.9}, {'name': 'Raspberry Pi Compute Module', 'relevance_score': 0.9}, {'name': 'Raspberry Pi Model B', 'relevance_score': 0.8}]\n"
     ]
    },
    {
     "name": "stderr",
     "output_type": "stream",
     "text": [
      "INFO:httpx:HTTP Request: POST https://api.openai.com/v1/chat/completions \"HTTP/1.1 200 OK\"\n",
      "INFO:httpx:HTTP Request: POST http://localhost:8080/v1/graphql \"HTTP/1.1 200 OK\"\n",
      "INFO:httpx:HTTP Request: POST http://localhost:8080/v1/graphql \"HTTP/1.1 200 OK\"\n",
      "INFO:httpx:HTTP Request: POST http://localhost:8080/v1/graphql \"HTTP/1.1 200 OK\"\n",
      "INFO:httpx:HTTP Request: POST http://localhost:8080/v1/graphql \"HTTP/1.1 200 OK\"\n",
      "INFO:httpx:HTTP Request: POST http://localhost:8080/v1/graphql \"HTTP/1.1 200 OK\"\n",
      "INFO:httpx:HTTP Request: POST https://api.openai.com/v1/chat/completions \"HTTP/1.1 200 OK\"\n"
     ]
    },
    {
     "name": "stdout",
     "output_type": "stream",
     "text": [
      "rerank_products response from OpenAI: [{'name': 'Com Express Basic Module', 'relevance_score': 1.0}, {'name': 'ROM NXP iMXM CortexA SMARC ComputeronModule', 'relevance_score': 0.95}, {'name': 'SOM Elkhart Lake', 'relevance_score': 0.9}, {'name': 'Embedded Box PC', 'relevance_score': 0.85}, {'name': 'Intelligent Inspection System', 'relevance_score': 0.8}, {'name': 'Modular IPC', 'relevance_score': 0.75}, {'name': 'QSeven Module', 'relevance_score': 0.5}, {'name': 'Qseven Module', 'relevance_score': 0.5}, {'name': 'SOM R', 'relevance_score': 0.4}, {'name': 'COM Express Compact Module', 'relevance_score': 0.35}]\n"
     ]
    },
    {
     "name": "stderr",
     "output_type": "stream",
     "text": [
      "INFO:httpx:HTTP Request: POST https://api.openai.com/v1/chat/completions \"HTTP/1.1 200 OK\"\n",
      "INFO:httpx:HTTP Request: POST http://localhost:8080/v1/graphql \"HTTP/1.1 200 OK\"\n",
      "INFO:httpx:HTTP Request: POST http://localhost:8080/v1/graphql \"HTTP/1.1 200 OK\"\n",
      "INFO:httpx:HTTP Request: POST http://localhost:8080/v1/graphql \"HTTP/1.1 200 OK\"\n",
      "INFO:httpx:HTTP Request: POST http://localhost:8080/v1/graphql \"HTTP/1.1 200 OK\"\n",
      "INFO:httpx:HTTP Request: POST http://localhost:8080/v1/graphql \"HTTP/1.1 200 OK\"\n",
      "INFO:httpx:HTTP Request: POST https://api.openai.com/v1/chat/completions \"HTTP/1.1 200 OK\"\n"
     ]
    },
    {
     "name": "stdout",
     "output_type": "stream",
     "text": [
      "rerank_products response from OpenAI: [{'name': 'Com Express Basic Module', 'relevance_score': 0.95}, {'name': 'COM Express Compact Module', 'relevance_score': 0.9}, {'name': 'Compact Vision System', 'relevance_score': 0.85}, {'name': 'Intelligent Inspection System', 'relevance_score': 0.8}, {'name': 'Embedded Box PC', 'relevance_score': 0.75}, {'name': 'Modular IPC', 'relevance_score': 0.7}, {'name': 'SOM R', 'relevance_score': 0.65}, {'name': 'Qseven Module', 'relevance_score': 0.6}, {'name': 'QSeven Module', 'relevance_score': 0.55}, {'name': 'Device Monitoring System', 'relevance_score': 0.5}]\n"
     ]
    },
    {
     "name": "stderr",
     "output_type": "stream",
     "text": [
      "INFO:httpx:HTTP Request: POST https://api.openai.com/v1/chat/completions \"HTTP/1.1 200 OK\"\n",
      "INFO:httpx:HTTP Request: POST http://localhost:8080/v1/graphql \"HTTP/1.1 200 OK\"\n",
      "INFO:httpx:HTTP Request: POST http://localhost:8080/v1/graphql \"HTTP/1.1 200 OK\"\n",
      "INFO:httpx:HTTP Request: POST http://localhost:8080/v1/graphql \"HTTP/1.1 200 OK\"\n",
      "INFO:httpx:HTTP Request: POST http://localhost:8080/v1/graphql \"HTTP/1.1 200 OK\"\n",
      "INFO:httpx:HTTP Request: POST http://localhost:8080/v1/graphql \"HTTP/1.1 200 OK\"\n",
      "INFO:httpx:HTTP Request: POST https://api.openai.com/v1/chat/completions \"HTTP/1.1 200 OK\"\n"
     ]
    },
    {
     "name": "stdout",
     "output_type": "stream",
     "text": [
      "rerank_products response from OpenAI: [{'name': 'SOM Elkhart Lake', 'relevance_score': 0.95}, {'name': 'ROM NXP iMXM CortexA SMARC ComputeronModule', 'relevance_score': 0.92}, {'name': 'Com Express Basic Module', 'relevance_score': 0.9}, {'name': 'Embedded Box PC', 'relevance_score': 0.88}, {'name': 'Modular IPC', 'relevance_score': 0.85}, {'name': 'Intelligent Inspection System', 'relevance_score': 0.83}, {'name': 'COM Express Compact Module', 'relevance_score': 0.8}, {'name': 'Qseven Module', 'relevance_score': 0.75}, {'name': 'QSeven Module', 'relevance_score': 0.75}, {'name': 'SOM R', 'relevance_score': 0.7}]\n"
     ]
    },
    {
     "name": "stderr",
     "output_type": "stream",
     "text": [
      "INFO:httpx:HTTP Request: POST https://api.openai.com/v1/chat/completions \"HTTP/1.1 200 OK\"\n",
      "INFO:httpx:HTTP Request: POST http://localhost:8080/v1/graphql \"HTTP/1.1 200 OK\"\n",
      "INFO:httpx:HTTP Request: POST http://localhost:8080/v1/graphql \"HTTP/1.1 200 OK\"\n",
      "INFO:httpx:HTTP Request: POST http://localhost:8080/v1/graphql \"HTTP/1.1 200 OK\"\n",
      "INFO:httpx:HTTP Request: POST http://localhost:8080/v1/graphql \"HTTP/1.1 200 OK\"\n",
      "INFO:httpx:HTTP Request: POST http://localhost:8080/v1/graphql \"HTTP/1.1 200 OK\"\n",
      "INFO:httpx:HTTP Request: POST https://api.openai.com/v1/chat/completions \"HTTP/1.1 200 OK\"\n"
     ]
    },
    {
     "name": "stdout",
     "output_type": "stream",
     "text": [
      "rerank_products response from OpenAI: [{'name': 'Com Express Basic Module', 'relevance_score': 1.0}, {'name': 'Compact Vision System', 'relevance_score': 0.9}, {'name': 'Embedded Box PC', 'relevance_score': 0.85}, {'name': 'Intelligent Inspection System', 'relevance_score': 0.8}, {'name': 'COM Express Compact Module', 'relevance_score': 0.75}, {'name': 'Device Monitoring System', 'relevance_score': 0.6}, {'name': 'SOM R', 'relevance_score': 0.55}, {'name': 'Industrial IoT Gateway', 'relevance_score': 0.5}, {'name': 'UNO', 'relevance_score': 0.45}, {'name': 'UNOG Intel Core Celeron Modular Box Platform', 'relevance_score': 0.4}]\n"
     ]
    },
    {
     "name": "stderr",
     "output_type": "stream",
     "text": [
      "INFO:httpx:HTTP Request: POST https://api.openai.com/v1/chat/completions \"HTTP/1.1 200 OK\"\n",
      "INFO:httpx:HTTP Request: POST http://localhost:8080/v1/graphql \"HTTP/1.1 200 OK\"\n",
      "INFO:httpx:HTTP Request: POST http://localhost:8080/v1/graphql \"HTTP/1.1 200 OK\"\n",
      "INFO:httpx:HTTP Request: POST http://localhost:8080/v1/graphql \"HTTP/1.1 200 OK\"\n",
      "INFO:httpx:HTTP Request: POST http://localhost:8080/v1/graphql \"HTTP/1.1 200 OK\"\n",
      "INFO:httpx:HTTP Request: POST http://localhost:8080/v1/graphql \"HTTP/1.1 200 OK\"\n",
      "INFO:httpx:HTTP Request: POST https://api.openai.com/v1/chat/completions \"HTTP/1.1 200 OK\"\n"
     ]
    },
    {
     "name": "stdout",
     "output_type": "stream",
     "text": [
      "rerank_products response from OpenAI: [{'name': 'Com Express Basic Module', 'relevance_score': 1.0}, {'name': 'SOM Elkhart Lake', 'relevance_score': 0.95}, {'name': 'Compact Vision System', 'relevance_score': 0.9}, {'name': 'Embedded Box PC', 'relevance_score': 0.85}, {'name': 'Modular IPC', 'relevance_score': 0.8}, {'name': 'Intelligent Inspection System', 'relevance_score': 0.75}, {'name': 'QSeven Module', 'relevance_score': 0.4}, {'name': 'Qseven Module', 'relevance_score': 0.4}, {'name': 'SOM R', 'relevance_score': 0.35}, {'name': 'COM Express Compact Module', 'relevance_score': 0.3}]\n"
     ]
    },
    {
     "name": "stderr",
     "output_type": "stream",
     "text": [
      "INFO:httpx:HTTP Request: POST https://api.openai.com/v1/chat/completions \"HTTP/1.1 200 OK\"\n",
      "INFO:httpx:HTTP Request: POST http://localhost:8080/v1/graphql \"HTTP/1.1 200 OK\"\n",
      "INFO:httpx:HTTP Request: POST http://localhost:8080/v1/graphql \"HTTP/1.1 200 OK\"\n",
      "INFO:httpx:HTTP Request: POST http://localhost:8080/v1/graphql \"HTTP/1.1 200 OK\"\n",
      "INFO:httpx:HTTP Request: POST http://localhost:8080/v1/graphql \"HTTP/1.1 200 OK\"\n",
      "INFO:httpx:HTTP Request: POST http://localhost:8080/v1/graphql \"HTTP/1.1 200 OK\"\n",
      "INFO:httpx:HTTP Request: POST https://api.openai.com/v1/chat/completions \"HTTP/1.1 200 OK\"\n"
     ]
    },
    {
     "name": "stdout",
     "output_type": "stream",
     "text": [
      "rerank_products response from OpenAI: [{'name': 'Computer On Module', 'relevance_score': 1.0}, {'name': 'MiniITX Server Board', 'relevance_score': 0.9}, {'name': 'SOM Intel 11th Gen Core Processors', 'relevance_score': 0.85}, {'name': 'ExpressBD', 'relevance_score': 0.8}, {'name': 'FullSize CPU Card', 'relevance_score': 0.75}, {'name': 'AMD Ryzen Embedded VR Series Board', 'relevance_score': 0.7}, {'name': 'ET COM Express 6th Generation Intel Core U-series Processor', 'relevance_score': 0.65}, {'name': 'SOM 8th Gen Intel Core Celeron Processors COM Express Compact Module', 'relevance_score': 0.6}, {'name': 'PCEBVBE', 'relevance_score': 0.55}, {'name': 'SDMGL', 'relevance_score': 0.5}]\n"
     ]
    },
    {
     "name": "stderr",
     "output_type": "stream",
     "text": [
      "INFO:httpx:HTTP Request: POST https://api.openai.com/v1/chat/completions \"HTTP/1.1 200 OK\"\n",
      "INFO:httpx:HTTP Request: POST http://localhost:8080/v1/graphql \"HTTP/1.1 200 OK\"\n",
      "INFO:httpx:HTTP Request: POST http://localhost:8080/v1/graphql \"HTTP/1.1 200 OK\"\n",
      "INFO:httpx:HTTP Request: POST http://localhost:8080/v1/graphql \"HTTP/1.1 200 OK\"\n",
      "INFO:httpx:HTTP Request: POST http://localhost:8080/v1/graphql \"HTTP/1.1 200 OK\"\n",
      "INFO:httpx:HTTP Request: POST http://localhost:8080/v1/graphql \"HTTP/1.1 200 OK\"\n",
      "INFO:httpx:HTTP Request: POST https://api.openai.com/v1/chat/completions \"HTTP/1.1 200 OK\"\n"
     ]
    },
    {
     "name": "stdout",
     "output_type": "stream",
     "text": [
      "rerank_products response from OpenAI: [{'name': 'ATX Server Board', 'relevance_score': 0.95}, {'name': 'Full Size CPU Card', 'relevance_score': 0.92}, {'name': 'Computer On Module', 'relevance_score': 0.9}, {'name': 'MiniITX Server Board', 'relevance_score': 0.88}, {'name': 'SOM 13th Gen Intel Core Processor', 'relevance_score': 0.85}, {'name': 'SOM Intel 11th Gen Core Processors', 'relevance_score': 0.83}, {'name': 'AI Modular PC', 'relevance_score': 0.8}, {'name': 'ET COM Express 6th Generation Intel Core U-series Processor', 'relevance_score': 0.78}, {'name': 'Networking Motherboard', 'relevance_score': 0.75}, {'name': 'Blackbird Embedded Processing Unit', 'relevance_score': 0.72}]\n"
     ]
    },
    {
     "name": "stderr",
     "output_type": "stream",
     "text": [
      "INFO:httpx:HTTP Request: POST https://api.openai.com/v1/chat/completions \"HTTP/1.1 200 OK\"\n",
      "INFO:httpx:HTTP Request: POST http://localhost:8080/v1/graphql \"HTTP/1.1 200 OK\"\n",
      "INFO:httpx:HTTP Request: POST http://localhost:8080/v1/graphql \"HTTP/1.1 200 OK\"\n",
      "INFO:httpx:HTTP Request: POST http://localhost:8080/v1/graphql \"HTTP/1.1 200 OK\"\n",
      "INFO:httpx:HTTP Request: POST http://localhost:8080/v1/graphql \"HTTP/1.1 200 OK\"\n",
      "INFO:httpx:HTTP Request: POST http://localhost:8080/v1/graphql \"HTTP/1.1 200 OK\"\n",
      "INFO:httpx:HTTP Request: POST https://api.openai.com/v1/chat/completions \"HTTP/1.1 200 OK\"\n"
     ]
    },
    {
     "name": "stdout",
     "output_type": "stream",
     "text": [
      "rerank_products response from OpenAI: [{'name': 'Computer On Module', 'relevance_score': 1.0}, {'name': 'Full Size CPU Card', 'relevance_score': 0.95}, {'name': 'ATX Server Board', 'relevance_score': 0.9}, {'name': 'MiniITX Server Board', 'relevance_score': 0.85}, {'name': 'AMD Ryzen Embedded VR Series Board', 'relevance_score': 0.8}, {'name': 'Edge Internet Things SBC', 'relevance_score': 0.75}, {'name': 'FullSize CPU Card', 'relevance_score': 0.7}, {'name': 'ExpressBD', 'relevance_score': 0.65}, {'name': 'ICEQM COM Express Basic Type Module', 'relevance_score': 0.6}, {'name': 'SOM Intel 11th Gen Core Processors', 'relevance_score': 0.55}]\n"
     ]
    },
    {
     "name": "stderr",
     "output_type": "stream",
     "text": [
      "INFO:httpx:HTTP Request: POST https://api.openai.com/v1/chat/completions \"HTTP/1.1 200 OK\"\n",
      "INFO:httpx:HTTP Request: POST http://localhost:8080/v1/graphql \"HTTP/1.1 200 OK\"\n",
      "INFO:httpx:HTTP Request: POST http://localhost:8080/v1/graphql \"HTTP/1.1 200 OK\"\n",
      "INFO:httpx:HTTP Request: POST http://localhost:8080/v1/graphql \"HTTP/1.1 200 OK\"\n",
      "INFO:httpx:HTTP Request: POST http://localhost:8080/v1/graphql \"HTTP/1.1 200 OK\"\n",
      "INFO:httpx:HTTP Request: POST http://localhost:8080/v1/graphql \"HTTP/1.1 200 OK\"\n",
      "INFO:httpx:HTTP Request: POST https://api.openai.com/v1/chat/completions \"HTTP/1.1 200 OK\"\n"
     ]
    },
    {
     "name": "stdout",
     "output_type": "stream",
     "text": [
      "rerank_products response from OpenAI: [{'name': 'ATX Server Board', 'relevance_score': 1.0}, {'name': 'SOMCR Intel 12th Gen Core Processor', 'relevance_score': 0.95}, {'name': 'Computer On Module', 'relevance_score': 0.9}, {'name': 'UP Xtreme Edge', 'relevance_score': 0.85}, {'name': 'MiniITX Server Board', 'relevance_score': 0.8}, {'name': 'ET COM Express', 'relevance_score': 0.75}, {'name': 'ExpressBD', 'relevance_score': 0.7}, {'name': 'ET COM Express 6th Generation Intel Core U-series Processor', 'relevance_score': 0.65}, {'name': 'FullSize CPU Card', 'relevance_score': 0.6}, {'name': 'SOM Intel 11th Gen Core Processors', 'relevance_score': 0.55}]\n"
     ]
    },
    {
     "name": "stderr",
     "output_type": "stream",
     "text": [
      "INFO:httpx:HTTP Request: POST https://api.openai.com/v1/chat/completions \"HTTP/1.1 200 OK\"\n",
      "INFO:httpx:HTTP Request: POST http://localhost:8080/v1/graphql \"HTTP/1.1 200 OK\"\n",
      "INFO:httpx:HTTP Request: POST http://localhost:8080/v1/graphql \"HTTP/1.1 200 OK\"\n",
      "INFO:httpx:HTTP Request: POST http://localhost:8080/v1/graphql \"HTTP/1.1 200 OK\"\n",
      "INFO:httpx:HTTP Request: POST http://localhost:8080/v1/graphql \"HTTP/1.1 200 OK\"\n",
      "INFO:httpx:HTTP Request: POST http://localhost:8080/v1/graphql \"HTTP/1.1 200 OK\"\n",
      "INFO:httpx:HTTP Request: POST https://api.openai.com/v1/chat/completions \"HTTP/1.1 200 OK\"\n"
     ]
    },
    {
     "name": "stdout",
     "output_type": "stream",
     "text": [
      "rerank_products response from OpenAI: [{'name': 'COMebID E', 'relevance_score': 1.0}, {'name': 'Full Size CPU Card', 'relevance_score': 0.95}, {'name': 'Computer On Module', 'relevance_score': 0.9}, {'name': 'ATX Server Board', 'relevance_score': 0.85}, {'name': 'Edge Internet Things SBC', 'relevance_score': 0.8}, {'name': 'CongaBE COM Express', 'relevance_score': 0.75}, {'name': 'MiniITX Server Board', 'relevance_score': 0.7}, {'name': 'PCEBVBE', 'relevance_score': 0.65}, {'name': 'AI Modular PC', 'relevance_score': 0.6}, {'name': 'UP Xtreme Edge', 'relevance_score': 0.55}]\n"
     ]
    },
    {
     "name": "stderr",
     "output_type": "stream",
     "text": [
      "INFO:httpx:HTTP Request: POST https://api.openai.com/v1/chat/completions \"HTTP/1.1 200 OK\"\n",
      "INFO:httpx:HTTP Request: POST http://localhost:8080/v1/graphql \"HTTP/1.1 200 OK\"\n",
      "INFO:httpx:HTTP Request: POST http://localhost:8080/v1/graphql \"HTTP/1.1 200 OK\"\n",
      "INFO:httpx:HTTP Request: POST http://localhost:8080/v1/graphql \"HTTP/1.1 200 OK\"\n",
      "INFO:httpx:HTTP Request: POST http://localhost:8080/v1/graphql \"HTTP/1.1 200 OK\"\n",
      "INFO:httpx:HTTP Request: POST http://localhost:8080/v1/graphql \"HTTP/1.1 200 OK\"\n",
      "INFO:httpx:HTTP Request: POST https://api.openai.com/v1/chat/completions \"HTTP/1.1 200 OK\"\n"
     ]
    },
    {
     "name": "stdout",
     "output_type": "stream",
     "text": [
      "rerank_products response from OpenAI: [{'name': 'CongaQMX', 'relevance_score': 1.0}, {'name': 'NanoXAL COM Express Mini Size Type Module', 'relevance_score': 0.9}, {'name': 'ICESX', 'relevance_score': 0.85}, {'name': 'COMecAP COM Express Compact', 'relevance_score': 0.8}, {'name': 'Com Express Basic Module', 'relevance_score': 0.75}, {'name': 'SOM', 'relevance_score': 0.7}, {'name': 'NanoXEL COM Express Mini Size Type Module', 'relevance_score': 0.65}, {'name': 'SOM R', 'relevance_score': 0.6}, {'name': 'EmETXi Intel Atom N ETX CPU Module', 'relevance_score': 0.55}, {'name': 'COMe Ref Carrieri T TNI', 'relevance_score': 0.5}]\n"
     ]
    },
    {
     "name": "stderr",
     "output_type": "stream",
     "text": [
      "INFO:httpx:HTTP Request: POST https://api.openai.com/v1/chat/completions \"HTTP/1.1 200 OK\"\n",
      "INFO:httpx:HTTP Request: POST http://localhost:8080/v1/graphql \"HTTP/1.1 200 OK\"\n",
      "INFO:httpx:HTTP Request: POST http://localhost:8080/v1/graphql \"HTTP/1.1 200 OK\"\n",
      "INFO:httpx:HTTP Request: POST http://localhost:8080/v1/graphql \"HTTP/1.1 200 OK\"\n",
      "INFO:httpx:HTTP Request: POST http://localhost:8080/v1/graphql \"HTTP/1.1 200 OK\"\n",
      "INFO:httpx:HTTP Request: POST http://localhost:8080/v1/graphql \"HTTP/1.1 200 OK\"\n",
      "INFO:httpx:HTTP Request: POST https://api.openai.com/v1/chat/completions \"HTTP/1.1 200 OK\"\n"
     ]
    },
    {
     "name": "stdout",
     "output_type": "stream",
     "text": [
      "rerank_products response from OpenAI: [{'name': 'NitrogenX Board', 'relevance_score': 0.95}, {'name': 'CPU Low Power SBC NXP iMX', 'relevance_score': 0.9}, {'name': 'SBC MINA iMXM', 'relevance_score': 0.85}, {'name': 'FETMXMPC SoM', 'relevance_score': 0.8}, {'name': 'LPC Development Kit', 'relevance_score': 0.75}, {'name': 'IMX M Nano Applications Processor', 'relevance_score': 0.7}, {'name': 'COMeACT COM Express Compact', 'relevance_score': 0.2}, {'name': 'SOM COMExpress Mini Module', 'relevance_score': 0.2}, {'name': 'Com Express Basic Module', 'relevance_score': 0.2}, {'name': 'SOM COMExpress Basic Module', 'relevance_score': 0.2}]\n"
     ]
    },
    {
     "name": "stderr",
     "output_type": "stream",
     "text": [
      "INFO:httpx:HTTP Request: POST https://api.openai.com/v1/chat/completions \"HTTP/1.1 200 OK\"\n"
     ]
    },
    {
     "name": "stdout",
     "output_type": "stream",
     "text": [
      "Error processing query: Show NXP-based Computer on Modules that offer SATA 3.0 connectivity\n"
     ]
    },
    {
     "name": "stderr",
     "output_type": "stream",
     "text": [
      "INFO:httpx:HTTP Request: POST https://api.openai.com/v1/chat/completions \"HTTP/1.1 200 OK\"\n",
      "INFO:httpx:HTTP Request: POST http://localhost:8080/v1/graphql \"HTTP/1.1 200 OK\"\n",
      "INFO:httpx:HTTP Request: POST http://localhost:8080/v1/graphql \"HTTP/1.1 200 OK\"\n",
      "INFO:httpx:HTTP Request: POST http://localhost:8080/v1/graphql \"HTTP/1.1 200 OK\"\n",
      "INFO:httpx:HTTP Request: POST http://localhost:8080/v1/graphql \"HTTP/1.1 200 OK\"\n",
      "INFO:httpx:HTTP Request: POST http://localhost:8080/v1/graphql \"HTTP/1.1 200 OK\"\n",
      "INFO:httpx:HTTP Request: POST https://api.openai.com/v1/chat/completions \"HTTP/1.1 200 OK\"\n"
     ]
    },
    {
     "name": "stdout",
     "output_type": "stream",
     "text": [
      "rerank_products response from OpenAI: [{'name': 'ROM NXP iMXM CortexA SMARC ComputeronModule', 'relevance_score': 0.95}, {'name': 'CPU Low Power SBC NXP iMX', 'relevance_score': 0.9}, {'name': 'NanoXEL COM Express Mini Size Type Module', 'relevance_score': 0.85}, {'name': 'NanoXAL COM Express Mini Size Type Module', 'relevance_score': 0.8}, {'name': 'ICESX', 'relevance_score': 0.75}, {'name': 'COMecAP COM Express Compact', 'relevance_score': 0.7}, {'name': 'SOM', 'relevance_score': 0.65}, {'name': 'Com Express Basic Module', 'relevance_score': 0.6}, {'name': 'SOM R', 'relevance_score': 0.55}, {'name': 'SOM B', 'relevance_score': 0.5}]\n"
     ]
    },
    {
     "name": "stderr",
     "output_type": "stream",
     "text": [
      "INFO:httpx:HTTP Request: POST https://api.openai.com/v1/chat/completions \"HTTP/1.1 200 OK\"\n",
      "INFO:httpx:HTTP Request: POST http://localhost:8080/v1/graphql \"HTTP/1.1 200 OK\"\n",
      "INFO:httpx:HTTP Request: POST http://localhost:8080/v1/graphql \"HTTP/1.1 200 OK\"\n",
      "INFO:httpx:HTTP Request: POST http://localhost:8080/v1/graphql \"HTTP/1.1 200 OK\"\n",
      "INFO:httpx:HTTP Request: POST http://localhost:8080/v1/graphql \"HTTP/1.1 200 OK\"\n",
      "INFO:httpx:HTTP Request: POST http://localhost:8080/v1/graphql \"HTTP/1.1 200 OK\"\n",
      "INFO:httpx:HTTP Request: POST https://api.openai.com/v1/chat/completions \"HTTP/1.1 200 OK\"\n"
     ]
    },
    {
     "name": "stdout",
     "output_type": "stream",
     "text": [
      "rerank_products response from OpenAI: [{'name': 'NitrogenX Board', 'relevance_score': 0.95}, {'name': 'QSXM QFN Style SolderDown Computer On Module', 'relevance_score': 0.85}, {'name': 'QSM QFN Style Computer On Module', 'relevance_score': 0.8}, {'name': 'FETMXMPC SoM', 'relevance_score': 0.75}, {'name': 'TXM Computer Module', 'relevance_score': 0.7}, {'name': 'CPU Low Power SBC NXP iMX', 'relevance_score': 0.65}, {'name': 'IMX M Nano Applications Processor', 'relevance_score': 0.6}, {'name': 'NanoXAL COM Express Mini Size Type Module', 'relevance_score': 0.3}, {'name': 'PicoITX Single Board Computer', 'relevance_score': 0.25}, {'name': 'SOM Intel Xeon D Processor', 'relevance_score': 0.2}]\n"
     ]
    },
    {
     "name": "stderr",
     "output_type": "stream",
     "text": [
      "INFO:httpx:HTTP Request: POST https://api.openai.com/v1/chat/completions \"HTTP/1.1 200 OK\"\n",
      "INFO:httpx:HTTP Request: POST http://localhost:8080/v1/graphql \"HTTP/1.1 200 OK\"\n",
      "INFO:httpx:HTTP Request: POST http://localhost:8080/v1/graphql \"HTTP/1.1 200 OK\"\n",
      "INFO:httpx:HTTP Request: POST http://localhost:8080/v1/graphql \"HTTP/1.1 200 OK\"\n",
      "INFO:httpx:HTTP Request: POST http://localhost:8080/v1/graphql \"HTTP/1.1 200 OK\"\n",
      "INFO:httpx:HTTP Request: POST http://localhost:8080/v1/graphql \"HTTP/1.1 200 OK\"\n",
      "INFO:httpx:HTTP Request: POST https://api.openai.com/v1/chat/completions \"HTTP/1.1 200 OK\"\n"
     ]
    },
    {
     "name": "stdout",
     "output_type": "stream",
     "text": [
      "rerank_products response from OpenAI: [{'name': 'MYS-MMX-V Single Board Computer', 'relevance_score': 0.95}, {'name': 'RZ G1C Single Board Computer', 'relevance_score': 0.93}, {'name': 'SBC MINA iMXM', 'relevance_score': 0.92}, {'name': 'EDMCFIMX', 'relevance_score': 0.91}, {'name': 'SolidPC Q', 'relevance_score': 0.9}, {'name': 'COMemEL E', 'relevance_score': 0.89}, {'name': 'LECiMX SMARC Short Size Module', 'relevance_score': 0.88}, {'name': 'QS QFN Style Computer On Module', 'relevance_score': 0.87}, {'name': 'SOM B', 'relevance_score': 0.86}, {'name': 'COMeACT COM Express Compact', 'relevance_score': 0.85}]\n"
     ]
    },
    {
     "name": "stderr",
     "output_type": "stream",
     "text": [
      "INFO:httpx:HTTP Request: POST https://api.openai.com/v1/chat/completions \"HTTP/1.1 200 OK\"\n",
      "INFO:httpx:HTTP Request: POST http://localhost:8080/v1/graphql \"HTTP/1.1 200 OK\"\n",
      "INFO:httpx:HTTP Request: POST http://localhost:8080/v1/graphql \"HTTP/1.1 200 OK\"\n",
      "INFO:httpx:HTTP Request: POST http://localhost:8080/v1/graphql \"HTTP/1.1 200 OK\"\n",
      "INFO:httpx:HTTP Request: POST http://localhost:8080/v1/graphql \"HTTP/1.1 200 OK\"\n",
      "INFO:httpx:HTTP Request: POST http://localhost:8080/v1/graphql \"HTTP/1.1 200 OK\"\n",
      "INFO:httpx:HTTP Request: POST https://api.openai.com/v1/chat/completions \"HTTP/1.1 200 OK\"\n"
     ]
    },
    {
     "name": "stdout",
     "output_type": "stream",
     "text": [
      "rerank_products response from OpenAI: [{'name': 'Rock Pi S', 'relevance_score': 1.0}, {'name': 'PocketBeagle', 'relevance_score': 0.95}, {'name': 'MYS-MMX-V Single Board Computer', 'relevance_score': 0.9}, {'name': 'SBC MINA iMXM', 'relevance_score': 0.9}, {'name': 'EDMCFIMX', 'relevance_score': 0.9}, {'name': 'LECiMX SMARC Short Size Module', 'relevance_score': 0.9}, {'name': 'RZ G1C Single Board Computer', 'relevance_score': 0.85}, {'name': 'COMemEL E', 'relevance_score': 0.85}, {'name': 'SolidPC Q', 'relevance_score': 0.8}, {'name': 'QS QFN Style Computer On Module', 'relevance_score': 0.75}]\n"
     ]
    },
    {
     "name": "stderr",
     "output_type": "stream",
     "text": [
      "INFO:httpx:HTTP Request: POST https://api.openai.com/v1/chat/completions \"HTTP/1.1 200 OK\"\n",
      "INFO:httpx:HTTP Request: POST http://localhost:8080/v1/graphql \"HTTP/1.1 200 OK\"\n",
      "INFO:httpx:HTTP Request: POST http://localhost:8080/v1/graphql \"HTTP/1.1 200 OK\"\n",
      "INFO:httpx:HTTP Request: POST http://localhost:8080/v1/graphql \"HTTP/1.1 200 OK\"\n",
      "INFO:httpx:HTTP Request: POST http://localhost:8080/v1/graphql \"HTTP/1.1 200 OK\"\n",
      "INFO:httpx:HTTP Request: POST http://localhost:8080/v1/graphql \"HTTP/1.1 200 OK\"\n",
      "INFO:httpx:HTTP Request: POST https://api.openai.com/v1/chat/completions \"HTTP/1.1 200 OK\"\n"
     ]
    },
    {
     "name": "stdout",
     "output_type": "stream",
     "text": [
      "rerank_products response from OpenAI: [{'name': 'SolidPC Q', 'relevance_score': 0.95}, {'name': 'RZ G1C Single Board Computer', 'relevance_score': 0.92}, {'name': 'EDMCFIMX', 'relevance_score': 0.9}, {'name': 'PocketBeagle', 'relevance_score': 0.88}, {'name': 'SOM B', 'relevance_score': 0.87}, {'name': 'Cexpresssl', 'relevance_score': 0.85}, {'name': 'RISC Single Board Computer', 'relevance_score': 0.83}, {'name': 'IMX XLite Pico ITX SBC', 'relevance_score': 0.82}, {'name': 'IMX M Plus Pico ITX Single Board Computer', 'relevance_score': 0.8}, {'name': 'IMX Quad Max Quad Plus Picoitx Sbc', 'relevance_score': 0.78}]\n"
     ]
    },
    {
     "name": "stderr",
     "output_type": "stream",
     "text": [
      "INFO:httpx:HTTP Request: POST https://api.openai.com/v1/chat/completions \"HTTP/1.1 200 OK\"\n",
      "INFO:httpx:HTTP Request: POST http://localhost:8080/v1/graphql \"HTTP/1.1 200 OK\"\n",
      "INFO:httpx:HTTP Request: POST http://localhost:8080/v1/graphql \"HTTP/1.1 200 OK\"\n",
      "INFO:httpx:HTTP Request: POST http://localhost:8080/v1/graphql \"HTTP/1.1 200 OK\"\n",
      "INFO:httpx:HTTP Request: POST http://localhost:8080/v1/graphql \"HTTP/1.1 200 OK\"\n",
      "INFO:httpx:HTTP Request: POST http://localhost:8080/v1/graphql \"HTTP/1.1 200 OK\"\n",
      "INFO:httpx:HTTP Request: POST https://api.openai.com/v1/chat/completions \"HTTP/1.1 200 OK\"\n"
     ]
    },
    {
     "name": "stdout",
     "output_type": "stream",
     "text": [
      "rerank_products response from OpenAI: [{'name': 'SBC MINA iMXM', 'relevance_score': 0.95}, {'name': 'LECiMX SMARC Short Size Module', 'relevance_score': 0.95}, {'name': 'MYS-MMX-V Single Board Computer', 'relevance_score': 0.95}, {'name': 'EDMCFIMX', 'relevance_score': 0.9}, {'name': 'PocketBeagle', 'relevance_score': 0.9}, {'name': 'SolidPC Q', 'relevance_score': 0.85}, {'name': 'QS QFN Style Computer On Module', 'relevance_score': 0.85}, {'name': 'MYC-JA5D2X', 'relevance_score': 0.85}, {'name': 'COMemEL E', 'relevance_score': 0.8}, {'name': 'SOM COMExpress Mini Module', 'relevance_score': 0.8}]\n"
     ]
    },
    {
     "name": "stderr",
     "output_type": "stream",
     "text": [
      "INFO:httpx:HTTP Request: POST https://api.openai.com/v1/chat/completions \"HTTP/1.1 200 OK\"\n",
      "INFO:httpx:HTTP Request: POST http://localhost:8080/v1/graphql \"HTTP/1.1 200 OK\"\n",
      "INFO:httpx:HTTP Request: POST http://localhost:8080/v1/graphql \"HTTP/1.1 200 OK\"\n",
      "INFO:httpx:HTTP Request: POST http://localhost:8080/v1/graphql \"HTTP/1.1 200 OK\"\n",
      "INFO:httpx:HTTP Request: POST http://localhost:8080/v1/graphql \"HTTP/1.1 200 OK\"\n",
      "INFO:httpx:HTTP Request: POST http://localhost:8080/v1/graphql \"HTTP/1.1 200 OK\"\n",
      "INFO:httpx:HTTP Request: POST https://api.openai.com/v1/chat/completions \"HTTP/1.1 200 OK\"\n"
     ]
    },
    {
     "name": "stdout",
     "output_type": "stream",
     "text": [
      "rerank_products response from OpenAI: [{'name': 'QS QFN Style Computer On Module', 'relevance_score': 1.0}, {'name': 'MYS-MMX-V Single Board Computer', 'relevance_score': 0.95}, {'name': 'SBC MINA iMXM', 'relevance_score': 0.9}, {'name': 'EDMCFIMX', 'relevance_score': 0.85}, {'name': 'RZ G1C Single Board Computer', 'relevance_score': 0.8}, {'name': 'COMemEL E', 'relevance_score': 0.75}, {'name': 'LECiMX SMARC Short Size Module', 'relevance_score': 0.7}, {'name': 'SolidPC Q', 'relevance_score': 0.65}, {'name': 'RISC Single Board Computer', 'relevance_score': 0.6}, {'name': 'SOM COMExpress Mini Module', 'relevance_score': 0.55}]\n"
     ]
    },
    {
     "name": "stderr",
     "output_type": "stream",
     "text": [
      "INFO:httpx:HTTP Request: POST https://api.openai.com/v1/chat/completions \"HTTP/1.1 200 OK\"\n",
      "INFO:httpx:HTTP Request: POST http://localhost:8080/v1/graphql \"HTTP/1.1 200 OK\"\n",
      "INFO:httpx:HTTP Request: POST http://localhost:8080/v1/graphql \"HTTP/1.1 200 OK\"\n",
      "INFO:httpx:HTTP Request: POST http://localhost:8080/v1/graphql \"HTTP/1.1 200 OK\"\n",
      "INFO:httpx:HTTP Request: POST http://localhost:8080/v1/graphql \"HTTP/1.1 200 OK\"\n",
      "INFO:httpx:HTTP Request: POST http://localhost:8080/v1/graphql \"HTTP/1.1 200 OK\"\n",
      "INFO:httpx:HTTP Request: POST https://api.openai.com/v1/chat/completions \"HTTP/1.1 200 OK\"\n"
     ]
    },
    {
     "name": "stdout",
     "output_type": "stream",
     "text": [
      "rerank_products response from OpenAI: [{'name': 'Raspberry Pi Pico', 'relevance_score': 0.95}, {'name': 'Raspberry Pi Pico W', 'relevance_score': 0.95}, {'name': 'RA Development Kit', 'relevance_score': 0.85}, {'name': 'Devkitszvl', 'relevance_score': 0.85}, {'name': 'Cinterion LGA DevKit', 'relevance_score': 0.8}, {'name': 'MAXAMAXD Evaluation Kit', 'relevance_score': 0.8}, {'name': 'MAXD Evaluation Kit', 'relevance_score': 0.8}, {'name': 'UnitV', 'relevance_score': 0.75}, {'name': 'Smartfusion Customizable Systemonchip Microcontroller Subsystem', 'relevance_score': 0.7}, {'name': 'MYC-JA5D2X', 'relevance_score': 0.7}]\n"
     ]
    },
    {
     "name": "stderr",
     "output_type": "stream",
     "text": [
      "INFO:httpx:HTTP Request: POST https://api.openai.com/v1/chat/completions \"HTTP/1.1 200 OK\"\n",
      "INFO:httpx:HTTP Request: POST http://localhost:8080/v1/graphql \"HTTP/1.1 200 OK\"\n",
      "INFO:httpx:HTTP Request: POST http://localhost:8080/v1/graphql \"HTTP/1.1 200 OK\"\n",
      "INFO:httpx:HTTP Request: POST http://localhost:8080/v1/graphql \"HTTP/1.1 200 OK\"\n",
      "INFO:httpx:HTTP Request: POST http://localhost:8080/v1/graphql \"HTTP/1.1 200 OK\"\n",
      "INFO:httpx:HTTP Request: POST http://localhost:8080/v1/graphql \"HTTP/1.1 200 OK\"\n",
      "INFO:httpx:HTTP Request: POST https://api.openai.com/v1/chat/completions \"HTTP/1.1 200 OK\"\n"
     ]
    },
    {
     "name": "stdout",
     "output_type": "stream",
     "text": [
      "rerank_products response from OpenAI: [{'name': 'ESPSDevKitUSB', 'relevance_score': 0.95}, {'name': 'ESPWROOMDA', 'relevance_score': 0.92}, {'name': 'SH Segment Common Driver Controller', 'relevance_score': 0.9}, {'name': 'FETAiC SoM', 'relevance_score': 0.88}, {'name': 'Smartfusion Customizable Systemonchip Microcontroller Subsystem', 'relevance_score': 0.85}, {'name': 'IMX M Mini IMX M Nano SODIMM Development Platform', 'relevance_score': 0.83}, {'name': 'Devkitszvl', 'relevance_score': 0.8}, {'name': 'SICHV Module', 'relevance_score': 0.78}, {'name': 'MYC-JA5D2X', 'relevance_score': 0.75}, {'name': 'MAXD Evaluation Kit', 'relevance_score': 0.72}]\n"
     ]
    },
    {
     "name": "stderr",
     "output_type": "stream",
     "text": [
      "INFO:httpx:HTTP Request: POST https://api.openai.com/v1/chat/completions \"HTTP/1.1 200 OK\"\n",
      "INFO:httpx:HTTP Request: POST http://localhost:8080/v1/graphql \"HTTP/1.1 200 OK\"\n",
      "INFO:httpx:HTTP Request: POST http://localhost:8080/v1/graphql \"HTTP/1.1 200 OK\"\n",
      "INFO:httpx:HTTP Request: POST http://localhost:8080/v1/graphql \"HTTP/1.1 200 OK\"\n",
      "INFO:httpx:HTTP Request: POST http://localhost:8080/v1/graphql \"HTTP/1.1 200 OK\"\n",
      "INFO:httpx:HTTP Request: POST http://localhost:8080/v1/graphql \"HTTP/1.1 200 OK\"\n",
      "INFO:httpx:HTTP Request: POST https://api.openai.com/v1/chat/completions \"HTTP/1.1 200 OK\"\n"
     ]
    },
    {
     "name": "stdout",
     "output_type": "stream",
     "text": [
      "rerank_products response from OpenAI: [{'name': 'ESPWROOMDA', 'relevance_score': 0.9}, {'name': 'Smartfusion Customizable Systemonchip Microcontroller Subsystem', 'relevance_score': 0.85}, {'name': 'Micro Blower Kit Driver', 'relevance_score': 0.8}, {'name': 'Embedded Automation Computer', 'relevance_score': 0.75}, {'name': 'Trek In Vehicle Computing Box', 'relevance_score': 0.7}, {'name': 'Compact Vision System', 'relevance_score': 0.65}, {'name': 'EPCB Embedded MiniITX Chassis', 'relevance_score': 0.6}, {'name': 'AmITXBTI MiniITX Industrial Motherboard', 'relevance_score': 0.55}, {'name': 'Trek Vehicle Display System', 'relevance_score': 0.5}, {'name': 'OP eDisplay Series', 'relevance_score': 0.45}]\n"
     ]
    },
    {
     "name": "stderr",
     "output_type": "stream",
     "text": [
      "INFO:httpx:HTTP Request: POST https://api.openai.com/v1/chat/completions \"HTTP/1.1 200 OK\"\n",
      "INFO:httpx:HTTP Request: POST http://localhost:8080/v1/graphql \"HTTP/1.1 200 OK\"\n",
      "INFO:httpx:HTTP Request: POST http://localhost:8080/v1/graphql \"HTTP/1.1 200 OK\"\n",
      "INFO:httpx:HTTP Request: POST http://localhost:8080/v1/graphql \"HTTP/1.1 200 OK\"\n",
      "INFO:httpx:HTTP Request: POST http://localhost:8080/v1/graphql \"HTTP/1.1 200 OK\"\n",
      "INFO:httpx:HTTP Request: POST http://localhost:8080/v1/graphql \"HTTP/1.1 200 OK\"\n",
      "INFO:httpx:HTTP Request: POST https://api.openai.com/v1/chat/completions \"HTTP/1.1 200 OK\"\n"
     ]
    },
    {
     "name": "stdout",
     "output_type": "stream",
     "text": [
      "rerank_products response from OpenAI: [{'name': 'MAXD Evaluation Kit', 'relevance_score': 0.95}, {'name': 'Smartfusion Customizable Systemonchip Microcontroller Subsystem', 'relevance_score': 0.9}, {'name': 'IMX M Mini IMX M Nano SODIMM Development Platform', 'relevance_score': 0.85}, {'name': 'Cinterion LGA DevKit', 'relevance_score': 0.8}, {'name': 'ISDev Kit', 'relevance_score': 0.75}, {'name': 'Devkitszvl', 'relevance_score': 0.7}, {'name': 'UnitV', 'relevance_score': 0.65}, {'name': 'COMe Ref Carrieri T TNI', 'relevance_score': 0.6}, {'name': 'COM Express Mini CPU Module', 'relevance_score': 0.55}, {'name': 'SOM Intel Atom E Celeron Processor QSeven CPU Module', 'relevance_score': 0.5}]\n"
     ]
    },
    {
     "name": "stderr",
     "output_type": "stream",
     "text": [
      "INFO:httpx:HTTP Request: POST https://api.openai.com/v1/chat/completions \"HTTP/1.1 200 OK\"\n",
      "INFO:httpx:HTTP Request: POST http://localhost:8080/v1/graphql \"HTTP/1.1 200 OK\"\n",
      "INFO:httpx:HTTP Request: POST http://localhost:8080/v1/graphql \"HTTP/1.1 200 OK\"\n",
      "INFO:httpx:HTTP Request: POST http://localhost:8080/v1/graphql \"HTTP/1.1 200 OK\"\n",
      "INFO:httpx:HTTP Request: POST http://localhost:8080/v1/graphql \"HTTP/1.1 200 OK\"\n",
      "INFO:httpx:HTTP Request: POST http://localhost:8080/v1/graphql \"HTTP/1.1 200 OK\"\n",
      "INFO:httpx:HTTP Request: POST https://api.openai.com/v1/chat/completions \"HTTP/1.1 200 OK\"\n"
     ]
    },
    {
     "name": "stdout",
     "output_type": "stream",
     "text": [
      "rerank_products response from OpenAI: [{'name': 'ESPWROOMDA', 'relevance_score': 1.0}, {'name': 'MAXAMAXD Evaluation Kit', 'relevance_score': 0.9}, {'name': 'Stereo DirectDrive Headphone Amplifier', 'relevance_score': 0.5}, {'name': 'MAXD Evaluation Kit', 'relevance_score': 0.5}, {'name': 'Evaluation Kit', 'relevance_score': 0.5}, {'name': 'Device Monitoring System', 'relevance_score': 0.5}, {'name': 'MYC-JA5D2X', 'relevance_score': 0.5}, {'name': 'Smartfusion Customizable Systemonchip Microcontroller Subsystem', 'relevance_score': 0.5}, {'name': 'Trek Vehicle Display System', 'relevance_score': 0.5}, {'name': 'Blackbird Embedded Processing Unit', 'relevance_score': 0.5}]\n"
     ]
    },
    {
     "name": "stderr",
     "output_type": "stream",
     "text": [
      "INFO:httpx:HTTP Request: POST https://api.openai.com/v1/chat/completions \"HTTP/1.1 200 OK\"\n",
      "INFO:httpx:HTTP Request: POST http://localhost:8080/v1/graphql \"HTTP/1.1 200 OK\"\n",
      "INFO:httpx:HTTP Request: POST http://localhost:8080/v1/graphql \"HTTP/1.1 200 OK\"\n",
      "INFO:httpx:HTTP Request: POST http://localhost:8080/v1/graphql \"HTTP/1.1 200 OK\"\n",
      "INFO:httpx:HTTP Request: POST http://localhost:8080/v1/graphql \"HTTP/1.1 200 OK\"\n",
      "INFO:httpx:HTTP Request: POST http://localhost:8080/v1/graphql \"HTTP/1.1 200 OK\"\n",
      "INFO:httpx:HTTP Request: POST https://api.openai.com/v1/chat/completions \"HTTP/1.1 200 OK\"\n"
     ]
    },
    {
     "name": "stdout",
     "output_type": "stream",
     "text": [
      "rerank_products response from OpenAI: [{'name': 'SOM Intel Xeon D Processor', 'relevance_score': 1.0}, {'name': 'Eagle Embedded Processing Unit', 'relevance_score': 0.7}, {'name': 'Tank Aiot Dev Kit', 'relevance_score': 0.5}, {'name': 'SOM 7th Gen Intel Xeon Core Celeron Processors COM Express Basic Module', 'relevance_score': 0.4}, {'name': 'EmQi Intel Atom Processor E Family Qseven CPU Module', 'relevance_score': 0.2}, {'name': 'EmQi Intel Qseven R CPU Module', 'relevance_score': 0.2}, {'name': 'ISIS XL', 'relevance_score': 0.2}, {'name': 'DS Intel Core iU Celeron U', 'relevance_score': 0.2}, {'name': 'PicoITX Single Board Computer', 'relevance_score': 0.2}, {'name': 'PPCMBAE MiniITX Motherboard', 'relevance_score': 0.2}]\n"
     ]
    },
    {
     "name": "stderr",
     "output_type": "stream",
     "text": [
      "INFO:httpx:HTTP Request: POST https://api.openai.com/v1/chat/completions \"HTTP/1.1 200 OK\"\n",
      "INFO:httpx:HTTP Request: POST http://localhost:8080/v1/graphql \"HTTP/1.1 200 OK\"\n",
      "INFO:httpx:HTTP Request: POST http://localhost:8080/v1/graphql \"HTTP/1.1 200 OK\"\n",
      "INFO:httpx:HTTP Request: POST http://localhost:8080/v1/graphql \"HTTP/1.1 200 OK\"\n",
      "INFO:httpx:HTTP Request: POST http://localhost:8080/v1/graphql \"HTTP/1.1 200 OK\"\n",
      "INFO:httpx:HTTP Request: POST http://localhost:8080/v1/graphql \"HTTP/1.1 200 OK\"\n",
      "INFO:httpx:HTTP Request: POST https://api.openai.com/v1/chat/completions \"HTTP/1.1 200 OK\"\n"
     ]
    },
    {
     "name": "stdout",
     "output_type": "stream",
     "text": [
      "rerank_products response from OpenAI: [{'name': 'SOM Intel Xeon D Processor', 'relevance_score': 1.0}, {'name': 'SOM 7th Gen Intel Xeon Core Celeron Processors COM Express Basic Module', 'relevance_score': 0.8}, {'name': 'Tank Aiot Dev Kit', 'relevance_score': 0.6}, {'name': 'DS Intel Core iU Celeron U', 'relevance_score': 0.4}, {'name': 'COM Express Basic Type CPU Module', 'relevance_score': 0.2}, {'name': 'Com Express Basic Type Cpu Module', 'relevance_score': 0.1}, {'name': 'EmQi Intel Atom Processor E Family Qseven CPU Module', 'relevance_score': 0.05}, {'name': 'EmQi Intel Qseven R CPU Module', 'relevance_score': 0.05}, {'name': 'EmETXi Intel Atom N ETX CPU Module', 'relevance_score': 0.05}, {'name': 'SOM 13th Gen Intel Core Processor', 'relevance_score': 0.05}]\n"
     ]
    },
    {
     "name": "stderr",
     "output_type": "stream",
     "text": [
      "INFO:httpx:HTTP Request: POST https://api.openai.com/v1/chat/completions \"HTTP/1.1 200 OK\"\n",
      "INFO:httpx:HTTP Request: POST http://localhost:8080/v1/graphql \"HTTP/1.1 200 OK\"\n",
      "INFO:httpx:HTTP Request: POST http://localhost:8080/v1/graphql \"HTTP/1.1 200 OK\"\n",
      "INFO:httpx:HTTP Request: POST http://localhost:8080/v1/graphql \"HTTP/1.1 200 OK\"\n"
     ]
    },
    {
     "name": "stdout",
     "output_type": "stream",
     "text": [
      "Error processing query: Enumerate products using Intel Xeon Processor D and offering Embedded Software API support\n"
     ]
    },
    {
     "name": "stderr",
     "output_type": "stream",
     "text": [
      "INFO:httpx:HTTP Request: POST https://api.openai.com/v1/chat/completions \"HTTP/1.1 200 OK\"\n",
      "INFO:httpx:HTTP Request: POST http://localhost:8080/v1/graphql \"HTTP/1.1 200 OK\"\n",
      "INFO:httpx:HTTP Request: POST http://localhost:8080/v1/graphql \"HTTP/1.1 200 OK\"\n",
      "INFO:httpx:HTTP Request: POST http://localhost:8080/v1/graphql \"HTTP/1.1 200 OK\"\n",
      "INFO:httpx:HTTP Request: POST http://localhost:8080/v1/graphql \"HTTP/1.1 200 OK\"\n",
      "INFO:httpx:HTTP Request: POST http://localhost:8080/v1/graphql \"HTTP/1.1 200 OK\"\n",
      "INFO:httpx:HTTP Request: POST https://api.openai.com/v1/chat/completions \"HTTP/1.1 200 OK\"\n"
     ]
    },
    {
     "name": "stdout",
     "output_type": "stream",
     "text": [
      "rerank_products response from OpenAI: [{'name': 'SOM Intel Xeon D Processor', 'relevance_score': 1.0}, {'name': 'Eagle Embedded Processing Unit', 'relevance_score': 0.8}, {'name': 'Tank Aiot Dev Kit', 'relevance_score': 0.7}, {'name': 'SOM 7th Gen Intel Xeon Core Celeron Processors COM Express Basic Module', 'relevance_score': 0.6}, {'name': 'Com Express Basic Type Cpu Module', 'relevance_score': 0.5}, {'name': 'Edge Intelligence Server', 'relevance_score': 0.4}, {'name': 'SOM 13th Gen Intel Core Processor', 'relevance_score': 0.3}, {'name': 'DS Intel Core iU Celeron U', 'relevance_score': 0.2}, {'name': 'EmQi Intel Atom Processor E Family Qseven CPU Module', 'relevance_score': 0.1}, {'name': 'Device Monitoring System', 'relevance_score': 0.1}]\n"
     ]
    },
    {
     "name": "stderr",
     "output_type": "stream",
     "text": [
      "INFO:httpx:HTTP Request: POST https://api.openai.com/v1/chat/completions \"HTTP/1.1 200 OK\"\n",
      "INFO:httpx:HTTP Request: POST http://localhost:8080/v1/graphql \"HTTP/1.1 200 OK\"\n",
      "INFO:httpx:HTTP Request: POST http://localhost:8080/v1/graphql \"HTTP/1.1 200 OK\"\n",
      "INFO:httpx:HTTP Request: POST http://localhost:8080/v1/graphql \"HTTP/1.1 200 OK\"\n",
      "INFO:httpx:HTTP Request: POST http://localhost:8080/v1/graphql \"HTTP/1.1 200 OK\"\n",
      "INFO:httpx:HTTP Request: POST http://localhost:8080/v1/graphql \"HTTP/1.1 200 OK\"\n",
      "INFO:httpx:HTTP Request: POST https://api.openai.com/v1/chat/completions \"HTTP/1.1 200 OK\"\n"
     ]
    },
    {
     "name": "stdout",
     "output_type": "stream",
     "text": [
      "rerank_products response from OpenAI: [{'name': 'SOM Intel Xeon D Processor', 'relevance_score': 1.0}, {'name': 'SOM 7th Gen Intel Xeon Core Celeron Processors COM Express Basic Module', 'relevance_score': 0.8}, {'name': 'SOM th Gen Intel Xeon Core Processors COM Express Basic Module', 'relevance_score': 0.75}, {'name': 'Tank Aiot Dev Kit', 'relevance_score': 0.7}, {'name': 'Eagle Embedded Processing Unit', 'relevance_score': 0.65}, {'name': 'Edge Intelligence Server', 'relevance_score': 0.6}, {'name': 'COM Express Basic Type CPU Module', 'relevance_score': 0.55}, {'name': 'Com Express Basic Type Cpu Module', 'relevance_score': 0.5}, {'name': 'SOM 13th Gen Intel Core Processor', 'relevance_score': 0.45}, {'name': 'DS Intel Core iU Celeron U', 'relevance_score': 0.4}]\n"
     ]
    },
    {
     "name": "stderr",
     "output_type": "stream",
     "text": [
      "INFO:httpx:HTTP Request: POST https://api.openai.com/v1/chat/completions \"HTTP/1.1 200 OK\"\n",
      "INFO:httpx:HTTP Request: POST http://localhost:8080/v1/graphql \"HTTP/1.1 200 OK\"\n",
      "INFO:httpx:HTTP Request: POST http://localhost:8080/v1/graphql \"HTTP/1.1 200 OK\"\n",
      "INFO:httpx:HTTP Request: POST http://localhost:8080/v1/graphql \"HTTP/1.1 200 OK\"\n",
      "INFO:httpx:HTTP Request: POST http://localhost:8080/v1/graphql \"HTTP/1.1 200 OK\"\n",
      "INFO:httpx:HTTP Request: POST http://localhost:8080/v1/graphql \"HTTP/1.1 200 OK\"\n",
      "INFO:httpx:HTTP Request: POST https://api.openai.com/v1/chat/completions \"HTTP/1.1 200 OK\"\n"
     ]
    },
    {
     "name": "stdout",
     "output_type": "stream",
     "text": [
      "rerank_products response from OpenAI: [{'name': 'RTG Development Kit', 'relevance_score': 1.0}, {'name': 'CortexMEnabled IGLOO Development Kit', 'relevance_score': 0.8}, {'name': 'Smartfusion Customizable Systemonchip Microcontroller Subsystem', 'relevance_score': 0.75}, {'name': 'Fusion Advanced Development Kit', 'relevance_score': 0.5}, {'name': 'Embedded Vision Portfolio', 'relevance_score': 0.4}, {'name': 'Jetson Xavier NX Developer Kit', 'relevance_score': 0.35}, {'name': 'Floyd Carrier Board', 'relevance_score': 0.3}, {'name': 'FETAiC SoM', 'relevance_score': 0.25}, {'name': 'COMecEL E', 'relevance_score': 0.2}, {'name': 'COMemEL E', 'relevance_score': 0.2}]\n"
     ]
    },
    {
     "name": "stderr",
     "output_type": "stream",
     "text": [
      "INFO:httpx:HTTP Request: POST https://api.openai.com/v1/chat/completions \"HTTP/1.1 200 OK\"\n",
      "INFO:httpx:HTTP Request: POST http://localhost:8080/v1/graphql \"HTTP/1.1 200 OK\"\n",
      "INFO:httpx:HTTP Request: POST http://localhost:8080/v1/graphql \"HTTP/1.1 200 OK\"\n",
      "INFO:httpx:HTTP Request: POST http://localhost:8080/v1/graphql \"HTTP/1.1 200 OK\"\n",
      "INFO:httpx:HTTP Request: POST http://localhost:8080/v1/graphql \"HTTP/1.1 200 OK\"\n",
      "INFO:httpx:HTTP Request: POST http://localhost:8080/v1/graphql \"HTTP/1.1 200 OK\"\n",
      "INFO:httpx:HTTP Request: POST https://api.openai.com/v1/chat/completions \"HTTP/1.1 200 OK\"\n"
     ]
    },
    {
     "name": "stdout",
     "output_type": "stream",
     "text": [
      "rerank_products response from OpenAI: [{'name': 'IWRainboWGD Stratix GXSX SoC FPGA DevKit', 'relevance_score': 1.0}, {'name': 'Stratix Device Handbook', 'relevance_score': 0.9}, {'name': 'Smartfusion Customizable Systemonchip Microcontroller Subsystem', 'relevance_score': 0.7}, {'name': 'Fusion Advanced Development Kit', 'relevance_score': 0.6}, {'name': 'Embedded Vision Portfolio', 'relevance_score': 0.5}, {'name': 'Floyd Carrier Board', 'relevance_score': 0.4}, {'name': 'Eagle Embedded Processing Unit', 'relevance_score': 0.3}, {'name': 'Blackbird Embedded Processing Unit', 'relevance_score': 0.2}, {'name': 'PCA', 'relevance_score': 0.1}, {'name': 'PCE', 'relevance_score': 0.1}]\n"
     ]
    },
    {
     "name": "stderr",
     "output_type": "stream",
     "text": [
      "INFO:httpx:HTTP Request: POST https://api.openai.com/v1/chat/completions \"HTTP/1.1 200 OK\"\n",
      "INFO:httpx:HTTP Request: POST http://localhost:8080/v1/graphql \"HTTP/1.1 200 OK\"\n",
      "INFO:httpx:HTTP Request: POST http://localhost:8080/v1/graphql \"HTTP/1.1 200 OK\"\n",
      "INFO:httpx:HTTP Request: POST http://localhost:8080/v1/graphql \"HTTP/1.1 200 OK\"\n",
      "INFO:httpx:HTTP Request: POST http://localhost:8080/v1/graphql \"HTTP/1.1 200 OK\"\n",
      "INFO:httpx:HTTP Request: POST http://localhost:8080/v1/graphql \"HTTP/1.1 200 OK\"\n",
      "INFO:httpx:HTTP Request: POST https://api.openai.com/v1/chat/completions \"HTTP/1.1 200 OK\"\n"
     ]
    },
    {
     "name": "stdout",
     "output_type": "stream",
     "text": [
      "rerank_products response from OpenAI: [{'name': 'IWRainboWGD Stratix GXSX SoC FPGA DevKit', 'relevance_score': 1.0}, {'name': 'RTG Development Kit', 'relevance_score': 0.9}, {'name': 'Fusion Advanced Development Kit', 'relevance_score': 0.7}, {'name': 'CortexMEnabled IGLOO Development Kit', 'relevance_score': 0.7}, {'name': 'Smartfusion Customizable Systemonchip Microcontroller Subsystem', 'relevance_score': 0.7}, {'name': 'FSP Development Kit', 'relevance_score': 0.5}, {'name': 'ESPSHMIDevKit', 'relevance_score': 0.5}, {'name': 'FETAiC SoM', 'relevance_score': 0.4}, {'name': 'Floyd Carrier Board', 'relevance_score': 0.4}, {'name': 'DragonBoard Embedded Development Kit', 'relevance_score': 0.4}]\n"
     ]
    },
    {
     "name": "stderr",
     "output_type": "stream",
     "text": [
      "INFO:httpx:HTTP Request: POST https://api.openai.com/v1/chat/completions \"HTTP/1.1 200 OK\"\n",
      "INFO:httpx:HTTP Request: POST http://localhost:8080/v1/graphql \"HTTP/1.1 200 OK\"\n",
      "INFO:httpx:HTTP Request: POST http://localhost:8080/v1/graphql \"HTTP/1.1 200 OK\"\n",
      "INFO:httpx:HTTP Request: POST http://localhost:8080/v1/graphql \"HTTP/1.1 200 OK\"\n",
      "INFO:httpx:HTTP Request: POST http://localhost:8080/v1/graphql \"HTTP/1.1 200 OK\"\n",
      "INFO:httpx:HTTP Request: POST http://localhost:8080/v1/graphql \"HTTP/1.1 200 OK\"\n",
      "INFO:httpx:HTTP Request: POST https://api.openai.com/v1/chat/completions \"HTTP/1.1 200 OK\"\n"
     ]
    },
    {
     "name": "stdout",
     "output_type": "stream",
     "text": [
      "rerank_products response from OpenAI: [{'name': 'IWRainboWGD Stratix GXSX SoC FPGA DevKit', 'relevance_score': 1.0}, {'name': 'Evaluation Kit', 'relevance_score': 0.9}, {'name': 'RTG Development Kit', 'relevance_score': 0.85}, {'name': 'Fusion Advanced Development Kit', 'relevance_score': 0.75}, {'name': 'CortexMEnabled IGLOO Development Kit', 'relevance_score': 0.75}, {'name': 'Smartfusion Customizable Systemonchip Microcontroller Subsystem', 'relevance_score': 0.7}, {'name': 'Embedded Vision Portfolio', 'relevance_score': 0.6}, {'name': 'Eagle Embedded Processing Unit', 'relevance_score': 0.5}, {'name': 'Blackbird Embedded Processing Unit', 'relevance_score': 0.5}, {'name': 'Floyd Carrier Board', 'relevance_score': 0.4}]\n"
     ]
    },
    {
     "name": "stderr",
     "output_type": "stream",
     "text": [
      "INFO:httpx:HTTP Request: POST https://api.openai.com/v1/chat/completions \"HTTP/1.1 200 OK\"\n"
     ]
    },
    {
     "name": "stdout",
     "output_type": "stream",
     "text": [
      "Error processing query: Display products combining high-performance FPGAs with embedded development capabilities\n"
     ]
    },
    {
     "name": "stderr",
     "output_type": "stream",
     "text": [
      "INFO:httpx:HTTP Request: POST https://api.openai.com/v1/chat/completions \"HTTP/1.1 200 OK\"\n",
      "INFO:httpx:HTTP Request: POST http://localhost:8080/v1/graphql \"HTTP/1.1 200 OK\"\n",
      "INFO:httpx:HTTP Request: POST http://localhost:8080/v1/graphql \"HTTP/1.1 200 OK\"\n",
      "INFO:httpx:HTTP Request: POST http://localhost:8080/v1/graphql \"HTTP/1.1 200 OK\"\n",
      "INFO:httpx:HTTP Request: POST http://localhost:8080/v1/graphql \"HTTP/1.1 200 OK\"\n",
      "INFO:httpx:HTTP Request: POST http://localhost:8080/v1/graphql \"HTTP/1.1 200 OK\"\n",
      "INFO:httpx:HTTP Request: POST https://api.openai.com/v1/chat/completions \"HTTP/1.1 200 OK\"\n"
     ]
    },
    {
     "name": "stdout",
     "output_type": "stream",
     "text": [
      "rerank_products response from OpenAI: [{'name': 'MiniITX System', 'relevance_score': 0.95}, {'name': 'PPCMBAE MiniITX Motherboard', 'relevance_score': 0.9}, {'name': 'CPU MiniITX SBC Intel Core Celeron', 'relevance_score': 0.88}, {'name': 'Kinotglu', 'relevance_score': 0.85}, {'name': 'Kinotglu Miniitx Sbc', 'relevance_score': 0.85}, {'name': 'Industrial Thin MiniITX', 'relevance_score': 0.8}, {'name': 'MiniITX Server Board', 'relevance_score': 0.75}, {'name': 'PicoITX Single Board Computer', 'relevance_score': 0.4}, {'name': 'PCI Halfsize Intel Atom N Processor Single Board Computer', 'relevance_score': 0.35}, {'name': 'IMX XLite Pico ITX SBC', 'relevance_score': 0.3}]\n"
     ]
    },
    {
     "name": "stderr",
     "output_type": "stream",
     "text": [
      "INFO:httpx:HTTP Request: POST https://api.openai.com/v1/chat/completions \"HTTP/1.1 200 OK\"\n",
      "INFO:httpx:HTTP Request: POST http://localhost:8080/v1/graphql \"HTTP/1.1 200 OK\"\n",
      "INFO:httpx:HTTP Request: POST http://localhost:8080/v1/graphql \"HTTP/1.1 200 OK\"\n",
      "INFO:httpx:HTTP Request: POST http://localhost:8080/v1/graphql \"HTTP/1.1 200 OK\"\n",
      "INFO:httpx:HTTP Request: POST http://localhost:8080/v1/graphql \"HTTP/1.1 200 OK\"\n",
      "INFO:httpx:HTTP Request: POST http://localhost:8080/v1/graphql \"HTTP/1.1 200 OK\"\n",
      "INFO:httpx:HTTP Request: POST https://api.openai.com/v1/chat/completions \"HTTP/1.1 200 OK\"\n"
     ]
    },
    {
     "name": "stdout",
     "output_type": "stream",
     "text": [
      "rerank_products response from OpenAI: [{'name': 'Kinotglu Miniitx Sbc', 'relevance_score': 0.95}, {'name': 'Kinotglu', 'relevance_score': 0.9}, {'name': 'CPU MiniITX SBC Intel Core Celeron', 'relevance_score': 0.85}, {'name': 'MiniITX System', 'relevance_score': 0.8}, {'name': 'PPCMBAE MiniITX Motherboard', 'relevance_score': 0.75}, {'name': 'Industrial Thin MiniITX', 'relevance_score': 0.7}, {'name': 'MiniITX Server Board', 'relevance_score': 0.65}, {'name': 'PicoITX SBC', 'relevance_score': 0.6}, {'name': 'SOMCR Intel 12th Gen Core Processor', 'relevance_score': 0.55}, {'name': 'SOM 13th Gen Intel Core Processor', 'relevance_score': 0.5}]\n"
     ]
    },
    {
     "name": "stderr",
     "output_type": "stream",
     "text": [
      "INFO:httpx:HTTP Request: POST https://api.openai.com/v1/chat/completions \"HTTP/1.1 200 OK\"\n",
      "INFO:httpx:HTTP Request: POST http://localhost:8080/v1/graphql \"HTTP/1.1 200 OK\"\n",
      "INFO:httpx:HTTP Request: POST http://localhost:8080/v1/graphql \"HTTP/1.1 200 OK\"\n",
      "INFO:httpx:HTTP Request: POST http://localhost:8080/v1/graphql \"HTTP/1.1 200 OK\"\n",
      "INFO:httpx:HTTP Request: POST http://localhost:8080/v1/graphql \"HTTP/1.1 200 OK\"\n",
      "INFO:httpx:HTTP Request: POST http://localhost:8080/v1/graphql \"HTTP/1.1 200 OK\"\n",
      "INFO:httpx:HTTP Request: POST https://api.openai.com/v1/chat/completions \"HTTP/1.1 200 OK\"\n"
     ]
    },
    {
     "name": "stdout",
     "output_type": "stream",
     "text": [
      "rerank_products response from OpenAI: [{'name': 'CPU MiniITX SBC Intel Core Celeron', 'relevance_score': 0.95}, {'name': 'MiniITX Server Board', 'relevance_score': 0.9}, {'name': 'Kinotglu', 'relevance_score': 0.88}, {'name': 'Mini ITX Motherboard', 'relevance_score': 0.85}, {'name': 'Kinotglu Miniitx Sbc', 'relevance_score': 0.83}, {'name': 'MiniITX System', 'relevance_score': 0.8}, {'name': 'AMD Ryzen Embedded V Series Mini ITX Motherboard', 'relevance_score': 0.78}, {'name': 'PPCMBAE MiniITX Motherboard', 'relevance_score': 0.75}, {'name': 'PicoITX Single Board Computer', 'relevance_score': 0.3}, {'name': 'PicoITX SBC', 'relevance_score': 0.28}]\n"
     ]
    },
    {
     "name": "stderr",
     "output_type": "stream",
     "text": [
      "INFO:httpx:HTTP Request: POST https://api.openai.com/v1/chat/completions \"HTTP/1.1 200 OK\"\n",
      "INFO:httpx:HTTP Request: POST http://localhost:8080/v1/graphql \"HTTP/1.1 200 OK\"\n",
      "INFO:httpx:HTTP Request: POST http://localhost:8080/v1/graphql \"HTTP/1.1 200 OK\"\n",
      "INFO:httpx:HTTP Request: POST http://localhost:8080/v1/graphql \"HTTP/1.1 200 OK\"\n",
      "INFO:httpx:HTTP Request: POST http://localhost:8080/v1/graphql \"HTTP/1.1 200 OK\"\n",
      "INFO:httpx:HTTP Request: POST http://localhost:8080/v1/graphql \"HTTP/1.1 200 OK\"\n",
      "INFO:httpx:HTTP Request: POST https://api.openai.com/v1/chat/completions \"HTTP/1.1 200 OK\"\n"
     ]
    },
    {
     "name": "stdout",
     "output_type": "stream",
     "text": [
      "rerank_products response from OpenAI: [{'name': 'Kinotglu Miniitx Sbc', 'relevance_score': 0.95}, {'name': 'Kinotglu', 'relevance_score': 0.95}, {'name': 'MiniITX System', 'relevance_score': 0.9}, {'name': 'Industrial Thin MiniITX', 'relevance_score': 0.85}, {'name': 'CPU MiniITX SBC Intel Core Celeron', 'relevance_score': 0.8}, {'name': 'PPCMBAE MiniITX Motherboard', 'relevance_score': 0.75}, {'name': 'MiniITX Server Board', 'relevance_score': 0.7}, {'name': 'PicoITX Single Board Computer', 'relevance_score': 0.6}, {'name': 'IMX XLite Pico ITX SBC', 'relevance_score': 0.55}, {'name': 'IMX M Mini IMX M Nano Pico ITX Single Board Computer', 'relevance_score': 0.5}]\n"
     ]
    },
    {
     "name": "stderr",
     "output_type": "stream",
     "text": [
      "INFO:httpx:HTTP Request: POST https://api.openai.com/v1/chat/completions \"HTTP/1.1 200 OK\"\n",
      "INFO:httpx:HTTP Request: POST http://localhost:8080/v1/graphql \"HTTP/1.1 200 OK\"\n",
      "INFO:httpx:HTTP Request: POST http://localhost:8080/v1/graphql \"HTTP/1.1 200 OK\"\n",
      "INFO:httpx:HTTP Request: POST http://localhost:8080/v1/graphql \"HTTP/1.1 200 OK\"\n",
      "INFO:httpx:HTTP Request: POST http://localhost:8080/v1/graphql \"HTTP/1.1 200 OK\"\n",
      "INFO:httpx:HTTP Request: POST http://localhost:8080/v1/graphql \"HTTP/1.1 200 OK\"\n",
      "INFO:httpx:HTTP Request: POST https://api.openai.com/v1/chat/completions \"HTTP/1.1 200 OK\"\n"
     ]
    },
    {
     "name": "stdout",
     "output_type": "stream",
     "text": [
      "rerank_products response from OpenAI: [{'name': 'CPU MiniITX SBC Intel Core Celeron', 'relevance_score': 0.95}, {'name': 'MiniITX System', 'relevance_score': 0.93}, {'name': 'Industrial Thin MiniITX', 'relevance_score': 0.92}, {'name': 'PPCMBAE MiniITX Motherboard', 'relevance_score': 0.9}, {'name': 'Kinotglu', 'relevance_score': 0.88}, {'name': 'Kinotglu Miniitx Sbc', 'relevance_score': 0.88}, {'name': 'MiniITX Server Board', 'relevance_score': 0.87}, {'name': 'PicoITX Single Board Computer', 'relevance_score': 0.5}, {'name': 'ISIS XL', 'relevance_score': 0.45}, {'name': 'SOMCR Intel 12th Gen Core Processor', 'relevance_score': 0.4}]\n"
     ]
    },
    {
     "name": "stderr",
     "output_type": "stream",
     "text": [
      "INFO:httpx:HTTP Request: POST https://api.openai.com/v1/chat/completions \"HTTP/1.1 200 OK\"\n",
      "INFO:httpx:HTTP Request: POST http://localhost:8080/v1/graphql \"HTTP/1.1 200 OK\"\n",
      "INFO:httpx:HTTP Request: POST http://localhost:8080/v1/graphql \"HTTP/1.1 200 OK\"\n",
      "INFO:httpx:HTTP Request: POST http://localhost:8080/v1/graphql \"HTTP/1.1 200 OK\"\n",
      "INFO:httpx:HTTP Request: POST http://localhost:8080/v1/graphql \"HTTP/1.1 200 OK\"\n",
      "INFO:httpx:HTTP Request: POST http://localhost:8080/v1/graphql \"HTTP/1.1 200 OK\"\n",
      "INFO:httpx:HTTP Request: POST https://api.openai.com/v1/chat/completions \"HTTP/1.1 200 OK\"\n"
     ]
    },
    {
     "name": "stdout",
     "output_type": "stream",
     "text": [
      "rerank_products response from OpenAI: [{'name': 'XMC Microcontroller', 'relevance_score': 1.0}, {'name': 'Devkitngc', 'relevance_score': 0.9}, {'name': 'CM Industrial', 'relevance_score': 0.8}, {'name': 'EmNANOiE', 'relevance_score': 0.7}, {'name': 'EmQiA', 'relevance_score': 0.7}, {'name': 'Embedded Automation Computer', 'relevance_score': 0.6}, {'name': 'COM Express Compact Module', 'relevance_score': 0.5}, {'name': 'SOM Intel Atom E Pentium Celeron N Series Processors COMExpress Compact Module', 'relevance_score': 0.5}, {'name': 'NanoXAL COM Express Mini Size Type Module', 'relevance_score': 0.5}, {'name': 'SOM COMExpress Mini Module', 'relevance_score': 0.5}]\n"
     ]
    },
    {
     "name": "stderr",
     "output_type": "stream",
     "text": [
      "INFO:httpx:HTTP Request: POST https://api.openai.com/v1/chat/completions \"HTTP/1.1 200 OK\"\n",
      "INFO:httpx:HTTP Request: POST http://localhost:8080/v1/graphql \"HTTP/1.1 200 OK\"\n",
      "INFO:httpx:HTTP Request: POST http://localhost:8080/v1/graphql \"HTTP/1.1 200 OK\"\n",
      "INFO:httpx:HTTP Request: POST http://localhost:8080/v1/graphql \"HTTP/1.1 200 OK\"\n",
      "INFO:httpx:HTTP Request: POST http://localhost:8080/v1/graphql \"HTTP/1.1 200 OK\"\n",
      "INFO:httpx:HTTP Request: POST http://localhost:8080/v1/graphql \"HTTP/1.1 200 OK\"\n",
      "INFO:httpx:HTTP Request: POST https://api.openai.com/v1/chat/completions \"HTTP/1.1 200 OK\"\n"
     ]
    },
    {
     "name": "stdout",
     "output_type": "stream",
     "text": [
      "rerank_products response from OpenAI: [{'name': 'ESPSDevKitC', 'relevance_score': 1.0}, {'name': 'ESPDevKitS', 'relevance_score': 0.95}, {'name': 'ESPDevKitC', 'relevance_score': 0.95}, {'name': 'LPC Development Kit', 'relevance_score': 0.9}, {'name': 'COM Express Compact Module', 'relevance_score': 0.2}, {'name': 'NanoXAL COM Express Mini Size Type Module', 'relevance_score': 0.2}, {'name': 'SOM Intel Atom E Pentium Celeron N Series Processors COMExpress Compact Module', 'relevance_score': 0.2}, {'name': 'SOM Intel Atom Celeron Processor COM Express Type Compact Module', 'relevance_score': 0.2}, {'name': 'SOM Intel Atom E Celeron Processor QSeven CPU Module', 'relevance_score': 0.2}, {'name': 'SOM COMExpress Mini Module', 'relevance_score': 0.2}]\n"
     ]
    },
    {
     "name": "stderr",
     "output_type": "stream",
     "text": [
      "INFO:httpx:HTTP Request: POST https://api.openai.com/v1/chat/completions \"HTTP/1.1 200 OK\"\n",
      "INFO:httpx:HTTP Request: POST http://localhost:8080/v1/graphql \"HTTP/1.1 200 OK\"\n",
      "INFO:httpx:HTTP Request: POST http://localhost:8080/v1/graphql \"HTTP/1.1 200 OK\"\n",
      "INFO:httpx:HTTP Request: POST http://localhost:8080/v1/graphql \"HTTP/1.1 200 OK\"\n",
      "INFO:httpx:HTTP Request: POST http://localhost:8080/v1/graphql \"HTTP/1.1 200 OK\"\n",
      "INFO:httpx:HTTP Request: POST http://localhost:8080/v1/graphql \"HTTP/1.1 200 OK\"\n",
      "INFO:httpx:HTTP Request: POST https://api.openai.com/v1/chat/completions \"HTTP/1.1 200 OK\"\n"
     ]
    },
    {
     "name": "stdout",
     "output_type": "stream",
     "text": [
      "rerank_products response from OpenAI: [{'name': 'ULCDD Series', 'relevance_score': 0.95}, {'name': 'OP eDisplay Series', 'relevance_score': 0.92}, {'name': 'ARM CortexMEnabled ProASICL Development Kit', 'relevance_score': 0.9}, {'name': 'Fusion Advanced Development Kit', 'relevance_score': 0.88}, {'name': 'Reflective LCD Front Light Dev Kit', 'relevance_score': 0.85}, {'name': 'LPC Development Kit', 'relevance_score': 0.83}, {'name': 'ESPSDevKitC', 'relevance_score': 0.8}, {'name': 'SF Serial Flash Expansion Card', 'relevance_score': 0.78}, {'name': 'PCMCIA Module', 'relevance_score': 0.75}, {'name': 'XMC Microcontroller', 'relevance_score': 0.73}]\n"
     ]
    },
    {
     "name": "stderr",
     "output_type": "stream",
     "text": [
      "INFO:httpx:HTTP Request: POST https://api.openai.com/v1/chat/completions \"HTTP/1.1 200 OK\"\n",
      "INFO:httpx:HTTP Request: POST http://localhost:8080/v1/graphql \"HTTP/1.1 200 OK\"\n",
      "INFO:httpx:HTTP Request: POST http://localhost:8080/v1/graphql \"HTTP/1.1 200 OK\"\n",
      "INFO:httpx:HTTP Request: POST http://localhost:8080/v1/graphql \"HTTP/1.1 200 OK\"\n",
      "INFO:httpx:HTTP Request: POST http://localhost:8080/v1/graphql \"HTTP/1.1 200 OK\"\n",
      "INFO:httpx:HTTP Request: POST http://localhost:8080/v1/graphql \"HTTP/1.1 200 OK\"\n",
      "INFO:httpx:HTTP Request: POST https://api.openai.com/v1/chat/completions \"HTTP/1.1 200 OK\"\n"
     ]
    },
    {
     "name": "stdout",
     "output_type": "stream",
     "text": [
      "rerank_products response from OpenAI: [{'name': 'SGVNPRDB', 'relevance_score': 0.95}, {'name': 'UnitV', 'relevance_score': 0.9}, {'name': 'COMe Ref Carrieri T TNI', 'relevance_score': 0.85}, {'name': 'Jetson Xavier NX', 'relevance_score': 0.7}, {'name': 'EmNANOi C', 'relevance_score': 0.65}, {'name': 'EmNANOiE', 'relevance_score': 0.65}, {'name': 'SOM Intel Atom Pentium Celeron Series QSeven CPU Module', 'relevance_score': 0.6}, {'name': 'NanoXAL COM Express Mini Size Type Module', 'relevance_score': 0.55}, {'name': 'SOM Intel Atom E Pentium Celeron N Series Processors COMExpress Compact Module', 'relevance_score': 0.5}, {'name': 'SOM 7th Gen Intel Xeon Core Celeron Processors COM Express Basic Module', 'relevance_score': 0.5}]\n"
     ]
    },
    {
     "name": "stderr",
     "output_type": "stream",
     "text": [
      "INFO:httpx:HTTP Request: POST https://api.openai.com/v1/chat/completions \"HTTP/1.1 200 OK\"\n",
      "INFO:httpx:HTTP Request: POST http://localhost:8080/v1/graphql \"HTTP/1.1 200 OK\"\n",
      "INFO:httpx:HTTP Request: POST http://localhost:8080/v1/graphql \"HTTP/1.1 200 OK\"\n",
      "INFO:httpx:HTTP Request: POST http://localhost:8080/v1/graphql \"HTTP/1.1 200 OK\"\n",
      "INFO:httpx:HTTP Request: POST http://localhost:8080/v1/graphql \"HTTP/1.1 200 OK\"\n",
      "INFO:httpx:HTTP Request: POST http://localhost:8080/v1/graphql \"HTTP/1.1 200 OK\"\n",
      "INFO:httpx:HTTP Request: POST https://api.openai.com/v1/chat/completions \"HTTP/1.1 200 OK\"\n"
     ]
    },
    {
     "name": "stdout",
     "output_type": "stream",
     "text": [
      "rerank_products response from OpenAI: [{'name': 'XMC Microcontroller', 'relevance_score': 0.95}, {'name': 'ULCDD Series', 'relevance_score': 0.9}, {'name': 'SF Serial Flash Expansion Card', 'relevance_score': 0.85}, {'name': 'PCMCIA Module', 'relevance_score': 0.8}, {'name': 'Reflective LCD Front Light Dev Kit', 'relevance_score': 0.75}, {'name': 'UnitV', 'relevance_score': 0.7}, {'name': 'Device Monitoring System', 'relevance_score': 0.65}, {'name': 'Blackbird Embedded Processing Unit', 'relevance_score': 0.6}, {'name': 'COM Express Compact Module', 'relevance_score': 0.55}, {'name': 'Newt EPIC Single Board Computer', 'relevance_score': 0.5}]\n"
     ]
    },
    {
     "name": "stderr",
     "output_type": "stream",
     "text": [
      "INFO:httpx:HTTP Request: POST https://api.openai.com/v1/chat/completions \"HTTP/1.1 200 OK\"\n",
      "INFO:httpx:HTTP Request: POST http://localhost:8080/v1/graphql \"HTTP/1.1 200 OK\"\n",
      "INFO:httpx:HTTP Request: POST http://localhost:8080/v1/graphql \"HTTP/1.1 200 OK\"\n",
      "INFO:httpx:HTTP Request: POST http://localhost:8080/v1/graphql \"HTTP/1.1 200 OK\"\n",
      "INFO:httpx:HTTP Request: POST http://localhost:8080/v1/graphql \"HTTP/1.1 200 OK\"\n",
      "INFO:httpx:HTTP Request: POST http://localhost:8080/v1/graphql \"HTTP/1.1 200 OK\"\n",
      "INFO:httpx:HTTP Request: POST https://api.openai.com/v1/chat/completions \"HTTP/1.1 200 OK\"\n"
     ]
    },
    {
     "name": "stdout",
     "output_type": "stream",
     "text": [
      "rerank_products response from OpenAI: [{'name': 'OMAP Evaluation Platform', 'relevance_score': 1.0}, {'name': 'MCCAMXJ CPU Module', 'relevance_score': 0.95}, {'name': 'ROM NXP ARM CortexA iMX SMARC v Module', 'relevance_score': 0.9}, {'name': 'Rom Nxp Imx X Cortexa Rtx Module', 'relevance_score': 0.85}, {'name': 'ARM CortexMEnabled ProASICL Development Kit', 'relevance_score': 0.8}, {'name': 'Zynq Ultrascale MPSoC SOM', 'relevance_score': 0.75}, {'name': 'SMARC Module', 'relevance_score': 0.7}, {'name': 'Zynq SoC SODIMM SOM', 'relevance_score': 0.65}, {'name': 'Digi ConnectCore', 'relevance_score': 0.6}, {'name': 'MYCYMX CPU Module', 'relevance_score': 0.55}]\n"
     ]
    },
    {
     "name": "stderr",
     "output_type": "stream",
     "text": [
      "INFO:httpx:HTTP Request: POST https://api.openai.com/v1/chat/completions \"HTTP/1.1 200 OK\"\n",
      "INFO:httpx:HTTP Request: POST http://localhost:8080/v1/graphql \"HTTP/1.1 200 OK\"\n",
      "INFO:httpx:HTTP Request: POST http://localhost:8080/v1/graphql \"HTTP/1.1 200 OK\"\n",
      "INFO:httpx:HTTP Request: POST http://localhost:8080/v1/graphql \"HTTP/1.1 200 OK\"\n",
      "INFO:httpx:HTTP Request: POST http://localhost:8080/v1/graphql \"HTTP/1.1 200 OK\"\n",
      "INFO:httpx:HTTP Request: POST http://localhost:8080/v1/graphql \"HTTP/1.1 200 OK\"\n",
      "INFO:httpx:HTTP Request: POST https://api.openai.com/v1/chat/completions \"HTTP/1.1 200 OK\"\n"
     ]
    },
    {
     "name": "stdout",
     "output_type": "stream",
     "text": [
      "rerank_products response from OpenAI: [{'name': 'MCCAMXJ CPU Module', 'relevance_score': 0.95}, {'name': 'Phycore Imx System Module', 'relevance_score': 0.9}, {'name': 'Zynq Ultrascale MPSoC SOM', 'relevance_score': 0.85}, {'name': 'SMARC Module', 'relevance_score': 0.85}, {'name': 'Zynq SoC SODIMM SOM', 'relevance_score': 0.8}, {'name': 'Digi ConnectCore', 'relevance_score': 0.75}, {'name': 'MYCYMX CPU Module', 'relevance_score': 0.7}, {'name': 'MYCJD CPU Module', 'relevance_score': 0.65}, {'name': 'CPU COM Express Basic Type', 'relevance_score': 0.3}, {'name': 'SOMCR Intel 12th Gen Core Processor', 'relevance_score': 0.25}]\n"
     ]
    },
    {
     "name": "stderr",
     "output_type": "stream",
     "text": [
      "INFO:httpx:HTTP Request: POST https://api.openai.com/v1/chat/completions \"HTTP/1.1 200 OK\"\n",
      "INFO:httpx:HTTP Request: POST http://localhost:8080/v1/graphql \"HTTP/1.1 200 OK\"\n",
      "INFO:httpx:HTTP Request: POST http://localhost:8080/v1/graphql \"HTTP/1.1 200 OK\"\n",
      "INFO:httpx:HTTP Request: POST http://localhost:8080/v1/graphql \"HTTP/1.1 200 OK\"\n",
      "INFO:httpx:HTTP Request: POST http://localhost:8080/v1/graphql \"HTTP/1.1 200 OK\"\n",
      "INFO:httpx:HTTP Request: POST http://localhost:8080/v1/graphql \"HTTP/1.1 200 OK\"\n",
      "INFO:httpx:HTTP Request: POST https://api.openai.com/v1/chat/completions \"HTTP/1.1 200 OK\"\n"
     ]
    },
    {
     "name": "stdout",
     "output_type": "stream",
     "text": [
      "rerank_products response from OpenAI: [{'name': 'OMAP Evaluation Platform', 'relevance_score': 1.0}, {'name': 'ROM NXP ARM CortexA iMX SMARC v Module', 'relevance_score': 0.95}, {'name': 'Rom Nxp Imx X Cortexa Rtx Module', 'relevance_score': 0.9}, {'name': 'MCCAMXJ CPU Module', 'relevance_score': 0.85}, {'name': 'Zynq Ultrascale MPSoC SOM', 'relevance_score': 0.3}, {'name': 'SMARC Module', 'relevance_score': 0.3}, {'name': 'MYCJD CPU Module', 'relevance_score': 0.1}, {'name': 'MYCYMX CPU Module', 'relevance_score': 0.1}, {'name': 'Microsom', 'relevance_score': 0.1}, {'name': 'CPU COM Express Basic Type', 'relevance_score': 0.05}]\n"
     ]
    },
    {
     "name": "stderr",
     "output_type": "stream",
     "text": [
      "INFO:httpx:HTTP Request: POST https://api.openai.com/v1/chat/completions \"HTTP/1.1 200 OK\"\n",
      "INFO:httpx:HTTP Request: POST http://localhost:8080/v1/graphql \"HTTP/1.1 200 OK\"\n",
      "INFO:httpx:HTTP Request: POST http://localhost:8080/v1/graphql \"HTTP/1.1 200 OK\"\n",
      "INFO:httpx:HTTP Request: POST http://localhost:8080/v1/graphql \"HTTP/1.1 200 OK\"\n",
      "INFO:httpx:HTTP Request: POST http://localhost:8080/v1/graphql \"HTTP/1.1 200 OK\"\n",
      "INFO:httpx:HTTP Request: POST http://localhost:8080/v1/graphql \"HTTP/1.1 200 OK\"\n",
      "INFO:httpx:HTTP Request: POST https://api.openai.com/v1/chat/completions \"HTTP/1.1 200 OK\"\n"
     ]
    },
    {
     "name": "stdout",
     "output_type": "stream",
     "text": [
      "rerank_products response from OpenAI: [{'name': 'MCCAMXJ CPU Module', 'relevance_score': 0.95}, {'name': 'SBC iMX ARM CortexA', 'relevance_score': 0.92}, {'name': 'Rom Nxp Imx X Cortexa Rtx Module', 'relevance_score': 0.9}, {'name': 'ROM NXP ARM CortexA iMX SMARC v Module', 'relevance_score': 0.88}, {'name': 'MYCCMMXV CPU Module', 'relevance_score': 0.85}, {'name': 'Digi ConnectCore', 'relevance_score': 0.82}, {'name': 'Zynq Ultrascale MPSoC SOM', 'relevance_score': 0.8}, {'name': 'SMARC Module', 'relevance_score': 0.78}, {'name': 'Zynq SoC SODIMM SOM', 'relevance_score': 0.75}, {'name': 'BeagleBone AI', 'relevance_score': 0.7}]\n"
     ]
    },
    {
     "name": "stderr",
     "output_type": "stream",
     "text": [
      "INFO:httpx:HTTP Request: POST https://api.openai.com/v1/chat/completions \"HTTP/1.1 200 OK\"\n",
      "INFO:httpx:HTTP Request: POST http://localhost:8080/v1/graphql \"HTTP/1.1 200 OK\"\n",
      "INFO:httpx:HTTP Request: POST http://localhost:8080/v1/graphql \"HTTP/1.1 200 OK\"\n",
      "INFO:httpx:HTTP Request: POST http://localhost:8080/v1/graphql \"HTTP/1.1 200 OK\"\n",
      "INFO:httpx:HTTP Request: POST http://localhost:8080/v1/graphql \"HTTP/1.1 200 OK\"\n",
      "INFO:httpx:HTTP Request: POST http://localhost:8080/v1/graphql \"HTTP/1.1 200 OK\"\n",
      "INFO:httpx:HTTP Request: POST https://api.openai.com/v1/chat/completions \"HTTP/1.1 200 OK\"\n"
     ]
    },
    {
     "name": "stdout",
     "output_type": "stream",
     "text": [
      "rerank_products response from OpenAI: [{'name': 'MCCAMXJ CPU Module', 'relevance_score': 0.95}, {'name': 'MYCAMX CPU Module', 'relevance_score': 0.95}, {'name': 'ROM NXP ARM CortexA iMX SMARC v Module', 'relevance_score': 0.9}, {'name': 'Rom Nxp Imx X Cortexa Rtx Module', 'relevance_score': 0.9}, {'name': 'ARM CortexMEnabled ProASICL Development Kit', 'relevance_score': 0.85}, {'name': 'Zynq Ultrascale MPSoC SOM', 'relevance_score': 0.75}, {'name': 'SMARC Module', 'relevance_score': 0.75}, {'name': 'Zynq SoC SODIMM SOM', 'relevance_score': 0.7}, {'name': 'MYCYMX CPU Module', 'relevance_score': 0.6}, {'name': 'MYCYGLX CPU Module', 'relevance_score': 0.5}]\n"
     ]
    },
    {
     "name": "stderr",
     "output_type": "stream",
     "text": [
      "INFO:httpx:HTTP Request: POST https://api.openai.com/v1/chat/completions \"HTTP/1.1 200 OK\"\n",
      "INFO:httpx:HTTP Request: POST http://localhost:8080/v1/graphql \"HTTP/1.1 200 OK\"\n",
      "INFO:httpx:HTTP Request: POST http://localhost:8080/v1/graphql \"HTTP/1.1 200 OK\"\n",
      "INFO:httpx:HTTP Request: POST http://localhost:8080/v1/graphql \"HTTP/1.1 200 OK\"\n",
      "INFO:httpx:HTTP Request: POST http://localhost:8080/v1/graphql \"HTTP/1.1 200 OK\"\n",
      "INFO:httpx:HTTP Request: POST http://localhost:8080/v1/graphql \"HTTP/1.1 200 OK\"\n",
      "INFO:httpx:HTTP Request: POST https://api.openai.com/v1/chat/completions \"HTTP/1.1 200 OK\"\n"
     ]
    },
    {
     "name": "stdout",
     "output_type": "stream",
     "text": [
      "rerank_products response from OpenAI: [{'name': 'SBC Board Q BiPA', 'relevance_score': 0.95}, {'name': 'PBQ Qseven Carrier Board', 'relevance_score': 0.9}, {'name': 'RSB Single Board Computer', 'relevance_score': 0.85}, {'name': 'Saturn', 'relevance_score': 0.8}, {'name': 'MiniITX Server Board', 'relevance_score': 0.75}, {'name': 'ATX Server Board', 'relevance_score': 0.7}, {'name': 'EmETXei Intel Atom N D COM Express Compact Type CPU Module', 'relevance_score': 0.65}, {'name': 'CPU COM Express Basic Type', 'relevance_score': 0.6}, {'name': 'SIMBA ATX Motherboard', 'relevance_score': 0.55}, {'name': 'SolidPC Q', 'relevance_score': 0.5}]\n"
     ]
    },
    {
     "name": "stderr",
     "output_type": "stream",
     "text": [
      "INFO:httpx:HTTP Request: POST https://api.openai.com/v1/chat/completions \"HTTP/1.1 200 OK\"\n",
      "INFO:httpx:HTTP Request: POST http://localhost:8080/v1/graphql \"HTTP/1.1 200 OK\"\n",
      "INFO:httpx:HTTP Request: POST http://localhost:8080/v1/graphql \"HTTP/1.1 200 OK\"\n",
      "INFO:httpx:HTTP Request: POST http://localhost:8080/v1/graphql \"HTTP/1.1 200 OK\"\n",
      "INFO:httpx:HTTP Request: POST http://localhost:8080/v1/graphql \"HTTP/1.1 200 OK\"\n",
      "INFO:httpx:HTTP Request: POST http://localhost:8080/v1/graphql \"HTTP/1.1 200 OK\"\n",
      "INFO:httpx:HTTP Request: POST https://api.openai.com/v1/chat/completions \"HTTP/1.1 200 OK\"\n"
     ]
    },
    {
     "name": "stdout",
     "output_type": "stream",
     "text": [
      "rerank_products response from OpenAI: [{'name': 'SBC Board Q BiPA', 'relevance_score': 1.0}, {'name': 'Saturn', 'relevance_score': 0.95}, {'name': 'ATX Server Board', 'relevance_score': 0.9}, {'name': 'MiniITX Server Board', 'relevance_score': 0.85}, {'name': 'RSB Single Board Computer', 'relevance_score': 0.8}, {'name': 'EmETXei Intel Atom N D COM Express Compact Type CPU Module', 'relevance_score': 0.75}, {'name': 'SIMBA ATX Motherboard', 'relevance_score': 0.7}, {'name': 'CPU COM Express Basic Type', 'relevance_score': 0.65}, {'name': 'EmETXaE AMD Fusion GTN ETX CPU Module', 'relevance_score': 0.6}, {'name': 'EmETXeiC Intel Atom D COM Express Compact Type CPU Module', 'relevance_score': 0.55}]\n"
     ]
    },
    {
     "name": "stderr",
     "output_type": "stream",
     "text": [
      "INFO:httpx:HTTP Request: POST https://api.openai.com/v1/chat/completions \"HTTP/1.1 200 OK\"\n",
      "INFO:httpx:HTTP Request: POST http://localhost:8080/v1/graphql \"HTTP/1.1 200 OK\"\n",
      "INFO:httpx:HTTP Request: POST http://localhost:8080/v1/graphql \"HTTP/1.1 200 OK\"\n",
      "INFO:httpx:HTTP Request: POST http://localhost:8080/v1/graphql \"HTTP/1.1 200 OK\"\n",
      "INFO:httpx:HTTP Request: POST http://localhost:8080/v1/graphql \"HTTP/1.1 200 OK\"\n",
      "INFO:httpx:HTTP Request: POST http://localhost:8080/v1/graphql \"HTTP/1.1 200 OK\"\n",
      "INFO:httpx:HTTP Request: POST https://api.openai.com/v1/chat/completions \"HTTP/1.1 200 OK\"\n"
     ]
    },
    {
     "name": "stdout",
     "output_type": "stream",
     "text": [
      "rerank_products response from OpenAI: [{'name': 'SBC Board Q BiPA', 'relevance_score': 1.0}, {'name': 'Saturn', 'relevance_score': 0.95}, {'name': 'PBQ Qseven Carrier Board', 'relevance_score': 0.9}, {'name': 'RSB Single Board Computer', 'relevance_score': 0.85}, {'name': 'MiniITX Server Board', 'relevance_score': 0.8}, {'name': 'ET COM Express', 'relevance_score': 0.75}, {'name': 'ExpressBD', 'relevance_score': 0.7}, {'name': 'PicoITX SBC', 'relevance_score': 0.65}, {'name': 'Qseven Computer On Module', 'relevance_score': 0.6}, {'name': 'QBT Computer On Module', 'relevance_score': 0.55}]\n"
     ]
    },
    {
     "name": "stderr",
     "output_type": "stream",
     "text": [
      "INFO:httpx:HTTP Request: POST https://api.openai.com/v1/chat/completions \"HTTP/1.1 200 OK\"\n",
      "INFO:httpx:HTTP Request: POST http://localhost:8080/v1/graphql \"HTTP/1.1 200 OK\"\n",
      "INFO:httpx:HTTP Request: POST http://localhost:8080/v1/graphql \"HTTP/1.1 200 OK\"\n",
      "INFO:httpx:HTTP Request: POST http://localhost:8080/v1/graphql \"HTTP/1.1 200 OK\"\n",
      "INFO:httpx:HTTP Request: POST http://localhost:8080/v1/graphql \"HTTP/1.1 200 OK\"\n",
      "INFO:httpx:HTTP Request: POST http://localhost:8080/v1/graphql \"HTTP/1.1 200 OK\"\n",
      "INFO:httpx:HTTP Request: POST https://api.openai.com/v1/chat/completions \"HTTP/1.1 200 OK\"\n"
     ]
    },
    {
     "name": "stdout",
     "output_type": "stream",
     "text": [
      "rerank_products response from OpenAI: [{'name': 'SBC Board Q BiPA', 'relevance_score': 1.0}, {'name': 'RSB Single Board Computer', 'relevance_score': 0.95}, {'name': 'Saturn', 'relevance_score': 0.9}, {'name': 'MiniITX Server Board', 'relevance_score': 0.85}, {'name': 'ATX Server Board', 'relevance_score': 0.8}, {'name': 'CPU COM Express Basic Type', 'relevance_score': 0.75}, {'name': 'EmETXaE AMD Fusion GTN ETX CPU Module', 'relevance_score': 0.7}, {'name': 'EmETXei Intel Atom N D COM Express Compact Type CPU Module', 'relevance_score': 0.65}, {'name': 'EmQi Intel Atom Processor E Family Qseven CPU Module', 'relevance_score': 0.6}, {'name': 'EmQiA', 'relevance_score': 0.55}]\n"
     ]
    },
    {
     "name": "stderr",
     "output_type": "stream",
     "text": [
      "INFO:httpx:HTTP Request: POST https://api.openai.com/v1/chat/completions \"HTTP/1.1 200 OK\"\n",
      "INFO:httpx:HTTP Request: POST http://localhost:8080/v1/graphql \"HTTP/1.1 200 OK\"\n",
      "INFO:httpx:HTTP Request: POST http://localhost:8080/v1/graphql \"HTTP/1.1 200 OK\"\n",
      "INFO:httpx:HTTP Request: POST http://localhost:8080/v1/graphql \"HTTP/1.1 200 OK\"\n",
      "INFO:httpx:HTTP Request: POST http://localhost:8080/v1/graphql \"HTTP/1.1 200 OK\"\n",
      "INFO:httpx:HTTP Request: POST http://localhost:8080/v1/graphql \"HTTP/1.1 200 OK\"\n",
      "INFO:httpx:HTTP Request: POST https://api.openai.com/v1/chat/completions \"HTTP/1.1 200 OK\"\n"
     ]
    },
    {
     "name": "stdout",
     "output_type": "stream",
     "text": [
      "rerank_products response from OpenAI: [{'name': 'SBC Board Q BiPA', 'relevance_score': 1.0}, {'name': 'Saturn', 'relevance_score': 0.95}, {'name': 'ATX Server Board', 'relevance_score': 0.9}, {'name': 'PBQ Qseven Carrier Board', 'relevance_score': 0.85}, {'name': 'RSB Single Board Computer', 'relevance_score': 0.8}, {'name': 'IMX Quad Max Quad Plus Picoitx Sbc', 'relevance_score': 0.75}, {'name': 'ET COM Express', 'relevance_score': 0.7}, {'name': 'ExpressBD', 'relevance_score': 0.65}, {'name': 'Qseven Computer On Module', 'relevance_score': 0.6}, {'name': 'QBT Computer On Module', 'relevance_score': 0.55}]\n"
     ]
    },
    {
     "name": "stderr",
     "output_type": "stream",
     "text": [
      "INFO:httpx:HTTP Request: POST https://api.openai.com/v1/chat/completions \"HTTP/1.1 200 OK\"\n",
      "INFO:httpx:HTTP Request: POST http://localhost:8080/v1/graphql \"HTTP/1.1 200 OK\"\n",
      "INFO:httpx:HTTP Request: POST http://localhost:8080/v1/graphql \"HTTP/1.1 200 OK\"\n",
      "INFO:httpx:HTTP Request: POST http://localhost:8080/v1/graphql \"HTTP/1.1 200 OK\"\n",
      "INFO:httpx:HTTP Request: POST http://localhost:8080/v1/graphql \"HTTP/1.1 200 OK\"\n",
      "INFO:httpx:HTTP Request: POST http://localhost:8080/v1/graphql \"HTTP/1.1 200 OK\"\n",
      "INFO:httpx:HTTP Request: POST https://api.openai.com/v1/chat/completions \"HTTP/1.1 200 OK\"\n"
     ]
    },
    {
     "name": "stdout",
     "output_type": "stream",
     "text": [
      "rerank_products response from OpenAI: [{'name': 'SOM 13th Gen Intel Core Processor', 'relevance_score': 0.95}, {'name': 'SOMCR Intel 12th Gen Core Processor', 'relevance_score': 0.9}, {'name': 'Tank Aiot Dev Kit', 'relevance_score': 0.85}, {'name': 'Eagle Embedded Processing Unit', 'relevance_score': 0.8}, {'name': 'SOM CPU Module', 'relevance_score': 0.75}, {'name': 'SOM 7th Gen Intel Xeon Core Celeron Processors COM Express Basic Module', 'relevance_score': 0.7}, {'name': 'COMecWL ES COM Express Compact', 'relevance_score': 0.65}, {'name': 'Congatcr', 'relevance_score': 0.6}, {'name': 'COM Express Basic Type CPU Module', 'relevance_score': 0.55}, {'name': 'SOM 6th Gen Intel Core Celeron Processors COM Express Compact Module', 'relevance_score': 0.5}]\n"
     ]
    },
    {
     "name": "stderr",
     "output_type": "stream",
     "text": [
      "INFO:httpx:HTTP Request: POST https://api.openai.com/v1/chat/completions \"HTTP/1.1 200 OK\"\n",
      "INFO:httpx:HTTP Request: POST http://localhost:8080/v1/graphql \"HTTP/1.1 200 OK\"\n",
      "INFO:httpx:HTTP Request: POST http://localhost:8080/v1/graphql \"HTTP/1.1 200 OK\"\n",
      "INFO:httpx:HTTP Request: POST http://localhost:8080/v1/graphql \"HTTP/1.1 200 OK\"\n",
      "INFO:httpx:HTTP Request: POST http://localhost:8080/v1/graphql \"HTTP/1.1 200 OK\"\n",
      "INFO:httpx:HTTP Request: POST http://localhost:8080/v1/graphql \"HTTP/1.1 200 OK\"\n",
      "INFO:httpx:HTTP Request: POST https://api.openai.com/v1/chat/completions \"HTTP/1.1 200 OK\"\n"
     ]
    },
    {
     "name": "stdout",
     "output_type": "stream",
     "text": [
      "rerank_products response from OpenAI: [{'name': 'Tank Aiot Dev Kit', 'relevance_score': 0.95}, {'name': 'Eagle Embedded Processing Unit', 'relevance_score': 0.9}, {'name': 'SOM 13th Gen Intel Core Processor', 'relevance_score': 0.85}, {'name': 'COMebRP E', 'relevance_score': 0.8}, {'name': 'SOMCR Intel 12th Gen Core Processor', 'relevance_score': 0.75}, {'name': 'COMhccAS', 'relevance_score': 0.7}, {'name': 'COMhcaAP', 'relevance_score': 0.65}, {'name': 'UP Xtreme Developer Board', 'relevance_score': 0.6}, {'name': 'COMecWL ES COM Express Compact', 'relevance_score': 0.55}, {'name': 'SOM 6th Gen Intel Core Celeron Processors COM Express Compact Module', 'relevance_score': 0.5}]\n"
     ]
    },
    {
     "name": "stderr",
     "output_type": "stream",
     "text": [
      "INFO:httpx:HTTP Request: POST https://api.openai.com/v1/chat/completions \"HTTP/1.1 200 OK\"\n",
      "INFO:httpx:HTTP Request: POST http://localhost:8080/v1/graphql \"HTTP/1.1 200 OK\"\n",
      "INFO:httpx:HTTP Request: POST http://localhost:8080/v1/graphql \"HTTP/1.1 200 OK\"\n",
      "INFO:httpx:HTTP Request: POST http://localhost:8080/v1/graphql \"HTTP/1.1 200 OK\"\n",
      "INFO:httpx:HTTP Request: POST http://localhost:8080/v1/graphql \"HTTP/1.1 200 OK\"\n",
      "INFO:httpx:HTTP Request: POST http://localhost:8080/v1/graphql \"HTTP/1.1 200 OK\"\n",
      "INFO:httpx:HTTP Request: POST https://api.openai.com/v1/chat/completions \"HTTP/1.1 200 OK\"\n"
     ]
    },
    {
     "name": "stdout",
     "output_type": "stream",
     "text": [
      "rerank_products response from OpenAI: [{'name': 'SOM CPU Module', 'relevance_score': 1.0}, {'name': 'Conga BXD', 'relevance_score': 0.95}, {'name': 'SOMCR Intel 12th Gen Core Processor', 'relevance_score': 0.9}, {'name': 'COMhccAS', 'relevance_score': 0.9}, {'name': 'COMhcaAP', 'relevance_score': 0.85}, {'name': 'SOM Intel Atom C Processor COM Express R Type Module', 'relevance_score': 0.85}, {'name': 'SOM Intel 11th Gen Core Processors', 'relevance_score': 0.8}, {'name': 'SOM 7th Gen Intel Xeon Core Celeron Processors COM Express Basic Module', 'relevance_score': 0.75}, {'name': 'PCM', 'relevance_score': 0.7}, {'name': 'DS Intel Core iU Celeron U', 'relevance_score': 0.65}]\n"
     ]
    },
    {
     "name": "stderr",
     "output_type": "stream",
     "text": [
      "INFO:httpx:HTTP Request: POST https://api.openai.com/v1/chat/completions \"HTTP/1.1 200 OK\"\n",
      "INFO:httpx:HTTP Request: POST http://localhost:8080/v1/graphql \"HTTP/1.1 200 OK\"\n",
      "INFO:httpx:HTTP Request: POST http://localhost:8080/v1/graphql \"HTTP/1.1 200 OK\"\n",
      "INFO:httpx:HTTP Request: POST http://localhost:8080/v1/graphql \"HTTP/1.1 200 OK\"\n",
      "INFO:httpx:HTTP Request: POST http://localhost:8080/v1/graphql \"HTTP/1.1 200 OK\"\n",
      "INFO:httpx:HTTP Request: POST http://localhost:8080/v1/graphql \"HTTP/1.1 200 OK\"\n",
      "INFO:httpx:HTTP Request: POST https://api.openai.com/v1/chat/completions \"HTTP/1.1 200 OK\"\n"
     ]
    },
    {
     "name": "stdout",
     "output_type": "stream",
     "text": [
      "rerank_products response from OpenAI: [{'name': 'Tank Aiot Dev Kit', 'relevance_score': 0.95}, {'name': 'SOM 13th Gen Intel Core Processor', 'relevance_score': 0.9}, {'name': 'SOMCR Intel 12th Gen Core Processor', 'relevance_score': 0.85}, {'name': 'ExpressADP', 'relevance_score': 0.8}, {'name': 'COMhccAS', 'relevance_score': 0.75}, {'name': 'SOM Intel 11th Gen Core Processors', 'relevance_score': 0.7}, {'name': 'UP Xtreme Developer Board', 'relevance_score': 0.65}, {'name': 'COMecWL ES COM Express Compact', 'relevance_score': 0.6}, {'name': 'SOM 7th Gen Intel Xeon Core Celeron Processors COM Express Basic Module', 'relevance_score': 0.55}, {'name': 'SOM 6th Gen Intel Core Celeron Processors COM Express Compact Module', 'relevance_score': 0.5}]\n"
     ]
    },
    {
     "name": "stderr",
     "output_type": "stream",
     "text": [
      "INFO:httpx:HTTP Request: POST https://api.openai.com/v1/chat/completions \"HTTP/1.1 200 OK\"\n",
      "INFO:httpx:HTTP Request: POST http://localhost:8080/v1/graphql \"HTTP/1.1 200 OK\"\n",
      "INFO:httpx:HTTP Request: POST http://localhost:8080/v1/graphql \"HTTP/1.1 200 OK\"\n",
      "INFO:httpx:HTTP Request: POST http://localhost:8080/v1/graphql \"HTTP/1.1 200 OK\"\n",
      "INFO:httpx:HTTP Request: POST http://localhost:8080/v1/graphql \"HTTP/1.1 200 OK\"\n",
      "INFO:httpx:HTTP Request: POST http://localhost:8080/v1/graphql \"HTTP/1.1 200 OK\"\n",
      "INFO:httpx:HTTP Request: POST https://api.openai.com/v1/chat/completions \"HTTP/1.1 200 OK\"\n"
     ]
    },
    {
     "name": "stdout",
     "output_type": "stream",
     "text": [
      "rerank_products response from OpenAI: [{'name': 'SOM 13th Gen Intel Core Processor', 'relevance_score': 0.95}, {'name': 'COMecRP E', 'relevance_score': 0.92}, {'name': 'COMebRP E', 'relevance_score': 0.92}, {'name': 'SOMCR Intel 12th Gen Core Processor', 'relevance_score': 0.9}, {'name': 'COMhccAS', 'relevance_score': 0.88}, {'name': 'COMhcaAP', 'relevance_score': 0.88}, {'name': 'Tank Aiot Dev Kit', 'relevance_score': 0.85}, {'name': 'COMecWL ES COM Express Compact', 'relevance_score': 0.8}, {'name': 'Congatcr', 'relevance_score': 0.8}, {'name': 'Eagle Embedded Processing Unit', 'relevance_score': 0.75}]\n"
     ]
    },
    {
     "name": "stderr",
     "output_type": "stream",
     "text": [
      "INFO:httpx:HTTP Request: POST https://api.openai.com/v1/chat/completions \"HTTP/1.1 200 OK\"\n",
      "INFO:httpx:HTTP Request: POST http://localhost:8080/v1/graphql \"HTTP/1.1 200 OK\"\n",
      "INFO:httpx:HTTP Request: POST http://localhost:8080/v1/graphql \"HTTP/1.1 200 OK\"\n",
      "INFO:httpx:HTTP Request: POST http://localhost:8080/v1/graphql \"HTTP/1.1 200 OK\"\n",
      "INFO:httpx:HTTP Request: POST http://localhost:8080/v1/graphql \"HTTP/1.1 200 OK\"\n",
      "INFO:httpx:HTTP Request: POST http://localhost:8080/v1/graphql \"HTTP/1.1 200 OK\"\n",
      "INFO:httpx:HTTP Request: POST https://api.openai.com/v1/chat/completions \"HTTP/1.1 200 OK\"\n"
     ]
    },
    {
     "name": "stdout",
     "output_type": "stream",
     "text": [
      "rerank_products response from OpenAI: [{'name': 'COMecDV', 'relevance_score': 1.0}, {'name': 'COMebBD', 'relevance_score': 0.95}, {'name': 'COMecRP E', 'relevance_score': 0.5}, {'name': 'COMecTL E', 'relevance_score': 0.5}, {'name': 'COMecKL COM Express', 'relevance_score': 0.5}, {'name': 'COMecSL', 'relevance_score': 0.5}, {'name': 'COMebRP E', 'relevance_score': 0.5}, {'name': 'COMhcaAP', 'relevance_score': 0.5}, {'name': 'COMemRP E', 'relevance_score': 0.5}, {'name': 'COMecAL E', 'relevance_score': 0.5}]\n"
     ]
    },
    {
     "name": "stderr",
     "output_type": "stream",
     "text": [
      "INFO:httpx:HTTP Request: POST https://api.openai.com/v1/chat/completions \"HTTP/1.1 200 OK\"\n",
      "INFO:httpx:HTTP Request: POST http://localhost:8080/v1/graphql \"HTTP/1.1 200 OK\"\n",
      "INFO:httpx:HTTP Request: POST http://localhost:8080/v1/graphql \"HTTP/1.1 200 OK\"\n",
      "INFO:httpx:HTTP Request: POST http://localhost:8080/v1/graphql \"HTTP/1.1 200 OK\"\n",
      "INFO:httpx:HTTP Request: POST http://localhost:8080/v1/graphql \"HTTP/1.1 200 OK\"\n",
      "INFO:httpx:HTTP Request: POST http://localhost:8080/v1/graphql \"HTTP/1.1 200 OK\"\n",
      "INFO:httpx:HTTP Request: POST https://api.openai.com/v1/chat/completions \"HTTP/1.1 200 OK\"\n"
     ]
    },
    {
     "name": "stdout",
     "output_type": "stream",
     "text": [
      "rerank_products response from OpenAI: [{'name': 'COMebBD', 'relevance_score': 1.0}, {'name': 'COMecDV', 'relevance_score': 0.95}, {'name': 'COMhcaAP', 'relevance_score': 0.5}, {'name': 'COMecSL', 'relevance_score': 0.4}, {'name': 'COMecTL E', 'relevance_score': 0.35}, {'name': 'COMecKL COM Express', 'relevance_score': 0.3}, {'name': 'COMecRP E', 'relevance_score': 0.2}, {'name': 'COMemRP E', 'relevance_score': 0.2}, {'name': 'COMecAL E', 'relevance_score': 0.15}, {'name': 'SMARCsXEL E', 'relevance_score': 0.1}]\n"
     ]
    },
    {
     "name": "stderr",
     "output_type": "stream",
     "text": [
      "INFO:httpx:HTTP Request: POST https://api.openai.com/v1/chat/completions \"HTTP/1.1 200 OK\"\n",
      "INFO:httpx:HTTP Request: POST http://localhost:8080/v1/graphql \"HTTP/1.1 200 OK\"\n",
      "INFO:httpx:HTTP Request: POST http://localhost:8080/v1/graphql \"HTTP/1.1 200 OK\"\n",
      "INFO:httpx:HTTP Request: POST http://localhost:8080/v1/graphql \"HTTP/1.1 200 OK\"\n",
      "INFO:httpx:HTTP Request: POST http://localhost:8080/v1/graphql \"HTTP/1.1 200 OK\"\n",
      "INFO:httpx:HTTP Request: POST http://localhost:8080/v1/graphql \"HTTP/1.1 200 OK\"\n",
      "INFO:httpx:HTTP Request: POST https://api.openai.com/v1/chat/completions \"HTTP/1.1 200 OK\"\n"
     ]
    },
    {
     "name": "stdout",
     "output_type": "stream",
     "text": [
      "rerank_products response from OpenAI: [{'name': 'COMebBD', 'relevance_score': 1.0}, {'name': 'COMhcaAP', 'relevance_score': 0.8}, {'name': 'COMecTL E', 'relevance_score': 0.7}, {'name': 'COMecKL COM Express', 'relevance_score': 0.7}, {'name': 'COMecSL', 'relevance_score': 0.7}, {'name': 'COMecWL ES COM Express Compact', 'relevance_score': 0.7}, {'name': 'COMecRP E', 'relevance_score': 0.3}, {'name': 'SMARCsXEL E', 'relevance_score': 0.3}, {'name': 'COMecAL E', 'relevance_score': 0.3}, {'name': 'COMemRP E', 'relevance_score': 0.3}]\n"
     ]
    },
    {
     "name": "stderr",
     "output_type": "stream",
     "text": [
      "INFO:httpx:HTTP Request: POST https://api.openai.com/v1/chat/completions \"HTTP/1.1 200 OK\"\n",
      "INFO:httpx:HTTP Request: POST http://localhost:8080/v1/graphql \"HTTP/1.1 200 OK\"\n",
      "INFO:httpx:HTTP Request: POST http://localhost:8080/v1/graphql \"HTTP/1.1 200 OK\"\n",
      "INFO:httpx:HTTP Request: POST http://localhost:8080/v1/graphql \"HTTP/1.1 200 OK\"\n",
      "INFO:httpx:HTTP Request: POST http://localhost:8080/v1/graphql \"HTTP/1.1 200 OK\"\n",
      "INFO:httpx:HTTP Request: POST http://localhost:8080/v1/graphql \"HTTP/1.1 200 OK\"\n",
      "INFO:httpx:HTTP Request: POST https://api.openai.com/v1/chat/completions \"HTTP/1.1 200 OK\"\n"
     ]
    },
    {
     "name": "stdout",
     "output_type": "stream",
     "text": [
      "rerank_products response from OpenAI: [{'name': 'COMecDV', 'relevance_score': 1.0}, {'name': 'COMebBD', 'relevance_score': 0.95}, {'name': 'COMecTL E', 'relevance_score': 0.7}, {'name': 'COMecKL COM Express', 'relevance_score': 0.7}, {'name': 'COMecSL', 'relevance_score': 0.7}, {'name': 'COMecWL ES COM Express Compact', 'relevance_score': 0.7}, {'name': 'COMhcaAP', 'relevance_score': 0.65}, {'name': 'COMecRP E', 'relevance_score': 0.6}, {'name': 'COMemRP E', 'relevance_score': 0.6}, {'name': 'COMecAL E', 'relevance_score': 0.55}]\n"
     ]
    },
    {
     "name": "stderr",
     "output_type": "stream",
     "text": [
      "INFO:httpx:HTTP Request: POST https://api.openai.com/v1/chat/completions \"HTTP/1.1 200 OK\"\n",
      "INFO:httpx:HTTP Request: POST http://localhost:8080/v1/graphql \"HTTP/1.1 200 OK\"\n",
      "INFO:httpx:HTTP Request: POST http://localhost:8080/v1/graphql \"HTTP/1.1 200 OK\"\n",
      "INFO:httpx:HTTP Request: POST http://localhost:8080/v1/graphql \"HTTP/1.1 200 OK\"\n",
      "INFO:httpx:HTTP Request: POST http://localhost:8080/v1/graphql \"HTTP/1.1 200 OK\"\n",
      "INFO:httpx:HTTP Request: POST http://localhost:8080/v1/graphql \"HTTP/1.1 200 OK\"\n",
      "INFO:httpx:HTTP Request: POST https://api.openai.com/v1/chat/completions \"HTTP/1.1 200 OK\"\n"
     ]
    },
    {
     "name": "stdout",
     "output_type": "stream",
     "text": [
      "rerank_products response from OpenAI: [{'name': 'COMecDV', 'relevance_score': 1.0}, {'name': 'COMebBD', 'relevance_score': 0.95}, {'name': 'COMecRP E', 'relevance_score': 0.5}, {'name': 'COMecTL E', 'relevance_score': 0.5}, {'name': 'COMecKL COM Express', 'relevance_score': 0.5}, {'name': 'COMecSL', 'relevance_score': 0.5}, {'name': 'COMebRP E', 'relevance_score': 0.5}, {'name': 'COMecAL E', 'relevance_score': 0.5}, {'name': 'COMemRP E', 'relevance_score': 0.5}, {'name': 'COMecWL ES COM Express Compact', 'relevance_score': 0.5}]\n"
     ]
    },
    {
     "name": "stderr",
     "output_type": "stream",
     "text": [
      "INFO:httpx:HTTP Request: POST https://api.openai.com/v1/chat/completions \"HTTP/1.1 200 OK\"\n",
      "INFO:httpx:HTTP Request: POST http://localhost:8080/v1/graphql \"HTTP/1.1 200 OK\"\n",
      "INFO:httpx:HTTP Request: POST http://localhost:8080/v1/graphql \"HTTP/1.1 200 OK\"\n",
      "INFO:httpx:HTTP Request: POST http://localhost:8080/v1/graphql \"HTTP/1.1 200 OK\"\n",
      "INFO:httpx:HTTP Request: POST http://localhost:8080/v1/graphql \"HTTP/1.1 200 OK\"\n",
      "INFO:httpx:HTTP Request: POST http://localhost:8080/v1/graphql \"HTTP/1.1 200 OK\"\n",
      "INFO:httpx:HTTP Request: POST https://api.openai.com/v1/chat/completions \"HTTP/1.1 200 OK\"\n"
     ]
    },
    {
     "name": "stdout",
     "output_type": "stream",
     "text": [
      "rerank_products response from OpenAI: [{'name': 'STVW', 'relevance_score': 1.0}, {'name': 'SOM 6th Gen Intel Core Celeron Processors COM Express Compact Module', 'relevance_score': 0.9}, {'name': 'SOM Intel Atom E Pentium Celeron N Series Processors COMExpress Compact Module', 'relevance_score': 0.85}, {'name': 'Toybrick RKPro AI Development Kit', 'relevance_score': 0.8}, {'name': 'FETAiC SoM', 'relevance_score': 0.75}, {'name': 'LPC Development Kit', 'relevance_score': 0.7}, {'name': 'ULCDPTU', 'relevance_score': 0.65}, {'name': 'ULCDP Series', 'relevance_score': 0.6}, {'name': 'Smartfusion Customizable Systemonchip Microcontroller Subsystem', 'relevance_score': 0.55}, {'name': 'SH Segment Common Driver Controller', 'relevance_score': 0.5}]\n"
     ]
    },
    {
     "name": "stderr",
     "output_type": "stream",
     "text": [
      "INFO:httpx:HTTP Request: POST https://api.openai.com/v1/chat/completions \"HTTP/1.1 200 OK\"\n",
      "INFO:httpx:HTTP Request: POST http://localhost:8080/v1/graphql \"HTTP/1.1 200 OK\"\n",
      "INFO:httpx:HTTP Request: POST http://localhost:8080/v1/graphql \"HTTP/1.1 200 OK\"\n",
      "INFO:httpx:HTTP Request: POST http://localhost:8080/v1/graphql \"HTTP/1.1 200 OK\"\n",
      "INFO:httpx:HTTP Request: POST http://localhost:8080/v1/graphql \"HTTP/1.1 200 OK\"\n",
      "INFO:httpx:HTTP Request: POST http://localhost:8080/v1/graphql \"HTTP/1.1 200 OK\"\n",
      "INFO:httpx:HTTP Request: POST https://api.openai.com/v1/chat/completions \"HTTP/1.1 200 OK\"\n"
     ]
    },
    {
     "name": "stdout",
     "output_type": "stream",
     "text": [
      "rerank_products response from OpenAI: [{'name': 'STVW', 'relevance_score': 0.9}, {'name': 'ULCDPTU', 'relevance_score': 0.85}, {'name': 'ULCDP Series', 'relevance_score': 0.85}, {'name': 'SH Segment Common Driver Controller', 'relevance_score': 0.8}, {'name': 'LPC Development Kit', 'relevance_score': 0.75}, {'name': 'Reflective LCD Front Light Dev Kit', 'relevance_score': 0.7}, {'name': 'Trek Vehicle Display System', 'relevance_score': 0.65}, {'name': 'COMe Ref Carrieri T TNI', 'relevance_score': 0.6}, {'name': 'COMecWL ES COM Express Compact', 'relevance_score': 0.55}, {'name': 'Conga JC', 'relevance_score': 0.5}]\n"
     ]
    },
    {
     "name": "stderr",
     "output_type": "stream",
     "text": [
      "INFO:httpx:HTTP Request: POST https://api.openai.com/v1/chat/completions \"HTTP/1.1 200 OK\"\n",
      "INFO:httpx:HTTP Request: POST http://localhost:8080/v1/graphql \"HTTP/1.1 200 OK\"\n",
      "INFO:httpx:HTTP Request: POST http://localhost:8080/v1/graphql \"HTTP/1.1 200 OK\"\n",
      "INFO:httpx:HTTP Request: POST http://localhost:8080/v1/graphql \"HTTP/1.1 200 OK\"\n",
      "INFO:httpx:HTTP Request: POST http://localhost:8080/v1/graphql \"HTTP/1.1 200 OK\"\n",
      "INFO:httpx:HTTP Request: POST http://localhost:8080/v1/graphql \"HTTP/1.1 200 OK\"\n",
      "INFO:httpx:HTTP Request: POST https://api.openai.com/v1/chat/completions \"HTTP/1.1 200 OK\"\n"
     ]
    },
    {
     "name": "stdout",
     "output_type": "stream",
     "text": [
      "rerank_products response from OpenAI: [{'name': 'STVW', 'relevance_score': 1.0}, {'name': 'Pico Imx Emmc', 'relevance_score': 0.85}, {'name': 'SOM 6th Gen Intel Core Celeron Processors COM Express Compact Module', 'relevance_score': 0.75}, {'name': 'SOM Intel Atom E Pentium Celeron N Series Processors COMExpress Compact Module', 'relevance_score': 0.7}, {'name': 'Toybrick RKPro AI Development Kit', 'relevance_score': 0.65}, {'name': 'LPC Development Kit', 'relevance_score': 0.6}, {'name': 'ULCDPTU', 'relevance_score': 0.55}, {'name': 'ULCDP Series', 'relevance_score': 0.5}, {'name': 'Smartfusion Customizable Systemonchip Microcontroller Subsystem', 'relevance_score': 0.45}, {'name': 'Reflective LCD Front Light Dev Kit', 'relevance_score': 0.4}]\n"
     ]
    },
    {
     "name": "stderr",
     "output_type": "stream",
     "text": [
      "INFO:httpx:HTTP Request: POST https://api.openai.com/v1/chat/completions \"HTTP/1.1 200 OK\"\n",
      "INFO:httpx:HTTP Request: POST http://localhost:8080/v1/graphql \"HTTP/1.1 200 OK\"\n",
      "INFO:httpx:HTTP Request: POST http://localhost:8080/v1/graphql \"HTTP/1.1 200 OK\"\n",
      "INFO:httpx:HTTP Request: POST http://localhost:8080/v1/graphql \"HTTP/1.1 200 OK\"\n",
      "INFO:httpx:HTTP Request: POST http://localhost:8080/v1/graphql \"HTTP/1.1 200 OK\"\n",
      "INFO:httpx:HTTP Request: POST http://localhost:8080/v1/graphql \"HTTP/1.1 200 OK\"\n",
      "INFO:httpx:HTTP Request: POST https://api.openai.com/v1/chat/completions \"HTTP/1.1 200 OK\"\n"
     ]
    },
    {
     "name": "stdout",
     "output_type": "stream",
     "text": [
      "rerank_products response from OpenAI: [{'name': 'STVW', 'relevance_score': 0.95}, {'name': 'ULCDPTU', 'relevance_score': 0.9}, {'name': 'ULCDP Series', 'relevance_score': 0.88}, {'name': 'Reflective LCD Front Light Dev Kit', 'relevance_score': 0.85}, {'name': 'SH Segment Common Driver Controller', 'relevance_score': 0.8}, {'name': 'Trek Vehicle Display System', 'relevance_score': 0.75}, {'name': 'Trekdh', 'relevance_score': 0.73}, {'name': 'LPC Development Kit', 'relevance_score': 0.7}, {'name': 'Conga JC', 'relevance_score': 0.65}, {'name': 'COMe Ref Carrieri T TNI', 'relevance_score': 0.6}]\n"
     ]
    },
    {
     "name": "stderr",
     "output_type": "stream",
     "text": [
      "INFO:httpx:HTTP Request: POST https://api.openai.com/v1/chat/completions \"HTTP/1.1 200 OK\"\n",
      "INFO:httpx:HTTP Request: POST http://localhost:8080/v1/graphql \"HTTP/1.1 200 OK\"\n",
      "INFO:httpx:HTTP Request: POST http://localhost:8080/v1/graphql \"HTTP/1.1 200 OK\"\n",
      "INFO:httpx:HTTP Request: POST http://localhost:8080/v1/graphql \"HTTP/1.1 200 OK\"\n",
      "INFO:httpx:HTTP Request: POST http://localhost:8080/v1/graphql \"HTTP/1.1 200 OK\"\n",
      "INFO:httpx:HTTP Request: POST http://localhost:8080/v1/graphql \"HTTP/1.1 200 OK\"\n",
      "INFO:httpx:HTTP Request: POST https://api.openai.com/v1/chat/completions \"HTTP/1.1 200 OK\"\n"
     ]
    },
    {
     "name": "stdout",
     "output_type": "stream",
     "text": [
      "rerank_products response from OpenAI: [{'name': 'STVW', 'relevance_score': 0.95}, {'name': 'ULCDP Series', 'relevance_score': 0.9}, {'name': 'ULCDPTU', 'relevance_score': 0.85}, {'name': 'Pico Imx Emmc', 'relevance_score': 0.8}, {'name': 'LPC Development Kit', 'relevance_score': 0.75}, {'name': 'Reflective LCD Front Light Dev Kit', 'relevance_score': 0.7}, {'name': 'SH Segment Common Driver Controller', 'relevance_score': 0.65}, {'name': 'Trek Vehicle Display System', 'relevance_score': 0.6}, {'name': 'EDHMIC', 'relevance_score': 0.55}, {'name': 'ARM CortexMEnabled ProASICL Development Kit', 'relevance_score': 0.5}]\n"
     ]
    },
    {
     "name": "stderr",
     "output_type": "stream",
     "text": [
      "INFO:httpx:HTTP Request: POST https://api.openai.com/v1/chat/completions \"HTTP/1.1 200 OK\"\n",
      "INFO:httpx:HTTP Request: POST http://localhost:8080/v1/graphql \"HTTP/1.1 200 OK\"\n",
      "INFO:httpx:HTTP Request: POST http://localhost:8080/v1/graphql \"HTTP/1.1 200 OK\"\n",
      "INFO:httpx:HTTP Request: POST http://localhost:8080/v1/graphql \"HTTP/1.1 200 OK\"\n",
      "INFO:httpx:HTTP Request: POST http://localhost:8080/v1/graphql \"HTTP/1.1 200 OK\"\n",
      "INFO:httpx:HTTP Request: POST http://localhost:8080/v1/graphql \"HTTP/1.1 200 OK\"\n",
      "INFO:httpx:HTTP Request: POST https://api.openai.com/v1/chat/completions \"HTTP/1.1 200 OK\"\n"
     ]
    },
    {
     "name": "stdout",
     "output_type": "stream",
     "text": [
      "rerank_products response from OpenAI: [{'name': 'Embedded Box PC', 'relevance_score': 1.0}, {'name': 'Intelligent Inspection System', 'relevance_score': 0.95}, {'name': 'RISC Computing Platform', 'relevance_score': 0.9}, {'name': 'PCEBVBE', 'relevance_score': 0.6}, {'name': 'UNO', 'relevance_score': 0.5}, {'name': 'Industrial IoT Gateway', 'relevance_score': 0.4}, {'name': 'UNOG Intel Core Celeron Modular Box Platform', 'relevance_score': 0.35}, {'name': 'Device Monitoring System', 'relevance_score': 0.3}, {'name': 'RISC Compact Box Computer', 'relevance_score': 0.2}, {'name': 'Qseven Module', 'relevance_score': 0.1}]\n"
     ]
    },
    {
     "name": "stderr",
     "output_type": "stream",
     "text": [
      "INFO:httpx:HTTP Request: POST https://api.openai.com/v1/chat/completions \"HTTP/1.1 200 OK\"\n",
      "INFO:httpx:HTTP Request: POST http://localhost:8080/v1/graphql \"HTTP/1.1 200 OK\"\n",
      "INFO:httpx:HTTP Request: POST http://localhost:8080/v1/graphql \"HTTP/1.1 200 OK\"\n",
      "INFO:httpx:HTTP Request: POST http://localhost:8080/v1/graphql \"HTTP/1.1 200 OK\"\n",
      "INFO:httpx:HTTP Request: POST http://localhost:8080/v1/graphql \"HTTP/1.1 200 OK\"\n",
      "INFO:httpx:HTTP Request: POST http://localhost:8080/v1/graphql \"HTTP/1.1 200 OK\"\n",
      "INFO:httpx:HTTP Request: POST https://api.openai.com/v1/chat/completions \"HTTP/1.1 200 OK\"\n"
     ]
    },
    {
     "name": "stdout",
     "output_type": "stream",
     "text": [
      "rerank_products response from OpenAI: [{'name': 'Embedded Box PC', 'relevance_score': 1.0}, {'name': 'Intelligent Inspection System', 'relevance_score': 0.95}, {'name': 'RISC Computing Platform', 'relevance_score': 0.9}, {'name': 'PCEBVBE', 'relevance_score': 0.7}, {'name': 'Device Monitoring System', 'relevance_score': 0.65}, {'name': 'Industrial IoT Gateway', 'relevance_score': 0.6}, {'name': 'UNOG Intel Core Celeron Modular Box Platform', 'relevance_score': 0.55}, {'name': 'UNO', 'relevance_score': 0.5}, {'name': 'Industrial Server Motherboard', 'relevance_score': 0.4}, {'name': 'SOM R', 'relevance_score': 0.35}]\n"
     ]
    },
    {
     "name": "stderr",
     "output_type": "stream",
     "text": [
      "INFO:httpx:HTTP Request: POST https://api.openai.com/v1/chat/completions \"HTTP/1.1 200 OK\"\n",
      "INFO:httpx:HTTP Request: POST http://localhost:8080/v1/graphql \"HTTP/1.1 200 OK\"\n",
      "INFO:httpx:HTTP Request: POST http://localhost:8080/v1/graphql \"HTTP/1.1 200 OK\"\n",
      "INFO:httpx:HTTP Request: POST http://localhost:8080/v1/graphql \"HTTP/1.1 200 OK\"\n",
      "INFO:httpx:HTTP Request: POST http://localhost:8080/v1/graphql \"HTTP/1.1 200 OK\"\n",
      "INFO:httpx:HTTP Request: POST http://localhost:8080/v1/graphql \"HTTP/1.1 200 OK\"\n",
      "INFO:httpx:HTTP Request: POST https://api.openai.com/v1/chat/completions \"HTTP/1.1 200 OK\"\n"
     ]
    },
    {
     "name": "stdout",
     "output_type": "stream",
     "text": [
      "rerank_products response from OpenAI: [{'name': 'RISC Computing Platform', 'relevance_score': 1.0}, {'name': 'Embedded Box PC', 'relevance_score': 0.95}, {'name': 'Intelligent Inspection System', 'relevance_score': 0.9}, {'name': 'PCEBVBE', 'relevance_score': 0.6}, {'name': 'RSB', 'relevance_score': 0.55}, {'name': 'QSeven Module', 'relevance_score': 0.5}, {'name': 'SOM R', 'relevance_score': 0.45}, {'name': 'EBX EPIC Single Board Computer', 'relevance_score': 0.4}, {'name': 'Qseven Module', 'relevance_score': 0.35}, {'name': 'UNO', 'relevance_score': 0.3}]\n"
     ]
    },
    {
     "name": "stderr",
     "output_type": "stream",
     "text": [
      "INFO:httpx:HTTP Request: POST https://api.openai.com/v1/chat/completions \"HTTP/1.1 200 OK\"\n",
      "INFO:httpx:HTTP Request: POST http://localhost:8080/v1/graphql \"HTTP/1.1 200 OK\"\n",
      "INFO:httpx:HTTP Request: POST http://localhost:8080/v1/graphql \"HTTP/1.1 200 OK\"\n",
      "INFO:httpx:HTTP Request: POST http://localhost:8080/v1/graphql \"HTTP/1.1 200 OK\"\n",
      "INFO:httpx:HTTP Request: POST http://localhost:8080/v1/graphql \"HTTP/1.1 200 OK\"\n",
      "INFO:httpx:HTTP Request: POST http://localhost:8080/v1/graphql \"HTTP/1.1 200 OK\"\n",
      "INFO:httpx:HTTP Request: POST https://api.openai.com/v1/chat/completions \"HTTP/1.1 200 OK\"\n"
     ]
    },
    {
     "name": "stdout",
     "output_type": "stream",
     "text": [
      "rerank_products response from OpenAI: [{'name': 'Embedded Box PC', 'relevance_score': 1.0}, {'name': 'Intelligent Inspection System', 'relevance_score': 0.95}, {'name': 'RISC Computing Platform', 'relevance_score': 0.9}, {'name': 'PCEBVBE', 'relevance_score': 0.5}, {'name': 'RSB', 'relevance_score': 0.4}, {'name': 'QSeven Module', 'relevance_score': 0.35}, {'name': 'Qseven Module', 'relevance_score': 0.35}, {'name': 'SOM R', 'relevance_score': 0.3}, {'name': 'RISC Compact Box Computer', 'relevance_score': 0.25}, {'name': 'UNO', 'relevance_score': 0.2}]\n"
     ]
    },
    {
     "name": "stderr",
     "output_type": "stream",
     "text": [
      "INFO:httpx:HTTP Request: POST https://api.openai.com/v1/chat/completions \"HTTP/1.1 200 OK\"\n",
      "INFO:httpx:HTTP Request: POST http://localhost:8080/v1/graphql \"HTTP/1.1 200 OK\"\n",
      "INFO:httpx:HTTP Request: POST http://localhost:8080/v1/graphql \"HTTP/1.1 200 OK\"\n",
      "INFO:httpx:HTTP Request: POST http://localhost:8080/v1/graphql \"HTTP/1.1 200 OK\"\n",
      "INFO:httpx:HTTP Request: POST http://localhost:8080/v1/graphql \"HTTP/1.1 200 OK\"\n",
      "INFO:httpx:HTTP Request: POST http://localhost:8080/v1/graphql \"HTTP/1.1 200 OK\"\n",
      "INFO:httpx:HTTP Request: POST https://api.openai.com/v1/chat/completions \"HTTP/1.1 200 OK\"\n"
     ]
    },
    {
     "name": "stdout",
     "output_type": "stream",
     "text": [
      "rerank_products response from OpenAI: [{'name': 'Embedded Box PC', 'relevance_score': 1.0}, {'name': 'Intelligent Inspection System', 'relevance_score': 0.95}, {'name': 'RISC Computing Platform', 'relevance_score': 0.9}, {'name': 'PCEBVBE', 'relevance_score': 0.6}, {'name': 'UNO', 'relevance_score': 0.55}, {'name': 'Industrial IoT Gateway', 'relevance_score': 0.5}, {'name': 'UNOG Intel Core Celeron Modular Box Platform', 'relevance_score': 0.5}, {'name': 'Device Monitoring System', 'relevance_score': 0.45}, {'name': 'Industrial Server Motherboard', 'relevance_score': 0.4}, {'name': 'QSeven Module', 'relevance_score': 0.3}]\n"
     ]
    },
    {
     "name": "stderr",
     "output_type": "stream",
     "text": [
      "INFO:httpx:HTTP Request: POST https://api.openai.com/v1/chat/completions \"HTTP/1.1 200 OK\"\n",
      "INFO:httpx:HTTP Request: POST http://localhost:8080/v1/graphql \"HTTP/1.1 200 OK\"\n",
      "INFO:httpx:HTTP Request: POST http://localhost:8080/v1/graphql \"HTTP/1.1 200 OK\"\n",
      "INFO:httpx:HTTP Request: POST http://localhost:8080/v1/graphql \"HTTP/1.1 200 OK\"\n",
      "INFO:httpx:HTTP Request: POST http://localhost:8080/v1/graphql \"HTTP/1.1 200 OK\"\n",
      "INFO:httpx:HTTP Request: POST http://localhost:8080/v1/graphql \"HTTP/1.1 200 OK\"\n",
      "INFO:httpx:HTTP Request: POST https://api.openai.com/v1/chat/completions \"HTTP/1.1 200 OK\"\n"
     ]
    },
    {
     "name": "stdout",
     "output_type": "stream",
     "text": [
      "rerank_products response from OpenAI: [{'name': 'MicroATX Series', 'relevance_score': 0.95}, {'name': 'AIMB Series', 'relevance_score': 0.92}, {'name': 'Industrial Server Motherboard', 'relevance_score': 0.9}, {'name': 'Micro ATX Motherboard', 'relevance_score': 0.88}, {'name': 'PPCMBAE MiniITX Motherboard', 'relevance_score': 0.4}, {'name': 'MiniITX Server Board', 'relevance_score': 0.35}, {'name': 'Industrial Motherboard JTIMA', 'relevance_score': 0.3}, {'name': 'ATX Server Board', 'relevance_score': 0.25}, {'name': 'IMB ATX Motherboard', 'relevance_score': 0.2}, {'name': 'IMBAR ATX Motherboard', 'relevance_score': 0.18}]\n"
     ]
    },
    {
     "name": "stderr",
     "output_type": "stream",
     "text": [
      "INFO:httpx:HTTP Request: POST https://api.openai.com/v1/chat/completions \"HTTP/1.1 200 OK\"\n",
      "INFO:httpx:HTTP Request: POST http://localhost:8080/v1/graphql \"HTTP/1.1 200 OK\"\n",
      "INFO:httpx:HTTP Request: POST http://localhost:8080/v1/graphql \"HTTP/1.1 200 OK\"\n",
      "INFO:httpx:HTTP Request: POST http://localhost:8080/v1/graphql \"HTTP/1.1 200 OK\"\n",
      "INFO:httpx:HTTP Request: POST http://localhost:8080/v1/graphql \"HTTP/1.1 200 OK\"\n",
      "INFO:httpx:HTTP Request: POST http://localhost:8080/v1/graphql \"HTTP/1.1 200 OK\"\n",
      "INFO:httpx:HTTP Request: POST https://api.openai.com/v1/chat/completions \"HTTP/1.1 200 OK\"\n"
     ]
    },
    {
     "name": "stdout",
     "output_type": "stream",
     "text": [
      "rerank_products response from OpenAI: [{'name': 'MicroATX Series', 'relevance_score': 0.95}, {'name': 'Micro ATX Motherboard', 'relevance_score': 0.92}, {'name': 'Industrial Server Motherboard', 'relevance_score': 0.9}, {'name': 'AIMB Series', 'relevance_score': 0.85}]\n"
     ]
    },
    {
     "name": "stderr",
     "output_type": "stream",
     "text": [
      "INFO:httpx:HTTP Request: POST https://api.openai.com/v1/chat/completions \"HTTP/1.1 200 OK\"\n",
      "INFO:httpx:HTTP Request: POST http://localhost:8080/v1/graphql \"HTTP/1.1 200 OK\"\n",
      "INFO:httpx:HTTP Request: POST http://localhost:8080/v1/graphql \"HTTP/1.1 200 OK\"\n",
      "INFO:httpx:HTTP Request: POST http://localhost:8080/v1/graphql \"HTTP/1.1 200 OK\"\n",
      "INFO:httpx:HTTP Request: POST http://localhost:8080/v1/graphql \"HTTP/1.1 200 OK\"\n",
      "INFO:httpx:HTTP Request: POST http://localhost:8080/v1/graphql \"HTTP/1.1 200 OK\"\n",
      "INFO:httpx:HTTP Request: POST https://api.openai.com/v1/chat/completions \"HTTP/1.1 200 OK\"\n"
     ]
    },
    {
     "name": "stdout",
     "output_type": "stream",
     "text": [
      "rerank_products response from OpenAI: [{'name': 'MicroATX Series', 'relevance_score': 1.0}, {'name': 'Micro ATX Motherboard', 'relevance_score': 0.9}, {'name': 'IMBAR ATX Motherboard', 'relevance_score': 0.2}, {'name': 'ATX Server Board', 'relevance_score': 0.2}, {'name': 'Com Express Basic Type Cpu Module', 'relevance_score': 0.1}, {'name': 'SOM 13th Gen Intel Core Processor', 'relevance_score': 0.1}, {'name': 'SOMCR Intel 12th Gen Core Processor', 'relevance_score': 0.1}, {'name': 'Congahpcctlu', 'relevance_score': 0.1}, {'name': 'NEX P', 'relevance_score': 0.1}, {'name': 'IMB ATX Motherboard', 'relevance_score': 0.1}]\n"
     ]
    },
    {
     "name": "stderr",
     "output_type": "stream",
     "text": [
      "INFO:httpx:HTTP Request: POST https://api.openai.com/v1/chat/completions \"HTTP/1.1 200 OK\"\n",
      "INFO:httpx:HTTP Request: POST http://localhost:8080/v1/graphql \"HTTP/1.1 200 OK\"\n",
      "INFO:httpx:HTTP Request: POST http://localhost:8080/v1/graphql \"HTTP/1.1 200 OK\"\n",
      "INFO:httpx:HTTP Request: POST http://localhost:8080/v1/graphql \"HTTP/1.1 200 OK\"\n",
      "INFO:httpx:HTTP Request: POST http://localhost:8080/v1/graphql \"HTTP/1.1 200 OK\"\n",
      "INFO:httpx:HTTP Request: POST http://localhost:8080/v1/graphql \"HTTP/1.1 200 OK\"\n",
      "INFO:httpx:HTTP Request: POST https://api.openai.com/v1/chat/completions \"HTTP/1.1 200 OK\"\n"
     ]
    },
    {
     "name": "stdout",
     "output_type": "stream",
     "text": [
      "rerank_products response from OpenAI: [{'name': 'Micro ATX Motherboard', 'relevance_score': 0.95}, {'name': 'MicroATX Series', 'relevance_score': 0.92}, {'name': 'IMBAR ATX Motherboard', 'relevance_score': 0.6}, {'name': 'NEX P', 'relevance_score': 0.55}, {'name': 'ATX Server Board', 'relevance_score': 0.5}, {'name': 'IMB ATX Motherboard', 'relevance_score': 0.45}, {'name': 'SOMCR Intel 12th Gen Core Processor', 'relevance_score': 0.4}, {'name': 'Congahpcctlu', 'relevance_score': 0.35}, {'name': 'CEM COM Express Type Basic Module', 'relevance_score': 0.3}, {'name': 'CongaMA', 'relevance_score': 0.25}]\n"
     ]
    },
    {
     "name": "stderr",
     "output_type": "stream",
     "text": [
      "INFO:httpx:HTTP Request: POST https://api.openai.com/v1/chat/completions \"HTTP/1.1 200 OK\"\n",
      "INFO:httpx:HTTP Request: POST http://localhost:8080/v1/graphql \"HTTP/1.1 200 OK\"\n",
      "INFO:httpx:HTTP Request: POST http://localhost:8080/v1/graphql \"HTTP/1.1 200 OK\"\n",
      "INFO:httpx:HTTP Request: POST http://localhost:8080/v1/graphql \"HTTP/1.1 200 OK\"\n",
      "INFO:httpx:HTTP Request: POST http://localhost:8080/v1/graphql \"HTTP/1.1 200 OK\"\n",
      "INFO:httpx:HTTP Request: POST http://localhost:8080/v1/graphql \"HTTP/1.1 200 OK\"\n",
      "INFO:httpx:HTTP Request: POST https://api.openai.com/v1/chat/completions \"HTTP/1.1 200 OK\"\n"
     ]
    },
    {
     "name": "stdout",
     "output_type": "stream",
     "text": [
      "rerank_products response from OpenAI: [{'name': 'MicroATX Series', 'relevance_score': 0.95}, {'name': 'Micro ATX Motherboard', 'relevance_score': 0.92}, {'name': 'AIMB Series', 'relevance_score': 0.9}, {'name': 'ATX Server Board', 'relevance_score': 0.3}, {'name': 'IMBAR ATX Motherboard', 'relevance_score': 0.3}, {'name': 'IMB ATX Motherboard', 'relevance_score': 0.3}, {'name': 'NEX P', 'relevance_score': 0.3}, {'name': 'MiniITX Server Board', 'relevance_score': 0.2}, {'name': 'DB mSTX Extended Lifecycle Series', 'relevance_score': 0.2}, {'name': 'Industrial Motherboard JTIMA', 'relevance_score': 0.2}]\n"
     ]
    },
    {
     "name": "stderr",
     "output_type": "stream",
     "text": [
      "INFO:httpx:HTTP Request: POST https://api.openai.com/v1/chat/completions \"HTTP/1.1 200 OK\"\n",
      "INFO:httpx:HTTP Request: POST http://localhost:8080/v1/graphql \"HTTP/1.1 200 OK\"\n",
      "INFO:httpx:HTTP Request: POST http://localhost:8080/v1/graphql \"HTTP/1.1 200 OK\"\n",
      "INFO:httpx:HTTP Request: POST http://localhost:8080/v1/graphql \"HTTP/1.1 200 OK\"\n",
      "INFO:httpx:HTTP Request: POST http://localhost:8080/v1/graphql \"HTTP/1.1 200 OK\"\n",
      "INFO:httpx:HTTP Request: POST http://localhost:8080/v1/graphql \"HTTP/1.1 200 OK\"\n",
      "INFO:httpx:HTTP Request: POST https://api.openai.com/v1/chat/completions \"HTTP/1.1 200 OK\"\n"
     ]
    },
    {
     "name": "stdout",
     "output_type": "stream",
     "text": [
      "rerank_products response from OpenAI: [{'name': 'Smartfusion Customizable Systemonchip Microcontroller Subsystem', 'relevance_score': 1.0}, {'name': 'Magniv', 'relevance_score': 0.8}, {'name': 'SGVNPRDB', 'relevance_score': 0.7}, {'name': 'Fusion Advanced Development Kit', 'relevance_score': 0.6}, {'name': 'LPC Development Kit', 'relevance_score': 0.5}, {'name': 'MYC-JA5D2X', 'relevance_score': 0.4}, {'name': 'EmNANOiE', 'relevance_score': 0.3}, {'name': 'EmQv VIA Nano Qseven CPU Module', 'relevance_score': 0.2}, {'name': 'CongaMA', 'relevance_score': 0.1}, {'name': 'SOM', 'relevance_score': 0.1}]\n"
     ]
    },
    {
     "name": "stderr",
     "output_type": "stream",
     "text": [
      "INFO:httpx:HTTP Request: POST https://api.openai.com/v1/chat/completions \"HTTP/1.1 200 OK\"\n",
      "INFO:httpx:HTTP Request: POST http://localhost:8080/v1/graphql \"HTTP/1.1 200 OK\"\n",
      "INFO:httpx:HTTP Request: POST http://localhost:8080/v1/graphql \"HTTP/1.1 200 OK\"\n",
      "INFO:httpx:HTTP Request: POST http://localhost:8080/v1/graphql \"HTTP/1.1 200 OK\"\n",
      "INFO:httpx:HTTP Request: POST http://localhost:8080/v1/graphql \"HTTP/1.1 200 OK\"\n",
      "INFO:httpx:HTTP Request: POST http://localhost:8080/v1/graphql \"HTTP/1.1 200 OK\"\n",
      "INFO:httpx:HTTP Request: POST https://api.openai.com/v1/chat/completions \"HTTP/1.1 200 OK\"\n"
     ]
    },
    {
     "name": "stdout",
     "output_type": "stream",
     "text": [
      "rerank_products response from OpenAI: [{'name': 'Smartfusion Customizable Systemonchip Microcontroller Subsystem', 'relevance_score': 0.95}, {'name': 'ULCDD Series', 'relevance_score': 0.85}, {'name': 'ARM CortexMEnabled ProASICL Development Kit', 'relevance_score': 0.8}, {'name': 'LPC Development Kit', 'relevance_score': 0.75}, {'name': 'Renesas RZGUL RZAUL RZFIVE SBC', 'relevance_score': 0.7}, {'name': 'CM Industrial', 'relevance_score': 0.65}, {'name': 'MYC-JA5D2X', 'relevance_score': 0.6}, {'name': 'Reflective LCD Front Light Dev Kit', 'relevance_score': 0.55}, {'name': 'SOM R', 'relevance_score': 0.5}, {'name': 'SOM', 'relevance_score': 0.45}]\n"
     ]
    },
    {
     "name": "stderr",
     "output_type": "stream",
     "text": [
      "INFO:httpx:HTTP Request: POST https://api.openai.com/v1/chat/completions \"HTTP/1.1 200 OK\"\n",
      "INFO:httpx:HTTP Request: POST http://localhost:8080/v1/graphql \"HTTP/1.1 200 OK\"\n",
      "INFO:httpx:HTTP Request: POST http://localhost:8080/v1/graphql \"HTTP/1.1 200 OK\"\n",
      "INFO:httpx:HTTP Request: POST http://localhost:8080/v1/graphql \"HTTP/1.1 200 OK\"\n",
      "INFO:httpx:HTTP Request: POST http://localhost:8080/v1/graphql \"HTTP/1.1 200 OK\"\n",
      "INFO:httpx:HTTP Request: POST http://localhost:8080/v1/graphql \"HTTP/1.1 200 OK\"\n",
      "INFO:httpx:HTTP Request: POST https://api.openai.com/v1/chat/completions \"HTTP/1.1 200 OK\"\n"
     ]
    },
    {
     "name": "stdout",
     "output_type": "stream",
     "text": [
      "rerank_products response from OpenAI: [{'name': 'Smartfusion Customizable Systemonchip Microcontroller Subsystem', 'relevance_score': 1.0}, {'name': 'ARM CortexMEnabled ProASICL Development Kit', 'relevance_score': 0.9}, {'name': 'Blackbird Embedded Processing Unit', 'relevance_score': 0.8}, {'name': 'Raven Embedded Processing Unit', 'relevance_score': 0.75}, {'name': 'LPC Development Kit', 'relevance_score': 0.7}, {'name': 'ESPDevKitC V', 'relevance_score': 0.65}, {'name': 'ESPSHMIDevKit', 'relevance_score': 0.6}, {'name': 'Eagle Embedded Processing Unit', 'relevance_score': 0.55}, {'name': 'Device Monitoring System', 'relevance_score': 0.5}, {'name': 'Evaluation Kit', 'relevance_score': 0.45}]\n"
     ]
    },
    {
     "name": "stderr",
     "output_type": "stream",
     "text": [
      "INFO:httpx:HTTP Request: POST https://api.openai.com/v1/chat/completions \"HTTP/1.1 200 OK\"\n",
      "INFO:httpx:HTTP Request: POST http://localhost:8080/v1/graphql \"HTTP/1.1 200 OK\"\n",
      "INFO:httpx:HTTP Request: POST http://localhost:8080/v1/graphql \"HTTP/1.1 200 OK\"\n",
      "INFO:httpx:HTTP Request: POST http://localhost:8080/v1/graphql \"HTTP/1.1 200 OK\"\n",
      "INFO:httpx:HTTP Request: POST http://localhost:8080/v1/graphql \"HTTP/1.1 200 OK\"\n",
      "INFO:httpx:HTTP Request: POST http://localhost:8080/v1/graphql \"HTTP/1.1 200 OK\"\n",
      "INFO:httpx:HTTP Request: POST https://api.openai.com/v1/chat/completions \"HTTP/1.1 200 OK\"\n"
     ]
    },
    {
     "name": "stdout",
     "output_type": "stream",
     "text": [
      "rerank_products response from OpenAI: [{'name': 'Smartfusion Customizable Systemonchip Microcontroller Subsystem', 'relevance_score': 1.0}, {'name': 'Magniv', 'relevance_score': 0.9}, {'name': 'ARM CortexMEnabled ProASICL Development Kit', 'relevance_score': 0.8}, {'name': 'Raven Embedded Processing Unit', 'relevance_score': 0.7}, {'name': 'Blackbird Embedded Processing Unit', 'relevance_score': 0.7}, {'name': 'Owl Embedded Processing Unit', 'relevance_score': 0.7}, {'name': 'NanoXEL COM Express Mini Size Type Module', 'relevance_score': 0.6}, {'name': 'NanoXAL COM Express Mini Size Type Module', 'relevance_score': 0.6}, {'name': 'SOM Intel Atom E Pentium Celeron N Series Processors COMExpress Compact Module', 'relevance_score': 0.5}, {'name': 'SOM', 'relevance_score': 0.5}]\n"
     ]
    },
    {
     "name": "stderr",
     "output_type": "stream",
     "text": [
      "INFO:httpx:HTTP Request: POST https://api.openai.com/v1/chat/completions \"HTTP/1.1 200 OK\"\n",
      "INFO:httpx:HTTP Request: POST http://localhost:8080/v1/graphql \"HTTP/1.1 200 OK\"\n",
      "INFO:httpx:HTTP Request: POST http://localhost:8080/v1/graphql \"HTTP/1.1 200 OK\"\n",
      "INFO:httpx:HTTP Request: POST http://localhost:8080/v1/graphql \"HTTP/1.1 200 OK\"\n",
      "INFO:httpx:HTTP Request: POST http://localhost:8080/v1/graphql \"HTTP/1.1 200 OK\"\n",
      "INFO:httpx:HTTP Request: POST http://localhost:8080/v1/graphql \"HTTP/1.1 200 OK\"\n",
      "INFO:httpx:HTTP Request: POST https://api.openai.com/v1/chat/completions \"HTTP/1.1 200 OK\"\n"
     ]
    },
    {
     "name": "stdout",
     "output_type": "stream",
     "text": [
      "rerank_products response from OpenAI: [{'name': 'Smartfusion Customizable Systemonchip Microcontroller Subsystem', 'relevance_score': 0.95}, {'name': 'ARM CortexMEnabled ProASICL Development Kit', 'relevance_score': 0.9}, {'name': 'Fusion Advanced Development Kit', 'relevance_score': 0.85}, {'name': 'LPC Development Kit', 'relevance_score': 0.8}, {'name': 'COMemEL E', 'relevance_score': 0.75}, {'name': 'SOM Intel Atom E Pentium Celeron N Series Processors COMExpress Compact Module', 'relevance_score': 0.7}, {'name': 'Toybrick RKPro AI Development Kit', 'relevance_score': 0.65}, {'name': 'SOM', 'relevance_score': 0.6}, {'name': 'CEM COM Express Type Basic Module', 'relevance_score': 0.55}, {'name': 'ET COM Express 6th Generation Intel Core U-series Processor', 'relevance_score': 0.5}]\n"
     ]
    },
    {
     "name": "stderr",
     "output_type": "stream",
     "text": [
      "INFO:httpx:HTTP Request: POST https://api.openai.com/v1/chat/completions \"HTTP/1.1 200 OK\"\n",
      "INFO:httpx:HTTP Request: POST http://localhost:8080/v1/graphql \"HTTP/1.1 200 OK\"\n",
      "INFO:httpx:HTTP Request: POST http://localhost:8080/v1/graphql \"HTTP/1.1 200 OK\"\n",
      "INFO:httpx:HTTP Request: POST http://localhost:8080/v1/graphql \"HTTP/1.1 200 OK\"\n",
      "INFO:httpx:HTTP Request: POST http://localhost:8080/v1/graphql \"HTTP/1.1 200 OK\"\n",
      "INFO:httpx:HTTP Request: POST http://localhost:8080/v1/graphql \"HTTP/1.1 200 OK\"\n",
      "INFO:httpx:HTTP Request: POST https://api.openai.com/v1/chat/completions \"HTTP/1.1 200 OK\"\n"
     ]
    },
    {
     "name": "stdout",
     "output_type": "stream",
     "text": [
      "rerank_products response from OpenAI: [{'name': 'SOM 13th Gen Intel Core Processor', 'relevance_score': 0.95}, {'name': 'SOMCR Intel 12th Gen Core Processor', 'relevance_score': 0.92}, {'name': 'ExpressADP', 'relevance_score': 0.9}, {'name': 'SOM Intel 11th Gen Core Processors', 'relevance_score': 0.88}, {'name': 'PPCMBAE MiniITX Motherboard', 'relevance_score': 0.85}, {'name': 'Tank Aiot Dev Kit', 'relevance_score': 0.83}, {'name': 'SOM 7th Gen Intel Xeon Core Celeron Processors COM Express Basic Module', 'relevance_score': 0.8}, {'name': 'ATX Server Board', 'relevance_score': 0.78}, {'name': 'SOMD Computer On Module', 'relevance_score': 0.75}, {'name': 'DS Intel Core iU Celeron U', 'relevance_score': 0.72}]\n"
     ]
    },
    {
     "name": "stderr",
     "output_type": "stream",
     "text": [
      "INFO:httpx:HTTP Request: POST https://api.openai.com/v1/chat/completions \"HTTP/1.1 200 OK\"\n",
      "INFO:httpx:HTTP Request: POST http://localhost:8080/v1/graphql \"HTTP/1.1 200 OK\"\n",
      "INFO:httpx:HTTP Request: POST http://localhost:8080/v1/graphql \"HTTP/1.1 200 OK\"\n",
      "INFO:httpx:HTTP Request: POST http://localhost:8080/v1/graphql \"HTTP/1.1 200 OK\"\n",
      "INFO:httpx:HTTP Request: POST http://localhost:8080/v1/graphql \"HTTP/1.1 200 OK\"\n",
      "INFO:httpx:HTTP Request: POST http://localhost:8080/v1/graphql \"HTTP/1.1 200 OK\"\n",
      "INFO:httpx:HTTP Request: POST https://api.openai.com/v1/chat/completions \"HTTP/1.1 200 OK\"\n"
     ]
    },
    {
     "name": "stdout",
     "output_type": "stream",
     "text": [
      "rerank_products response from OpenAI: [{'name': 'SOM 13th Gen Intel Core Processor', 'relevance_score': 0.95}, {'name': 'SOMCR Intel 12th Gen Core Processor', 'relevance_score': 0.92}, {'name': 'ExpressADP', 'relevance_score': 0.9}, {'name': 'SOM Intel 11th Gen Core Processors', 'relevance_score': 0.88}, {'name': 'Tank Aiot Dev Kit', 'relevance_score': 0.85}, {'name': 'UP Xtreme Developer Board', 'relevance_score': 0.83}, {'name': 'Industrial Thin MiniITX', 'relevance_score': 0.8}, {'name': 'PPCMBAE MiniITX Motherboard', 'relevance_score': 0.78}, {'name': 'Com Express Basic Type Cpu Module', 'relevance_score': 0.75}, {'name': 'SOM 7th Gen Intel Xeon Core Celeron Processors COM Express Basic Module', 'relevance_score': 0.73}]\n"
     ]
    },
    {
     "name": "stderr",
     "output_type": "stream",
     "text": [
      "INFO:httpx:HTTP Request: POST https://api.openai.com/v1/chat/completions \"HTTP/1.1 200 OK\"\n"
     ]
    },
    {
     "name": "stdout",
     "output_type": "stream",
     "text": [
      "Error processing query: Show hardware solutions that incorporate Intel Turbo Boost and Hyper-Threading capabilities\n"
     ]
    },
    {
     "name": "stderr",
     "output_type": "stream",
     "text": [
      "INFO:httpx:HTTP Request: POST https://api.openai.com/v1/chat/completions \"HTTP/1.1 200 OK\"\n",
      "INFO:httpx:HTTP Request: POST http://localhost:8080/v1/graphql \"HTTP/1.1 200 OK\"\n",
      "INFO:httpx:HTTP Request: POST http://localhost:8080/v1/graphql \"HTTP/1.1 200 OK\"\n",
      "INFO:httpx:HTTP Request: POST http://localhost:8080/v1/graphql \"HTTP/1.1 200 OK\"\n",
      "INFO:httpx:HTTP Request: POST http://localhost:8080/v1/graphql \"HTTP/1.1 200 OK\"\n",
      "INFO:httpx:HTTP Request: POST http://localhost:8080/v1/graphql \"HTTP/1.1 200 OK\"\n",
      "INFO:httpx:HTTP Request: POST https://api.openai.com/v1/chat/completions \"HTTP/1.1 200 OK\"\n"
     ]
    },
    {
     "name": "stdout",
     "output_type": "stream",
     "text": [
      "rerank_products response from OpenAI: [{'name': 'SOM 13th Gen Intel Core Processor', 'relevance_score': 0.95}, {'name': 'SOMCR Intel 12th Gen Core Processor', 'relevance_score': 0.92}, {'name': 'ExpressADP', 'relevance_score': 0.9}, {'name': 'SOM Intel 11th Gen Core Processors', 'relevance_score': 0.88}, {'name': 'UP Xtreme Developer Board', 'relevance_score': 0.85}, {'name': 'Tank Aiot Dev Kit', 'relevance_score': 0.83}, {'name': 'PPCMBAE MiniITX Motherboard', 'relevance_score': 0.8}, {'name': 'Com Express Basic Type Cpu Module', 'relevance_score': 0.78}, {'name': 'SOM 7th Gen Intel Xeon Core Celeron Processors COM Express Basic Module', 'relevance_score': 0.75}, {'name': 'DS Intel Core iU Celeron U', 'relevance_score': 0.73}]\n"
     ]
    },
    {
     "name": "stderr",
     "output_type": "stream",
     "text": [
      "INFO:httpx:HTTP Request: POST https://api.openai.com/v1/chat/completions \"HTTP/1.1 200 OK\"\n",
      "INFO:httpx:HTTP Request: POST http://localhost:8080/v1/graphql \"HTTP/1.1 200 OK\"\n",
      "INFO:httpx:HTTP Request: POST http://localhost:8080/v1/graphql \"HTTP/1.1 200 OK\"\n",
      "INFO:httpx:HTTP Request: POST http://localhost:8080/v1/graphql \"HTTP/1.1 200 OK\"\n",
      "INFO:httpx:HTTP Request: POST http://localhost:8080/v1/graphql \"HTTP/1.1 200 OK\"\n",
      "INFO:httpx:HTTP Request: POST http://localhost:8080/v1/graphql \"HTTP/1.1 200 OK\"\n",
      "INFO:httpx:HTTP Request: POST https://api.openai.com/v1/chat/completions \"HTTP/1.1 200 OK\"\n"
     ]
    },
    {
     "name": "stdout",
     "output_type": "stream",
     "text": [
      "rerank_products response from OpenAI: [{'name': 'SOM 13th Gen Intel Core Processor', 'relevance_score': 0.95}, {'name': 'SOMCR Intel 12th Gen Core Processor', 'relevance_score': 0.9}, {'name': 'ExpressADP', 'relevance_score': 0.88}, {'name': 'SOM Intel 11th Gen Core Processors', 'relevance_score': 0.85}, {'name': 'PPCMBAE MiniITX Motherboard', 'relevance_score': 0.8}, {'name': 'Tank Aiot Dev Kit', 'relevance_score': 0.78}, {'name': 'SOM 7th Gen Intel Xeon Core Celeron Processors COM Express Basic Module', 'relevance_score': 0.75}, {'name': 'Industrial Thin MiniITX', 'relevance_score': 0.7}, {'name': 'DS Intel Core iU Celeron U', 'relevance_score': 0.65}, {'name': 'SOMD Computer On Module', 'relevance_score': 0.6}]\n"
     ]
    },
    {
     "name": "stderr",
     "output_type": "stream",
     "text": [
      "INFO:httpx:HTTP Request: POST https://api.openai.com/v1/chat/completions \"HTTP/1.1 200 OK\"\n",
      "INFO:httpx:HTTP Request: POST http://localhost:8080/v1/graphql \"HTTP/1.1 200 OK\"\n",
      "INFO:httpx:HTTP Request: POST http://localhost:8080/v1/graphql \"HTTP/1.1 200 OK\"\n",
      "INFO:httpx:HTTP Request: POST http://localhost:8080/v1/graphql \"HTTP/1.1 200 OK\"\n",
      "INFO:httpx:HTTP Request: POST http://localhost:8080/v1/graphql \"HTTP/1.1 200 OK\"\n",
      "INFO:httpx:HTTP Request: POST http://localhost:8080/v1/graphql \"HTTP/1.1 200 OK\"\n",
      "INFO:httpx:HTTP Request: POST https://api.openai.com/v1/chat/completions \"HTTP/1.1 200 OK\"\n"
     ]
    },
    {
     "name": "stdout",
     "output_type": "stream",
     "text": [
      "rerank_products response from OpenAI: [{'name': 'Viper EBX Single Board Computer', 'relevance_score': 0.95}, {'name': 'Baycat Pcplus Single Board Computer', 'relevance_score': 0.92}, {'name': 'RSB Single Board Computer', 'relevance_score': 0.9}, {'name': 'ConnectCore SBC', 'relevance_score': 0.88}, {'name': 'Dev Board', 'relevance_score': 0.85}, {'name': 'Zebra Single Board Computer', 'relevance_score': 0.83}, {'name': 'Swordtail', 'relevance_score': 0.8}, {'name': 'MYCJD CPU Module', 'relevance_score': 0.78}, {'name': 'RZ G1C Single Board Computer', 'relevance_score': 0.75}, {'name': 'Beaglebone Green', 'relevance_score': 0.72}]\n"
     ]
    },
    {
     "name": "stderr",
     "output_type": "stream",
     "text": [
      "INFO:httpx:HTTP Request: POST https://api.openai.com/v1/chat/completions \"HTTP/1.1 200 OK\"\n",
      "INFO:httpx:HTTP Request: POST http://localhost:8080/v1/graphql \"HTTP/1.1 200 OK\"\n",
      "INFO:httpx:HTTP Request: POST http://localhost:8080/v1/graphql \"HTTP/1.1 200 OK\"\n",
      "INFO:httpx:HTTP Request: POST http://localhost:8080/v1/graphql \"HTTP/1.1 200 OK\"\n",
      "INFO:httpx:HTTP Request: POST http://localhost:8080/v1/graphql \"HTTP/1.1 200 OK\"\n",
      "INFO:httpx:HTTP Request: POST http://localhost:8080/v1/graphql \"HTTP/1.1 200 OK\"\n",
      "INFO:httpx:HTTP Request: POST https://api.openai.com/v1/chat/completions \"HTTP/1.1 200 OK\"\n"
     ]
    },
    {
     "name": "stdout",
     "output_type": "stream",
     "text": [
      "rerank_products response from OpenAI: [{'name': 'RTG Development Kit', 'relevance_score': 0.95}, {'name': 'CortexMEnabled IGLOO Development Kit', 'relevance_score': 0.9}, {'name': 'ARM CortexMEnabled ProASICL Development Kit', 'relevance_score': 0.88}, {'name': 'Smartfusion Customizable Systemonchip Microcontroller Subsystem', 'relevance_score': 0.85}, {'name': 'Fusion Advanced Development Kit', 'relevance_score': 0.82}, {'name': 'IMX XLite Pico ITX SBC', 'relevance_score': 0.8}, {'name': 'Embedded Vision Portfolio', 'relevance_score': 0.75}, {'name': 'Swordtail', 'relevance_score': 0.7}, {'name': 'ITXPC Single Board Computer', 'relevance_score': 0.68}, {'name': 'Baycat Pcplus Single Board Computer', 'relevance_score': 0.65}]\n"
     ]
    },
    {
     "name": "stderr",
     "output_type": "stream",
     "text": [
      "INFO:httpx:HTTP Request: POST https://api.openai.com/v1/chat/completions \"HTTP/1.1 200 OK\"\n",
      "INFO:httpx:HTTP Request: POST http://localhost:8080/v1/graphql \"HTTP/1.1 200 OK\"\n",
      "INFO:httpx:HTTP Request: POST http://localhost:8080/v1/graphql \"HTTP/1.1 200 OK\"\n",
      "INFO:httpx:HTTP Request: POST http://localhost:8080/v1/graphql \"HTTP/1.1 200 OK\"\n",
      "INFO:httpx:HTTP Request: POST http://localhost:8080/v1/graphql \"HTTP/1.1 200 OK\"\n",
      "INFO:httpx:HTTP Request: POST http://localhost:8080/v1/graphql \"HTTP/1.1 200 OK\"\n",
      "INFO:httpx:HTTP Request: POST https://api.openai.com/v1/chat/completions \"HTTP/1.1 200 OK\"\n"
     ]
    },
    {
     "name": "stdout",
     "output_type": "stream",
     "text": [
      "rerank_products response from OpenAI: [{'name': 'IWRainboWGD Stratix GXSX SoC FPGA DevKit', 'relevance_score': 0.95}, {'name': 'Smartfusion Customizable Systemonchip Microcontroller Subsystem', 'relevance_score': 0.85}, {'name': 'Embedded Vision Portfolio', 'relevance_score': 0.75}, {'name': 'RZ G1C Single Board Computer', 'relevance_score': 0.7}, {'name': 'RISC Computing Platform', 'relevance_score': 0.65}, {'name': 'OMAP Evaluation Platform', 'relevance_score': 0.6}, {'name': 'Fusion Advanced Development Kit', 'relevance_score': 0.55}, {'name': 'IMX XLite Pico ITX SBC', 'relevance_score': 0.5}, {'name': 'Zebra Single Board Computer', 'relevance_score': 0.45}, {'name': 'Digi ConnectCore SBC', 'relevance_score': 0.4}]\n"
     ]
    },
    {
     "name": "stderr",
     "output_type": "stream",
     "text": [
      "INFO:httpx:HTTP Request: POST https://api.openai.com/v1/chat/completions \"HTTP/1.1 200 OK\"\n",
      "INFO:httpx:HTTP Request: POST http://localhost:8080/v1/graphql \"HTTP/1.1 200 OK\"\n",
      "INFO:httpx:HTTP Request: POST http://localhost:8080/v1/graphql \"HTTP/1.1 200 OK\"\n",
      "INFO:httpx:HTTP Request: POST http://localhost:8080/v1/graphql \"HTTP/1.1 200 OK\"\n",
      "INFO:httpx:HTTP Request: POST http://localhost:8080/v1/graphql \"HTTP/1.1 200 OK\"\n",
      "INFO:httpx:HTTP Request: POST http://localhost:8080/v1/graphql \"HTTP/1.1 200 OK\"\n",
      "INFO:httpx:HTTP Request: POST https://api.openai.com/v1/chat/completions \"HTTP/1.1 200 OK\"\n"
     ]
    },
    {
     "name": "stdout",
     "output_type": "stream",
     "text": [
      "rerank_products response from OpenAI: [{'name': 'RTG Development Kit', 'relevance_score': 0.95}, {'name': 'CortexMEnabled IGLOO Development Kit', 'relevance_score': 0.9}, {'name': 'Fusion Advanced Development Kit', 'relevance_score': 0.85}, {'name': 'ARM CortexMEnabled ProASICL Development Kit', 'relevance_score': 0.8}, {'name': 'Smartfusion Customizable Systemonchip Microcontroller Subsystem', 'relevance_score': 0.75}, {'name': 'IMX XLite Pico ITX SBC', 'relevance_score': 0.7}, {'name': 'Swordtail', 'relevance_score': 0.65}, {'name': 'Zebra Single Board Computer', 'relevance_score': 0.6}, {'name': 'MYCJD CPU Module', 'relevance_score': 0.55}, {'name': 'Puzzlem', 'relevance_score': 0.5}]\n"
     ]
    },
    {
     "name": "stderr",
     "output_type": "stream",
     "text": [
      "INFO:httpx:HTTP Request: POST https://api.openai.com/v1/chat/completions \"HTTP/1.1 200 OK\"\n",
      "INFO:httpx:HTTP Request: POST http://localhost:8080/v1/graphql \"HTTP/1.1 200 OK\"\n",
      "INFO:httpx:HTTP Request: POST http://localhost:8080/v1/graphql \"HTTP/1.1 200 OK\"\n",
      "INFO:httpx:HTTP Request: POST http://localhost:8080/v1/graphql \"HTTP/1.1 200 OK\"\n",
      "INFO:httpx:HTTP Request: POST http://localhost:8080/v1/graphql \"HTTP/1.1 200 OK\"\n",
      "INFO:httpx:HTTP Request: POST http://localhost:8080/v1/graphql \"HTTP/1.1 200 OK\"\n",
      "INFO:httpx:HTTP Request: POST https://api.openai.com/v1/chat/completions \"HTTP/1.1 200 OK\"\n"
     ]
    },
    {
     "name": "stdout",
     "output_type": "stream",
     "text": [
      "rerank_products response from OpenAI: [{'name': 'TE ZynqBerry', 'relevance_score': 0.95}, {'name': 'Smartfusion Customizable Systemonchip Microcontroller Subsystem', 'relevance_score': 0.9}, {'name': 'RZ G1C Single Board Computer', 'relevance_score': 0.85}, {'name': 'RSB Single Board Computer', 'relevance_score': 0.8}, {'name': 'IMX XLite Pico ITX SBC', 'relevance_score': 0.75}, {'name': 'Zebra Single Board Computer', 'relevance_score': 0.7}, {'name': 'RISC Computing Platform', 'relevance_score': 0.65}, {'name': 'Digi ConnectCore SBC', 'relevance_score': 0.6}, {'name': 'Swordtail', 'relevance_score': 0.55}, {'name': 'Baycat Pcplus Single Board Computer', 'relevance_score': 0.5}]\n"
     ]
    }
   ],
   "source": [
    "def generate_semantic_search_queries(comprehensive_result: Dict[str, Any]) -> List[str]:\n",
    "    expanded_queries = comprehensive_result[\"expanded_queries\"]\n",
    "    search_params = comprehensive_result[\"search_params\"]\n",
    "    extracted_attributes = comprehensive_result[\"extracted_attributes\"]\n",
    "\n",
    "    queries = expanded_queries.copy()\n",
    "    search_param_query = \", \".join([f\"{key}: {', '.join(value)}\" for key, value in search_params.items()])\n",
    "    queries.append(search_param_query)\n",
    "    extracted_attributes_query = \", \".join([f\"{key}: {value}\" for key, value in extracted_attributes.items()])\n",
    "    queries.append(extracted_attributes_query)\n",
    "\n",
    "    # we also want to return list of attributes that were extracted\n",
    "    attributes = list(extracted_attributes.keys())\n",
    "\n",
    "    return queries, attributes\n",
    "\n",
    "\n",
    "def get_unique_products(products):\n",
    "    unique_products = {}\n",
    "    for prod in products:\n",
    "        if prod[\"name\"] not in unique_products:\n",
    "            unique_products[prod[\"name\"]] = Product(**prod)\n",
    "    return list(unique_products.values())\n",
    "\n",
    "\n",
    "async def get_top_products(query: str, top_k: int = 10) -> List[str]:\n",
    "    \"\"\"Get top k products for a given query using process_query_comprehensive3\"\"\"\n",
    "    result, _, _ = await query_processor.process_query_comprehensive3(query, [])\n",
    "    _queries, _attributes = generate_semantic_search_queries(result)\n",
    "\n",
    "    results = []\n",
    "    for _query in _queries:\n",
    "        products = await weaviate_service.search_products(_query, limit=5)\n",
    "        results.extend(products)\n",
    "\n",
    "    # Use search_params to query Weaviate\n",
    "    products = get_unique_products(results)\n",
    "    rerank_input = [{\"name\": p.name, **{attr: getattr(p, attr) for attr in _attributes}} for p in products]\n",
    "    reranked, _, _ = await query_processor.rerank_products(query, rerank_input, top_k=top_k)\n",
    "\n",
    "    # Extract product names\n",
    "    return reranked\n",
    "\n",
    "\n",
    "def calculate_consistency(products_list: List[List[str]]) -> float:\n",
    "    \"\"\"Calculate consistency percentage among lists of products\"\"\"\n",
    "    if not products_list:\n",
    "        return 0.0\n",
    "\n",
    "    reference = set(products_list[0])\n",
    "    total_consistency = sum(len(set(products) & reference) / len(reference) for products in products_list)\n",
    "    return (total_consistency / len(products_list)) * 100\n",
    "\n",
    "\n",
    "def calculate_order_consistency(products_list: List[List[str]]) -> float:\n",
    "    \"\"\"Calculate order consistency percentage among lists of products\"\"\"\n",
    "    if not products_list or len(products_list) < 2:\n",
    "        return 100.0\n",
    "\n",
    "    reference = products_list[0]\n",
    "    total_order_consistency = sum(SequenceMatcher(None, reference, products).ratio() for products in products_list[1:])\n",
    "    return (total_order_consistency / (len(products_list) - 1)) * 100\n",
    "\n",
    "\n",
    "async def run_consistency_test(test_case: Dict[str, Any]) -> Dict[str, Any]:\n",
    "    \"\"\"Run consistency test for a given test case\"\"\"\n",
    "    results = []\n",
    "    for query in test_case[\"queries\"]:\n",
    "        try:\n",
    "            products = await get_top_products(query)\n",
    "            results.append(products)\n",
    "\n",
    "        except:\n",
    "            print(f\"Error processing query: {query}\")\n",
    "\n",
    "    consistency = calculate_consistency(results)\n",
    "    order_consistency = calculate_order_consistency(results)\n",
    "\n",
    "    return {\n",
    "        \"name\": test_case[\"name\"],\n",
    "        \"results\": results,\n",
    "        \"consistency\": consistency,\n",
    "        \"order_consistency\": order_consistency,\n",
    "    }\n",
    "\n",
    "\n",
    "async def run_all_tests(test_cases: List[Dict[str, Any]]) -> List[Dict[str, Any]]:\n",
    "    \"\"\"Run all test cases\"\"\"\n",
    "    return [await run_consistency_test(test_case) for test_case in test_cases]\n",
    "\n",
    "\n",
    "# Run all tests\n",
    "test_results = await run_all_tests(test_cases)"
   ]
  },
  {
   "cell_type": "code",
   "execution_count": 4,
   "metadata": {},
   "outputs": [
    {
     "name": "stdout",
     "output_type": "stream",
     "text": [
      "Test Case: List Single Board Computers with a processor frequency of 1.5 GHz or higher and manufactured by Broadcom\n",
      "Consistency: 75.00%\n",
      "Order Consistency: 64.46%\n"
     ]
    },
    {
     "data": {
      "text/html": [
       "<table border=\"1\" class=\"dataframe\">\n",
       "  <thead>\n",
       "    <tr style=\"text-align: right;\">\n",
       "      <th>Query 1</th>\n",
       "      <th>Query 2</th>\n",
       "      <th>Query 3</th>\n",
       "      <th>Query 4</th>\n",
       "      <th>Query 5</th>\n",
       "    </tr>\n",
       "  </thead>\n",
       "  <tbody>\n",
       "    <tr>\n",
       "      <td>Raspberry Pi</td>\n",
       "      <td>Raspberry Pi</td>\n",
       "      <td>Raspberry Pi Model B</td>\n",
       "      <td>Raspberry Pi</td>\n",
       "      <td>Raspberry Pi</td>\n",
       "    </tr>\n",
       "    <tr>\n",
       "      <td>Raspberry Pi Model B</td>\n",
       "      <td>Raspberry Pi Model B</td>\n",
       "      <td>None</td>\n",
       "      <td>Raspberry Pi Model B</td>\n",
       "      <td>Raspberry Pi Model B</td>\n",
       "    </tr>\n",
       "    <tr>\n",
       "      <td>Raspberry Pi Compute Module</td>\n",
       "      <td>Raspberry Pi Compute Module</td>\n",
       "      <td>None</td>\n",
       "      <td>Raspberry Pi Model A</td>\n",
       "      <td>Raspberry Pi Model A</td>\n",
       "    </tr>\n",
       "    <tr>\n",
       "      <td>Raspberry Pi Model A</td>\n",
       "      <td>Raspberry Pi Model A</td>\n",
       "      <td>None</td>\n",
       "      <td>BCM ARM Peripherals</td>\n",
       "      <td>None</td>\n",
       "    </tr>\n",
       "    <tr>\n",
       "      <td>None</td>\n",
       "      <td>RZ G1C Single Board Computer</td>\n",
       "      <td>None</td>\n",
       "      <td>None</td>\n",
       "      <td>None</td>\n",
       "    </tr>\n",
       "    <tr>\n",
       "      <td>None</td>\n",
       "      <td>RISC Single Board Computer</td>\n",
       "      <td>None</td>\n",
       "      <td>None</td>\n",
       "      <td>None</td>\n",
       "    </tr>\n",
       "    <tr>\n",
       "      <td>None</td>\n",
       "      <td>SBC Board Q BiPA</td>\n",
       "      <td>None</td>\n",
       "      <td>None</td>\n",
       "      <td>None</td>\n",
       "    </tr>\n",
       "    <tr>\n",
       "      <td>None</td>\n",
       "      <td>Antares</td>\n",
       "      <td>None</td>\n",
       "      <td>None</td>\n",
       "      <td>None</td>\n",
       "    </tr>\n",
       "    <tr>\n",
       "      <td>None</td>\n",
       "      <td>PicoITX SBC</td>\n",
       "      <td>None</td>\n",
       "      <td>None</td>\n",
       "      <td>None</td>\n",
       "    </tr>\n",
       "    <tr>\n",
       "      <td>None</td>\n",
       "      <td>RSB Single Board Computer</td>\n",
       "      <td>None</td>\n",
       "      <td>None</td>\n",
       "      <td>None</td>\n",
       "    </tr>\n",
       "  </tbody>\n",
       "</table>"
      ],
      "text/plain": [
       "<IPython.core.display.HTML object>"
      ]
     },
     "metadata": {},
     "output_type": "display_data"
    },
    {
     "name": "stdout",
     "output_type": "stream",
     "text": [
      "\n",
      "================================================================================\n",
      "\n",
      "Test Case: What are the available Computers on Module (COM) with DDR4 memory support and comes with an Intel processor?\n",
      "Consistency: 78.00%\n",
      "Order Consistency: 52.50%\n"
     ]
    },
    {
     "data": {
      "text/html": [
       "<table border=\"1\" class=\"dataframe\">\n",
       "  <thead>\n",
       "    <tr style=\"text-align: right;\">\n",
       "      <th>Query 1</th>\n",
       "      <th>Query 2</th>\n",
       "      <th>Query 3</th>\n",
       "      <th>Query 4</th>\n",
       "      <th>Query 5</th>\n",
       "    </tr>\n",
       "  </thead>\n",
       "  <tbody>\n",
       "    <tr>\n",
       "      <td>SOM Intel 11th Gen Core Processors</td>\n",
       "      <td>SOM 7th Gen Intel Xeon Core Celeron Processors COM Express Basic Module</td>\n",
       "      <td>SOMCR Intel 12th Gen Core Processor</td>\n",
       "      <td>SOM Intel 11th Gen Core Processors</td>\n",
       "      <td>SOM Intel 11th Gen Core Processors</td>\n",
       "    </tr>\n",
       "    <tr>\n",
       "      <td>COM Express Basic Type CPU Module</td>\n",
       "      <td>SOM Intel Xeon D Processor</td>\n",
       "      <td>SOM Intel 11th Gen Core Processors</td>\n",
       "      <td>SOM 7th Gen Intel Xeon Core Celeron Processors COM Express Basic Module</td>\n",
       "      <td>COM Express Basic Type CPU Module</td>\n",
       "    </tr>\n",
       "    <tr>\n",
       "      <td>SOM 7th Gen Intel Xeon Core Celeron Processors COM Express Basic Module</td>\n",
       "      <td>SOM Intel 11th Gen Core Processors</td>\n",
       "      <td>ExpressADP</td>\n",
       "      <td>COM Express Basic Type CPU Module</td>\n",
       "      <td>SOM 7th Gen Intel Xeon Core Celeron Processors COM Express Basic Module</td>\n",
       "    </tr>\n",
       "    <tr>\n",
       "      <td>ET COM Express</td>\n",
       "      <td>COM Express Basic Type CPU Module</td>\n",
       "      <td>SOM 7th Gen Intel Xeon Core Celeron Processors COM Express Basic Module</td>\n",
       "      <td>SOM Intel Xeon D Processor</td>\n",
       "      <td>SOM Intel Xeon D Processor</td>\n",
       "    </tr>\n",
       "    <tr>\n",
       "      <td>SOM Intel Xeon D Processor</td>\n",
       "      <td>Computer On Module</td>\n",
       "      <td>COM Express Basic Type CPU Module</td>\n",
       "      <td>ET COM Express</td>\n",
       "      <td>ExpressBD</td>\n",
       "    </tr>\n",
       "    <tr>\n",
       "      <td>CPU COM Express Basic Type</td>\n",
       "      <td>SOMCR Intel 12th Gen Core Processor</td>\n",
       "      <td>ExpressBD</td>\n",
       "      <td>ICES COM Express Basic Module</td>\n",
       "      <td>Blackbird Embedded Processing Unit</td>\n",
       "    </tr>\n",
       "    <tr>\n",
       "      <td>ICES COM Express Basic Module</td>\n",
       "      <td>ExpressADP</td>\n",
       "      <td>SOM Intel Xeon D Processor</td>\n",
       "      <td>CEM COM Express Type Basic Module</td>\n",
       "      <td>SOMCR Intel 12th Gen Core Processor</td>\n",
       "    </tr>\n",
       "    <tr>\n",
       "      <td>SOMCR Intel 12th Gen Core Processor</td>\n",
       "      <td>Conga BXD</td>\n",
       "      <td>Computer On Module</td>\n",
       "      <td>SOMCR Intel 12th Gen Core Processor</td>\n",
       "      <td>Conga BXD</td>\n",
       "    </tr>\n",
       "    <tr>\n",
       "      <td>Conga BXD</td>\n",
       "      <td>SOM</td>\n",
       "      <td>SOMD Computer On Module</td>\n",
       "      <td>Conga BXD</td>\n",
       "      <td>ExpressADP</td>\n",
       "    </tr>\n",
       "    <tr>\n",
       "      <td>ExpressADP</td>\n",
       "      <td>Com Express Basic Type Cpu Module</td>\n",
       "      <td>Com Express Basic Type Cpu Module</td>\n",
       "      <td>ExpressADP</td>\n",
       "      <td>Computer On Module</td>\n",
       "    </tr>\n",
       "  </tbody>\n",
       "</table>"
      ],
      "text/plain": [
       "<IPython.core.display.HTML object>"
      ]
     },
     "metadata": {},
     "output_type": "display_data"
    },
    {
     "name": "stdout",
     "output_type": "stream",
     "text": [
      "\n",
      "================================================================================\n",
      "\n",
      "Test Case: Show Devkits that include FPGA and are manufactured by Microsemi Corporation.\n",
      "Consistency: 100.00%\n",
      "Order Consistency: 64.68%\n"
     ]
    },
    {
     "data": {
      "text/html": [
       "<table border=\"1\" class=\"dataframe\">\n",
       "  <thead>\n",
       "    <tr style=\"text-align: right;\">\n",
       "      <th>Query 1</th>\n",
       "      <th>Query 2</th>\n",
       "      <th>Query 3</th>\n",
       "      <th>Query 4</th>\n",
       "      <th>Query 5</th>\n",
       "    </tr>\n",
       "  </thead>\n",
       "  <tbody>\n",
       "    <tr>\n",
       "      <td>RTG Development Kit</td>\n",
       "      <td>RTG Development Kit</td>\n",
       "      <td>RTG Development Kit</td>\n",
       "      <td>RTG Development Kit</td>\n",
       "      <td>RTG Development Kit</td>\n",
       "    </tr>\n",
       "    <tr>\n",
       "      <td>Smartfusion Customizable Systemonchip Microcontroller Subsystem</td>\n",
       "      <td>Smartfusion Customizable Systemonchip Microcontroller Subsystem</td>\n",
       "      <td>Smartfusion Customizable Systemonchip Microcontroller Subsystem</td>\n",
       "      <td>CortexMEnabled IGLOO Development Kit</td>\n",
       "      <td>Smartfusion Customizable Systemonchip Microcontroller Subsystem</td>\n",
       "    </tr>\n",
       "    <tr>\n",
       "      <td>Fusion Advanced Development Kit</td>\n",
       "      <td>Fusion Advanced Development Kit</td>\n",
       "      <td>Fusion Advanced Development Kit</td>\n",
       "      <td>Fusion Advanced Development Kit</td>\n",
       "      <td>Fusion Advanced Development Kit</td>\n",
       "    </tr>\n",
       "    <tr>\n",
       "      <td>CortexMEnabled IGLOO Development Kit</td>\n",
       "      <td>CortexMEnabled IGLOO Development Kit</td>\n",
       "      <td>CortexMEnabled IGLOO Development Kit</td>\n",
       "      <td>Smartfusion Customizable Systemonchip Microcontroller Subsystem</td>\n",
       "      <td>CortexMEnabled IGLOO Development Kit</td>\n",
       "    </tr>\n",
       "    <tr>\n",
       "      <td>None</td>\n",
       "      <td>ARM CortexMEnabled ProASICL Development Kit</td>\n",
       "      <td>ARM CortexMEnabled ProASICL Development Kit</td>\n",
       "      <td>ARM CortexMEnabled ProASICL Development Kit</td>\n",
       "      <td>None</td>\n",
       "    </tr>\n",
       "    <tr>\n",
       "      <td>None</td>\n",
       "      <td>FSP Development Kit</td>\n",
       "      <td>FSP Development Kit</td>\n",
       "      <td>None</td>\n",
       "      <td>None</td>\n",
       "    </tr>\n",
       "    <tr>\n",
       "      <td>None</td>\n",
       "      <td>MICA Tablet PC</td>\n",
       "      <td>ESPDevKitM</td>\n",
       "      <td>None</td>\n",
       "      <td>None</td>\n",
       "    </tr>\n",
       "    <tr>\n",
       "      <td>None</td>\n",
       "      <td>RMNMMI Series SMARC CPU Module</td>\n",
       "      <td>Evaluation Kit</td>\n",
       "      <td>None</td>\n",
       "      <td>None</td>\n",
       "    </tr>\n",
       "    <tr>\n",
       "      <td>None</td>\n",
       "      <td>CompactPCI Intel 7th Gen Quad Core Processor Blade</td>\n",
       "      <td>MICA Tablet PC</td>\n",
       "      <td>None</td>\n",
       "      <td>None</td>\n",
       "    </tr>\n",
       "    <tr>\n",
       "      <td>None</td>\n",
       "      <td>MYCYMX CPU Module</td>\n",
       "      <td>RMNMMI Series SMARC CPU Module</td>\n",
       "      <td>None</td>\n",
       "      <td>None</td>\n",
       "    </tr>\n",
       "  </tbody>\n",
       "</table>"
      ],
      "text/plain": [
       "<IPython.core.display.HTML object>"
      ]
     },
     "metadata": {},
     "output_type": "display_data"
    },
    {
     "name": "stdout",
     "output_type": "stream",
     "text": [
      "\n",
      "================================================================================\n",
      "\n",
      "Test Case: Find all SBCs that support PCIe Gen3 interface and have more than 8 cores\n",
      "Consistency: 70.00%\n",
      "Order Consistency: 37.50%\n"
     ]
    },
    {
     "data": {
      "text/html": [
       "<table border=\"1\" class=\"dataframe\">\n",
       "  <thead>\n",
       "    <tr style=\"text-align: right;\">\n",
       "      <th>Query 1</th>\n",
       "      <th>Query 2</th>\n",
       "      <th>Query 3</th>\n",
       "      <th>Query 4</th>\n",
       "      <th>Query 5</th>\n",
       "    </tr>\n",
       "  </thead>\n",
       "  <tbody>\n",
       "    <tr>\n",
       "      <td>SOM 13th Gen Intel Core Processor</td>\n",
       "      <td>ATX Server Board</td>\n",
       "      <td>ATX Server Board</td>\n",
       "      <td>PCEBVBE</td>\n",
       "      <td>PCEBVBE</td>\n",
       "    </tr>\n",
       "    <tr>\n",
       "      <td>PCEBVBE</td>\n",
       "      <td>SOM Intel Xeon D Processor</td>\n",
       "      <td>PCEBVBE</td>\n",
       "      <td>SOM 13th Gen Intel Core Processor</td>\n",
       "      <td>ATX Server Board</td>\n",
       "    </tr>\n",
       "    <tr>\n",
       "      <td>SIMBA ATX Motherboard</td>\n",
       "      <td>SOMCR Intel 12th Gen Core Processor</td>\n",
       "      <td>SOM 13th Gen Intel Core Processor</td>\n",
       "      <td>ATX Server Board</td>\n",
       "      <td>SIMBA ATX Motherboard</td>\n",
       "    </tr>\n",
       "    <tr>\n",
       "      <td>SOMCR Intel 12th Gen Core Processor</td>\n",
       "      <td>SOM 13th Gen Intel Core Processor</td>\n",
       "      <td>SOMCR Intel 12th Gen Core Processor</td>\n",
       "      <td>SOMCR Intel 12th Gen Core Processor</td>\n",
       "      <td>SOM 13th Gen Intel Core Processor</td>\n",
       "    </tr>\n",
       "    <tr>\n",
       "      <td>COMecAP COM Express Compact</td>\n",
       "      <td>COMebRP E</td>\n",
       "      <td>MIO Extension SBC</td>\n",
       "      <td>SOM Intel Xeon D Processor</td>\n",
       "      <td>SOMCR Intel 12th Gen Core Processor</td>\n",
       "    </tr>\n",
       "    <tr>\n",
       "      <td>SOM Intel Xeon D Processor</td>\n",
       "      <td>MIO Extension SBC</td>\n",
       "      <td>COMebRP E</td>\n",
       "      <td>PCIEQ Fullsize PICMG CPU Card</td>\n",
       "      <td>MIO Extension SBC</td>\n",
       "    </tr>\n",
       "    <tr>\n",
       "      <td>PCIEQ Fullsize PICMG CPU Card</td>\n",
       "      <td>PCEBVBE</td>\n",
       "      <td>PCIEQ Fullsize PICMG CPU Card</td>\n",
       "      <td>SIMBA ATX Motherboard</td>\n",
       "      <td>COMebRP E</td>\n",
       "    </tr>\n",
       "    <tr>\n",
       "      <td>MIO Extension SBC</td>\n",
       "      <td>SIMBA ATX Motherboard</td>\n",
       "      <td>SOM Intel 11th Gen Core Processors</td>\n",
       "      <td>Conga HPC CALP</td>\n",
       "      <td>PCIEQ Fullsize PICMG CPU Card</td>\n",
       "    </tr>\n",
       "    <tr>\n",
       "      <td>Conga HPC CALP</td>\n",
       "      <td>PCIEQ Fullsize PICMG CPU Card</td>\n",
       "      <td>Com Express Basic Type Cpu Module</td>\n",
       "      <td>PPCMBAE MiniITX Motherboard</td>\n",
       "      <td>SOM Intel 11th Gen Core Processors</td>\n",
       "    </tr>\n",
       "    <tr>\n",
       "      <td>COMecWL ES COM Express Compact</td>\n",
       "      <td>Com Express Basic Type Cpu Module</td>\n",
       "      <td>PicoITX SBC</td>\n",
       "      <td>Com Express Basic Type Cpu Module</td>\n",
       "      <td>Com Express Basic Type Cpu Module</td>\n",
       "    </tr>\n",
       "  </tbody>\n",
       "</table>"
      ],
      "text/plain": [
       "<IPython.core.display.HTML object>"
      ]
     },
     "metadata": {},
     "output_type": "display_data"
    },
    {
     "name": "stdout",
     "output_type": "stream",
     "text": [
      "\n",
      "================================================================================\n",
      "\n",
      "Test Case: Provide a list of products with ARM Cortex processors that are available in a COM Express Basic form factor.\n",
      "Consistency: 52.00%\n",
      "Order Consistency: 22.50%\n"
     ]
    },
    {
     "data": {
      "text/html": [
       "<table border=\"1\" class=\"dataframe\">\n",
       "  <thead>\n",
       "    <tr style=\"text-align: right;\">\n",
       "      <th>Query 1</th>\n",
       "      <th>Query 2</th>\n",
       "      <th>Query 3</th>\n",
       "      <th>Query 4</th>\n",
       "      <th>Query 5</th>\n",
       "    </tr>\n",
       "  </thead>\n",
       "  <tbody>\n",
       "    <tr>\n",
       "      <td>Toybrick RKPro AI Development Kit</td>\n",
       "      <td>ROM NXP ARM CortexA iMX SMARC v Module</td>\n",
       "      <td>MCCAMXJ CPU Module</td>\n",
       "      <td>None</td>\n",
       "      <td>ROM NXP ARM CortexA iMX SMARC v Module</td>\n",
       "    </tr>\n",
       "    <tr>\n",
       "      <td>Digi ConnectCore</td>\n",
       "      <td>SOM 7th Gen Intel Xeon Core Celeron Processors COM Express Basic Module</td>\n",
       "      <td>ROM NXP ARM CortexA iMX SMARC v Module</td>\n",
       "      <td>None</td>\n",
       "      <td>SOM AMD Ryzen Embedded V COM Express Basic Module</td>\n",
       "    </tr>\n",
       "    <tr>\n",
       "      <td>ARM CortexMEnabled ProASICL Development Kit</td>\n",
       "      <td>CPU COM Express Basic Type</td>\n",
       "      <td>CPU COM Express Basic Type</td>\n",
       "      <td>None</td>\n",
       "      <td>CEM COM Express Type Basic Module</td>\n",
       "    </tr>\n",
       "    <tr>\n",
       "      <td>IMX M Mini EVKB</td>\n",
       "      <td>SOM COMExpress Basic Module</td>\n",
       "      <td>SOM 7th Gen Intel Xeon Core Celeron Processors COM Express Basic Module</td>\n",
       "      <td>None</td>\n",
       "      <td>COM Express Basic Type CPU Module</td>\n",
       "    </tr>\n",
       "    <tr>\n",
       "      <td>MYCYMX CPU Module</td>\n",
       "      <td>CEM COM Express Type Basic Module</td>\n",
       "      <td>CEM COM Express Type Basic Module</td>\n",
       "      <td>None</td>\n",
       "      <td>CongaBAC</td>\n",
       "    </tr>\n",
       "    <tr>\n",
       "      <td>MYCJD CPU Module</td>\n",
       "      <td>COM Express Basic Type CPU Module</td>\n",
       "      <td>COM Express Basic Type CPU Module</td>\n",
       "      <td>None</td>\n",
       "      <td>CPU COM Express Basic Type</td>\n",
       "    </tr>\n",
       "    <tr>\n",
       "      <td>CPU COM Express Basic Type</td>\n",
       "      <td>CongaBAC</td>\n",
       "      <td>CongaBAC</td>\n",
       "      <td>None</td>\n",
       "      <td>SOM 7th Gen Intel Xeon Core Celeron Processors COM Express Basic Module</td>\n",
       "    </tr>\n",
       "    <tr>\n",
       "      <td>SOM 7th Gen Intel Xeon Core Celeron Processors COM Express Basic Module</td>\n",
       "      <td>COMeACT COM Express Compact</td>\n",
       "      <td>MYCJD CPU Module</td>\n",
       "      <td>None</td>\n",
       "      <td>Com Express Type Gpu Embedded System</td>\n",
       "    </tr>\n",
       "    <tr>\n",
       "      <td>CEM COM Express Type Basic Module</td>\n",
       "      <td>MYCYMX CPU Module</td>\n",
       "      <td>MYCYMX CPU Module</td>\n",
       "      <td>None</td>\n",
       "      <td>SOMCR Intel 12th Gen Core Processor</td>\n",
       "    </tr>\n",
       "    <tr>\n",
       "      <td>COM Express Basic Type CPU Module</td>\n",
       "      <td>CPU COM Express Compact</td>\n",
       "      <td>CPU COM Express Compact</td>\n",
       "      <td>None</td>\n",
       "      <td>MYCJD CPU Module</td>\n",
       "    </tr>\n",
       "  </tbody>\n",
       "</table>"
      ],
      "text/plain": [
       "<IPython.core.display.HTML object>"
      ]
     },
     "metadata": {},
     "output_type": "display_data"
    },
    {
     "name": "stdout",
     "output_type": "stream",
     "text": [
      "\n",
      "================================================================================\n",
      "\n",
      "Test Case: Identify all hardware components manufactured by Broadcom Corporation that include ARM processors.\n",
      "Consistency: 100.00%\n",
      "Order Consistency: 77.38%\n"
     ]
    },
    {
     "data": {
      "text/html": [
       "<table border=\"1\" class=\"dataframe\">\n",
       "  <thead>\n",
       "    <tr style=\"text-align: right;\">\n",
       "      <th>Query 1</th>\n",
       "      <th>Query 2</th>\n",
       "      <th>Query 3</th>\n",
       "      <th>Query 4</th>\n",
       "      <th>Query 5</th>\n",
       "    </tr>\n",
       "  </thead>\n",
       "  <tbody>\n",
       "    <tr>\n",
       "      <td>BCM ARM Peripherals</td>\n",
       "      <td>BCM ARM Peripherals</td>\n",
       "      <td>BCM ARM Peripherals</td>\n",
       "      <td>BCM ARM Peripherals</td>\n",
       "      <td>BCM ARM Peripherals</td>\n",
       "    </tr>\n",
       "    <tr>\n",
       "      <td>Raspberry Pi Model B</td>\n",
       "      <td>Raspberry Pi Model B</td>\n",
       "      <td>Raspberry Pi Compute Module</td>\n",
       "      <td>Raspberry Pi Model B</td>\n",
       "      <td>Raspberry Pi Model A</td>\n",
       "    </tr>\n",
       "    <tr>\n",
       "      <td>Raspberry Pi Compute Module</td>\n",
       "      <td>Raspberry Pi Compute Module</td>\n",
       "      <td>Raspberry Pi Model B</td>\n",
       "      <td>Raspberry Pi Model A</td>\n",
       "      <td>Raspberry Pi Compute Module</td>\n",
       "    </tr>\n",
       "    <tr>\n",
       "      <td>None</td>\n",
       "      <td>None</td>\n",
       "      <td>None</td>\n",
       "      <td>Raspberry Pi Compute Module</td>\n",
       "      <td>Raspberry Pi Model B</td>\n",
       "    </tr>\n",
       "  </tbody>\n",
       "</table>"
      ],
      "text/plain": [
       "<IPython.core.display.HTML object>"
      ]
     },
     "metadata": {},
     "output_type": "display_data"
    },
    {
     "name": "stdout",
     "output_type": "stream",
     "text": [
      "\n",
      "================================================================================\n",
      "\n",
      "Test Case: Which Advantech Computer on Modules support USB 3.0 interface?\n",
      "Consistency: 84.00%\n",
      "Order Consistency: 52.50%\n"
     ]
    },
    {
     "data": {
      "text/html": [
       "<table border=\"1\" class=\"dataframe\">\n",
       "  <thead>\n",
       "    <tr style=\"text-align: right;\">\n",
       "      <th>Query 1</th>\n",
       "      <th>Query 2</th>\n",
       "      <th>Query 3</th>\n",
       "      <th>Query 4</th>\n",
       "      <th>Query 5</th>\n",
       "    </tr>\n",
       "  </thead>\n",
       "  <tbody>\n",
       "    <tr>\n",
       "      <td>Com Express Basic Module</td>\n",
       "      <td>Com Express Basic Module</td>\n",
       "      <td>SOM Elkhart Lake</td>\n",
       "      <td>Com Express Basic Module</td>\n",
       "      <td>Com Express Basic Module</td>\n",
       "    </tr>\n",
       "    <tr>\n",
       "      <td>ROM NXP iMXM CortexA SMARC ComputeronModule</td>\n",
       "      <td>COM Express Compact Module</td>\n",
       "      <td>ROM NXP iMXM CortexA SMARC ComputeronModule</td>\n",
       "      <td>Compact Vision System</td>\n",
       "      <td>SOM Elkhart Lake</td>\n",
       "    </tr>\n",
       "    <tr>\n",
       "      <td>SOM Elkhart Lake</td>\n",
       "      <td>Compact Vision System</td>\n",
       "      <td>Com Express Basic Module</td>\n",
       "      <td>Embedded Box PC</td>\n",
       "      <td>Compact Vision System</td>\n",
       "    </tr>\n",
       "    <tr>\n",
       "      <td>Embedded Box PC</td>\n",
       "      <td>Intelligent Inspection System</td>\n",
       "      <td>Embedded Box PC</td>\n",
       "      <td>Intelligent Inspection System</td>\n",
       "      <td>Embedded Box PC</td>\n",
       "    </tr>\n",
       "    <tr>\n",
       "      <td>Intelligent Inspection System</td>\n",
       "      <td>Embedded Box PC</td>\n",
       "      <td>Modular IPC</td>\n",
       "      <td>COM Express Compact Module</td>\n",
       "      <td>Modular IPC</td>\n",
       "    </tr>\n",
       "    <tr>\n",
       "      <td>Modular IPC</td>\n",
       "      <td>Modular IPC</td>\n",
       "      <td>Intelligent Inspection System</td>\n",
       "      <td>Device Monitoring System</td>\n",
       "      <td>Intelligent Inspection System</td>\n",
       "    </tr>\n",
       "    <tr>\n",
       "      <td>QSeven Module</td>\n",
       "      <td>SOM R</td>\n",
       "      <td>COM Express Compact Module</td>\n",
       "      <td>SOM R</td>\n",
       "      <td>QSeven Module</td>\n",
       "    </tr>\n",
       "    <tr>\n",
       "      <td>Qseven Module</td>\n",
       "      <td>Qseven Module</td>\n",
       "      <td>Qseven Module</td>\n",
       "      <td>Industrial IoT Gateway</td>\n",
       "      <td>Qseven Module</td>\n",
       "    </tr>\n",
       "    <tr>\n",
       "      <td>SOM R</td>\n",
       "      <td>QSeven Module</td>\n",
       "      <td>QSeven Module</td>\n",
       "      <td>UNO</td>\n",
       "      <td>SOM R</td>\n",
       "    </tr>\n",
       "    <tr>\n",
       "      <td>COM Express Compact Module</td>\n",
       "      <td>Device Monitoring System</td>\n",
       "      <td>SOM R</td>\n",
       "      <td>UNOG Intel Core Celeron Modular Box Platform</td>\n",
       "      <td>COM Express Compact Module</td>\n",
       "    </tr>\n",
       "  </tbody>\n",
       "</table>"
      ],
      "text/plain": [
       "<IPython.core.display.HTML object>"
      ]
     },
     "metadata": {},
     "output_type": "display_data"
    },
    {
     "name": "stdout",
     "output_type": "stream",
     "text": [
      "\n",
      "================================================================================\n",
      "\n",
      "Test Case: List all Single Board Computers with a memory capacity of 128GB or more with more than 2 USB ports.\n",
      "Consistency: 58.00%\n",
      "Order Consistency: 32.50%\n"
     ]
    },
    {
     "data": {
      "text/html": [
       "<table border=\"1\" class=\"dataframe\">\n",
       "  <thead>\n",
       "    <tr style=\"text-align: right;\">\n",
       "      <th>Query 1</th>\n",
       "      <th>Query 2</th>\n",
       "      <th>Query 3</th>\n",
       "      <th>Query 4</th>\n",
       "      <th>Query 5</th>\n",
       "    </tr>\n",
       "  </thead>\n",
       "  <tbody>\n",
       "    <tr>\n",
       "      <td>Computer On Module</td>\n",
       "      <td>ATX Server Board</td>\n",
       "      <td>Computer On Module</td>\n",
       "      <td>ATX Server Board</td>\n",
       "      <td>COMebID E</td>\n",
       "    </tr>\n",
       "    <tr>\n",
       "      <td>MiniITX Server Board</td>\n",
       "      <td>Full Size CPU Card</td>\n",
       "      <td>Full Size CPU Card</td>\n",
       "      <td>SOMCR Intel 12th Gen Core Processor</td>\n",
       "      <td>Full Size CPU Card</td>\n",
       "    </tr>\n",
       "    <tr>\n",
       "      <td>SOM Intel 11th Gen Core Processors</td>\n",
       "      <td>Computer On Module</td>\n",
       "      <td>ATX Server Board</td>\n",
       "      <td>Computer On Module</td>\n",
       "      <td>Computer On Module</td>\n",
       "    </tr>\n",
       "    <tr>\n",
       "      <td>ExpressBD</td>\n",
       "      <td>MiniITX Server Board</td>\n",
       "      <td>MiniITX Server Board</td>\n",
       "      <td>UP Xtreme Edge</td>\n",
       "      <td>ATX Server Board</td>\n",
       "    </tr>\n",
       "    <tr>\n",
       "      <td>FullSize CPU Card</td>\n",
       "      <td>SOM 13th Gen Intel Core Processor</td>\n",
       "      <td>AMD Ryzen Embedded VR Series Board</td>\n",
       "      <td>MiniITX Server Board</td>\n",
       "      <td>Edge Internet Things SBC</td>\n",
       "    </tr>\n",
       "    <tr>\n",
       "      <td>AMD Ryzen Embedded VR Series Board</td>\n",
       "      <td>SOM Intel 11th Gen Core Processors</td>\n",
       "      <td>Edge Internet Things SBC</td>\n",
       "      <td>ET COM Express</td>\n",
       "      <td>CongaBE COM Express</td>\n",
       "    </tr>\n",
       "    <tr>\n",
       "      <td>ET COM Express 6th Generation Intel Core U-series Processor</td>\n",
       "      <td>AI Modular PC</td>\n",
       "      <td>FullSize CPU Card</td>\n",
       "      <td>ExpressBD</td>\n",
       "      <td>MiniITX Server Board</td>\n",
       "    </tr>\n",
       "    <tr>\n",
       "      <td>SOM 8th Gen Intel Core Celeron Processors COM Express Compact Module</td>\n",
       "      <td>ET COM Express 6th Generation Intel Core U-series Processor</td>\n",
       "      <td>ExpressBD</td>\n",
       "      <td>ET COM Express 6th Generation Intel Core U-series Processor</td>\n",
       "      <td>PCEBVBE</td>\n",
       "    </tr>\n",
       "    <tr>\n",
       "      <td>PCEBVBE</td>\n",
       "      <td>Networking Motherboard</td>\n",
       "      <td>ICEQM COM Express Basic Type Module</td>\n",
       "      <td>FullSize CPU Card</td>\n",
       "      <td>AI Modular PC</td>\n",
       "    </tr>\n",
       "    <tr>\n",
       "      <td>SDMGL</td>\n",
       "      <td>Blackbird Embedded Processing Unit</td>\n",
       "      <td>SOM Intel 11th Gen Core Processors</td>\n",
       "      <td>SOM Intel 11th Gen Core Processors</td>\n",
       "      <td>UP Xtreme Edge</td>\n",
       "    </tr>\n",
       "  </tbody>\n",
       "</table>"
      ],
      "text/plain": [
       "<IPython.core.display.HTML object>"
      ]
     },
     "metadata": {},
     "output_type": "display_data"
    },
    {
     "name": "stdout",
     "output_type": "stream",
     "text": [
      "\n",
      "================================================================================\n",
      "\n",
      "Test Case: What are the available NXP powered Computer on Module products that include SATA 3.0 interface?\n",
      "Consistency: 47.50%\n",
      "Order Consistency: 23.33%\n"
     ]
    },
    {
     "data": {
      "text/html": [
       "<table border=\"1\" class=\"dataframe\">\n",
       "  <thead>\n",
       "    <tr style=\"text-align: right;\">\n",
       "      <th>Query 1</th>\n",
       "      <th>Query 2</th>\n",
       "      <th>Query 3</th>\n",
       "      <th>Query 4</th>\n",
       "    </tr>\n",
       "  </thead>\n",
       "  <tbody>\n",
       "    <tr>\n",
       "      <td>CongaQMX</td>\n",
       "      <td>NitrogenX Board</td>\n",
       "      <td>ROM NXP iMXM CortexA SMARC ComputeronModule</td>\n",
       "      <td>NitrogenX Board</td>\n",
       "    </tr>\n",
       "    <tr>\n",
       "      <td>NanoXAL COM Express Mini Size Type Module</td>\n",
       "      <td>CPU Low Power SBC NXP iMX</td>\n",
       "      <td>CPU Low Power SBC NXP iMX</td>\n",
       "      <td>QSXM QFN Style SolderDown Computer On Module</td>\n",
       "    </tr>\n",
       "    <tr>\n",
       "      <td>ICESX</td>\n",
       "      <td>SBC MINA iMXM</td>\n",
       "      <td>NanoXEL COM Express Mini Size Type Module</td>\n",
       "      <td>QSM QFN Style Computer On Module</td>\n",
       "    </tr>\n",
       "    <tr>\n",
       "      <td>COMecAP COM Express Compact</td>\n",
       "      <td>FETMXMPC SoM</td>\n",
       "      <td>NanoXAL COM Express Mini Size Type Module</td>\n",
       "      <td>FETMXMPC SoM</td>\n",
       "    </tr>\n",
       "    <tr>\n",
       "      <td>Com Express Basic Module</td>\n",
       "      <td>LPC Development Kit</td>\n",
       "      <td>ICESX</td>\n",
       "      <td>TXM Computer Module</td>\n",
       "    </tr>\n",
       "    <tr>\n",
       "      <td>SOM</td>\n",
       "      <td>IMX M Nano Applications Processor</td>\n",
       "      <td>COMecAP COM Express Compact</td>\n",
       "      <td>CPU Low Power SBC NXP iMX</td>\n",
       "    </tr>\n",
       "    <tr>\n",
       "      <td>NanoXEL COM Express Mini Size Type Module</td>\n",
       "      <td>COMeACT COM Express Compact</td>\n",
       "      <td>SOM</td>\n",
       "      <td>IMX M Nano Applications Processor</td>\n",
       "    </tr>\n",
       "    <tr>\n",
       "      <td>SOM R</td>\n",
       "      <td>SOM COMExpress Mini Module</td>\n",
       "      <td>Com Express Basic Module</td>\n",
       "      <td>NanoXAL COM Express Mini Size Type Module</td>\n",
       "    </tr>\n",
       "    <tr>\n",
       "      <td>EmETXi Intel Atom N ETX CPU Module</td>\n",
       "      <td>Com Express Basic Module</td>\n",
       "      <td>SOM R</td>\n",
       "      <td>PicoITX Single Board Computer</td>\n",
       "    </tr>\n",
       "    <tr>\n",
       "      <td>COMe Ref Carrieri T TNI</td>\n",
       "      <td>SOM COMExpress Basic Module</td>\n",
       "      <td>SOM B</td>\n",
       "      <td>SOM Intel Xeon D Processor</td>\n",
       "    </tr>\n",
       "  </tbody>\n",
       "</table>"
      ],
      "text/plain": [
       "<IPython.core.display.HTML object>"
      ]
     },
     "metadata": {},
     "output_type": "display_data"
    },
    {
     "name": "stdout",
     "output_type": "stream",
     "text": [
      "\n",
      "================================================================================\n",
      "\n",
      "Test Case: Find Single Board Computers with a form factor smaller than 100mm x 100mm and RAM more 256 MB\n",
      "Consistency: 74.00%\n",
      "Order Consistency: 42.50%\n"
     ]
    },
    {
     "data": {
      "text/html": [
       "<table border=\"1\" class=\"dataframe\">\n",
       "  <thead>\n",
       "    <tr style=\"text-align: right;\">\n",
       "      <th>Query 1</th>\n",
       "      <th>Query 2</th>\n",
       "      <th>Query 3</th>\n",
       "      <th>Query 4</th>\n",
       "      <th>Query 5</th>\n",
       "    </tr>\n",
       "  </thead>\n",
       "  <tbody>\n",
       "    <tr>\n",
       "      <td>MYS-MMX-V Single Board Computer</td>\n",
       "      <td>Rock Pi S</td>\n",
       "      <td>SolidPC Q</td>\n",
       "      <td>SBC MINA iMXM</td>\n",
       "      <td>QS QFN Style Computer On Module</td>\n",
       "    </tr>\n",
       "    <tr>\n",
       "      <td>RZ G1C Single Board Computer</td>\n",
       "      <td>PocketBeagle</td>\n",
       "      <td>RZ G1C Single Board Computer</td>\n",
       "      <td>LECiMX SMARC Short Size Module</td>\n",
       "      <td>MYS-MMX-V Single Board Computer</td>\n",
       "    </tr>\n",
       "    <tr>\n",
       "      <td>SBC MINA iMXM</td>\n",
       "      <td>MYS-MMX-V Single Board Computer</td>\n",
       "      <td>EDMCFIMX</td>\n",
       "      <td>MYS-MMX-V Single Board Computer</td>\n",
       "      <td>SBC MINA iMXM</td>\n",
       "    </tr>\n",
       "    <tr>\n",
       "      <td>EDMCFIMX</td>\n",
       "      <td>SBC MINA iMXM</td>\n",
       "      <td>PocketBeagle</td>\n",
       "      <td>EDMCFIMX</td>\n",
       "      <td>EDMCFIMX</td>\n",
       "    </tr>\n",
       "    <tr>\n",
       "      <td>SolidPC Q</td>\n",
       "      <td>EDMCFIMX</td>\n",
       "      <td>SOM B</td>\n",
       "      <td>PocketBeagle</td>\n",
       "      <td>RZ G1C Single Board Computer</td>\n",
       "    </tr>\n",
       "    <tr>\n",
       "      <td>COMemEL E</td>\n",
       "      <td>LECiMX SMARC Short Size Module</td>\n",
       "      <td>Cexpresssl</td>\n",
       "      <td>SolidPC Q</td>\n",
       "      <td>COMemEL E</td>\n",
       "    </tr>\n",
       "    <tr>\n",
       "      <td>LECiMX SMARC Short Size Module</td>\n",
       "      <td>RZ G1C Single Board Computer</td>\n",
       "      <td>RISC Single Board Computer</td>\n",
       "      <td>QS QFN Style Computer On Module</td>\n",
       "      <td>LECiMX SMARC Short Size Module</td>\n",
       "    </tr>\n",
       "    <tr>\n",
       "      <td>QS QFN Style Computer On Module</td>\n",
       "      <td>COMemEL E</td>\n",
       "      <td>IMX XLite Pico ITX SBC</td>\n",
       "      <td>MYC-JA5D2X</td>\n",
       "      <td>SolidPC Q</td>\n",
       "    </tr>\n",
       "    <tr>\n",
       "      <td>SOM B</td>\n",
       "      <td>SolidPC Q</td>\n",
       "      <td>IMX M Plus Pico ITX Single Board Computer</td>\n",
       "      <td>COMemEL E</td>\n",
       "      <td>RISC Single Board Computer</td>\n",
       "    </tr>\n",
       "    <tr>\n",
       "      <td>COMeACT COM Express Compact</td>\n",
       "      <td>QS QFN Style Computer On Module</td>\n",
       "      <td>IMX Quad Max Quad Plus Picoitx Sbc</td>\n",
       "      <td>SOM COMExpress Mini Module</td>\n",
       "      <td>SOM COMExpress Mini Module</td>\n",
       "    </tr>\n",
       "  </tbody>\n",
       "</table>"
      ],
      "text/plain": [
       "<IPython.core.display.HTML object>"
      ]
     },
     "metadata": {},
     "output_type": "display_data"
    },
    {
     "name": "stdout",
     "output_type": "stream",
     "text": [
      "\n",
      "================================================================================\n",
      "\n",
      "Test Case: List all devices that support voltage ranges from 1.2V to 3.3V.\n",
      "Consistency: 48.00%\n",
      "Order Consistency: 20.00%\n"
     ]
    },
    {
     "data": {
      "text/html": [
       "<table border=\"1\" class=\"dataframe\">\n",
       "  <thead>\n",
       "    <tr style=\"text-align: right;\">\n",
       "      <th>Query 1</th>\n",
       "      <th>Query 2</th>\n",
       "      <th>Query 3</th>\n",
       "      <th>Query 4</th>\n",
       "      <th>Query 5</th>\n",
       "    </tr>\n",
       "  </thead>\n",
       "  <tbody>\n",
       "    <tr>\n",
       "      <td>Raspberry Pi Pico</td>\n",
       "      <td>ESPSDevKitUSB</td>\n",
       "      <td>ESPWROOMDA</td>\n",
       "      <td>MAXD Evaluation Kit</td>\n",
       "      <td>ESPWROOMDA</td>\n",
       "    </tr>\n",
       "    <tr>\n",
       "      <td>Raspberry Pi Pico W</td>\n",
       "      <td>ESPWROOMDA</td>\n",
       "      <td>Smartfusion Customizable Systemonchip Microcontroller Subsystem</td>\n",
       "      <td>Smartfusion Customizable Systemonchip Microcontroller Subsystem</td>\n",
       "      <td>MAXAMAXD Evaluation Kit</td>\n",
       "    </tr>\n",
       "    <tr>\n",
       "      <td>RA Development Kit</td>\n",
       "      <td>SH Segment Common Driver Controller</td>\n",
       "      <td>Micro Blower Kit Driver</td>\n",
       "      <td>IMX M Mini IMX M Nano SODIMM Development Platform</td>\n",
       "      <td>Stereo DirectDrive Headphone Amplifier</td>\n",
       "    </tr>\n",
       "    <tr>\n",
       "      <td>Devkitszvl</td>\n",
       "      <td>FETAiC SoM</td>\n",
       "      <td>Embedded Automation Computer</td>\n",
       "      <td>Cinterion LGA DevKit</td>\n",
       "      <td>MAXD Evaluation Kit</td>\n",
       "    </tr>\n",
       "    <tr>\n",
       "      <td>Cinterion LGA DevKit</td>\n",
       "      <td>Smartfusion Customizable Systemonchip Microcontroller Subsystem</td>\n",
       "      <td>Trek In Vehicle Computing Box</td>\n",
       "      <td>ISDev Kit</td>\n",
       "      <td>Evaluation Kit</td>\n",
       "    </tr>\n",
       "    <tr>\n",
       "      <td>MAXAMAXD Evaluation Kit</td>\n",
       "      <td>IMX M Mini IMX M Nano SODIMM Development Platform</td>\n",
       "      <td>Compact Vision System</td>\n",
       "      <td>Devkitszvl</td>\n",
       "      <td>Device Monitoring System</td>\n",
       "    </tr>\n",
       "    <tr>\n",
       "      <td>MAXD Evaluation Kit</td>\n",
       "      <td>Devkitszvl</td>\n",
       "      <td>EPCB Embedded MiniITX Chassis</td>\n",
       "      <td>UnitV</td>\n",
       "      <td>MYC-JA5D2X</td>\n",
       "    </tr>\n",
       "    <tr>\n",
       "      <td>UnitV</td>\n",
       "      <td>SICHV Module</td>\n",
       "      <td>AmITXBTI MiniITX Industrial Motherboard</td>\n",
       "      <td>COMe Ref Carrieri T TNI</td>\n",
       "      <td>Smartfusion Customizable Systemonchip Microcontroller Subsystem</td>\n",
       "    </tr>\n",
       "    <tr>\n",
       "      <td>Smartfusion Customizable Systemonchip Microcontroller Subsystem</td>\n",
       "      <td>MYC-JA5D2X</td>\n",
       "      <td>Trek Vehicle Display System</td>\n",
       "      <td>COM Express Mini CPU Module</td>\n",
       "      <td>Trek Vehicle Display System</td>\n",
       "    </tr>\n",
       "    <tr>\n",
       "      <td>MYC-JA5D2X</td>\n",
       "      <td>MAXD Evaluation Kit</td>\n",
       "      <td>OP eDisplay Series</td>\n",
       "      <td>SOM Intel Atom E Celeron Processor QSeven CPU Module</td>\n",
       "      <td>Blackbird Embedded Processing Unit</td>\n",
       "    </tr>\n",
       "  </tbody>\n",
       "</table>"
      ],
      "text/plain": [
       "<IPython.core.display.HTML object>"
      ]
     },
     "metadata": {},
     "output_type": "display_data"
    },
    {
     "name": "stdout",
     "output_type": "stream",
     "text": [
      "\n",
      "================================================================================\n",
      "\n",
      "Test Case: Show products that include an Intel Xeon Processor D and support Embedded Software API.\n",
      "Consistency: 67.50%\n",
      "Order Consistency: 40.00%\n"
     ]
    },
    {
     "data": {
      "text/html": [
       "<table border=\"1\" class=\"dataframe\">\n",
       "  <thead>\n",
       "    <tr style=\"text-align: right;\">\n",
       "      <th>Query 1</th>\n",
       "      <th>Query 2</th>\n",
       "      <th>Query 3</th>\n",
       "      <th>Query 4</th>\n",
       "    </tr>\n",
       "  </thead>\n",
       "  <tbody>\n",
       "    <tr>\n",
       "      <td>SOM Intel Xeon D Processor</td>\n",
       "      <td>SOM Intel Xeon D Processor</td>\n",
       "      <td>SOM Intel Xeon D Processor</td>\n",
       "      <td>SOM Intel Xeon D Processor</td>\n",
       "    </tr>\n",
       "    <tr>\n",
       "      <td>Eagle Embedded Processing Unit</td>\n",
       "      <td>SOM 7th Gen Intel Xeon Core Celeron Processors COM Express Basic Module</td>\n",
       "      <td>Eagle Embedded Processing Unit</td>\n",
       "      <td>SOM 7th Gen Intel Xeon Core Celeron Processors COM Express Basic Module</td>\n",
       "    </tr>\n",
       "    <tr>\n",
       "      <td>Tank Aiot Dev Kit</td>\n",
       "      <td>Tank Aiot Dev Kit</td>\n",
       "      <td>Tank Aiot Dev Kit</td>\n",
       "      <td>SOM th Gen Intel Xeon Core Processors COM Express Basic Module</td>\n",
       "    </tr>\n",
       "    <tr>\n",
       "      <td>SOM 7th Gen Intel Xeon Core Celeron Processors COM Express Basic Module</td>\n",
       "      <td>DS Intel Core iU Celeron U</td>\n",
       "      <td>SOM 7th Gen Intel Xeon Core Celeron Processors COM Express Basic Module</td>\n",
       "      <td>Tank Aiot Dev Kit</td>\n",
       "    </tr>\n",
       "    <tr>\n",
       "      <td>EmQi Intel Atom Processor E Family Qseven CPU Module</td>\n",
       "      <td>COM Express Basic Type CPU Module</td>\n",
       "      <td>Com Express Basic Type Cpu Module</td>\n",
       "      <td>Eagle Embedded Processing Unit</td>\n",
       "    </tr>\n",
       "    <tr>\n",
       "      <td>EmQi Intel Qseven R CPU Module</td>\n",
       "      <td>Com Express Basic Type Cpu Module</td>\n",
       "      <td>Edge Intelligence Server</td>\n",
       "      <td>Edge Intelligence Server</td>\n",
       "    </tr>\n",
       "    <tr>\n",
       "      <td>ISIS XL</td>\n",
       "      <td>EmQi Intel Atom Processor E Family Qseven CPU Module</td>\n",
       "      <td>SOM 13th Gen Intel Core Processor</td>\n",
       "      <td>COM Express Basic Type CPU Module</td>\n",
       "    </tr>\n",
       "    <tr>\n",
       "      <td>DS Intel Core iU Celeron U</td>\n",
       "      <td>EmQi Intel Qseven R CPU Module</td>\n",
       "      <td>DS Intel Core iU Celeron U</td>\n",
       "      <td>Com Express Basic Type Cpu Module</td>\n",
       "    </tr>\n",
       "    <tr>\n",
       "      <td>PicoITX Single Board Computer</td>\n",
       "      <td>EmETXi Intel Atom N ETX CPU Module</td>\n",
       "      <td>EmQi Intel Atom Processor E Family Qseven CPU Module</td>\n",
       "      <td>SOM 13th Gen Intel Core Processor</td>\n",
       "    </tr>\n",
       "    <tr>\n",
       "      <td>PPCMBAE MiniITX Motherboard</td>\n",
       "      <td>SOM 13th Gen Intel Core Processor</td>\n",
       "      <td>Device Monitoring System</td>\n",
       "      <td>DS Intel Core iU Celeron U</td>\n",
       "    </tr>\n",
       "  </tbody>\n",
       "</table>"
      ],
      "text/plain": [
       "<IPython.core.display.HTML object>"
      ]
     },
     "metadata": {},
     "output_type": "display_data"
    },
    {
     "name": "stdout",
     "output_type": "stream",
     "text": [
      "\n",
      "================================================================================\n",
      "\n",
      "Test Case: Which products offer a high-performance FPGA feature and are suitable for embedded development?\n",
      "Consistency: 65.00%\n",
      "Order Consistency: 43.33%\n"
     ]
    },
    {
     "data": {
      "text/html": [
       "<table border=\"1\" class=\"dataframe\">\n",
       "  <thead>\n",
       "    <tr style=\"text-align: right;\">\n",
       "      <th>Query 1</th>\n",
       "      <th>Query 2</th>\n",
       "      <th>Query 3</th>\n",
       "      <th>Query 4</th>\n",
       "    </tr>\n",
       "  </thead>\n",
       "  <tbody>\n",
       "    <tr>\n",
       "      <td>RTG Development Kit</td>\n",
       "      <td>IWRainboWGD Stratix GXSX SoC FPGA DevKit</td>\n",
       "      <td>IWRainboWGD Stratix GXSX SoC FPGA DevKit</td>\n",
       "      <td>IWRainboWGD Stratix GXSX SoC FPGA DevKit</td>\n",
       "    </tr>\n",
       "    <tr>\n",
       "      <td>CortexMEnabled IGLOO Development Kit</td>\n",
       "      <td>Stratix Device Handbook</td>\n",
       "      <td>RTG Development Kit</td>\n",
       "      <td>Evaluation Kit</td>\n",
       "    </tr>\n",
       "    <tr>\n",
       "      <td>Smartfusion Customizable Systemonchip Microcontroller Subsystem</td>\n",
       "      <td>Smartfusion Customizable Systemonchip Microcontroller Subsystem</td>\n",
       "      <td>Fusion Advanced Development Kit</td>\n",
       "      <td>RTG Development Kit</td>\n",
       "    </tr>\n",
       "    <tr>\n",
       "      <td>Fusion Advanced Development Kit</td>\n",
       "      <td>Fusion Advanced Development Kit</td>\n",
       "      <td>CortexMEnabled IGLOO Development Kit</td>\n",
       "      <td>Fusion Advanced Development Kit</td>\n",
       "    </tr>\n",
       "    <tr>\n",
       "      <td>Embedded Vision Portfolio</td>\n",
       "      <td>Embedded Vision Portfolio</td>\n",
       "      <td>Smartfusion Customizable Systemonchip Microcontroller Subsystem</td>\n",
       "      <td>CortexMEnabled IGLOO Development Kit</td>\n",
       "    </tr>\n",
       "    <tr>\n",
       "      <td>Jetson Xavier NX Developer Kit</td>\n",
       "      <td>Floyd Carrier Board</td>\n",
       "      <td>FSP Development Kit</td>\n",
       "      <td>Smartfusion Customizable Systemonchip Microcontroller Subsystem</td>\n",
       "    </tr>\n",
       "    <tr>\n",
       "      <td>Floyd Carrier Board</td>\n",
       "      <td>Eagle Embedded Processing Unit</td>\n",
       "      <td>ESPSHMIDevKit</td>\n",
       "      <td>Embedded Vision Portfolio</td>\n",
       "    </tr>\n",
       "    <tr>\n",
       "      <td>FETAiC SoM</td>\n",
       "      <td>Blackbird Embedded Processing Unit</td>\n",
       "      <td>FETAiC SoM</td>\n",
       "      <td>Eagle Embedded Processing Unit</td>\n",
       "    </tr>\n",
       "    <tr>\n",
       "      <td>COMecEL E</td>\n",
       "      <td>PCA</td>\n",
       "      <td>Floyd Carrier Board</td>\n",
       "      <td>Blackbird Embedded Processing Unit</td>\n",
       "    </tr>\n",
       "    <tr>\n",
       "      <td>COMemEL E</td>\n",
       "      <td>PCE</td>\n",
       "      <td>DragonBoard Embedded Development Kit</td>\n",
       "      <td>Floyd Carrier Board</td>\n",
       "    </tr>\n",
       "  </tbody>\n",
       "</table>"
      ],
      "text/plain": [
       "<IPython.core.display.HTML object>"
      ]
     },
     "metadata": {},
     "output_type": "display_data"
    },
    {
     "name": "stdout",
     "output_type": "stream",
     "text": [
      "\n",
      "================================================================================\n",
      "\n",
      "Test Case: Provide a list of Single Board Computers that can operate at a frequency up to 2.7 GHz with MiniITX form factor.\n",
      "Consistency: 82.00%\n",
      "Order Consistency: 45.00%\n"
     ]
    },
    {
     "data": {
      "text/html": [
       "<table border=\"1\" class=\"dataframe\">\n",
       "  <thead>\n",
       "    <tr style=\"text-align: right;\">\n",
       "      <th>Query 1</th>\n",
       "      <th>Query 2</th>\n",
       "      <th>Query 3</th>\n",
       "      <th>Query 4</th>\n",
       "      <th>Query 5</th>\n",
       "    </tr>\n",
       "  </thead>\n",
       "  <tbody>\n",
       "    <tr>\n",
       "      <td>MiniITX System</td>\n",
       "      <td>Kinotglu Miniitx Sbc</td>\n",
       "      <td>CPU MiniITX SBC Intel Core Celeron</td>\n",
       "      <td>Kinotglu Miniitx Sbc</td>\n",
       "      <td>CPU MiniITX SBC Intel Core Celeron</td>\n",
       "    </tr>\n",
       "    <tr>\n",
       "      <td>PPCMBAE MiniITX Motherboard</td>\n",
       "      <td>Kinotglu</td>\n",
       "      <td>MiniITX Server Board</td>\n",
       "      <td>Kinotglu</td>\n",
       "      <td>MiniITX System</td>\n",
       "    </tr>\n",
       "    <tr>\n",
       "      <td>CPU MiniITX SBC Intel Core Celeron</td>\n",
       "      <td>CPU MiniITX SBC Intel Core Celeron</td>\n",
       "      <td>Kinotglu</td>\n",
       "      <td>MiniITX System</td>\n",
       "      <td>Industrial Thin MiniITX</td>\n",
       "    </tr>\n",
       "    <tr>\n",
       "      <td>Kinotglu</td>\n",
       "      <td>MiniITX System</td>\n",
       "      <td>Mini ITX Motherboard</td>\n",
       "      <td>Industrial Thin MiniITX</td>\n",
       "      <td>PPCMBAE MiniITX Motherboard</td>\n",
       "    </tr>\n",
       "    <tr>\n",
       "      <td>Kinotglu Miniitx Sbc</td>\n",
       "      <td>PPCMBAE MiniITX Motherboard</td>\n",
       "      <td>Kinotglu Miniitx Sbc</td>\n",
       "      <td>CPU MiniITX SBC Intel Core Celeron</td>\n",
       "      <td>Kinotglu</td>\n",
       "    </tr>\n",
       "    <tr>\n",
       "      <td>Industrial Thin MiniITX</td>\n",
       "      <td>Industrial Thin MiniITX</td>\n",
       "      <td>MiniITX System</td>\n",
       "      <td>PPCMBAE MiniITX Motherboard</td>\n",
       "      <td>Kinotglu Miniitx Sbc</td>\n",
       "    </tr>\n",
       "    <tr>\n",
       "      <td>MiniITX Server Board</td>\n",
       "      <td>MiniITX Server Board</td>\n",
       "      <td>AMD Ryzen Embedded V Series Mini ITX Motherboard</td>\n",
       "      <td>MiniITX Server Board</td>\n",
       "      <td>MiniITX Server Board</td>\n",
       "    </tr>\n",
       "    <tr>\n",
       "      <td>PicoITX Single Board Computer</td>\n",
       "      <td>PicoITX SBC</td>\n",
       "      <td>PPCMBAE MiniITX Motherboard</td>\n",
       "      <td>PicoITX Single Board Computer</td>\n",
       "      <td>PicoITX Single Board Computer</td>\n",
       "    </tr>\n",
       "    <tr>\n",
       "      <td>PCI Halfsize Intel Atom N Processor Single Board Computer</td>\n",
       "      <td>SOMCR Intel 12th Gen Core Processor</td>\n",
       "      <td>PicoITX Single Board Computer</td>\n",
       "      <td>IMX XLite Pico ITX SBC</td>\n",
       "      <td>ISIS XL</td>\n",
       "    </tr>\n",
       "    <tr>\n",
       "      <td>IMX XLite Pico ITX SBC</td>\n",
       "      <td>SOM 13th Gen Intel Core Processor</td>\n",
       "      <td>PicoITX SBC</td>\n",
       "      <td>IMX M Mini IMX M Nano Pico ITX Single Board Computer</td>\n",
       "      <td>SOMCR Intel 12th Gen Core Processor</td>\n",
       "    </tr>\n",
       "  </tbody>\n",
       "</table>"
      ],
      "text/plain": [
       "<IPython.core.display.HTML object>"
      ]
     },
     "metadata": {},
     "output_type": "display_data"
    },
    {
     "name": "stdout",
     "output_type": "stream",
     "text": [
      "\n",
      "================================================================================\n",
      "\n",
      "Test Case: What components are available with embedded nonvolatile flash memory (eNVM)?\n",
      "Consistency: 40.00%\n",
      "Order Consistency: 20.00%\n"
     ]
    },
    {
     "data": {
      "text/html": [
       "<table border=\"1\" class=\"dataframe\">\n",
       "  <thead>\n",
       "    <tr style=\"text-align: right;\">\n",
       "      <th>Query 1</th>\n",
       "      <th>Query 2</th>\n",
       "      <th>Query 3</th>\n",
       "      <th>Query 4</th>\n",
       "      <th>Query 5</th>\n",
       "    </tr>\n",
       "  </thead>\n",
       "  <tbody>\n",
       "    <tr>\n",
       "      <td>XMC Microcontroller</td>\n",
       "      <td>ESPSDevKitC</td>\n",
       "      <td>ULCDD Series</td>\n",
       "      <td>SGVNPRDB</td>\n",
       "      <td>XMC Microcontroller</td>\n",
       "    </tr>\n",
       "    <tr>\n",
       "      <td>Devkitngc</td>\n",
       "      <td>ESPDevKitS</td>\n",
       "      <td>OP eDisplay Series</td>\n",
       "      <td>UnitV</td>\n",
       "      <td>ULCDD Series</td>\n",
       "    </tr>\n",
       "    <tr>\n",
       "      <td>CM Industrial</td>\n",
       "      <td>ESPDevKitC</td>\n",
       "      <td>ARM CortexMEnabled ProASICL Development Kit</td>\n",
       "      <td>COMe Ref Carrieri T TNI</td>\n",
       "      <td>SF Serial Flash Expansion Card</td>\n",
       "    </tr>\n",
       "    <tr>\n",
       "      <td>EmNANOiE</td>\n",
       "      <td>LPC Development Kit</td>\n",
       "      <td>Fusion Advanced Development Kit</td>\n",
       "      <td>Jetson Xavier NX</td>\n",
       "      <td>PCMCIA Module</td>\n",
       "    </tr>\n",
       "    <tr>\n",
       "      <td>EmQiA</td>\n",
       "      <td>COM Express Compact Module</td>\n",
       "      <td>Reflective LCD Front Light Dev Kit</td>\n",
       "      <td>EmNANOi C</td>\n",
       "      <td>Reflective LCD Front Light Dev Kit</td>\n",
       "    </tr>\n",
       "    <tr>\n",
       "      <td>Embedded Automation Computer</td>\n",
       "      <td>NanoXAL COM Express Mini Size Type Module</td>\n",
       "      <td>LPC Development Kit</td>\n",
       "      <td>EmNANOiE</td>\n",
       "      <td>UnitV</td>\n",
       "    </tr>\n",
       "    <tr>\n",
       "      <td>COM Express Compact Module</td>\n",
       "      <td>SOM Intel Atom E Pentium Celeron N Series Processors COMExpress Compact Module</td>\n",
       "      <td>ESPSDevKitC</td>\n",
       "      <td>SOM Intel Atom Pentium Celeron Series QSeven CPU Module</td>\n",
       "      <td>Device Monitoring System</td>\n",
       "    </tr>\n",
       "    <tr>\n",
       "      <td>SOM Intel Atom E Pentium Celeron N Series Processors COMExpress Compact Module</td>\n",
       "      <td>SOM Intel Atom Celeron Processor COM Express Type Compact Module</td>\n",
       "      <td>SF Serial Flash Expansion Card</td>\n",
       "      <td>NanoXAL COM Express Mini Size Type Module</td>\n",
       "      <td>Blackbird Embedded Processing Unit</td>\n",
       "    </tr>\n",
       "    <tr>\n",
       "      <td>NanoXAL COM Express Mini Size Type Module</td>\n",
       "      <td>SOM Intel Atom E Celeron Processor QSeven CPU Module</td>\n",
       "      <td>PCMCIA Module</td>\n",
       "      <td>SOM Intel Atom E Pentium Celeron N Series Processors COMExpress Compact Module</td>\n",
       "      <td>COM Express Compact Module</td>\n",
       "    </tr>\n",
       "    <tr>\n",
       "      <td>SOM COMExpress Mini Module</td>\n",
       "      <td>SOM COMExpress Mini Module</td>\n",
       "      <td>XMC Microcontroller</td>\n",
       "      <td>SOM 7th Gen Intel Xeon Core Celeron Processors COM Express Basic Module</td>\n",
       "      <td>Newt EPIC Single Board Computer</td>\n",
       "    </tr>\n",
       "  </tbody>\n",
       "</table>"
      ],
      "text/plain": [
       "<IPython.core.display.HTML object>"
      ]
     },
     "metadata": {},
     "output_type": "display_data"
    },
    {
     "name": "stdout",
     "output_type": "stream",
     "text": [
      "\n",
      "================================================================================\n",
      "\n",
      "Test Case: Identify all products with a \"Customizable System-on-Chip (cSoC)\" type with ARM Cortex processor.\n",
      "Consistency: 76.00%\n",
      "Order Consistency: 62.50%\n"
     ]
    },
    {
     "data": {
      "text/html": [
       "<table border=\"1\" class=\"dataframe\">\n",
       "  <thead>\n",
       "    <tr style=\"text-align: right;\">\n",
       "      <th>Query 1</th>\n",
       "      <th>Query 2</th>\n",
       "      <th>Query 3</th>\n",
       "      <th>Query 4</th>\n",
       "      <th>Query 5</th>\n",
       "    </tr>\n",
       "  </thead>\n",
       "  <tbody>\n",
       "    <tr>\n",
       "      <td>OMAP Evaluation Platform</td>\n",
       "      <td>MCCAMXJ CPU Module</td>\n",
       "      <td>OMAP Evaluation Platform</td>\n",
       "      <td>MCCAMXJ CPU Module</td>\n",
       "      <td>MCCAMXJ CPU Module</td>\n",
       "    </tr>\n",
       "    <tr>\n",
       "      <td>MCCAMXJ CPU Module</td>\n",
       "      <td>Phycore Imx System Module</td>\n",
       "      <td>ROM NXP ARM CortexA iMX SMARC v Module</td>\n",
       "      <td>SBC iMX ARM CortexA</td>\n",
       "      <td>MYCAMX CPU Module</td>\n",
       "    </tr>\n",
       "    <tr>\n",
       "      <td>ROM NXP ARM CortexA iMX SMARC v Module</td>\n",
       "      <td>Zynq Ultrascale MPSoC SOM</td>\n",
       "      <td>Rom Nxp Imx X Cortexa Rtx Module</td>\n",
       "      <td>Rom Nxp Imx X Cortexa Rtx Module</td>\n",
       "      <td>ROM NXP ARM CortexA iMX SMARC v Module</td>\n",
       "    </tr>\n",
       "    <tr>\n",
       "      <td>Rom Nxp Imx X Cortexa Rtx Module</td>\n",
       "      <td>SMARC Module</td>\n",
       "      <td>MCCAMXJ CPU Module</td>\n",
       "      <td>ROM NXP ARM CortexA iMX SMARC v Module</td>\n",
       "      <td>Rom Nxp Imx X Cortexa Rtx Module</td>\n",
       "    </tr>\n",
       "    <tr>\n",
       "      <td>ARM CortexMEnabled ProASICL Development Kit</td>\n",
       "      <td>Zynq SoC SODIMM SOM</td>\n",
       "      <td>Zynq Ultrascale MPSoC SOM</td>\n",
       "      <td>MYCCMMXV CPU Module</td>\n",
       "      <td>ARM CortexMEnabled ProASICL Development Kit</td>\n",
       "    </tr>\n",
       "    <tr>\n",
       "      <td>Zynq Ultrascale MPSoC SOM</td>\n",
       "      <td>Digi ConnectCore</td>\n",
       "      <td>SMARC Module</td>\n",
       "      <td>Digi ConnectCore</td>\n",
       "      <td>Zynq Ultrascale MPSoC SOM</td>\n",
       "    </tr>\n",
       "    <tr>\n",
       "      <td>SMARC Module</td>\n",
       "      <td>MYCYMX CPU Module</td>\n",
       "      <td>MYCJD CPU Module</td>\n",
       "      <td>Zynq Ultrascale MPSoC SOM</td>\n",
       "      <td>SMARC Module</td>\n",
       "    </tr>\n",
       "    <tr>\n",
       "      <td>Zynq SoC SODIMM SOM</td>\n",
       "      <td>MYCJD CPU Module</td>\n",
       "      <td>MYCYMX CPU Module</td>\n",
       "      <td>SMARC Module</td>\n",
       "      <td>Zynq SoC SODIMM SOM</td>\n",
       "    </tr>\n",
       "    <tr>\n",
       "      <td>Digi ConnectCore</td>\n",
       "      <td>CPU COM Express Basic Type</td>\n",
       "      <td>Microsom</td>\n",
       "      <td>Zynq SoC SODIMM SOM</td>\n",
       "      <td>MYCYMX CPU Module</td>\n",
       "    </tr>\n",
       "    <tr>\n",
       "      <td>MYCYMX CPU Module</td>\n",
       "      <td>SOMCR Intel 12th Gen Core Processor</td>\n",
       "      <td>CPU COM Express Basic Type</td>\n",
       "      <td>BeagleBone AI</td>\n",
       "      <td>MYCYGLX CPU Module</td>\n",
       "    </tr>\n",
       "  </tbody>\n",
       "</table>"
      ],
      "text/plain": [
       "<IPython.core.display.HTML object>"
      ]
     },
     "metadata": {},
     "output_type": "display_data"
    },
    {
     "name": "stdout",
     "output_type": "stream",
     "text": [
      "\n",
      "================================================================================\n",
      "\n",
      "Test Case: Top 5 Single Board Computers products that support dual Gigabit Ethernet and SATA.\n",
      "Consistency: 70.00%\n",
      "Order Consistency: 42.50%\n"
     ]
    },
    {
     "data": {
      "text/html": [
       "<table border=\"1\" class=\"dataframe\">\n",
       "  <thead>\n",
       "    <tr style=\"text-align: right;\">\n",
       "      <th>Query 1</th>\n",
       "      <th>Query 2</th>\n",
       "      <th>Query 3</th>\n",
       "      <th>Query 4</th>\n",
       "      <th>Query 5</th>\n",
       "    </tr>\n",
       "  </thead>\n",
       "  <tbody>\n",
       "    <tr>\n",
       "      <td>SBC Board Q BiPA</td>\n",
       "      <td>SBC Board Q BiPA</td>\n",
       "      <td>SBC Board Q BiPA</td>\n",
       "      <td>SBC Board Q BiPA</td>\n",
       "      <td>SBC Board Q BiPA</td>\n",
       "    </tr>\n",
       "    <tr>\n",
       "      <td>PBQ Qseven Carrier Board</td>\n",
       "      <td>Saturn</td>\n",
       "      <td>Saturn</td>\n",
       "      <td>RSB Single Board Computer</td>\n",
       "      <td>Saturn</td>\n",
       "    </tr>\n",
       "    <tr>\n",
       "      <td>RSB Single Board Computer</td>\n",
       "      <td>ATX Server Board</td>\n",
       "      <td>PBQ Qseven Carrier Board</td>\n",
       "      <td>Saturn</td>\n",
       "      <td>ATX Server Board</td>\n",
       "    </tr>\n",
       "    <tr>\n",
       "      <td>Saturn</td>\n",
       "      <td>MiniITX Server Board</td>\n",
       "      <td>RSB Single Board Computer</td>\n",
       "      <td>MiniITX Server Board</td>\n",
       "      <td>PBQ Qseven Carrier Board</td>\n",
       "    </tr>\n",
       "    <tr>\n",
       "      <td>MiniITX Server Board</td>\n",
       "      <td>RSB Single Board Computer</td>\n",
       "      <td>MiniITX Server Board</td>\n",
       "      <td>ATX Server Board</td>\n",
       "      <td>RSB Single Board Computer</td>\n",
       "    </tr>\n",
       "    <tr>\n",
       "      <td>ATX Server Board</td>\n",
       "      <td>EmETXei Intel Atom N D COM Express Compact Type CPU Module</td>\n",
       "      <td>ET COM Express</td>\n",
       "      <td>CPU COM Express Basic Type</td>\n",
       "      <td>IMX Quad Max Quad Plus Picoitx Sbc</td>\n",
       "    </tr>\n",
       "    <tr>\n",
       "      <td>EmETXei Intel Atom N D COM Express Compact Type CPU Module</td>\n",
       "      <td>SIMBA ATX Motherboard</td>\n",
       "      <td>ExpressBD</td>\n",
       "      <td>EmETXaE AMD Fusion GTN ETX CPU Module</td>\n",
       "      <td>ET COM Express</td>\n",
       "    </tr>\n",
       "    <tr>\n",
       "      <td>CPU COM Express Basic Type</td>\n",
       "      <td>CPU COM Express Basic Type</td>\n",
       "      <td>PicoITX SBC</td>\n",
       "      <td>EmETXei Intel Atom N D COM Express Compact Type CPU Module</td>\n",
       "      <td>ExpressBD</td>\n",
       "    </tr>\n",
       "    <tr>\n",
       "      <td>SIMBA ATX Motherboard</td>\n",
       "      <td>EmETXaE AMD Fusion GTN ETX CPU Module</td>\n",
       "      <td>Qseven Computer On Module</td>\n",
       "      <td>EmQi Intel Atom Processor E Family Qseven CPU Module</td>\n",
       "      <td>Qseven Computer On Module</td>\n",
       "    </tr>\n",
       "    <tr>\n",
       "      <td>SolidPC Q</td>\n",
       "      <td>EmETXeiC Intel Atom D COM Express Compact Type CPU Module</td>\n",
       "      <td>QBT Computer On Module</td>\n",
       "      <td>EmQiA</td>\n",
       "      <td>QBT Computer On Module</td>\n",
       "    </tr>\n",
       "  </tbody>\n",
       "</table>"
      ],
      "text/plain": [
       "<IPython.core.display.HTML object>"
      ]
     },
     "metadata": {},
     "output_type": "display_data"
    },
    {
     "name": "stdout",
     "output_type": "stream",
     "text": [
      "\n",
      "================================================================================\n",
      "\n",
      "Test Case: Which products offer up to 16 cores and 2.3 GHz frequency in their processors?\n",
      "Consistency: 62.00%\n",
      "Order Consistency: 37.50%\n"
     ]
    },
    {
     "data": {
      "text/html": [
       "<table border=\"1\" class=\"dataframe\">\n",
       "  <thead>\n",
       "    <tr style=\"text-align: right;\">\n",
       "      <th>Query 1</th>\n",
       "      <th>Query 2</th>\n",
       "      <th>Query 3</th>\n",
       "      <th>Query 4</th>\n",
       "      <th>Query 5</th>\n",
       "    </tr>\n",
       "  </thead>\n",
       "  <tbody>\n",
       "    <tr>\n",
       "      <td>SOM 13th Gen Intel Core Processor</td>\n",
       "      <td>Tank Aiot Dev Kit</td>\n",
       "      <td>SOM CPU Module</td>\n",
       "      <td>Tank Aiot Dev Kit</td>\n",
       "      <td>SOM 13th Gen Intel Core Processor</td>\n",
       "    </tr>\n",
       "    <tr>\n",
       "      <td>SOMCR Intel 12th Gen Core Processor</td>\n",
       "      <td>Eagle Embedded Processing Unit</td>\n",
       "      <td>Conga BXD</td>\n",
       "      <td>SOM 13th Gen Intel Core Processor</td>\n",
       "      <td>COMecRP E</td>\n",
       "    </tr>\n",
       "    <tr>\n",
       "      <td>Tank Aiot Dev Kit</td>\n",
       "      <td>SOM 13th Gen Intel Core Processor</td>\n",
       "      <td>SOMCR Intel 12th Gen Core Processor</td>\n",
       "      <td>SOMCR Intel 12th Gen Core Processor</td>\n",
       "      <td>COMebRP E</td>\n",
       "    </tr>\n",
       "    <tr>\n",
       "      <td>Eagle Embedded Processing Unit</td>\n",
       "      <td>COMebRP E</td>\n",
       "      <td>COMhccAS</td>\n",
       "      <td>ExpressADP</td>\n",
       "      <td>SOMCR Intel 12th Gen Core Processor</td>\n",
       "    </tr>\n",
       "    <tr>\n",
       "      <td>SOM CPU Module</td>\n",
       "      <td>SOMCR Intel 12th Gen Core Processor</td>\n",
       "      <td>COMhcaAP</td>\n",
       "      <td>COMhccAS</td>\n",
       "      <td>COMhccAS</td>\n",
       "    </tr>\n",
       "    <tr>\n",
       "      <td>SOM 7th Gen Intel Xeon Core Celeron Processors COM Express Basic Module</td>\n",
       "      <td>COMhccAS</td>\n",
       "      <td>SOM Intel Atom C Processor COM Express R Type Module</td>\n",
       "      <td>SOM Intel 11th Gen Core Processors</td>\n",
       "      <td>COMhcaAP</td>\n",
       "    </tr>\n",
       "    <tr>\n",
       "      <td>COMecWL ES COM Express Compact</td>\n",
       "      <td>COMhcaAP</td>\n",
       "      <td>SOM Intel 11th Gen Core Processors</td>\n",
       "      <td>UP Xtreme Developer Board</td>\n",
       "      <td>Tank Aiot Dev Kit</td>\n",
       "    </tr>\n",
       "    <tr>\n",
       "      <td>Congatcr</td>\n",
       "      <td>UP Xtreme Developer Board</td>\n",
       "      <td>SOM 7th Gen Intel Xeon Core Celeron Processors COM Express Basic Module</td>\n",
       "      <td>COMecWL ES COM Express Compact</td>\n",
       "      <td>COMecWL ES COM Express Compact</td>\n",
       "    </tr>\n",
       "    <tr>\n",
       "      <td>COM Express Basic Type CPU Module</td>\n",
       "      <td>COMecWL ES COM Express Compact</td>\n",
       "      <td>PCM</td>\n",
       "      <td>SOM 7th Gen Intel Xeon Core Celeron Processors COM Express Basic Module</td>\n",
       "      <td>Congatcr</td>\n",
       "    </tr>\n",
       "    <tr>\n",
       "      <td>SOM 6th Gen Intel Core Celeron Processors COM Express Compact Module</td>\n",
       "      <td>SOM 6th Gen Intel Core Celeron Processors COM Express Compact Module</td>\n",
       "      <td>DS Intel Core iU Celeron U</td>\n",
       "      <td>SOM 6th Gen Intel Core Celeron Processors COM Express Compact Module</td>\n",
       "      <td>Eagle Embedded Processing Unit</td>\n",
       "    </tr>\n",
       "  </tbody>\n",
       "</table>"
      ],
      "text/plain": [
       "<IPython.core.display.HTML object>"
      ]
     },
     "metadata": {},
     "output_type": "display_data"
    },
    {
     "name": "stdout",
     "output_type": "stream",
     "text": [
      "\n",
      "================================================================================\n",
      "\n",
      "Test Case: Find Kontron products that include both ECC and non-ECC memory options.\n",
      "Consistency: 90.00%\n",
      "Order Consistency: 65.00%\n"
     ]
    },
    {
     "data": {
      "text/html": [
       "<table border=\"1\" class=\"dataframe\">\n",
       "  <thead>\n",
       "    <tr style=\"text-align: right;\">\n",
       "      <th>Query 1</th>\n",
       "      <th>Query 2</th>\n",
       "      <th>Query 3</th>\n",
       "      <th>Query 4</th>\n",
       "      <th>Query 5</th>\n",
       "    </tr>\n",
       "  </thead>\n",
       "  <tbody>\n",
       "    <tr>\n",
       "      <td>COMecDV</td>\n",
       "      <td>COMebBD</td>\n",
       "      <td>COMebBD</td>\n",
       "      <td>COMecDV</td>\n",
       "      <td>COMecDV</td>\n",
       "    </tr>\n",
       "    <tr>\n",
       "      <td>COMebBD</td>\n",
       "      <td>COMecDV</td>\n",
       "      <td>COMhcaAP</td>\n",
       "      <td>COMebBD</td>\n",
       "      <td>COMebBD</td>\n",
       "    </tr>\n",
       "    <tr>\n",
       "      <td>COMecRP E</td>\n",
       "      <td>COMhcaAP</td>\n",
       "      <td>COMecTL E</td>\n",
       "      <td>COMecTL E</td>\n",
       "      <td>COMecRP E</td>\n",
       "    </tr>\n",
       "    <tr>\n",
       "      <td>COMecTL E</td>\n",
       "      <td>COMecSL</td>\n",
       "      <td>COMecKL COM Express</td>\n",
       "      <td>COMecKL COM Express</td>\n",
       "      <td>COMecTL E</td>\n",
       "    </tr>\n",
       "    <tr>\n",
       "      <td>COMecKL COM Express</td>\n",
       "      <td>COMecTL E</td>\n",
       "      <td>COMecSL</td>\n",
       "      <td>COMecSL</td>\n",
       "      <td>COMecKL COM Express</td>\n",
       "    </tr>\n",
       "    <tr>\n",
       "      <td>COMecSL</td>\n",
       "      <td>COMecKL COM Express</td>\n",
       "      <td>COMecWL ES COM Express Compact</td>\n",
       "      <td>COMecWL ES COM Express Compact</td>\n",
       "      <td>COMecSL</td>\n",
       "    </tr>\n",
       "    <tr>\n",
       "      <td>COMebRP E</td>\n",
       "      <td>COMecRP E</td>\n",
       "      <td>COMecRP E</td>\n",
       "      <td>COMhcaAP</td>\n",
       "      <td>COMebRP E</td>\n",
       "    </tr>\n",
       "    <tr>\n",
       "      <td>COMhcaAP</td>\n",
       "      <td>COMemRP E</td>\n",
       "      <td>SMARCsXEL E</td>\n",
       "      <td>COMecRP E</td>\n",
       "      <td>COMecAL E</td>\n",
       "    </tr>\n",
       "    <tr>\n",
       "      <td>COMemRP E</td>\n",
       "      <td>COMecAL E</td>\n",
       "      <td>COMecAL E</td>\n",
       "      <td>COMemRP E</td>\n",
       "      <td>COMemRP E</td>\n",
       "    </tr>\n",
       "    <tr>\n",
       "      <td>COMecAL E</td>\n",
       "      <td>SMARCsXEL E</td>\n",
       "      <td>COMemRP E</td>\n",
       "      <td>COMecAL E</td>\n",
       "      <td>COMecWL ES COM Express Compact</td>\n",
       "    </tr>\n",
       "  </tbody>\n",
       "</table>"
      ],
      "text/plain": [
       "<IPython.core.display.HTML object>"
      ]
     },
     "metadata": {},
     "output_type": "display_data"
    },
    {
     "name": "stdout",
     "output_type": "stream",
     "text": [
      "\n",
      "================================================================================\n",
      "\n",
      "Test Case: List all hardware platforms with on-chip frame memory and supports a TFT-LCD controller.\n",
      "Consistency: 66.00%\n",
      "Order Consistency: 47.50%\n"
     ]
    },
    {
     "data": {
      "text/html": [
       "<table border=\"1\" class=\"dataframe\">\n",
       "  <thead>\n",
       "    <tr style=\"text-align: right;\">\n",
       "      <th>Query 1</th>\n",
       "      <th>Query 2</th>\n",
       "      <th>Query 3</th>\n",
       "      <th>Query 4</th>\n",
       "      <th>Query 5</th>\n",
       "    </tr>\n",
       "  </thead>\n",
       "  <tbody>\n",
       "    <tr>\n",
       "      <td>STVW</td>\n",
       "      <td>STVW</td>\n",
       "      <td>STVW</td>\n",
       "      <td>STVW</td>\n",
       "      <td>STVW</td>\n",
       "    </tr>\n",
       "    <tr>\n",
       "      <td>SOM 6th Gen Intel Core Celeron Processors COM Express Compact Module</td>\n",
       "      <td>ULCDPTU</td>\n",
       "      <td>Pico Imx Emmc</td>\n",
       "      <td>ULCDPTU</td>\n",
       "      <td>ULCDP Series</td>\n",
       "    </tr>\n",
       "    <tr>\n",
       "      <td>SOM Intel Atom E Pentium Celeron N Series Processors COMExpress Compact Module</td>\n",
       "      <td>ULCDP Series</td>\n",
       "      <td>SOM 6th Gen Intel Core Celeron Processors COM Express Compact Module</td>\n",
       "      <td>ULCDP Series</td>\n",
       "      <td>ULCDPTU</td>\n",
       "    </tr>\n",
       "    <tr>\n",
       "      <td>Toybrick RKPro AI Development Kit</td>\n",
       "      <td>SH Segment Common Driver Controller</td>\n",
       "      <td>SOM Intel Atom E Pentium Celeron N Series Processors COMExpress Compact Module</td>\n",
       "      <td>Reflective LCD Front Light Dev Kit</td>\n",
       "      <td>Pico Imx Emmc</td>\n",
       "    </tr>\n",
       "    <tr>\n",
       "      <td>FETAiC SoM</td>\n",
       "      <td>LPC Development Kit</td>\n",
       "      <td>Toybrick RKPro AI Development Kit</td>\n",
       "      <td>SH Segment Common Driver Controller</td>\n",
       "      <td>LPC Development Kit</td>\n",
       "    </tr>\n",
       "    <tr>\n",
       "      <td>LPC Development Kit</td>\n",
       "      <td>Reflective LCD Front Light Dev Kit</td>\n",
       "      <td>LPC Development Kit</td>\n",
       "      <td>Trek Vehicle Display System</td>\n",
       "      <td>Reflective LCD Front Light Dev Kit</td>\n",
       "    </tr>\n",
       "    <tr>\n",
       "      <td>ULCDPTU</td>\n",
       "      <td>Trek Vehicle Display System</td>\n",
       "      <td>ULCDPTU</td>\n",
       "      <td>Trekdh</td>\n",
       "      <td>SH Segment Common Driver Controller</td>\n",
       "    </tr>\n",
       "    <tr>\n",
       "      <td>ULCDP Series</td>\n",
       "      <td>COMe Ref Carrieri T TNI</td>\n",
       "      <td>ULCDP Series</td>\n",
       "      <td>LPC Development Kit</td>\n",
       "      <td>Trek Vehicle Display System</td>\n",
       "    </tr>\n",
       "    <tr>\n",
       "      <td>Smartfusion Customizable Systemonchip Microcontroller Subsystem</td>\n",
       "      <td>COMecWL ES COM Express Compact</td>\n",
       "      <td>Smartfusion Customizable Systemonchip Microcontroller Subsystem</td>\n",
       "      <td>Conga JC</td>\n",
       "      <td>EDHMIC</td>\n",
       "    </tr>\n",
       "    <tr>\n",
       "      <td>SH Segment Common Driver Controller</td>\n",
       "      <td>Conga JC</td>\n",
       "      <td>Reflective LCD Front Light Dev Kit</td>\n",
       "      <td>COMe Ref Carrieri T TNI</td>\n",
       "      <td>ARM CortexMEnabled ProASICL Development Kit</td>\n",
       "    </tr>\n",
       "  </tbody>\n",
       "</table>"
      ],
      "text/plain": [
       "<IPython.core.display.HTML object>"
      ]
     },
     "metadata": {},
     "output_type": "display_data"
    },
    {
     "name": "stdout",
     "output_type": "stream",
     "text": [
      "\n",
      "================================================================================\n",
      "\n",
      "Test Case: Provide a list of Single Board Computers manufactured by Advantech that include USB 3.0 support.\n",
      "Consistency: 78.00%\n",
      "Order Consistency: 57.50%\n"
     ]
    },
    {
     "data": {
      "text/html": [
       "<table border=\"1\" class=\"dataframe\">\n",
       "  <thead>\n",
       "    <tr style=\"text-align: right;\">\n",
       "      <th>Query 1</th>\n",
       "      <th>Query 2</th>\n",
       "      <th>Query 3</th>\n",
       "      <th>Query 4</th>\n",
       "      <th>Query 5</th>\n",
       "    </tr>\n",
       "  </thead>\n",
       "  <tbody>\n",
       "    <tr>\n",
       "      <td>Embedded Box PC</td>\n",
       "      <td>Embedded Box PC</td>\n",
       "      <td>RISC Computing Platform</td>\n",
       "      <td>Embedded Box PC</td>\n",
       "      <td>Embedded Box PC</td>\n",
       "    </tr>\n",
       "    <tr>\n",
       "      <td>Intelligent Inspection System</td>\n",
       "      <td>Intelligent Inspection System</td>\n",
       "      <td>Embedded Box PC</td>\n",
       "      <td>Intelligent Inspection System</td>\n",
       "      <td>Intelligent Inspection System</td>\n",
       "    </tr>\n",
       "    <tr>\n",
       "      <td>RISC Computing Platform</td>\n",
       "      <td>RISC Computing Platform</td>\n",
       "      <td>Intelligent Inspection System</td>\n",
       "      <td>RISC Computing Platform</td>\n",
       "      <td>RISC Computing Platform</td>\n",
       "    </tr>\n",
       "    <tr>\n",
       "      <td>PCEBVBE</td>\n",
       "      <td>PCEBVBE</td>\n",
       "      <td>PCEBVBE</td>\n",
       "      <td>PCEBVBE</td>\n",
       "      <td>PCEBVBE</td>\n",
       "    </tr>\n",
       "    <tr>\n",
       "      <td>UNO</td>\n",
       "      <td>Device Monitoring System</td>\n",
       "      <td>RSB</td>\n",
       "      <td>RSB</td>\n",
       "      <td>UNO</td>\n",
       "    </tr>\n",
       "    <tr>\n",
       "      <td>Industrial IoT Gateway</td>\n",
       "      <td>Industrial IoT Gateway</td>\n",
       "      <td>QSeven Module</td>\n",
       "      <td>QSeven Module</td>\n",
       "      <td>Industrial IoT Gateway</td>\n",
       "    </tr>\n",
       "    <tr>\n",
       "      <td>UNOG Intel Core Celeron Modular Box Platform</td>\n",
       "      <td>UNOG Intel Core Celeron Modular Box Platform</td>\n",
       "      <td>SOM R</td>\n",
       "      <td>Qseven Module</td>\n",
       "      <td>UNOG Intel Core Celeron Modular Box Platform</td>\n",
       "    </tr>\n",
       "    <tr>\n",
       "      <td>Device Monitoring System</td>\n",
       "      <td>UNO</td>\n",
       "      <td>EBX EPIC Single Board Computer</td>\n",
       "      <td>SOM R</td>\n",
       "      <td>Device Monitoring System</td>\n",
       "    </tr>\n",
       "    <tr>\n",
       "      <td>RISC Compact Box Computer</td>\n",
       "      <td>Industrial Server Motherboard</td>\n",
       "      <td>Qseven Module</td>\n",
       "      <td>RISC Compact Box Computer</td>\n",
       "      <td>Industrial Server Motherboard</td>\n",
       "    </tr>\n",
       "    <tr>\n",
       "      <td>Qseven Module</td>\n",
       "      <td>SOM R</td>\n",
       "      <td>UNO</td>\n",
       "      <td>UNO</td>\n",
       "      <td>QSeven Module</td>\n",
       "    </tr>\n",
       "  </tbody>\n",
       "</table>"
      ],
      "text/plain": [
       "<IPython.core.display.HTML object>"
      ]
     },
     "metadata": {},
     "output_type": "display_data"
    },
    {
     "name": "stdout",
     "output_type": "stream",
     "text": [
      "\n",
      "================================================================================\n",
      "\n",
      "Test Case: Which devices support Intel Hyper-Threading Technology with mATX form factor?\n",
      "Consistency: 64.00%\n",
      "Order Consistency: 34.64%\n"
     ]
    },
    {
     "data": {
      "text/html": [
       "<table border=\"1\" class=\"dataframe\">\n",
       "  <thead>\n",
       "    <tr style=\"text-align: right;\">\n",
       "      <th>Query 1</th>\n",
       "      <th>Query 2</th>\n",
       "      <th>Query 3</th>\n",
       "      <th>Query 4</th>\n",
       "      <th>Query 5</th>\n",
       "    </tr>\n",
       "  </thead>\n",
       "  <tbody>\n",
       "    <tr>\n",
       "      <td>MicroATX Series</td>\n",
       "      <td>MicroATX Series</td>\n",
       "      <td>MicroATX Series</td>\n",
       "      <td>Micro ATX Motherboard</td>\n",
       "      <td>MicroATX Series</td>\n",
       "    </tr>\n",
       "    <tr>\n",
       "      <td>AIMB Series</td>\n",
       "      <td>Micro ATX Motherboard</td>\n",
       "      <td>Micro ATX Motherboard</td>\n",
       "      <td>MicroATX Series</td>\n",
       "      <td>Micro ATX Motherboard</td>\n",
       "    </tr>\n",
       "    <tr>\n",
       "      <td>Industrial Server Motherboard</td>\n",
       "      <td>Industrial Server Motherboard</td>\n",
       "      <td>IMBAR ATX Motherboard</td>\n",
       "      <td>IMBAR ATX Motherboard</td>\n",
       "      <td>AIMB Series</td>\n",
       "    </tr>\n",
       "    <tr>\n",
       "      <td>Micro ATX Motherboard</td>\n",
       "      <td>AIMB Series</td>\n",
       "      <td>ATX Server Board</td>\n",
       "      <td>NEX P</td>\n",
       "      <td>ATX Server Board</td>\n",
       "    </tr>\n",
       "    <tr>\n",
       "      <td>PPCMBAE MiniITX Motherboard</td>\n",
       "      <td>None</td>\n",
       "      <td>Com Express Basic Type Cpu Module</td>\n",
       "      <td>ATX Server Board</td>\n",
       "      <td>IMBAR ATX Motherboard</td>\n",
       "    </tr>\n",
       "    <tr>\n",
       "      <td>MiniITX Server Board</td>\n",
       "      <td>None</td>\n",
       "      <td>SOM 13th Gen Intel Core Processor</td>\n",
       "      <td>IMB ATX Motherboard</td>\n",
       "      <td>IMB ATX Motherboard</td>\n",
       "    </tr>\n",
       "    <tr>\n",
       "      <td>Industrial Motherboard JTIMA</td>\n",
       "      <td>None</td>\n",
       "      <td>SOMCR Intel 12th Gen Core Processor</td>\n",
       "      <td>SOMCR Intel 12th Gen Core Processor</td>\n",
       "      <td>NEX P</td>\n",
       "    </tr>\n",
       "    <tr>\n",
       "      <td>ATX Server Board</td>\n",
       "      <td>None</td>\n",
       "      <td>Congahpcctlu</td>\n",
       "      <td>Congahpcctlu</td>\n",
       "      <td>MiniITX Server Board</td>\n",
       "    </tr>\n",
       "    <tr>\n",
       "      <td>IMB ATX Motherboard</td>\n",
       "      <td>None</td>\n",
       "      <td>NEX P</td>\n",
       "      <td>CEM COM Express Type Basic Module</td>\n",
       "      <td>DB mSTX Extended Lifecycle Series</td>\n",
       "    </tr>\n",
       "    <tr>\n",
       "      <td>IMBAR ATX Motherboard</td>\n",
       "      <td>None</td>\n",
       "      <td>IMB ATX Motherboard</td>\n",
       "      <td>CongaMA</td>\n",
       "      <td>Industrial Motherboard JTIMA</td>\n",
       "    </tr>\n",
       "  </tbody>\n",
       "</table>"
      ],
      "text/plain": [
       "<IPython.core.display.HTML object>"
      ]
     },
     "metadata": {},
     "output_type": "display_data"
    },
    {
     "name": "stdout",
     "output_type": "stream",
     "text": [
      "\n",
      "================================================================================\n",
      "\n",
      "Test Case: Identify products that include programmable analog components and eNVM.\n",
      "Consistency: 46.00%\n",
      "Order Consistency: 32.50%\n"
     ]
    },
    {
     "data": {
      "text/html": [
       "<table border=\"1\" class=\"dataframe\">\n",
       "  <thead>\n",
       "    <tr style=\"text-align: right;\">\n",
       "      <th>Query 1</th>\n",
       "      <th>Query 2</th>\n",
       "      <th>Query 3</th>\n",
       "      <th>Query 4</th>\n",
       "      <th>Query 5</th>\n",
       "    </tr>\n",
       "  </thead>\n",
       "  <tbody>\n",
       "    <tr>\n",
       "      <td>Smartfusion Customizable Systemonchip Microcontroller Subsystem</td>\n",
       "      <td>Smartfusion Customizable Systemonchip Microcontroller Subsystem</td>\n",
       "      <td>Smartfusion Customizable Systemonchip Microcontroller Subsystem</td>\n",
       "      <td>Smartfusion Customizable Systemonchip Microcontroller Subsystem</td>\n",
       "      <td>Smartfusion Customizable Systemonchip Microcontroller Subsystem</td>\n",
       "    </tr>\n",
       "    <tr>\n",
       "      <td>Magniv</td>\n",
       "      <td>ULCDD Series</td>\n",
       "      <td>ARM CortexMEnabled ProASICL Development Kit</td>\n",
       "      <td>Magniv</td>\n",
       "      <td>ARM CortexMEnabled ProASICL Development Kit</td>\n",
       "    </tr>\n",
       "    <tr>\n",
       "      <td>SGVNPRDB</td>\n",
       "      <td>ARM CortexMEnabled ProASICL Development Kit</td>\n",
       "      <td>Blackbird Embedded Processing Unit</td>\n",
       "      <td>ARM CortexMEnabled ProASICL Development Kit</td>\n",
       "      <td>Fusion Advanced Development Kit</td>\n",
       "    </tr>\n",
       "    <tr>\n",
       "      <td>Fusion Advanced Development Kit</td>\n",
       "      <td>LPC Development Kit</td>\n",
       "      <td>Raven Embedded Processing Unit</td>\n",
       "      <td>Raven Embedded Processing Unit</td>\n",
       "      <td>LPC Development Kit</td>\n",
       "    </tr>\n",
       "    <tr>\n",
       "      <td>LPC Development Kit</td>\n",
       "      <td>Renesas RZGUL RZAUL RZFIVE SBC</td>\n",
       "      <td>LPC Development Kit</td>\n",
       "      <td>Blackbird Embedded Processing Unit</td>\n",
       "      <td>COMemEL E</td>\n",
       "    </tr>\n",
       "    <tr>\n",
       "      <td>MYC-JA5D2X</td>\n",
       "      <td>CM Industrial</td>\n",
       "      <td>ESPDevKitC V</td>\n",
       "      <td>Owl Embedded Processing Unit</td>\n",
       "      <td>SOM Intel Atom E Pentium Celeron N Series Processors COMExpress Compact Module</td>\n",
       "    </tr>\n",
       "    <tr>\n",
       "      <td>EmNANOiE</td>\n",
       "      <td>MYC-JA5D2X</td>\n",
       "      <td>ESPSHMIDevKit</td>\n",
       "      <td>NanoXEL COM Express Mini Size Type Module</td>\n",
       "      <td>Toybrick RKPro AI Development Kit</td>\n",
       "    </tr>\n",
       "    <tr>\n",
       "      <td>EmQv VIA Nano Qseven CPU Module</td>\n",
       "      <td>Reflective LCD Front Light Dev Kit</td>\n",
       "      <td>Eagle Embedded Processing Unit</td>\n",
       "      <td>NanoXAL COM Express Mini Size Type Module</td>\n",
       "      <td>SOM</td>\n",
       "    </tr>\n",
       "    <tr>\n",
       "      <td>CongaMA</td>\n",
       "      <td>SOM R</td>\n",
       "      <td>Device Monitoring System</td>\n",
       "      <td>SOM Intel Atom E Pentium Celeron N Series Processors COMExpress Compact Module</td>\n",
       "      <td>CEM COM Express Type Basic Module</td>\n",
       "    </tr>\n",
       "    <tr>\n",
       "      <td>SOM</td>\n",
       "      <td>SOM</td>\n",
       "      <td>Evaluation Kit</td>\n",
       "      <td>SOM</td>\n",
       "      <td>ET COM Express 6th Generation Intel Core U-series Processor</td>\n",
       "    </tr>\n",
       "  </tbody>\n",
       "</table>"
      ],
      "text/plain": [
       "<IPython.core.display.HTML object>"
      ]
     },
     "metadata": {},
     "output_type": "display_data"
    },
    {
     "name": "stdout",
     "output_type": "stream",
     "text": [
      "\n",
      "================================================================================\n",
      "\n",
      "Test Case: What are the available hardware platforms with built-in Intel Turbo Boost Technology and Hyper-Threading Technology?\n",
      "Consistency: 85.00%\n",
      "Order Consistency: 70.00%\n"
     ]
    },
    {
     "data": {
      "text/html": [
       "<table border=\"1\" class=\"dataframe\">\n",
       "  <thead>\n",
       "    <tr style=\"text-align: right;\">\n",
       "      <th>Query 1</th>\n",
       "      <th>Query 2</th>\n",
       "      <th>Query 3</th>\n",
       "      <th>Query 4</th>\n",
       "    </tr>\n",
       "  </thead>\n",
       "  <tbody>\n",
       "    <tr>\n",
       "      <td>SOM 13th Gen Intel Core Processor</td>\n",
       "      <td>SOM 13th Gen Intel Core Processor</td>\n",
       "      <td>SOM 13th Gen Intel Core Processor</td>\n",
       "      <td>SOM 13th Gen Intel Core Processor</td>\n",
       "    </tr>\n",
       "    <tr>\n",
       "      <td>SOMCR Intel 12th Gen Core Processor</td>\n",
       "      <td>SOMCR Intel 12th Gen Core Processor</td>\n",
       "      <td>SOMCR Intel 12th Gen Core Processor</td>\n",
       "      <td>SOMCR Intel 12th Gen Core Processor</td>\n",
       "    </tr>\n",
       "    <tr>\n",
       "      <td>ExpressADP</td>\n",
       "      <td>ExpressADP</td>\n",
       "      <td>ExpressADP</td>\n",
       "      <td>ExpressADP</td>\n",
       "    </tr>\n",
       "    <tr>\n",
       "      <td>SOM Intel 11th Gen Core Processors</td>\n",
       "      <td>SOM Intel 11th Gen Core Processors</td>\n",
       "      <td>SOM Intel 11th Gen Core Processors</td>\n",
       "      <td>SOM Intel 11th Gen Core Processors</td>\n",
       "    </tr>\n",
       "    <tr>\n",
       "      <td>PPCMBAE MiniITX Motherboard</td>\n",
       "      <td>Tank Aiot Dev Kit</td>\n",
       "      <td>UP Xtreme Developer Board</td>\n",
       "      <td>PPCMBAE MiniITX Motherboard</td>\n",
       "    </tr>\n",
       "    <tr>\n",
       "      <td>Tank Aiot Dev Kit</td>\n",
       "      <td>UP Xtreme Developer Board</td>\n",
       "      <td>Tank Aiot Dev Kit</td>\n",
       "      <td>Tank Aiot Dev Kit</td>\n",
       "    </tr>\n",
       "    <tr>\n",
       "      <td>SOM 7th Gen Intel Xeon Core Celeron Processors COM Express Basic Module</td>\n",
       "      <td>Industrial Thin MiniITX</td>\n",
       "      <td>PPCMBAE MiniITX Motherboard</td>\n",
       "      <td>SOM 7th Gen Intel Xeon Core Celeron Processors COM Express Basic Module</td>\n",
       "    </tr>\n",
       "    <tr>\n",
       "      <td>ATX Server Board</td>\n",
       "      <td>PPCMBAE MiniITX Motherboard</td>\n",
       "      <td>Com Express Basic Type Cpu Module</td>\n",
       "      <td>Industrial Thin MiniITX</td>\n",
       "    </tr>\n",
       "    <tr>\n",
       "      <td>SOMD Computer On Module</td>\n",
       "      <td>Com Express Basic Type Cpu Module</td>\n",
       "      <td>SOM 7th Gen Intel Xeon Core Celeron Processors COM Express Basic Module</td>\n",
       "      <td>DS Intel Core iU Celeron U</td>\n",
       "    </tr>\n",
       "    <tr>\n",
       "      <td>DS Intel Core iU Celeron U</td>\n",
       "      <td>SOM 7th Gen Intel Xeon Core Celeron Processors COM Express Basic Module</td>\n",
       "      <td>DS Intel Core iU Celeron U</td>\n",
       "      <td>SOMD Computer On Module</td>\n",
       "    </tr>\n",
       "  </tbody>\n",
       "</table>"
      ],
      "text/plain": [
       "<IPython.core.display.HTML object>"
      ]
     },
     "metadata": {},
     "output_type": "display_data"
    },
    {
     "name": "stdout",
     "output_type": "stream",
     "text": [
      "\n",
      "================================================================================\n",
      "\n",
      "Test Case: Show all SBCs supporting Verilog and C with detailed specifications for FPGA integration.\n",
      "Consistency: 44.00%\n",
      "Order Consistency: 12.50%\n"
     ]
    },
    {
     "data": {
      "text/html": [
       "<table border=\"1\" class=\"dataframe\">\n",
       "  <thead>\n",
       "    <tr style=\"text-align: right;\">\n",
       "      <th>Query 1</th>\n",
       "      <th>Query 2</th>\n",
       "      <th>Query 3</th>\n",
       "      <th>Query 4</th>\n",
       "      <th>Query 5</th>\n",
       "    </tr>\n",
       "  </thead>\n",
       "  <tbody>\n",
       "    <tr>\n",
       "      <td>Viper EBX Single Board Computer</td>\n",
       "      <td>RTG Development Kit</td>\n",
       "      <td>IWRainboWGD Stratix GXSX SoC FPGA DevKit</td>\n",
       "      <td>RTG Development Kit</td>\n",
       "      <td>TE ZynqBerry</td>\n",
       "    </tr>\n",
       "    <tr>\n",
       "      <td>Baycat Pcplus Single Board Computer</td>\n",
       "      <td>CortexMEnabled IGLOO Development Kit</td>\n",
       "      <td>Smartfusion Customizable Systemonchip Microcontroller Subsystem</td>\n",
       "      <td>CortexMEnabled IGLOO Development Kit</td>\n",
       "      <td>Smartfusion Customizable Systemonchip Microcontroller Subsystem</td>\n",
       "    </tr>\n",
       "    <tr>\n",
       "      <td>RSB Single Board Computer</td>\n",
       "      <td>ARM CortexMEnabled ProASICL Development Kit</td>\n",
       "      <td>Embedded Vision Portfolio</td>\n",
       "      <td>Fusion Advanced Development Kit</td>\n",
       "      <td>RZ G1C Single Board Computer</td>\n",
       "    </tr>\n",
       "    <tr>\n",
       "      <td>ConnectCore SBC</td>\n",
       "      <td>Smartfusion Customizable Systemonchip Microcontroller Subsystem</td>\n",
       "      <td>RZ G1C Single Board Computer</td>\n",
       "      <td>ARM CortexMEnabled ProASICL Development Kit</td>\n",
       "      <td>RSB Single Board Computer</td>\n",
       "    </tr>\n",
       "    <tr>\n",
       "      <td>Dev Board</td>\n",
       "      <td>Fusion Advanced Development Kit</td>\n",
       "      <td>RISC Computing Platform</td>\n",
       "      <td>Smartfusion Customizable Systemonchip Microcontroller Subsystem</td>\n",
       "      <td>IMX XLite Pico ITX SBC</td>\n",
       "    </tr>\n",
       "    <tr>\n",
       "      <td>Zebra Single Board Computer</td>\n",
       "      <td>IMX XLite Pico ITX SBC</td>\n",
       "      <td>OMAP Evaluation Platform</td>\n",
       "      <td>IMX XLite Pico ITX SBC</td>\n",
       "      <td>Zebra Single Board Computer</td>\n",
       "    </tr>\n",
       "    <tr>\n",
       "      <td>Swordtail</td>\n",
       "      <td>Embedded Vision Portfolio</td>\n",
       "      <td>Fusion Advanced Development Kit</td>\n",
       "      <td>Swordtail</td>\n",
       "      <td>RISC Computing Platform</td>\n",
       "    </tr>\n",
       "    <tr>\n",
       "      <td>MYCJD CPU Module</td>\n",
       "      <td>Swordtail</td>\n",
       "      <td>IMX XLite Pico ITX SBC</td>\n",
       "      <td>Zebra Single Board Computer</td>\n",
       "      <td>Digi ConnectCore SBC</td>\n",
       "    </tr>\n",
       "    <tr>\n",
       "      <td>RZ G1C Single Board Computer</td>\n",
       "      <td>ITXPC Single Board Computer</td>\n",
       "      <td>Zebra Single Board Computer</td>\n",
       "      <td>MYCJD CPU Module</td>\n",
       "      <td>Swordtail</td>\n",
       "    </tr>\n",
       "    <tr>\n",
       "      <td>Beaglebone Green</td>\n",
       "      <td>Baycat Pcplus Single Board Computer</td>\n",
       "      <td>Digi ConnectCore SBC</td>\n",
       "      <td>Puzzlem</td>\n",
       "      <td>Baycat Pcplus Single Board Computer</td>\n",
       "    </tr>\n",
       "  </tbody>\n",
       "</table>"
      ],
      "text/plain": [
       "<IPython.core.display.HTML object>"
      ]
     },
     "metadata": {},
     "output_type": "display_data"
    },
    {
     "name": "stdout",
     "output_type": "stream",
     "text": [
      "\n",
      "================================================================================\n",
      "\n"
     ]
    }
   ],
   "source": [
    "# Display results\n",
    "def display_test_results(test_results: List[Dict[str, Any]]):\n",
    "    for result in test_results:\n",
    "        print(f\"Test Case: {result['name']}\")\n",
    "        print(f\"Consistency: {result['consistency']:.2f}%\")\n",
    "        print(f\"Order Consistency: {result['order_consistency']:.2f}%\")\n",
    "\n",
    "        df = pd.DataFrame(result[\"results\"]).T\n",
    "        df.columns = [f\"Query {i+1}\" for i in range(len(df.columns))]\n",
    "        display(HTML(df.to_html(index=False)))\n",
    "        print(\"\\n\" + \"=\" * 80 + \"\\n\")\n",
    "\n",
    "\n",
    "display_test_results(test_results)\n"
   ]
  },
  {
   "cell_type": "code",
   "execution_count": 5,
   "metadata": {},
   "outputs": [
    {
     "data": {
      "image/png": "[encoded data removed]",
      "text/plain": [
       "<Figure size 1200x600 with 1 Axes>"
      ]
     },
     "metadata": {},
     "output_type": "display_data"
    },
    {
     "name": "stdout",
     "output_type": "stream",
     "text": [
      "Overall Product Consistency: 68.88%\n",
      "Overall Order Consistency: 44.01%\n"
     ]
    }
   ],
   "source": [
    "# Visualizations\n",
    "def visualize_consistency(test_results: List[Dict[str, Any]]):\n",
    "    names = [result[\"name\"] for result in test_results]\n",
    "    consistencies = [result[\"consistency\"] for result in test_results]\n",
    "    order_consistencies = [result[\"order_consistency\"] for result in test_results]\n",
    "\n",
    "    x = range(len(names))\n",
    "    width = 0.35\n",
    "\n",
    "    fig, ax = plt.subplots(figsize=(12, 6))\n",
    "    ax.bar(x, consistencies, width, label=\"Product Consistency\")\n",
    "    ax.bar([i + width for i in x], order_consistencies, width, label=\"Order Consistency\")\n",
    "\n",
    "    ax.set_ylabel(\"Consistency (%)\")\n",
    "    ax.set_title(\"Product and Order Consistency by Test Case\")\n",
    "    ax.set_xticks([i + width / 2 for i in x])\n",
    "    ax.set_xticklabels(names)\n",
    "    ax.legend()\n",
    "\n",
    "    plt.tight_layout()\n",
    "    plt.show()\n",
    "\n",
    "\n",
    "visualize_consistency(test_results)\n",
    "\n",
    "# Calculate overall consistency\n",
    "overall_consistency = sum(result[\"consistency\"] for result in test_results) / len(test_results)\n",
    "overall_order_consistency = sum(result[\"order_consistency\"] for result in test_results) / len(test_results)\n",
    "\n",
    "print(f\"Overall Product Consistency: {overall_consistency:.2f}%\")\n",
    "print(f\"Overall Order Consistency: {overall_order_consistency:.2f}%\")"
   ]
  }
 ],
 "metadata": {
  "kernelspec": {
   "display_name": ".venv",
   "language": "python",
   "name": "python3"
  },
  "language_info": {
   "codemirror_mode": {
    "name": "ipython",
    "version": 3
   },
   "file_extension": ".py",
   "mimetype": "text/x-python",
   "name": "python",
   "nbconvert_exporter": "python",
   "pygments_lexer": "ipython3",
   "version": "3.10.13"
  }
 },
 "nbformat": 4,
 "nbformat_minor": 2
}
