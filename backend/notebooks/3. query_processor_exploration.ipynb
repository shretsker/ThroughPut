{
 "cells": [
  {
   "cell_type": "markdown",
   "metadata": {},
   "source": [
    "# QueryProcessor Exploration: No chat history, gpt-4o"
   ]
  },
  {
   "cell_type": "code",
   "execution_count": 1,
   "metadata": {},
   "outputs": [
    {
     "name": "stderr",
     "output_type": "stream",
     "text": [
      "INFO:httpx:HTTP Request: GET http://localhost:8080/v1/schema \"HTTP/1.1 200 OK\"\n",
      "INFO:httpx:HTTP Request: GET http://localhost:8080/v1/schema \"HTTP/1.1 200 OK\"\n",
      "INFO:httpx:HTTP Request: GET http://localhost:8080/v1/schema \"HTTP/1.1 200 OK\"\n",
      "INFO:httpx:HTTP Request: GET http://localhost:8080/v1/schema \"HTTP/1.1 200 OK\"\n",
      "INFO:httpx:HTTP Request: POST http://localhost:8080/v1/graphql \"HTTP/1.1 200 OK\"\n",
      "INFO:httpx:HTTP Request: POST http://localhost:8080/v1/graphql \"HTTP/1.1 200 OK\"\n",
      "INFO:root: Weaviate schema is valid: True\n",
      "INFO:root: Weaviate schema info: Weaviate Schema Information\n",
      "\n",
      "Class: Product (Entries: 1479)\n",
      "Properties:\n",
      "  - Name: name, Type: text, Description: The name of the product.\n",
      "  - Name: size, Type: text, Description: The size of the product.\n",
      "  - Name: form, Type: text, Description: The form of the product.\n",
      "  - Name: processor, Type: text, Description: The processor of the product.\n",
      "  - Name: core, Type: text, Description: The core of the product.\n",
      "  - Name: frequency, Type: text, Description: The frequency of the product.\n",
      "  - Name: memory, Type: text, Description: The memory of the product.\n",
      "  - Name: voltage, Type: text, Description: The voltage of the product.\n",
      "  - Name: io, Type: text, Description: The io of the product.\n",
      "  - Name: thermal, Type: text, Description: The thermal of the product.\n",
      "  - Name: feature, Type: text, Description: The feature of the product.\n",
      "  - Name: type, Type: text, Description: The type of the product.\n",
      "  - Name: specification, Type: text, Description: The specification of the product.\n",
      "  - Name: manufacturer, Type: text, Description: The manufacturer of the product.\n",
      "  - Name: location, Type: text, Description: The location related to the product.\n",
      "  - Name: description, Type: text, Description: The description of the product.\n",
      "  - Name: summary, Type: text, Description: The summary of the product.\n",
      "  Vectorizer: text2vec-openai\n",
      "\n",
      "Class: Route (Entries: 401)\n",
      "Properties:\n",
      "  - Name: prompt, Type: text, Description: example prompts for a given route\n",
      "  - Name: route, Type: text, Description: The route to follow\n",
      "  Vectorizer: text2vec-openai\n",
      "\n",
      "\n"
     ]
    },
    {
     "name": "stdout",
     "output_type": "stream",
     "text": [
      "===:> Initializing Weaviate\n"
     ]
    }
   ],
   "source": [
    "import os\n",
    "import sys\n",
    "\n",
    "# Add the project root to the Python path\n",
    "project_root = os.path.abspath(os.path.join(os.getcwd(), '..'))\n",
    "sys.path.append(project_root)\n",
    "\n",
    "import asyncio\n",
    "from typing import Dict, List\n",
    "from models.message import Message\n",
    "from models.product import Product\n",
    "from services.weaviate_service import WeaviateService\n",
    "from services.openai_service import OpenAIService\n",
    "from services.query_processor import QueryProcessor\n",
    "from config import Config\n",
    "\n",
    "# Load configuration\n",
    "config = Config()\n",
    "\n",
    "# Initialize services\n",
    "weaviate_service = WeaviateService()\n",
    "await weaviate_service.initialize_weaviate(\n",
    "        config.OPENAI_API_KEY, config.WEAVIATE_URL, config.RESET_WEAVIATE\n",
    "    )\n",
    "\n",
    "openai_service = OpenAIService(config.OPENAI_API_KEY, config)\n",
    "query_processor = QueryProcessor(openai_service=openai_service)"
   ]
  },
  {
   "cell_type": "markdown",
   "metadata": {},
   "source": [
    "### Helper functions"
   ]
  },
  {
   "cell_type": "code",
   "execution_count": 6,
   "metadata": {},
   "outputs": [],
   "source": [
    "async def display_search_results(query: str, features: List[str], limit: int = 5):\n",
    "    print(f\"Searching for: {query}\")\n",
    "    results = await weaviate_service.search_products(query, limit=limit)\n",
    "    print(\"-\" * 80)\n",
    "    for result in results:\n",
    "        for feature in features:\n",
    "            print(f\"{str(feature).capitalize()}: {result[feature]}\")\n",
    "    print(\"-\" * 80)\n",
    "    return results"
   ]
  },
  {
   "cell_type": "code",
   "execution_count": 3,
   "metadata": {},
   "outputs": [],
   "source": [
    "def get_unique_products(products):\n",
    "    unique_products = {}\n",
    "    for prod in products:\n",
    "        if prod[\"name\"] not in unique_products:\n",
    "            unique_products[prod[\"name\"]] = Product(\n",
    "                name=prod[\"name\"],\n",
    "                summary=prod[\"summary\"],\n",
    "                form=prod.get(\"form\"),\n",
    "                io=prod.get(\"io\"),\n",
    "                manufacturer=prod.get(\"manufacturer\"),\n",
    "                memory=prod.get(\"memory\"),\n",
    "                processor=prod.get(\"processor\"),\n",
    "                size=prod.get(\"size\"),\n",
    "            )\n",
    "    return list(unique_products.values())"
   ]
  },
  {
   "cell_type": "code",
   "execution_count": 46,
   "metadata": {},
   "outputs": [],
   "source": [
    "def compare_products(extended_products: List[str], original_products: List[str]) -> None:\n",
    "    \"\"\"Compares products retrieved from original and expanded queries.\"\"\"\n",
    "    max_length = max(len(extended_products), len(original_products))\n",
    "\n",
    "    print(f\"{'Original Products':<80}{'Extended Products':<80}\")\n",
    "    print(\"-\" * 160)\n",
    "\n",
    "    for i in range(max_length):\n",
    "        original_product = original_products[i] if i < len(original_products) else \"\"\n",
    "        extended_product = extended_products[i] if i < len(extended_products) else \"\"\n",
    "\n",
    "        print(f\"{original_product:<80}{extended_product:<80}\")"
   ]
  },
  {
   "cell_type": "markdown",
   "metadata": {},
   "source": [
    "### Prompt 1\n"
   ]
  },
  {
   "cell_type": "code",
   "execution_count": 10,
   "metadata": {},
   "outputs": [],
   "source": [
    "clear_intent_1 = \"What are the top Computer on Modules available with high memory and I/O count?\"\n",
    "chat_history = []"
   ]
  },
  {
   "cell_type": "markdown",
   "metadata": {},
   "source": [
    "#### Original prompt search results"
   ]
  },
  {
   "cell_type": "code",
   "execution_count": 11,
   "metadata": {},
   "outputs": [
    {
     "name": "stdout",
     "output_type": "stream",
     "text": [
      "Searching for: What are the top Computer on Modules available with high memory and I/O count?\n"
     ]
    },
    {
     "name": "stderr",
     "output_type": "stream",
     "text": [
      "INFO:httpx:HTTP Request: POST http://localhost:8080/v1/graphql \"HTTP/1.1 200 OK\"\n"
     ]
    },
    {
     "name": "stdout",
     "output_type": "stream",
     "text": [
      "--------------------------------------------------------------------------------\n",
      "Name: Computer On Modules\n",
      "Name: Not available\n",
      "Name: Computer On Modules\n",
      "Name: ET COM Express\n",
      "Name: TX Computer On Module\n",
      "Name: Computer On Modules\n",
      "Name: SOM-5899\n",
      "Name: Computer On Modules\n",
      "Name: COMebBD Module\n",
      "Name: SOM Intel Xeon Processor D COM Express R Type Module\n",
      "--------------------------------------------------------------------------------\n"
     ]
    }
   ],
   "source": [
    "original_products = await display_search_results(clear_intent_1, [\"name\"], 10)"
   ]
  },
  {
   "cell_type": "code",
   "execution_count": 12,
   "metadata": {},
   "outputs": [
    {
     "data": {
      "text/plain": [
       "{'form': 'COMExpress Basic Module',\n",
       " 'io': 'PCIe x16, PCIe x1, SATAIII, USB 2.0, USB 3.0, GbE, VGA, LVDS, DVI, HDMI, DisplayPort',\n",
       " 'manufacturer': 'Advantech',\n",
       " 'memory': 'Dual Channel DDR3L SODIMM sockets, up to 16GB',\n",
       " 'name': 'Computer On Modules',\n",
       " 'processor': 'Intel Core i7/i5/i3/Celeron',\n",
       " 'size': '125 x 95 mm',\n",
       " 'summary': 'A COMExpress Basic Module with Intel Core i7/i5/i3/Celeron processors, dual channel DDR3L memory support, and extensive I/O options.'}"
      ]
     },
     "execution_count": 12,
     "metadata": {},
     "output_type": "execute_result"
    }
   ],
   "source": [
    "original_products[0]"
   ]
  },
  {
   "cell_type": "code",
   "execution_count": 13,
   "metadata": {},
   "outputs": [
    {
     "data": {
      "text/plain": [
       "[Product(name='Computer On Modules', summary='A COMExpress Basic Module with Intel Core i7/i5/i3/Celeron processors, dual channel DDR3L memory support, and extensive I/O options.', form='COMExpress Basic Module', io='PCIe x16, PCIe x1, SATAIII, USB 2.0, USB 3.0, GbE, VGA, LVDS, DVI, HDMI, DisplayPort', manufacturer='Advantech', memory='Dual Channel DDR3L SODIMM sockets, up to 16GB', processor='Intel Core i7/i5/i3/Celeron', size='125 x 95 mm'),\n",
       " Product(name='Not available', summary='High-performance COM Express Basic Module with Intel Xeon D processors, extensive I/O, and robust thermal management.', form='COM Express Basic Module', io='4 x SATA Ports (6 Gbps), 8 x USB Ports (4 x USB 3.0, 4 x USB 2.0), 1 x LPC, 1 x SPI Bus, 1 x GPIO (8-bit), 1 x Watchdog Timer, 2 x COM Ports, 2 x Ethernet (10GBASE-KR, 1GBASE-T), 32 x PCIe Gen3 lanes', manufacturer='Advantech', memory='DDR4, Max Capacity: 128 GB, Socket: 2 x 260P SODIMM, Dual Channel, ECC/Non-ECC', processor='Intel Xeon D (Ice Lake-D)', size='95 mm x 125 mm'),\n",
       " Product(name='ET COM Express', summary='High-performance COM Express Type 6 modules with 8th Generation Intel Xeon E & Core i3/i5/i7 processors, extensive I/O, and display support.', form='COM Express Type 6', io='4 x USB 3.1, 8 x USB 2.0, 4 x COM, 4 x SATA III, 2 x PCIe x4, 1 x PCIe x16, 2 x GbE LAN', manufacturer='IBASE', memory='2 x DDR4 SODIMM, Max 32GB', processor='8th Generation Intel Xeon E & Core i3/i5/i7', size='95 mm x 125 mm'),\n",
       " Product(name='TX Computer On Module', summary='A compact and cost-effective Computer On Module with NXP i.MX processor, designed for embedded applications with high CPU performance and multiple I/O interfaces.', form='SODIMM', io='Two 10/100 Mbps Ethernet ports, Two High-Speed USB ports, True color LCD controller, Two CAN interfaces, UART, SDCARD, I2C, PWM, Serial Audio, SPI', manufacturer='KaRo electronics GmbH', memory='64 MB DDR SDRAM', processor='NXP i.MX', size='67.6 mm x 26.4 mm x 4.2 mm'),\n",
       " Product(name='SOM-5899', summary='COM Express Basic Module Type 6 with 6th Gen Intel Core/Celeron Processors, supporting up to 32GB DDR4 memory, flexible I/O, and multiple display options.', form='COM Express Basic Module Type 6', io='SATAIII, USB 3.0, PCIe x16, PCIe x1, Intel HD Audio, LPC, SMBus, I2C, GPIO, COM Ports, Express Card Ports', manufacturer='Advantech', memory='Dual channel DDR4, Max 32GB, ECC optional', processor='Intel 6th Gen Core i7/i5/i3/Celeron', size='125 x 95 mm'),\n",
       " Product(name='COMebBD Module', summary='The COMebBD Module is a high-performance Computer on Module featuring Intel Xeon processors, supporting up to 32GB DDR4 ECC memory, and offering extensive I/O options including USB, PCIe, SATA, and GbE.', form='COM Express BASIC TYPE', io='4x USB 3.0, 4x USB 2.0, 4x PCIe Gen3, 4x PCIe Gen2, 2x SATA, 2x GbE', manufacturer='Kontron', memory='DDR4, up to 32GB ECC SODIMMs', processor='Intel Xeon Processor Dxx family', size='125mm x 95mm'),\n",
       " Product(name='SOM Intel Xeon Processor D COM Express R Type Module', summary='High-performance COM Express module with Intel Xeon D processors, dual-channel DDR4 memory, and extensive I/O options.', form='COM Express Basic Module', io='PCIe x16, PCIe x8, PCIe x4, PCIe x1, SATA III, USB 3.0, USB 2.0, SPI Bus, GPIO, COM Port, Ethernet: 10GBase-KR, 1GBase-T', manufacturer='Advantech', memory='Dual Channel DDR4 2133 MHz, ECC/non-ECC, Max Capacity: 128 GB, Socket: 4 x 260-pin SODIMM', processor='Intel Xeon Processor D', size='125 x 95 mm')]"
      ]
     },
     "execution_count": 13,
     "metadata": {},
     "output_type": "execute_result"
    }
   ],
   "source": [
    "unique_original_products = get_unique_products(original_products)\n",
    "unique_original_products"
   ]
  },
  {
   "cell_type": "markdown",
   "metadata": {},
   "source": [
    "#### Extract product attributes"
   ]
  },
  {
   "cell_type": "code",
   "execution_count": 14,
   "metadata": {},
   "outputs": [
    {
     "name": "stderr",
     "output_type": "stream",
     "text": [
      "INFO:services.openai_service:===> Using model: gpt-4o\n",
      "INFO:services.openai_service:Input token count: 76\n",
      "INFO:httpx:HTTP Request: POST https://api.openai.com/v1/chat/completions \"HTTP/1.1 200 OK\"\n",
      "INFO:services.openai_service:Output token count: 28\n"
     ]
    },
    {
     "name": "stdout",
     "output_type": "stream",
     "text": [
      "Input tokens: 76, Output tokens: 28\n"
     ]
    },
    {
     "data": {
      "text/plain": [
       "{'category': 'Computer on Modules', 'features': ['high memory', 'I/O count']}"
      ]
     },
     "execution_count": 14,
     "metadata": {},
     "output_type": "execute_result"
    }
   ],
   "source": [
    "res, input_tokens, output_tokens = await query_processor.extract_product_attributes(clear_intent_1)\n",
    "print(f\"Input tokens: {input_tokens}, Output tokens: {output_tokens}\")\n",
    "res"
   ]
  },
  {
   "cell_type": "markdown",
   "metadata": {},
   "source": [
    "#### Generate faceted search parameters"
   ]
  },
  {
   "cell_type": "code",
   "execution_count": 15,
   "metadata": {},
   "outputs": [
    {
     "name": "stderr",
     "output_type": "stream",
     "text": [
      "INFO:services.openai_service:===> Using model: gpt-4o\n",
      "INFO:services.openai_service:Input token count: 76\n",
      "INFO:httpx:HTTP Request: POST https://api.openai.com/v1/chat/completions \"HTTP/1.1 200 OK\"\n",
      "INFO:services.openai_service:Output token count: 20\n"
     ]
    },
    {
     "name": "stdout",
     "output_type": "stream",
     "text": [
      "Input tokens: 76, Output tokens: 20\n"
     ]
    },
    {
     "data": {
      "text/plain": [
       "{'memory': ['high'], 'io': ['high']}"
      ]
     },
     "execution_count": 15,
     "metadata": {},
     "output_type": "execute_result"
    }
   ],
   "source": [
    "res, input_tokens, output_tokens = await query_processor.generate_faceted_search_params(\n",
    "    clear_intent_1, [\"name\", \"form\", \"memory\", \"io\", \"processor\"]\n",
    ")\n",
    "print(f\"Input tokens: {input_tokens}, Output tokens: {output_tokens}\")\n",
    "res"
   ]
  },
  {
   "cell_type": "markdown",
   "metadata": {},
   "source": [
    "#### Product reranking"
   ]
  },
  {
   "cell_type": "code",
   "execution_count": 16,
   "metadata": {},
   "outputs": [
    {
     "name": "stderr",
     "output_type": "stream",
     "text": [
      "INFO:services.openai_service:===> Using model: gpt-4o\n",
      "INFO:services.openai_service:Input token count: 1373\n",
      "INFO:httpx:HTTP Request: POST https://api.openai.com/v1/chat/completions \"HTTP/1.1 200 OK\"\n",
      "INFO:services.openai_service:Output token count: 186\n"
     ]
    },
    {
     "name": "stdout",
     "output_type": "stream",
     "text": [
      "rerank_products response from OpenAI: [{'name': 'SOM Intel Xeon Processor D COM Express R Type Module', 'relevance_score': 0.95}, {'name': 'Not available', 'relevance_score': 0.93}, {'name': 'ET COM Express', 'relevance_score': 0.9}, {'name': 'SOM-5899', 'relevance_score': 0.88}, {'name': 'COMebBD Module', 'relevance_score': 0.87}, {'name': 'Computer On Modules', 'relevance_score': 0.85}, {'name': 'TX Computer On Module', 'relevance_score': 0.6}]\n",
      "Input tokens: 1373, Output tokens: 186\n"
     ]
    },
    {
     "data": {
      "text/plain": [
       "['SOM Intel Xeon Processor D COM Express R Type Module',\n",
       " 'Not available',\n",
       " 'ET COM Express',\n",
       " 'SOM-5899',\n",
       " 'COMebBD Module',\n",
       " 'Computer On Modules',\n",
       " 'TX Computer On Module']"
      ]
     },
     "execution_count": 16,
     "metadata": {},
     "output_type": "execute_result"
    }
   ],
   "source": [
    "products_for_reranking = [{  \"name\": p.name,   \"summary\": p.summary,  \"form\": p.form,  \"io\": p.io,  \"manufacturer\": p.manufacturer,   \"memory\": p.memory,  \"processor\": p.processor,  \"size\": p.size  } for p in unique_original_products]\n",
    "res, input_tokens, output_tokens = await query_processor.rerank_products(clear_intent_1, products_for_reranking, top_k=10)\n",
    "print(f\"Input tokens: {input_tokens}, Output tokens: {output_tokens}\")\n",
    "res"
   ]
  },
  {
   "cell_type": "code",
   "execution_count": 17,
   "metadata": {},
   "outputs": [
    {
     "name": "stderr",
     "output_type": "stream",
     "text": [
      "INFO:services.openai_service:===> Using model: gpt-4o\n",
      "INFO:services.openai_service:Input token count: 475\n",
      "INFO:httpx:HTTP Request: POST https://api.openai.com/v1/chat/completions \"HTTP/1.1 200 OK\"\n",
      "INFO:services.openai_service:Output token count: 186\n"
     ]
    },
    {
     "name": "stdout",
     "output_type": "stream",
     "text": [
      "rerank_products response from OpenAI: [{'name': 'COMebBD Module', 'relevance_score': 0.95}, {'name': 'ET COM Express', 'relevance_score': 0.92}, {'name': 'SOM-5899', 'relevance_score': 0.9}, {'name': 'Computer On Modules', 'relevance_score': 0.88}, {'name': 'SOM Intel Xeon Processor D COM Express R Type Module', 'relevance_score': 0.87}, {'name': 'TX Computer On Module', 'relevance_score': 0.75}, {'name': 'Not available', 'relevance_score': 0.7}]\n",
      "Input tokens: 475, Output tokens: 186\n"
     ]
    },
    {
     "data": {
      "text/plain": [
       "['COMebBD Module',\n",
       " 'ET COM Express',\n",
       " 'SOM-5899',\n",
       " 'Computer On Modules',\n",
       " 'SOM Intel Xeon Processor D COM Express R Type Module',\n",
       " 'TX Computer On Module',\n",
       " 'Not available']"
      ]
     },
     "execution_count": 17,
     "metadata": {},
     "output_type": "execute_result"
    }
   ],
   "source": [
    "products_for_reranking = [{\"name\": p.name, \"summary\": p.summary} for p in unique_original_products]\n",
    "res, input_tokens, output_tokens = await query_processor.rerank_products(clear_intent_1, products_for_reranking, top_k=10)\n",
    "print(f\"Input tokens: {input_tokens}, Output tokens: {output_tokens}\")\n",
    "res"
   ]
  },
  {
   "cell_type": "code",
   "execution_count": 18,
   "metadata": {},
   "outputs": [
    {
     "name": "stderr",
     "output_type": "stream",
     "text": [
      "INFO:services.openai_service:===> Using model: gpt-4o\n",
      "INFO:services.openai_service:Input token count: 773\n",
      "INFO:httpx:HTTP Request: POST https://api.openai.com/v1/chat/completions \"HTTP/1.1 200 OK\"\n",
      "INFO:services.openai_service:Output token count: 186\n"
     ]
    },
    {
     "name": "stdout",
     "output_type": "stream",
     "text": [
      "rerank_products response from OpenAI: [{'name': 'SOM Intel Xeon Processor D COM Express R Type Module', 'relevance_score': 0.95}, {'name': 'Not available', 'relevance_score': 0.9}, {'name': 'ET COM Express', 'relevance_score': 0.85}, {'name': 'SOM-5899', 'relevance_score': 0.8}, {'name': 'COMebBD Module', 'relevance_score': 0.75}, {'name': 'Computer On Modules', 'relevance_score': 0.7}, {'name': 'TX Computer On Module', 'relevance_score': 0.5}]\n",
      "Input tokens: 773, Output tokens: 186\n"
     ]
    },
    {
     "data": {
      "text/plain": [
       "['SOM Intel Xeon Processor D COM Express R Type Module',\n",
       " 'Not available',\n",
       " 'ET COM Express',\n",
       " 'SOM-5899',\n",
       " 'COMebBD Module',\n",
       " 'Computer On Modules',\n",
       " 'TX Computer On Module']"
      ]
     },
     "execution_count": 18,
     "metadata": {},
     "output_type": "execute_result"
    }
   ],
   "source": [
    "products_for_reranking = [{\"name\": p.name, \"memory\": p.memory, \"io\": p.io} for p in unique_original_products]\n",
    "res, input_tokens, output_tokens = await query_processor.rerank_products(\n",
    "    clear_intent_1, products_for_reranking, top_k=10\n",
    ")\n",
    "print(f\"Input tokens: {input_tokens}, Output tokens: {output_tokens}\")\n",
    "res"
   ]
  },
  {
   "cell_type": "code",
   "execution_count": 19,
   "metadata": {},
   "outputs": [],
   "source": [
    "reranked_original_products = res"
   ]
  },
  {
   "cell_type": "code",
   "execution_count": 20,
   "metadata": {},
   "outputs": [
    {
     "name": "stderr",
     "output_type": "stream",
     "text": [
      "INFO:services.openai_service:===> Using model: gpt-4o\n",
      "INFO:services.openai_service:Input token count: 210\n",
      "INFO:httpx:HTTP Request: POST https://api.openai.com/v1/chat/completions \"HTTP/1.1 200 OK\"\n",
      "INFO:services.openai_service:Output token count: 163\n"
     ]
    },
    {
     "name": "stdout",
     "output_type": "stream",
     "text": [
      "rerank_products response from OpenAI: [{'name': 'SOM Intel Xeon Processor D COM Express R Type Module', 'relevance_score': 0.95}, {'name': 'SOM-5899', 'relevance_score': 0.9}, {'name': 'TX Computer On Module', 'relevance_score': 0.85}, {'name': 'ET COM Express', 'relevance_score': 0.8}, {'name': 'COMebBD Module', 'relevance_score': 0.75}, {'name': 'Computer On Modules', 'relevance_score': 0.7}]\n",
      "Input tokens: 210, Output tokens: 163\n"
     ]
    },
    {
     "data": {
      "text/plain": [
       "['SOM Intel Xeon Processor D COM Express R Type Module',\n",
       " 'SOM-5899',\n",
       " 'TX Computer On Module',\n",
       " 'ET COM Express',\n",
       " 'COMebBD Module',\n",
       " 'Computer On Modules']"
      ]
     },
     "execution_count": 20,
     "metadata": {},
     "output_type": "execute_result"
    }
   ],
   "source": [
    "products_for_reranking = [{\"name\": p.name} for p in unique_original_products]\n",
    "res, input_tokens, output_tokens = await query_processor.rerank_products(\n",
    "    clear_intent_1, products_for_reranking, top_k=10\n",
    ")\n",
    "print(f\"Input tokens: {input_tokens}, Output tokens: {output_tokens}\")\n",
    "res"
   ]
  },
  {
   "cell_type": "markdown",
   "metadata": {},
   "source": [
    "We get a better product runking when we use in the raking featurs mensioned in generate_faceted_search_params, and extract_product_attributes."
   ]
  },
  {
   "cell_type": "markdown",
   "metadata": {},
   "source": [
    "#### Query expansion"
   ]
  },
  {
   "cell_type": "code",
   "execution_count": 21,
   "metadata": {},
   "outputs": [
    {
     "name": "stderr",
     "output_type": "stream",
     "text": [
      "INFO:services.openai_service:===> Using model: gpt-4o\n",
      "INFO:services.openai_service:Input token count: 90\n",
      "INFO:httpx:HTTP Request: POST https://api.openai.com/v1/chat/completions \"HTTP/1.1 200 OK\"\n",
      "INFO:services.openai_service:Output token count: 95\n"
     ]
    },
    {
     "name": "stdout",
     "output_type": "stream",
     "text": [
      "Input tokens: 90, Output tokens: 95\n"
     ]
    },
    {
     "data": {
      "text/plain": [
       "['What are the top Computer on Modules available with high memory capacity and extensive I/O count?',\n",
       " 'What are the best Computer on Modules with high memory and a large number of I/O ports?',\n",
       " 'Which Computer on Modules have the highest memory and the most I/O interfaces?',\n",
       " 'Top-rated Computer on Modules with maximum memory and high I/O connectivity',\n",
       " 'Best Computer on Modules featuring high memory and numerous I/O options']"
      ]
     },
     "execution_count": 21,
     "metadata": {},
     "output_type": "execute_result"
    }
   ],
   "source": [
    "res, input_tokens, output_tokens = await query_processor.expand_query(clear_intent_1, [], 5)\n",
    "print(f'Input tokens: {input_tokens}, Output tokens: {output_tokens}')\n",
    "res"
   ]
  },
  {
   "cell_type": "code",
   "execution_count": 19,
   "metadata": {},
   "outputs": [
    {
     "name": "stderr",
     "output_type": "stream",
     "text": [
      "INFO:services.openai_service:===> Using model: gpt-4o\n",
      "INFO:services.openai_service:Input token count: 90\n",
      "INFO:httpx:HTTP Request: POST https://api.openai.com/v1/chat/completions \"HTTP/1.1 200 OK\"\n",
      "INFO:services.openai_service:Output token count: 95\n"
     ]
    },
    {
     "name": "stdout",
     "output_type": "stream",
     "text": [
      "Input tokens: 90, Output tokens: 95\n"
     ]
    },
    {
     "data": {
      "text/plain": [
       "['What are the top Computer on Modules available with high memory capacity and extensive I/O count?',\n",
       " 'What are the best Computer on Modules with large memory and numerous I/O ports?',\n",
       " 'Which Computer on Modules have the highest memory and the most I/O interfaces?',\n",
       " 'Top-rated Computer on Modules with maximum memory and high I/O connectivity',\n",
       " 'Best Computer on Modules featuring high memory and a large number of I/O options']"
      ]
     },
     "execution_count": 19,
     "metadata": {},
     "output_type": "execute_result"
    }
   ],
   "source": [
    "res, input_tokens, output_tokens = await query_processor.expand_query(clear_intent_1, [], 5)\n",
    "print(f\"Input tokens: {input_tokens}, Output tokens: {output_tokens}\")\n",
    "res"
   ]
  },
  {
   "cell_type": "code",
   "execution_count": 20,
   "metadata": {},
   "outputs": [
    {
     "name": "stderr",
     "output_type": "stream",
     "text": [
      "INFO:services.openai_service:===> Using model: gpt-4o\n",
      "INFO:services.openai_service:Input token count: 90\n",
      "INFO:httpx:HTTP Request: POST https://api.openai.com/v1/chat/completions \"HTTP/1.1 200 OK\"\n",
      "INFO:services.openai_service:Output token count: 87\n"
     ]
    },
    {
     "name": "stdout",
     "output_type": "stream",
     "text": [
      "Input tokens: 90, Output tokens: 87\n"
     ]
    },
    {
     "data": {
      "text/plain": [
       "['Top Computer on Modules with high memory and high I/O count',\n",
       " 'Best Computer on Modules with large memory capacity and extensive I/O ports',\n",
       " 'High-performance Computer on Modules featuring substantial memory and numerous I/O interfaces',\n",
       " 'Leading Computer on Modules with high RAM and multiple input/output options',\n",
       " 'Top-rated Computer on Modules with significant memory and a high number of I/O connections']"
      ]
     },
     "execution_count": 20,
     "metadata": {},
     "output_type": "execute_result"
    }
   ],
   "source": [
    "res, input_tokens, output_tokens = await query_processor.expand_query(clear_intent_1, [], 5, temperature=.7)\n",
    "print(f\"Input tokens: {input_tokens}, Output tokens: {output_tokens}\")\n",
    "res"
   ]
  },
  {
   "cell_type": "code",
   "execution_count": 11,
   "metadata": {},
   "outputs": [
    {
     "name": "stderr",
     "output_type": "stream",
     "text": [
      "INFO:services.openai_service:===> Using model: gpt-4o\n",
      "INFO:services.openai_service:Input token count: 90\n",
      "INFO:httpx:HTTP Request: POST https://api.openai.com/v1/chat/completions \"HTTP/1.1 200 OK\"\n",
      "INFO:services.openai_service:Output token count: 87\n"
     ]
    },
    {
     "name": "stdout",
     "output_type": "stream",
     "text": [
      "Input tokens: 90, Output tokens: 87\n"
     ]
    },
    {
     "data": {
      "text/plain": [
       "['Best Computer on Modules with high memory capacity and extensive I/O interfaces',\n",
       " 'Top-rated Computer on Modules featuring large memory and numerous I/O ports',\n",
       " 'High-performance Computer on Modules with substantial memory and multiple I/O options',\n",
       " 'Leading Computer on Modules with high RAM and a wide range of I/O connectivity',\n",
       " 'Computer on Modules with superior memory specifications and extensive I/O capabilities']"
      ]
     },
     "execution_count": 11,
     "metadata": {},
     "output_type": "execute_result"
    }
   ],
   "source": [
    "res, input_tokens, output_tokens = await query_processor.expand_query(clear_intent_1, [], 5, temperature=0.7)\n",
    "print(f\"Input tokens: {input_tokens}, Output tokens: {output_tokens}\")\n",
    "res"
   ]
  },
  {
   "cell_type": "code",
   "execution_count": 21,
   "metadata": {},
   "outputs": [
    {
     "name": "stderr",
     "output_type": "stream",
     "text": [
      "INFO:services.openai_service:===> Using model: gpt-4o\n",
      "INFO:services.openai_service:Input token count: 90\n",
      "INFO:httpx:HTTP Request: POST https://api.openai.com/v1/chat/completions \"HTTP/1.1 200 OK\"\n",
      "INFO:services.openai_service:Output token count: 92\n"
     ]
    },
    {
     "name": "stdout",
     "output_type": "stream",
     "text": [
      "Input tokens: 90, Output tokens: 92\n"
     ]
    },
    {
     "data": {
      "text/plain": [
       "['What are the top Computer on Modules available with high memory capacity and extensive I/O count?',\n",
       " 'What are the best Computer on Modules with large memory and numerous I/O ports?',\n",
       " 'Which Computer on Modules have the highest memory and the most I/O interfaces?',\n",
       " 'Top-rated Computer on Modules with maximum memory and high I/O connectivity',\n",
       " 'Best Computer on Modules featuring high memory and extensive input/output options']"
      ]
     },
     "execution_count": 21,
     "metadata": {},
     "output_type": "execute_result"
    }
   ],
   "source": [
    "res, input_tokens, output_tokens = await query_processor.expand_query(clear_intent_1, [], 5)\n",
    "print(f\"Input tokens: {input_tokens}, Output tokens: {output_tokens}\")\n",
    "res"
   ]
  },
  {
   "cell_type": "markdown",
   "metadata": {},
   "source": [
    "As we can see above the expanded queries variability decreases with the decrease in temperature. This is because the temperature parameter controls the randomness of the output. A higher temperature will result in more randomness and a lower temperature will result in less randomness."
   ]
  },
  {
   "cell_type": "code",
   "execution_count": 22,
   "metadata": {},
   "outputs": [
    {
     "name": "stdout",
     "output_type": "stream",
     "text": [
      "Searching for: What are the top Computer on Modules available with high memory capacity and extensive I/O count?\n"
     ]
    },
    {
     "name": "stderr",
     "output_type": "stream",
     "text": [
      "INFO:httpx:HTTP Request: POST http://localhost:8080/v1/graphql \"HTTP/1.1 200 OK\"\n"
     ]
    },
    {
     "name": "stdout",
     "output_type": "stream",
     "text": [
      "--------------------------------------------------------------------------------\n",
      "Name: Computer On Modules\n",
      "Name: Not available\n",
      "Name: Computer On Modules\n",
      "Name: ET COM Express\n",
      "Name: TX Computer On Module\n",
      "--------------------------------------------------------------------------------\n",
      "Searching for: What are the best Computer on Modules with high memory and a large number of I/O ports?\n"
     ]
    },
    {
     "name": "stderr",
     "output_type": "stream",
     "text": [
      "INFO:httpx:HTTP Request: POST http://localhost:8080/v1/graphql \"HTTP/1.1 200 OK\"\n"
     ]
    },
    {
     "name": "stdout",
     "output_type": "stream",
     "text": [
      "--------------------------------------------------------------------------------\n",
      "Name: Computer On Modules\n",
      "Name: Not available\n",
      "Name: Computer On Modules\n",
      "Name: ET COM Express\n",
      "Name: TX Computer On Module\n",
      "--------------------------------------------------------------------------------\n",
      "Searching for: Which Computer on Modules have the highest memory and the most I/O interfaces?\n"
     ]
    },
    {
     "name": "stderr",
     "output_type": "stream",
     "text": [
      "INFO:httpx:HTTP Request: POST http://localhost:8080/v1/graphql \"HTTP/1.1 200 OK\"\n"
     ]
    },
    {
     "name": "stdout",
     "output_type": "stream",
     "text": [
      "--------------------------------------------------------------------------------\n",
      "Name: Computer On Modules\n",
      "Name: Computer On Modules\n",
      "Name: ET COM Express\n",
      "Name: TX Computer On Module\n",
      "Name: Computer On Modules\n",
      "--------------------------------------------------------------------------------\n",
      "Searching for: Top-rated Computer on Modules with maximum memory and high I/O connectivity\n"
     ]
    },
    {
     "name": "stderr",
     "output_type": "stream",
     "text": [
      "INFO:httpx:HTTP Request: POST http://localhost:8080/v1/graphql \"HTTP/1.1 200 OK\"\n"
     ]
    },
    {
     "name": "stdout",
     "output_type": "stream",
     "text": [
      "--------------------------------------------------------------------------------\n",
      "Name: Computer On Modules\n",
      "Name: Not available\n",
      "Name: Computer On Modules\n",
      "Name: TX Computer On Module\n",
      "Name: SOM-5899\n",
      "--------------------------------------------------------------------------------\n",
      "Searching for: Best Computer on Modules featuring high memory and numerous I/O options\n"
     ]
    },
    {
     "name": "stderr",
     "output_type": "stream",
     "text": [
      "INFO:httpx:HTTP Request: POST http://localhost:8080/v1/graphql \"HTTP/1.1 200 OK\"\n"
     ]
    },
    {
     "name": "stdout",
     "output_type": "stream",
     "text": [
      "--------------------------------------------------------------------------------\n",
      "Name: Computer On Modules\n",
      "Name: Not available\n",
      "Name: Computer On Modules\n",
      "Name: TX Computer On Module\n",
      "Name: SOM-5899\n",
      "--------------------------------------------------------------------------------\n"
     ]
    }
   ],
   "source": [
    "extended_products = []\n",
    "for query in res:\n",
    "    products = await display_search_results(query, [\"name\"])\n",
    "    extended_products.extend(products)"
   ]
  },
  {
   "cell_type": "code",
   "execution_count": 23,
   "metadata": {},
   "outputs": [
    {
     "data": {
      "text/plain": [
       "[Product(name='Computer On Modules', summary='A COMExpress Basic Module with Intel Core i7/i5/i3/Celeron processors, dual channel DDR3L memory support, and extensive I/O options.', form='COMExpress Basic Module', io='PCIe x16, PCIe x1, SATAIII, USB 2.0, USB 3.0, GbE, VGA, LVDS, DVI, HDMI, DisplayPort', manufacturer='Advantech', memory='Dual Channel DDR3L SODIMM sockets, up to 16GB', processor='Intel Core i7/i5/i3/Celeron', size='125 x 95 mm'),\n",
       " Product(name='Not available', summary='High-performance COM Express Basic Module with Intel Xeon D processors, extensive I/O, and robust thermal management.', form='COM Express Basic Module', io='4 x SATA Ports (6 Gbps), 8 x USB Ports (4 x USB 3.0, 4 x USB 2.0), 1 x LPC, 1 x SPI Bus, 1 x GPIO (8-bit), 1 x Watchdog Timer, 2 x COM Ports, 2 x Ethernet (10GBASE-KR, 1GBASE-T), 32 x PCIe Gen3 lanes', manufacturer='Advantech', memory='DDR4, Max Capacity: 128 GB, Socket: 2 x 260P SODIMM, Dual Channel, ECC/Non-ECC', processor='Intel Xeon D (Ice Lake-D)', size='95 mm x 125 mm'),\n",
       " Product(name='ET COM Express', summary='High-performance COM Express Type 6 modules with 8th Generation Intel Xeon E & Core i3/i5/i7 processors, extensive I/O, and display support.', form='COM Express Type 6', io='4 x USB 3.1, 8 x USB 2.0, 4 x COM, 4 x SATA III, 2 x PCIe x4, 1 x PCIe x16, 2 x GbE LAN', manufacturer='IBASE', memory='2 x DDR4 SODIMM, Max 32GB', processor='8th Generation Intel Xeon E & Core i3/i5/i7', size='95 mm x 125 mm'),\n",
       " Product(name='TX Computer On Module', summary='A compact and cost-effective Computer On Module with NXP i.MX processor, designed for embedded applications with high CPU performance and multiple I/O interfaces.', form='SODIMM', io='Two 10/100 Mbps Ethernet ports, Two High-Speed USB ports, True color LCD controller, Two CAN interfaces, UART, SDCARD, I2C, PWM, Serial Audio, SPI', manufacturer='KaRo electronics GmbH', memory='64 MB DDR SDRAM', processor='NXP i.MX', size='67.6 mm x 26.4 mm x 4.2 mm'),\n",
       " Product(name='SOM-5899', summary='COM Express Basic Module Type 6 with 6th Gen Intel Core/Celeron Processors, supporting up to 32GB DDR4 memory, flexible I/O, and multiple display options.', form='COM Express Basic Module Type 6', io='SATAIII, USB 3.0, PCIe x16, PCIe x1, Intel HD Audio, LPC, SMBus, I2C, GPIO, COM Ports, Express Card Ports', manufacturer='Advantech', memory='Dual channel DDR4, Max 32GB, ECC optional', processor='Intel 6th Gen Core i7/i5/i3/Celeron', size='125 x 95 mm')]"
      ]
     },
     "execution_count": 23,
     "metadata": {},
     "output_type": "execute_result"
    }
   ],
   "source": [
    "unique_extended_products = get_unique_products(extended_products)\n",
    "unique_extended_products"
   ]
  },
  {
   "cell_type": "code",
   "execution_count": 32,
   "metadata": {},
   "outputs": [
    {
     "name": "stderr",
     "output_type": "stream",
     "text": [
      "INFO:services.openai_service:===> Using model: gpt-4o\n"
     ]
    },
    {
     "name": "stderr",
     "output_type": "stream",
     "text": [
      "INFO:services.openai_service:Input token count: 568\n",
      "INFO:httpx:HTTP Request: POST https://api.openai.com/v1/chat/completions \"HTTP/1.1 200 OK\"\n",
      "INFO:services.openai_service:Output token count: 128\n"
     ]
    },
    {
     "name": "stdout",
     "output_type": "stream",
     "text": [
      "rerank_products response from OpenAI: [{'name': 'Not available', 'relevance_score': 0.95}, {'name': 'ET COM Express', 'relevance_score': 0.9}, {'name': 'SOM-5899', 'relevance_score': 0.85}, {'name': 'Computer On Modules', 'relevance_score': 0.8}, {'name': 'TX Computer On Module', 'relevance_score': 0.5}]\n",
      "Input tokens: 568, Output tokens: 128\n"
     ]
    },
    {
     "data": {
      "text/plain": [
       "['Not available',\n",
       " 'ET COM Express',\n",
       " 'SOM-5899',\n",
       " 'Computer On Modules',\n",
       " 'TX Computer On Module']"
      ]
     },
     "execution_count": 32,
     "metadata": {},
     "output_type": "execute_result"
    }
   ],
   "source": [
    "products_for_reranking = [{\"name\": p.name, \"memory\": p.memory, \"io\": p.io} for p in unique_extended_products]\n",
    "res, input_tokens, output_tokens = await query_processor.rerank_products(\n",
    "    clear_intent_1, products_for_reranking, top_k=10\n",
    ")\n",
    "print(f\"Input tokens: {input_tokens}, Output tokens: {output_tokens}\")\n",
    "res"
   ]
  },
  {
   "cell_type": "code",
   "execution_count": 37,
   "metadata": {},
   "outputs": [
    {
     "name": "stdout",
     "output_type": "stream",
     "text": [
      "Original Products                                 Extended Products                                 \n",
      "------------------------------------------------------------\n",
      "SOM Intel Xeon Processor D COM Express R Type ModuleComputer On Modules                               \n",
      "Not available                                     Not available                                     \n",
      "ET COM Express                                    ET COM Express                                    \n",
      "SOM-5899                                          TX Computer On Module                             \n",
      "COMebBD Module                                    SOM-5899                                          \n",
      "Computer On Modules                                                                                 \n",
      "TX Computer On Module                                                                               \n"
     ]
    }
   ],
   "source": [
    "compare_products(res, reranked_original_products)"
   ]
  },
  {
   "cell_type": "markdown",
   "metadata": {},
   "source": [
    "As we can see here we are able to get more product as a result of the expanded query. This is a simple example of how we can use the OpenAI API to expand the query and get more relevant results."
   ]
  },
  {
   "cell_type": "markdown",
   "metadata": {},
   "source": [
    "#### Search query"
   ]
  },
  {
   "cell_type": "code",
   "execution_count": 38,
   "metadata": {},
   "outputs": [
    {
     "name": "stderr",
     "output_type": "stream",
     "text": [
      "INFO:services.openai_service:===> Using model: gpt-4o\n",
      "INFO:services.openai_service:Input token count: 85\n",
      "INFO:httpx:HTTP Request: POST https://api.openai.com/v1/chat/completions \"HTTP/1.1 200 OK\"\n",
      "INFO:services.openai_service:Output token count: 80\n"
     ]
    },
    {
     "name": "stdout",
     "output_type": "stream",
     "text": [
      "Input tokens: 85, Output tokens: 80\n"
     ]
    },
    {
     "data": {
      "text/plain": [
       "['best Computer on Modules with high memory and I/O count',\n",
       " 'top-rated Computer on Modules with extensive memory and I/O options',\n",
       " 'high-performance Computer on Modules with large memory and multiple I/O ports',\n",
       " 'Computer on Modules with maximum memory and I/O capabilities',\n",
       " 'leading Computer on Modules featuring high memory capacity and numerous I/O interfaces']"
      ]
     },
     "execution_count": 38,
     "metadata": {},
     "output_type": "execute_result"
    }
   ],
   "source": [
    "res, input_tokens, output_tokens = await query_processor.generate_search_queries(clear_intent_1, [], 5)\n",
    "print(f\"Input tokens: {input_tokens}, Output tokens: {output_tokens}\")\n",
    "res"
   ]
  },
  {
   "cell_type": "code",
   "execution_count": 39,
   "metadata": {},
   "outputs": [
    {
     "name": "stderr",
     "output_type": "stream",
     "text": [
      "INFO:services.openai_service:===> Using model: gpt-4o\n",
      "INFO:services.openai_service:Input token count: 85\n",
      "INFO:httpx:HTTP Request: POST https://api.openai.com/v1/chat/completions \"HTTP/1.1 200 OK\"\n",
      "INFO:services.openai_service:Output token count: 76\n"
     ]
    },
    {
     "name": "stdout",
     "output_type": "stream",
     "text": [
      "Input tokens: 85, Output tokens: 76\n"
     ]
    },
    {
     "data": {
      "text/plain": [
       "['best Computer on Modules with high memory and I/O count',\n",
       " 'top-rated Computer on Modules with extensive memory and I/O options',\n",
       " 'high memory Computer on Modules with multiple I/O ports',\n",
       " 'Computer on Modules with maximum memory and I/O capabilities',\n",
       " 'leading Computer on Modules featuring high memory and numerous I/O interfaces']"
      ]
     },
     "execution_count": 39,
     "metadata": {},
     "output_type": "execute_result"
    }
   ],
   "source": [
    "res, input_tokens, output_tokens = await query_processor.generate_search_queries(clear_intent_1, [], 5)\n",
    "print(f\"Input tokens: {input_tokens}, Output tokens: {output_tokens}\")\n",
    "res"
   ]
  },
  {
   "cell_type": "code",
   "execution_count": 17,
   "metadata": {},
   "outputs": [
    {
     "name": "stderr",
     "output_type": "stream",
     "text": [
      "INFO:services.openai_service:===> Using model: gpt-4o\n",
      "INFO:services.openai_service:Input token count: 85\n",
      "INFO:httpx:HTTP Request: POST https://api.openai.com/v1/chat/completions \"HTTP/1.1 200 OK\"\n",
      "INFO:services.openai_service:Output token count: 69\n"
     ]
    },
    {
     "name": "stdout",
     "output_type": "stream",
     "text": [
      "Input tokens: 85, Output tokens: 69\n"
     ]
    },
    {
     "data": {
      "text/plain": [
       "['best Computer on Modules with high memory',\n",
       " 'top Computer on Modules with extensive I/O options',\n",
       " 'high memory Computer on Modules with multiple I/O ports',\n",
       " 'Computer on Modules with maximum memory and I/O count',\n",
       " 'leading Computer on Modules with high memory capacity and I/O features']"
      ]
     },
     "execution_count": 17,
     "metadata": {},
     "output_type": "execute_result"
    }
   ],
   "source": [
    "res, input_tokens, output_tokens = await query_processor.generate_search_queries(clear_intent_1, [], 5)\n",
    "print(f\"Input tokens: {input_tokens}, Output tokens: {output_tokens}\")\n",
    "res"
   ]
  },
  {
   "cell_type": "markdown",
   "metadata": {},
   "source": [
    "As can be seen above we have been able to get to consistence in generated search queries using a temprature of 0.1"
   ]
  },
  {
   "cell_type": "code",
   "execution_count": 40,
   "metadata": {},
   "outputs": [
    {
     "name": "stdout",
     "output_type": "stream",
     "text": [
      "Searching for: best Computer on Modules with high memory and I/O count\n"
     ]
    },
    {
     "name": "stderr",
     "output_type": "stream",
     "text": [
      "INFO:httpx:HTTP Request: POST http://localhost:8080/v1/graphql \"HTTP/1.1 200 OK\"\n"
     ]
    },
    {
     "name": "stdout",
     "output_type": "stream",
     "text": [
      "--------------------------------------------------------------------------------\n",
      "Name: Not available\n",
      "Name: Computer On Modules\n",
      "Name: Computer On Modules\n",
      "Name: COMebBD Module\n",
      "Name: TX Computer On Module\n",
      "--------------------------------------------------------------------------------\n",
      "Searching for: top-rated Computer on Modules with extensive memory and I/O options\n"
     ]
    },
    {
     "name": "stderr",
     "output_type": "stream",
     "text": [
      "INFO:httpx:HTTP Request: POST http://localhost:8080/v1/graphql \"HTTP/1.1 200 OK\"\n"
     ]
    },
    {
     "name": "stdout",
     "output_type": "stream",
     "text": [
      "--------------------------------------------------------------------------------\n",
      "Name: TX Computer On Module\n",
      "Name: Not available\n",
      "Name: Computer On Modules\n",
      "Name: Computer On Modules\n",
      "Name: SOM-5899\n",
      "--------------------------------------------------------------------------------\n",
      "Searching for: high memory Computer on Modules with multiple I/O ports\n"
     ]
    },
    {
     "name": "stderr",
     "output_type": "stream",
     "text": [
      "INFO:httpx:HTTP Request: POST http://localhost:8080/v1/graphql \"HTTP/1.1 200 OK\"\n"
     ]
    },
    {
     "name": "stdout",
     "output_type": "stream",
     "text": [
      "--------------------------------------------------------------------------------\n",
      "Name: Computer On Modules\n",
      "Name: Computer On Modules\n",
      "Name: Not available\n",
      "Name: Computer On Modules\n",
      "Name: ET COM Express\n",
      "--------------------------------------------------------------------------------\n",
      "Searching for: Computer on Modules with maximum memory and I/O capabilities\n"
     ]
    },
    {
     "name": "stderr",
     "output_type": "stream",
     "text": [
      "INFO:httpx:HTTP Request: POST http://localhost:8080/v1/graphql \"HTTP/1.1 200 OK\"\n"
     ]
    },
    {
     "name": "stdout",
     "output_type": "stream",
     "text": [
      "--------------------------------------------------------------------------------\n",
      "Name: Computer On Modules\n",
      "Name: Computer On Modules\n",
      "Name: Not available\n",
      "Name: COMebBD Module\n",
      "Name: TX Computer On Module\n",
      "--------------------------------------------------------------------------------\n",
      "Searching for: leading Computer on Modules featuring high memory and numerous I/O interfaces\n"
     ]
    },
    {
     "name": "stderr",
     "output_type": "stream",
     "text": [
      "INFO:httpx:HTTP Request: POST http://localhost:8080/v1/graphql \"HTTP/1.1 200 OK\"\n"
     ]
    },
    {
     "name": "stdout",
     "output_type": "stream",
     "text": [
      "--------------------------------------------------------------------------------\n",
      "Name: Computer On Modules\n",
      "Name: Not available\n",
      "Name: TX Computer On Module\n",
      "Name: Computer On Modules\n",
      "Name: Computer On Modules\n",
      "--------------------------------------------------------------------------------\n"
     ]
    }
   ],
   "source": [
    "extended_products = []\n",
    "for query in res:\n",
    "    products = await display_search_results(\n",
    "        query,\n",
    "        [\n",
    "            \"name\"\n",
    "        ],\n",
    "    )\n",
    "    extended_products.extend(products)"
   ]
  },
  {
   "cell_type": "code",
   "execution_count": 41,
   "metadata": {},
   "outputs": [
    {
     "data": {
      "text/plain": [
       "[Product(name='Not available', summary='High-performance COM Express Basic Module with Intel Xeon D processors, extensive I/O, and robust thermal management.', form='COM Express Basic Module', io='4 x SATA Ports (6 Gbps), 8 x USB Ports (4 x USB 3.0, 4 x USB 2.0), 1 x LPC, 1 x SPI Bus, 1 x GPIO (8-bit), 1 x Watchdog Timer, 2 x COM Ports, 2 x Ethernet (10GBASE-KR, 1GBASE-T), 32 x PCIe Gen3 lanes', manufacturer='Advantech', memory='DDR4, Max Capacity: 128 GB, Socket: 2 x 260P SODIMM, Dual Channel, ECC/Non-ECC', processor='Intel Xeon D (Ice Lake-D)', size='95 mm x 125 mm'),\n",
       " Product(name='Computer On Modules', summary='A high-performance, low-power Computer On Module with 6th Gen Intel Core and Celeron Processors, supporting dual channel DDR4 memory, multiple display outputs, and extensive I/O interfaces.', form='COM Express Compact Module Type 6', io='SATA Ports: 2 (Gen3 6Gb/s, Gen2 3Gb/s), USB Ports: 8 (4 USB 3.0, 4 USB 2.0), PCI Express: 1 x16 PEG, 7 x1 PCIe, HD Audio, LPC, SMBus, I2C Bus, Ethernet: Intel i219LM (10/100/1000 Mbps)', manufacturer='Advantech', memory='Dual Channel DDR4 SODIMM sockets, up to 32GB', processor='6th Gen Intel Core / Celeron Processors', size='95 x 95 mm'),\n",
       " Product(name='COMebBD Module', summary='The COMebBD Module is a high-performance Computer on Module featuring Intel Xeon processors, supporting up to 32GB DDR4 ECC memory, and offering extensive I/O options including USB, PCIe, SATA, and GbE.', form='COM Express BASIC TYPE', io='4x USB 3.0, 4x USB 2.0, 4x PCIe Gen3, 4x PCIe Gen2, 2x SATA, 2x GbE', manufacturer='Kontron', memory='DDR4, up to 32GB ECC SODIMMs', processor='Intel Xeon Processor Dxx family', size='125mm x 95mm'),\n",
       " Product(name='TX Computer On Module', summary='A compact and cost-effective Computer On Module with NXP i.MX processor, designed for embedded applications with high CPU performance and multiple I/O interfaces.', form='SODIMM', io='Two 10/100 Mbps Ethernet ports, Two High-Speed USB ports, True color LCD controller, Two CAN interfaces, UART, SDCARD, I2C, PWM, Serial Audio, SPI', manufacturer='KaRo electronics GmbH', memory='64 MB DDR SDRAM', processor='NXP i.MX', size='67.6 mm x 26.4 mm x 4.2 mm'),\n",
       " Product(name='SOM-5899', summary='COM Express Basic Module Type 6 with 6th Gen Intel Core/Celeron Processors, supporting up to 32GB DDR4 memory, flexible I/O, and multiple display options.', form='COM Express Basic Module Type 6', io='SATAIII, USB 3.0, PCIe x16, PCIe x1, Intel HD Audio, LPC, SMBus, I2C, GPIO, COM Ports, Express Card Ports', manufacturer='Advantech', memory='Dual channel DDR4, Max 32GB, ECC optional', processor='Intel 6th Gen Core i7/i5/i3/Celeron', size='125 x 95 mm'),\n",
       " Product(name='ET COM Express', summary='High-performance COM Express Type 6 modules with 8th Generation Intel Xeon E & Core i3/i5/i7 processors, extensive I/O, and display support.', form='COM Express Type 6', io='4 x USB 3.1, 8 x USB 2.0, 4 x COM, 4 x SATA III, 2 x PCIe x4, 1 x PCIe x16, 2 x GbE LAN', manufacturer='IBASE', memory='2 x DDR4 SODIMM, Max 32GB', processor='8th Generation Intel Xeon E & Core i3/i5/i7', size='95 mm x 125 mm')]"
      ]
     },
     "execution_count": 41,
     "metadata": {},
     "output_type": "execute_result"
    }
   ],
   "source": [
    "unique_extended_products = get_unique_products(extended_products)\n",
    "unique_extended_products"
   ]
  },
  {
   "cell_type": "code",
   "execution_count": 42,
   "metadata": {},
   "outputs": [
    {
     "name": "stderr",
     "output_type": "stream",
     "text": [
      "INFO:services.openai_service:===> Using model: gpt-4o\n",
      "INFO:services.openai_service:Input token count: 694\n",
      "INFO:httpx:HTTP Request: POST https://api.openai.com/v1/chat/completions \"HTTP/1.1 200 OK\"\n",
      "INFO:services.openai_service:Output token count: 153\n"
     ]
    },
    {
     "name": "stdout",
     "output_type": "stream",
     "text": [
      "rerank_products response from OpenAI: [{'name': 'Not available', 'relevance_score': 0.95}, {'name': 'ET COM Express', 'relevance_score': 0.9}, {'name': 'Computer On Modules', 'relevance_score': 0.85}, {'name': 'SOM-5899', 'relevance_score': 0.8}, {'name': 'COMebBD Module', 'relevance_score': 0.75}, {'name': 'TX Computer On Module', 'relevance_score': 0.6}]\n",
      "Input tokens: 694, Output tokens: 153\n"
     ]
    },
    {
     "data": {
      "text/plain": [
       "['Not available',\n",
       " 'ET COM Express',\n",
       " 'Computer On Modules',\n",
       " 'SOM-5899',\n",
       " 'COMebBD Module',\n",
       " 'TX Computer On Module']"
      ]
     },
     "execution_count": 42,
     "metadata": {},
     "output_type": "execute_result"
    }
   ],
   "source": [
    "products_for_reranking = [{\"name\": p.name, \"memory\": p.memory, \"io\": p.io} for p in unique_extended_products]\n",
    "res, input_tokens, output_tokens = await query_processor.rerank_products(\n",
    "    clear_intent_1, products_for_reranking, top_k=10\n",
    ")\n",
    "print(f\"Input tokens: {input_tokens}, Output tokens: {output_tokens}\")\n",
    "res"
   ]
  },
  {
   "cell_type": "code",
   "execution_count": 45,
   "metadata": {},
   "outputs": [
    {
     "data": {
      "text/plain": [
       "['SOM Intel Xeon Processor D COM Express R Type Module',\n",
       " 'Not available',\n",
       " 'ET COM Express',\n",
       " 'SOM-5899',\n",
       " 'COMebBD Module',\n",
       " 'Computer On Modules',\n",
       " 'TX Computer On Module']"
      ]
     },
     "execution_count": 45,
     "metadata": {},
     "output_type": "execute_result"
    }
   ],
   "source": [
    "reranked_original_products"
   ]
  },
  {
   "cell_type": "code",
   "execution_count": 48,
   "metadata": {},
   "outputs": [
    {
     "name": "stdout",
     "output_type": "stream",
     "text": [
      "Original Products                                                               Extended Products                                                               \n",
      "------------------------------------------------------------\n",
      "SOM Intel Xeon Processor D COM Express R Type Module                            Not available                                                                   \n",
      "Not available                                                                   ET COM Express                                                                  \n",
      "ET COM Express                                                                  Computer On Modules                                                             \n",
      "SOM-5899                                                                        SOM-5899                                                                        \n",
      "COMebBD Module                                                                  COMebBD Module                                                                  \n",
      "Computer On Modules                                                             TX Computer On Module                                                           \n",
      "TX Computer On Module                                                                                                                                           \n"
     ]
    }
   ],
   "source": [
    "compare_products(res, reranked_original_products)"
   ]
  },
  {
   "cell_type": "markdown",
   "metadata": {},
   "source": [
    "#### Query Clarification"
   ]
  },
  {
   "cell_type": "code",
   "execution_count": null,
   "metadata": {},
   "outputs": [
    {
     "name": "stderr",
     "output_type": "stream",
     "text": [
      "INFO:services.openai_service:===> Using model: gpt-4o\n",
      "INFO:services.openai_service:Input token count: 80\n",
      "INFO:httpx:HTTP Request: POST https://api.openai.com/v1/chat/completions \"HTTP/1.1 200 OK\"\n",
      "INFO:services.openai_service:Output token count: 45\n"
     ]
    },
    {
     "name": "stdout",
     "output_type": "stream",
     "text": [
      "Input tokens: 80, Output tokens: 45\n"
     ]
    },
    {
     "data": {
      "text/plain": [
       "{'clarification_question': 'Could you please specify the type of applications or industries you are targeting for these Computer on Modules, as well as any specific memory size and I/O count requirements you have in mind?'}"
      ]
     },
     "metadata": {},
     "output_type": "display_data"
    }
   ],
   "source": [
    "res, input_tokens, output_tokens = await query_processor.generate_query_clarification(clear_intent_1, [])\n",
    "print(f\"Input tokens: {input_tokens}, Output tokens: {output_tokens}\")\n",
    "res"
   ]
  },
  {
   "cell_type": "code",
   "execution_count": null,
   "metadata": {},
   "outputs": [],
   "source": []
  }
 ],
 "metadata": {
  "kernelspec": {
   "display_name": ".venv",
   "language": "python",
   "name": "python3"
  },
  "language_info": {
   "codemirror_mode": {
    "name": "ipython",
    "version": 3
   },
   "file_extension": ".py",
   "mimetype": "text/x-python",
   "name": "python",
   "nbconvert_exporter": "python",
   "pygments_lexer": "ipython3",
   "version": "3.10.13"
  }
 },
 "nbformat": 4,
 "nbformat_minor": 2
}
